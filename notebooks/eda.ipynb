{
 "cells": [
  {
   "cell_type": "markdown",
   "id": "47642754",
   "metadata": {},
   "source": [
    "# Exploratory Data Analysis\n",
    "\n",
    "Guiding Questions:\n",
    "* What customer purchasing patterns can you discover? Such as activity on different days of the week, or weekly, monthly, quarterly, yearly, etc.\n",
    "* Are there specific days/months/quarters when the sales have been unusually high/low, and what could be the possible reasons? How about the profit and loss margin?\n",
    "* Which States and which customers made the highest number of orders? Are they the same as the highest spenders?\n",
    "* Can you make a map showing the 5 States generating the most and least sales revenue?\n",
    "* Can we see any patterns in the quarterly revenue behavior?\n",
    "* Can you create a plot showing the growth rate of new customers over the months?\n",
    "* What do you think about the customers? Are they individuals or wholesalers? Why would you say so?\n",
    "* Are there any issues with the dataset?"
   ]
  },
  {
   "cell_type": "code",
   "execution_count": 10,
   "id": "2d23eb53",
   "metadata": {},
   "outputs": [],
   "source": [
    "import pandas as pd\n",
    "import matplotlib.pyplot as plt"
   ]
  },
  {
   "cell_type": "markdown",
   "id": "35e19c2e",
   "metadata": {},
   "source": [
    "Some insights\n",
    "\n",
    "How is it going currently? \n",
    "* Sales increase in 2017\n",
    "* Customer Segment\n",
    "  * sales increase across all segments\n",
    "  * sales ranking: Consumer, Corporate, Home Office \n",
    "  * profit ranking similar; recently there has been a drop in profits in the Corporate segment \n",
    "  * the distribution approximately stays constant\n",
    "* Regions, States\n",
    "  * Sales highest in California, New York, Texas; similar to population\n",
    "  * Profits however can be negative! Texas, Florida \n",
    "\n",
    "How is the regional sales going? \n",
    "* What the fuck happened in Texas?\n",
    "  * Greedy customers buy stuff when on discount!\n",
    "  * Try a different discount approach: \n",
    "    * don't easily give the discounts away; discounts should not be gameable; is that the case? Do people just come when discounts are available? \n",
    "    * less discounts, such that there is still a profit margin\n",
    "  * can customers be segmented into Discount buyers and repeated buyers?"
   ]
  },
  {
   "cell_type": "code",
   "execution_count": 2,
   "id": "3e76d046",
   "metadata": {},
   "outputs": [],
   "source": [
    "%store -r dashboard_data"
   ]
  },
  {
   "cell_type": "code",
   "execution_count": 3,
   "id": "e343262a",
   "metadata": {},
   "outputs": [
    {
     "data": {
      "application/vnd.microsoft.datawrangler.viewer.v0+json": {
       "columns": [
        {
         "name": "index",
         "rawType": "int64",
         "type": "integer"
        },
        {
         "name": "OrderDate",
         "rawType": "object",
         "type": "string"
        },
        {
         "name": "ProductID",
         "rawType": "object",
         "type": "string"
        },
        {
         "name": "CustomerID",
         "rawType": "object",
         "type": "string"
        },
        {
         "name": "ShipmentID",
         "rawType": "int64",
         "type": "integer"
        },
        {
         "name": "OrderReference",
         "rawType": "object",
         "type": "string"
        },
        {
         "name": "Quantity",
         "rawType": "int64",
         "type": "integer"
        },
        {
         "name": "Discount",
         "rawType": "float64",
         "type": "float"
        },
        {
         "name": "Sales",
         "rawType": "float64",
         "type": "float"
        },
        {
         "name": "Profit",
         "rawType": "float64",
         "type": "float"
        },
        {
         "name": "DiscountAmount",
         "rawType": "float64",
         "type": "float"
        },
        {
         "name": "SalesWoDiscount",
         "rawType": "float64",
         "type": "float"
        },
        {
         "name": "CustomerName",
         "rawType": "object",
         "type": "string"
        },
        {
         "name": "Segment",
         "rawType": "object",
         "type": "string"
        },
        {
         "name": "ProductName",
         "rawType": "object",
         "type": "string"
        },
        {
         "name": "Category",
         "rawType": "object",
         "type": "string"
        },
        {
         "name": "SubCategory",
         "rawType": "object",
         "type": "string"
        },
        {
         "name": "ShipDate",
         "rawType": "object",
         "type": "string"
        },
        {
         "name": "ShipMode",
         "rawType": "object",
         "type": "string"
        },
        {
         "name": "PostalCode",
         "rawType": "int64",
         "type": "integer"
        },
        {
         "name": "City",
         "rawType": "object",
         "type": "string"
        },
        {
         "name": "Country",
         "rawType": "object",
         "type": "string"
        },
        {
         "name": "Region",
         "rawType": "object",
         "type": "string"
        },
        {
         "name": "State",
         "rawType": "object",
         "type": "string"
        }
       ],
       "ref": "63e92a70-8e1e-413c-83e6-c265b96d3fe7",
       "rows": [
        [
         "0",
         "2014-09-07 00:00:00",
         "TEC-PH-10000000",
         "DK-13375",
         "0",
         "CA-2014-100006",
         "3",
         "0.0",
         "377.97",
         "109.6113",
         "0.0",
         "377.97",
         "Dennis Kane",
         "Consumer",
         "AT&T EL51110 DECT",
         "Technology",
         "Phones",
         "2014-09-13 00:00:00",
         "Standard Class",
         "10024",
         "New York City",
         "United States",
         "East",
         "New York"
        ],
        [
         "1",
         "2014-10-19 00:00:00",
         "TEC-PH-10000001",
         "EH-14125",
         "10",
         "CA-2014-100867",
         "6",
         "0.2",
         "321.552",
         "20.097",
         "80.388",
         "401.94",
         "Eugene Hildebrand",
         "Home Office",
         "RCA Visys Integrated PBX 8-Line Router",
         "Technology",
         "Phones",
         "2014-10-24 00:00:00",
         "Standard Class",
         "90712",
         "Lakewood",
         "United States",
         "West",
         "California"
        ],
        [
         "2",
         "2014-11-21 00:00:00",
         "TEC-PH-10000001",
         "JK-15325",
         "4328",
         "US-2014-168501",
         "5",
         "0.2",
         "267.96",
         "16.7475",
         "66.99",
         "334.95",
         "Jason Klamczynski",
         "Corporate",
         "RCA Visys Integrated PBX 8-Line Router",
         "Technology",
         "Phones",
         "2014-11-27 00:00:00",
         "Standard Class",
         "75220",
         "Dallas",
         "United States",
         "Central",
         "Texas"
        ],
        [
         "3",
         "2015-06-16 00:00:00",
         "TEC-PH-10000001",
         "LC-16885",
         "4459",
         "US-2015-163825",
         "2",
         "0.0",
         "133.98",
         "33.495",
         "0.0",
         "133.98",
         "Lena Creighton",
         "Consumer",
         "RCA Visys Integrated PBX 8-Line Router",
         "Technology",
         "Phones",
         "2015-06-19 00:00:00",
         "First Class",
         "10009",
         "New York City",
         "United States",
         "East",
         "New York"
        ],
        [
         "4",
         "2017-01-20 00:00:00",
         "TEC-PH-10000001",
         "TH-21100",
         "4011",
         "CA-2017-161809",
         "3",
         "0.2",
         "160.776",
         "10.0485",
         "40.194",
         "200.97",
         "Thea Hendricks",
         "Consumer",
         "RCA Visys Integrated PBX 8-Line Router",
         "Technology",
         "Phones",
         "2017-01-26 00:00:00",
         "Standard Class",
         "90045",
         "Los Angeles",
         "United States",
         "West",
         "California"
        ]
       ],
       "shape": {
        "columns": 23,
        "rows": 5
       }
      },
      "text/html": [
       "<div>\n",
       "<style scoped>\n",
       "    .dataframe tbody tr th:only-of-type {\n",
       "        vertical-align: middle;\n",
       "    }\n",
       "\n",
       "    .dataframe tbody tr th {\n",
       "        vertical-align: top;\n",
       "    }\n",
       "\n",
       "    .dataframe thead th {\n",
       "        text-align: right;\n",
       "    }\n",
       "</style>\n",
       "<table border=\"1\" class=\"dataframe\">\n",
       "  <thead>\n",
       "    <tr style=\"text-align: right;\">\n",
       "      <th></th>\n",
       "      <th>OrderDate</th>\n",
       "      <th>ProductID</th>\n",
       "      <th>CustomerID</th>\n",
       "      <th>ShipmentID</th>\n",
       "      <th>OrderReference</th>\n",
       "      <th>Quantity</th>\n",
       "      <th>Discount</th>\n",
       "      <th>Sales</th>\n",
       "      <th>Profit</th>\n",
       "      <th>DiscountAmount</th>\n",
       "      <th>...</th>\n",
       "      <th>ProductName</th>\n",
       "      <th>Category</th>\n",
       "      <th>SubCategory</th>\n",
       "      <th>ShipDate</th>\n",
       "      <th>ShipMode</th>\n",
       "      <th>PostalCode</th>\n",
       "      <th>City</th>\n",
       "      <th>Country</th>\n",
       "      <th>Region</th>\n",
       "      <th>State</th>\n",
       "    </tr>\n",
       "  </thead>\n",
       "  <tbody>\n",
       "    <tr>\n",
       "      <th>0</th>\n",
       "      <td>2014-09-07 00:00:00</td>\n",
       "      <td>TEC-PH-10000000</td>\n",
       "      <td>DK-13375</td>\n",
       "      <td>0</td>\n",
       "      <td>CA-2014-100006</td>\n",
       "      <td>3</td>\n",
       "      <td>0.0</td>\n",
       "      <td>377.970</td>\n",
       "      <td>109.6113</td>\n",
       "      <td>0.000</td>\n",
       "      <td>...</td>\n",
       "      <td>AT&amp;T EL51110 DECT</td>\n",
       "      <td>Technology</td>\n",
       "      <td>Phones</td>\n",
       "      <td>2014-09-13 00:00:00</td>\n",
       "      <td>Standard Class</td>\n",
       "      <td>10024</td>\n",
       "      <td>New York City</td>\n",
       "      <td>United States</td>\n",
       "      <td>East</td>\n",
       "      <td>New York</td>\n",
       "    </tr>\n",
       "    <tr>\n",
       "      <th>1</th>\n",
       "      <td>2014-10-19 00:00:00</td>\n",
       "      <td>TEC-PH-10000001</td>\n",
       "      <td>EH-14125</td>\n",
       "      <td>10</td>\n",
       "      <td>CA-2014-100867</td>\n",
       "      <td>6</td>\n",
       "      <td>0.2</td>\n",
       "      <td>321.552</td>\n",
       "      <td>20.0970</td>\n",
       "      <td>80.388</td>\n",
       "      <td>...</td>\n",
       "      <td>RCA Visys Integrated PBX 8-Line Router</td>\n",
       "      <td>Technology</td>\n",
       "      <td>Phones</td>\n",
       "      <td>2014-10-24 00:00:00</td>\n",
       "      <td>Standard Class</td>\n",
       "      <td>90712</td>\n",
       "      <td>Lakewood</td>\n",
       "      <td>United States</td>\n",
       "      <td>West</td>\n",
       "      <td>California</td>\n",
       "    </tr>\n",
       "    <tr>\n",
       "      <th>2</th>\n",
       "      <td>2014-11-21 00:00:00</td>\n",
       "      <td>TEC-PH-10000001</td>\n",
       "      <td>JK-15325</td>\n",
       "      <td>4328</td>\n",
       "      <td>US-2014-168501</td>\n",
       "      <td>5</td>\n",
       "      <td>0.2</td>\n",
       "      <td>267.960</td>\n",
       "      <td>16.7475</td>\n",
       "      <td>66.990</td>\n",
       "      <td>...</td>\n",
       "      <td>RCA Visys Integrated PBX 8-Line Router</td>\n",
       "      <td>Technology</td>\n",
       "      <td>Phones</td>\n",
       "      <td>2014-11-27 00:00:00</td>\n",
       "      <td>Standard Class</td>\n",
       "      <td>75220</td>\n",
       "      <td>Dallas</td>\n",
       "      <td>United States</td>\n",
       "      <td>Central</td>\n",
       "      <td>Texas</td>\n",
       "    </tr>\n",
       "    <tr>\n",
       "      <th>3</th>\n",
       "      <td>2015-06-16 00:00:00</td>\n",
       "      <td>TEC-PH-10000001</td>\n",
       "      <td>LC-16885</td>\n",
       "      <td>4459</td>\n",
       "      <td>US-2015-163825</td>\n",
       "      <td>2</td>\n",
       "      <td>0.0</td>\n",
       "      <td>133.980</td>\n",
       "      <td>33.4950</td>\n",
       "      <td>0.000</td>\n",
       "      <td>...</td>\n",
       "      <td>RCA Visys Integrated PBX 8-Line Router</td>\n",
       "      <td>Technology</td>\n",
       "      <td>Phones</td>\n",
       "      <td>2015-06-19 00:00:00</td>\n",
       "      <td>First Class</td>\n",
       "      <td>10009</td>\n",
       "      <td>New York City</td>\n",
       "      <td>United States</td>\n",
       "      <td>East</td>\n",
       "      <td>New York</td>\n",
       "    </tr>\n",
       "    <tr>\n",
       "      <th>4</th>\n",
       "      <td>2017-01-20 00:00:00</td>\n",
       "      <td>TEC-PH-10000001</td>\n",
       "      <td>TH-21100</td>\n",
       "      <td>4011</td>\n",
       "      <td>CA-2017-161809</td>\n",
       "      <td>3</td>\n",
       "      <td>0.2</td>\n",
       "      <td>160.776</td>\n",
       "      <td>10.0485</td>\n",
       "      <td>40.194</td>\n",
       "      <td>...</td>\n",
       "      <td>RCA Visys Integrated PBX 8-Line Router</td>\n",
       "      <td>Technology</td>\n",
       "      <td>Phones</td>\n",
       "      <td>2017-01-26 00:00:00</td>\n",
       "      <td>Standard Class</td>\n",
       "      <td>90045</td>\n",
       "      <td>Los Angeles</td>\n",
       "      <td>United States</td>\n",
       "      <td>West</td>\n",
       "      <td>California</td>\n",
       "    </tr>\n",
       "  </tbody>\n",
       "</table>\n",
       "<p>5 rows × 23 columns</p>\n",
       "</div>"
      ],
      "text/plain": [
       "             OrderDate        ProductID CustomerID  ShipmentID  \\\n",
       "0  2014-09-07 00:00:00  TEC-PH-10000000   DK-13375           0   \n",
       "1  2014-10-19 00:00:00  TEC-PH-10000001   EH-14125          10   \n",
       "2  2014-11-21 00:00:00  TEC-PH-10000001   JK-15325        4328   \n",
       "3  2015-06-16 00:00:00  TEC-PH-10000001   LC-16885        4459   \n",
       "4  2017-01-20 00:00:00  TEC-PH-10000001   TH-21100        4011   \n",
       "\n",
       "   OrderReference  Quantity  Discount    Sales    Profit  DiscountAmount  ...  \\\n",
       "0  CA-2014-100006         3       0.0  377.970  109.6113           0.000  ...   \n",
       "1  CA-2014-100867         6       0.2  321.552   20.0970          80.388  ...   \n",
       "2  US-2014-168501         5       0.2  267.960   16.7475          66.990  ...   \n",
       "3  US-2015-163825         2       0.0  133.980   33.4950           0.000  ...   \n",
       "4  CA-2017-161809         3       0.2  160.776   10.0485          40.194  ...   \n",
       "\n",
       "                              ProductName    Category SubCategory  \\\n",
       "0                       AT&T EL51110 DECT  Technology      Phones   \n",
       "1  RCA Visys Integrated PBX 8-Line Router  Technology      Phones   \n",
       "2  RCA Visys Integrated PBX 8-Line Router  Technology      Phones   \n",
       "3  RCA Visys Integrated PBX 8-Line Router  Technology      Phones   \n",
       "4  RCA Visys Integrated PBX 8-Line Router  Technology      Phones   \n",
       "\n",
       "              ShipDate        ShipMode PostalCode           City  \\\n",
       "0  2014-09-13 00:00:00  Standard Class      10024  New York City   \n",
       "1  2014-10-24 00:00:00  Standard Class      90712       Lakewood   \n",
       "2  2014-11-27 00:00:00  Standard Class      75220         Dallas   \n",
       "3  2015-06-19 00:00:00     First Class      10009  New York City   \n",
       "4  2017-01-26 00:00:00  Standard Class      90045    Los Angeles   \n",
       "\n",
       "         Country   Region       State  \n",
       "0  United States     East    New York  \n",
       "1  United States     West  California  \n",
       "2  United States  Central       Texas  \n",
       "3  United States     East    New York  \n",
       "4  United States     West  California  \n",
       "\n",
       "[5 rows x 23 columns]"
      ]
     },
     "execution_count": 3,
     "metadata": {},
     "output_type": "execute_result"
    }
   ],
   "source": [
    "dashboard_data.head()"
   ]
  },
  {
   "cell_type": "code",
   "execution_count": 4,
   "id": "8a55e4d0",
   "metadata": {},
   "outputs": [
    {
     "data": {
      "text/plain": [
       "Index(['OrderDate', 'ProductID', 'CustomerID', 'ShipmentID', 'OrderReference',\n",
       "       'Quantity', 'Discount', 'Sales', 'Profit', 'DiscountAmount',\n",
       "       'SalesWoDiscount', 'CustomerName', 'Segment', 'ProductName', 'Category',\n",
       "       'SubCategory', 'ShipDate', 'ShipMode', 'PostalCode', 'City', 'Country',\n",
       "       'Region', 'State'],\n",
       "      dtype='object')"
      ]
     },
     "execution_count": 4,
     "metadata": {},
     "output_type": "execute_result"
    }
   ],
   "source": [
    "dashboard_data.columns"
   ]
  },
  {
   "cell_type": "code",
   "execution_count": 11,
   "id": "e5e704fd",
   "metadata": {},
   "outputs": [],
   "source": [
    "dashboard_data.OrderDate = pd.to_datetime(dashboard_data.OrderDate)"
   ]
  },
  {
   "cell_type": "code",
   "execution_count": 8,
   "id": "ea941f30",
   "metadata": {},
   "outputs": [
    {
     "name": "stdout",
     "output_type": "stream",
     "text": [
      "<class 'pandas.core.frame.DataFrame'>\n",
      "RangeIndex: 9986 entries, 0 to 9985\n",
      "Data columns (total 23 columns):\n",
      " #   Column           Non-Null Count  Dtype  \n",
      "---  ------           --------------  -----  \n",
      " 0   OrderDate        9986 non-null   object \n",
      " 1   ProductID        9986 non-null   object \n",
      " 2   CustomerID       9986 non-null   object \n",
      " 3   ShipmentID       9986 non-null   int64  \n",
      " 4   OrderReference   9986 non-null   object \n",
      " 5   Quantity         9986 non-null   int64  \n",
      " 6   Discount         9986 non-null   float64\n",
      " 7   Sales            9986 non-null   float64\n",
      " 8   Profit           9986 non-null   float64\n",
      " 9   DiscountAmount   9986 non-null   float64\n",
      " 10  SalesWoDiscount  9986 non-null   float64\n",
      " 11  CustomerName     9986 non-null   object \n",
      " 12  Segment          9986 non-null   object \n",
      " 13  ProductName      9986 non-null   object \n",
      " 14  Category         9986 non-null   object \n",
      " 15  SubCategory      9986 non-null   object \n",
      " 16  ShipDate         9986 non-null   object \n",
      " 17  ShipMode         9986 non-null   object \n",
      " 18  PostalCode       9986 non-null   int64  \n",
      " 19  City             9986 non-null   object \n",
      " 20  Country          9986 non-null   object \n",
      " 21  Region           9986 non-null   object \n",
      " 22  State            9986 non-null   object \n",
      "dtypes: float64(5), int64(3), object(15)\n",
      "memory usage: 1.8+ MB\n"
     ]
    }
   ],
   "source": [
    "dashboard_data.info()"
   ]
  },
  {
   "cell_type": "markdown",
   "id": "a72560c6",
   "metadata": {},
   "source": [
    "# General company infos"
   ]
  },
  {
   "cell_type": "code",
   "execution_count": 14,
   "id": "14f679f7",
   "metadata": {},
   "outputs": [
    {
     "data": {
      "application/vnd.microsoft.datawrangler.viewer.v0+json": {
       "columns": [
        {
         "name": "OrderDate",
         "rawType": "int32",
         "type": "integer"
        },
        {
         "name": "Sales",
         "rawType": "float64",
         "type": "float"
        }
       ],
       "ref": "21a58765-cb7c-409e-813f-0d6c88e66f41",
       "rows": [
        [
         "2014",
         "484247.4981"
        ],
        [
         "2015",
         "470532.509"
        ],
        [
         "2016",
         "609205.598"
        ],
        [
         "2017",
         "733215.2552"
        ]
       ],
       "shape": {
        "columns": 1,
        "rows": 4
       }
      },
      "text/plain": [
       "OrderDate\n",
       "2014    484247.4981\n",
       "2015    470532.5090\n",
       "2016    609205.5980\n",
       "2017    733215.2552\n",
       "Name: Sales, dtype: float64"
      ]
     },
     "execution_count": 14,
     "metadata": {},
     "output_type": "execute_result"
    }
   ],
   "source": [
    "total_revenue = dashboard_data.groupby(dashboard_data.OrderDate.dt.year).Sales.sum()\n",
    "total_revenue"
   ]
  },
  {
   "cell_type": "code",
   "execution_count": 16,
   "id": "e48d582c",
   "metadata": {},
   "outputs": [
    {
     "data": {
      "application/vnd.microsoft.datawrangler.viewer.v0+json": {
       "columns": [
        {
         "name": "OrderDate",
         "rawType": "int32",
         "type": "integer"
        },
        {
         "name": "OrderReference",
         "rawType": "int64",
         "type": "integer"
        }
       ],
       "ref": "7f1ff0e8-15b7-44c3-b87f-0f9642ab5b20",
       "rows": [
        [
         "2014",
         "1992"
        ],
        [
         "2015",
         "2101"
        ],
        [
         "2016",
         "2583"
        ],
        [
         "2017",
         "3310"
        ]
       ],
       "shape": {
        "columns": 1,
        "rows": 4
       }
      },
      "text/plain": [
       "OrderDate\n",
       "2014    1992\n",
       "2015    2101\n",
       "2016    2583\n",
       "2017    3310\n",
       "Name: OrderReference, dtype: int64"
      ]
     },
     "execution_count": 16,
     "metadata": {},
     "output_type": "execute_result"
    }
   ],
   "source": [
    "orders = dashboard_data.groupby(dashboard_data.OrderDate.dt.year).OrderReference.count()\n",
    "orders"
   ]
  },
  {
   "cell_type": "code",
   "execution_count": 48,
   "id": "26211d9f",
   "metadata": {},
   "outputs": [
    {
     "name": "stdout",
     "output_type": "stream",
     "text": [
      "2863935.04\n"
     ]
    }
   ],
   "source": [
    "total_revenue_wo_discount = dashboard_data.SalesWoDiscount.sum()\n",
    "print(total_revenue_wo_discount)"
   ]
  },
  {
   "cell_type": "code",
   "execution_count": 47,
   "id": "e9c1707f",
   "metadata": {},
   "outputs": [
    {
     "name": "stdout",
     "output_type": "stream",
     "text": [
      "286397.0217\n"
     ]
    }
   ],
   "source": [
    "total_profit = dashboard_data.Profit.sum()\n",
    "print(total_profit)"
   ]
  },
  {
   "cell_type": "code",
   "execution_count": 70,
   "id": "296fe353",
   "metadata": {},
   "outputs": [
    {
     "data": {
      "application/vnd.microsoft.datawrangler.viewer.v0+json": {
       "columns": [
        {
         "name": "index",
         "rawType": "int64",
         "type": "integer"
        },
        {
         "name": "Category",
         "rawType": "object",
         "type": "string"
        },
        {
         "name": "SubCategory",
         "rawType": "object",
         "type": "string"
        }
       ],
       "ref": "0ce96b71-21df-4b78-bb71-3c8a37935215",
       "rows": [
        [
         "889",
         "Furniture",
         "Tables"
        ],
        [
         "4315",
         "Furniture",
         "Chairs"
        ],
        [
         "6754",
         "Furniture",
         "Furnishings"
        ],
        [
         "9500",
         "Furniture",
         "Bookcases"
        ],
        [
         "1208",
         "Office Supplies",
         "Binders"
        ],
        [
         "2730",
         "Office Supplies",
         "Paper"
        ],
        [
         "4098",
         "Office Supplies",
         "Fasteners"
        ],
        [
         "4931",
         "Office Supplies",
         "Art"
        ],
        [
         "5727",
         "Office Supplies",
         "Envelopes"
        ],
        [
         "9728",
         "Office Supplies",
         "Supplies"
        ],
        [
         "7710",
         "Office Supplies",
         "Labels"
        ],
        [
         "8074",
         "Office Supplies",
         "Storage"
        ],
        [
         "8919",
         "Office Supplies",
         "Appliances"
        ],
        [
         "0",
         "Technology",
         "Phones"
        ],
        [
         "5981",
         "Technology",
         "Accessories"
        ],
        [
         "9385",
         "Technology",
         "Machines"
        ],
        [
         "9918",
         "Technology",
         "Copiers"
        ]
       ],
       "shape": {
        "columns": 2,
        "rows": 17
       }
      },
      "text/html": [
       "<div>\n",
       "<style scoped>\n",
       "    .dataframe tbody tr th:only-of-type {\n",
       "        vertical-align: middle;\n",
       "    }\n",
       "\n",
       "    .dataframe tbody tr th {\n",
       "        vertical-align: top;\n",
       "    }\n",
       "\n",
       "    .dataframe thead th {\n",
       "        text-align: right;\n",
       "    }\n",
       "</style>\n",
       "<table border=\"1\" class=\"dataframe\">\n",
       "  <thead>\n",
       "    <tr style=\"text-align: right;\">\n",
       "      <th></th>\n",
       "      <th>Category</th>\n",
       "      <th>SubCategory</th>\n",
       "    </tr>\n",
       "  </thead>\n",
       "  <tbody>\n",
       "    <tr>\n",
       "      <th>889</th>\n",
       "      <td>Furniture</td>\n",
       "      <td>Tables</td>\n",
       "    </tr>\n",
       "    <tr>\n",
       "      <th>4315</th>\n",
       "      <td>Furniture</td>\n",
       "      <td>Chairs</td>\n",
       "    </tr>\n",
       "    <tr>\n",
       "      <th>6754</th>\n",
       "      <td>Furniture</td>\n",
       "      <td>Furnishings</td>\n",
       "    </tr>\n",
       "    <tr>\n",
       "      <th>9500</th>\n",
       "      <td>Furniture</td>\n",
       "      <td>Bookcases</td>\n",
       "    </tr>\n",
       "    <tr>\n",
       "      <th>1208</th>\n",
       "      <td>Office Supplies</td>\n",
       "      <td>Binders</td>\n",
       "    </tr>\n",
       "    <tr>\n",
       "      <th>2730</th>\n",
       "      <td>Office Supplies</td>\n",
       "      <td>Paper</td>\n",
       "    </tr>\n",
       "    <tr>\n",
       "      <th>4098</th>\n",
       "      <td>Office Supplies</td>\n",
       "      <td>Fasteners</td>\n",
       "    </tr>\n",
       "    <tr>\n",
       "      <th>4931</th>\n",
       "      <td>Office Supplies</td>\n",
       "      <td>Art</td>\n",
       "    </tr>\n",
       "    <tr>\n",
       "      <th>5727</th>\n",
       "      <td>Office Supplies</td>\n",
       "      <td>Envelopes</td>\n",
       "    </tr>\n",
       "    <tr>\n",
       "      <th>9728</th>\n",
       "      <td>Office Supplies</td>\n",
       "      <td>Supplies</td>\n",
       "    </tr>\n",
       "    <tr>\n",
       "      <th>7710</th>\n",
       "      <td>Office Supplies</td>\n",
       "      <td>Labels</td>\n",
       "    </tr>\n",
       "    <tr>\n",
       "      <th>8074</th>\n",
       "      <td>Office Supplies</td>\n",
       "      <td>Storage</td>\n",
       "    </tr>\n",
       "    <tr>\n",
       "      <th>8919</th>\n",
       "      <td>Office Supplies</td>\n",
       "      <td>Appliances</td>\n",
       "    </tr>\n",
       "    <tr>\n",
       "      <th>0</th>\n",
       "      <td>Technology</td>\n",
       "      <td>Phones</td>\n",
       "    </tr>\n",
       "    <tr>\n",
       "      <th>5981</th>\n",
       "      <td>Technology</td>\n",
       "      <td>Accessories</td>\n",
       "    </tr>\n",
       "    <tr>\n",
       "      <th>9385</th>\n",
       "      <td>Technology</td>\n",
       "      <td>Machines</td>\n",
       "    </tr>\n",
       "    <tr>\n",
       "      <th>9918</th>\n",
       "      <td>Technology</td>\n",
       "      <td>Copiers</td>\n",
       "    </tr>\n",
       "  </tbody>\n",
       "</table>\n",
       "</div>"
      ],
      "text/plain": [
       "             Category  SubCategory\n",
       "889         Furniture       Tables\n",
       "4315        Furniture       Chairs\n",
       "6754        Furniture  Furnishings\n",
       "9500        Furniture    Bookcases\n",
       "1208  Office Supplies      Binders\n",
       "2730  Office Supplies        Paper\n",
       "4098  Office Supplies    Fasteners\n",
       "4931  Office Supplies          Art\n",
       "5727  Office Supplies    Envelopes\n",
       "9728  Office Supplies     Supplies\n",
       "7710  Office Supplies       Labels\n",
       "8074  Office Supplies      Storage\n",
       "8919  Office Supplies   Appliances\n",
       "0          Technology       Phones\n",
       "5981       Technology  Accessories\n",
       "9385       Technology     Machines\n",
       "9918       Technology      Copiers"
      ]
     },
     "execution_count": 70,
     "metadata": {},
     "output_type": "execute_result"
    }
   ],
   "source": [
    "dashboard_data[['Category', 'SubCategory']].drop_duplicates().sort_values(by='Category')"
   ]
  },
  {
   "cell_type": "markdown",
   "id": "3bfdd443",
   "metadata": {},
   "source": [
    "# Discounts\n",
    "* discount hunters\n",
    "* customers with negative profit"
   ]
  },
  {
   "cell_type": "code",
   "execution_count": 34,
   "id": "0c71e6d5",
   "metadata": {},
   "outputs": [
    {
     "name": "stdout",
     "output_type": "stream",
     "text": [
      "fraction of discount hunters of all customers 0.04287515762925599\n"
     ]
    },
    {
     "name": "stderr",
     "output_type": "stream",
     "text": [
      "C:\\Users\\olive\\AppData\\Local\\Temp\\ipykernel_26348\\1066716713.py:2: FutureWarning: DataFrameGroupBy.apply operated on the grouping columns. This behavior is deprecated, and in a future version of pandas the grouping columns will be excluded from the operation. Either pass `include_groups=False` to exclude the groupings or explicitly select the grouping columns after groupby to silence this warning.\n",
      "  customers_only_buy_on_discount = dashboard_data.groupby('CustomerID').apply(lambda g: (g.Discount>0).all()).rename('orders_only_with_discount')\n"
     ]
    }
   ],
   "source": [
    "# How many discount hunters are there?\n",
    "customers_only_buy_on_discount = dashboard_data.groupby('CustomerID').apply(lambda g: (g.Discount>0).all()).rename('orders_only_with_discount')\n",
    "print('fraction of discount hunters of all customers', customers_only_buy_on_discount.sum() / customers_only_buy_on_discount.shape[0])"
   ]
  },
  {
   "cell_type": "code",
   "execution_count": 50,
   "id": "98f4715b",
   "metadata": {},
   "outputs": [
    {
     "data": {
      "text/plain": [
       "np.float64(0.046736205986181216)"
      ]
     },
     "execution_count": 50,
     "metadata": {},
     "output_type": "execute_result"
    }
   ],
   "source": [
    "# How much profit is lost to discount hunters?\n",
    "discount_hunters = customers_only_buy_on_discount[customers_only_buy_on_discount==True]\n",
    "is_order_by_dh = dashboard_data.CustomerID.isin(discount_hunters.index)\n",
    "(dashboard_data.loc[is_order_by_dh, 'SalesWoDiscount'].sum() - dashboard_data.loc[is_order_by_dh, 'Sales'].sum()) / total_profit"
   ]
  },
  {
   "cell_type": "markdown",
   "id": "41441cf8",
   "metadata": {},
   "source": [
    "They make only a small fraction of the total revenue. This quantity is tilted, because their sales is reduced by the discount."
   ]
  },
  {
   "cell_type": "code",
   "execution_count": 52,
   "id": "c2988ad3",
   "metadata": {},
   "outputs": [
    {
     "data": {
      "text/plain": [
       "np.float64(0.17062086884679892)"
      ]
     },
     "execution_count": 52,
     "metadata": {},
     "output_type": "execute_result"
    }
   ],
   "source": [
    "# How many orders do customers with negative net profit place?\n",
    "# How much of the sales do they generate?\n",
    "customers_sales_profit = dashboard_data[['CustomerID', 'Sales', 'Profit']].groupby(by='CustomerID').sum().reset_index()\n",
    "mask_customers_with_neg_profit = customers_sales_profit.Profit<=0\n",
    "customers_sales_profit.loc[mask_customers_with_neg_profit, 'Sales'].sum() / total_revenue\n",
    "# customers_sales_profit"
   ]
  },
  {
   "cell_type": "code",
   "execution_count": 55,
   "id": "457aaadf",
   "metadata": {},
   "outputs": [
    {
     "data": {
      "application/vnd.microsoft.datawrangler.viewer.v0+json": {
       "columns": [
        {
         "name": "State",
         "rawType": "object",
         "type": "string"
        },
        {
         "name": "count",
         "rawType": "float64",
         "type": "float"
        }
       ],
       "ref": "234f537a-198a-43f8-9d89-766171862848",
       "rows": [
        [
         "Utah",
         "0.018867924528301886"
        ],
        [
         "Louisiana",
         "0.023809523809523808"
        ],
        [
         "Missouri",
         "0.030303030303030304"
        ],
        [
         "Iowa",
         "0.03333333333333333"
        ],
        [
         "Idaho",
         "0.047619047619047616"
        ],
        [
         "Nevada",
         "0.05128205128205128"
        ],
        [
         "Delaware",
         "0.052083333333333336"
        ],
        [
         "Rhode Island",
         "0.05357142857142857"
        ],
        [
         "Wisconsin",
         "0.05454545454545454"
        ],
        [
         "Georgia",
         "0.059782608695652176"
        ],
        [
         "New Hampshire",
         "0.07407407407407407"
        ],
        [
         "Minnesota",
         "0.07865168539325842"
        ],
        [
         "New Mexico",
         "0.08108108108108109"
        ],
        [
         "Washington",
         "0.09090909090909091"
        ],
        [
         "Arkansas",
         "0.1"
        ],
        [
         "Massachusetts",
         "0.1111111111111111"
        ],
        [
         "Virginia",
         "0.11659192825112108"
        ],
        [
         "South Carolina",
         "0.11904761904761904"
        ],
        [
         "New Jersey",
         "0.12307692307692308"
        ],
        [
         "Indiana",
         "0.12751677852348994"
        ],
        [
         "Connecticut",
         "0.13414634146341464"
        ],
        [
         "California",
         "0.13543228385807096"
        ],
        [
         "Oklahoma",
         "0.13636363636363635"
        ],
        [
         "New York",
         "0.14285714285714285"
        ],
        [
         "Alabama",
         "0.14754098360655737"
        ],
        [
         "South Dakota",
         "0.16666666666666666"
        ],
        [
         "Kentucky",
         "0.16666666666666666"
        ],
        [
         "Michigan",
         "0.17254901960784313"
        ],
        [
         "Tennessee",
         "0.2185792349726776"
        ],
        [
         "Arizona",
         "0.22321428571428573"
        ],
        [
         "Texas",
         "0.2416243654822335"
        ],
        [
         "Maryland",
         "0.25"
        ],
        [
         "Illinois",
         "0.25"
        ],
        [
         "West Virginia",
         "0.25"
        ],
        [
         "Mississippi",
         "0.25"
        ],
        [
         "Florida",
         "0.2584856396866841"
        ],
        [
         "Oregon",
         "0.27419354838709675"
        ],
        [
         "Pennsylvania",
         "0.28109028960817717"
        ],
        [
         "North Carolina",
         "0.28225806451612906"
        ],
        [
         "North Dakota",
         "0.2857142857142857"
        ],
        [
         "Ohio",
         "0.2905982905982906"
        ],
        [
         "Montana",
         "0.3333333333333333"
        ],
        [
         "Colorado",
         "0.35911602209944754"
        ],
        [
         "District of Columbia",
         null
        ],
        [
         "Kansas",
         null
        ],
        [
         "Maine",
         null
        ],
        [
         "Nebraska",
         null
        ],
        [
         "Vermont",
         null
        ],
        [
         "Wyoming",
         null
        ]
       ],
       "shape": {
        "columns": 1,
        "rows": 49
       }
      },
      "text/plain": [
       "State\n",
       "Utah                    0.018868\n",
       "Louisiana               0.023810\n",
       "Missouri                0.030303\n",
       "Iowa                    0.033333\n",
       "Idaho                   0.047619\n",
       "Nevada                  0.051282\n",
       "Delaware                0.052083\n",
       "Rhode Island            0.053571\n",
       "Wisconsin               0.054545\n",
       "Georgia                 0.059783\n",
       "New Hampshire           0.074074\n",
       "Minnesota               0.078652\n",
       "New Mexico              0.081081\n",
       "Washington              0.090909\n",
       "Arkansas                0.100000\n",
       "Massachusetts           0.111111\n",
       "Virginia                0.116592\n",
       "South Carolina          0.119048\n",
       "New Jersey              0.123077\n",
       "Indiana                 0.127517\n",
       "Connecticut             0.134146\n",
       "California              0.135432\n",
       "Oklahoma                0.136364\n",
       "New York                0.142857\n",
       "Alabama                 0.147541\n",
       "South Dakota            0.166667\n",
       "Kentucky                0.166667\n",
       "Michigan                0.172549\n",
       "Tennessee               0.218579\n",
       "Arizona                 0.223214\n",
       "Texas                   0.241624\n",
       "Maryland                0.250000\n",
       "Illinois                0.250000\n",
       "West Virginia           0.250000\n",
       "Mississippi             0.250000\n",
       "Florida                 0.258486\n",
       "Oregon                  0.274194\n",
       "Pennsylvania            0.281090\n",
       "North Carolina          0.282258\n",
       "North Dakota            0.285714\n",
       "Ohio                    0.290598\n",
       "Montana                 0.333333\n",
       "Colorado                0.359116\n",
       "District of Columbia         NaN\n",
       "Kansas                       NaN\n",
       "Maine                        NaN\n",
       "Nebraska                     NaN\n",
       "Vermont                      NaN\n",
       "Wyoming                      NaN\n",
       "Name: count, dtype: float64"
      ]
     },
     "execution_count": 55,
     "metadata": {},
     "output_type": "execute_result"
    }
   ],
   "source": [
    "# where do customers with neg profit order to?\n",
    "customers_neg_profit = customers_sales_profit[mask_customers_with_neg_profit].CustomerID\n",
    "fraction_neg_profits_per_state = dashboard_data.loc[dashboard_data.CustomerID.isin(customers_neg_profit), 'State'].value_counts() / dashboard_data.State.value_counts()\n",
    "fraction_neg_profits_per_state.sort_values()"
   ]
  },
  {
   "cell_type": "code",
   "execution_count": 68,
   "id": "1b86af5e",
   "metadata": {},
   "outputs": [
    {
     "data": {
      "text/plain": [
       "<Axes: xlabel='OrderValue', ylabel='DiscountAmount'>"
      ]
     },
     "execution_count": 68,
     "metadata": {},
     "output_type": "execute_result"
    },
    {
     "data": {
      "image/png": "[encoded data removed]",
      "text/plain": [
       "<Figure size 640x480 with 1 Axes>"
      ]
     },
     "metadata": {},
     "output_type": "display_data"
    }
   ],
   "source": [
    "# discount amount vs. order value\n",
    "discount_ordervalue = dashboard_data[['OrderReference', 'Sales', 'DiscountAmount']].groupby('OrderReference').sum()\n",
    "discount_ordervalue = discount_ordervalue.rename(columns={'Sales':'OrderValue'})\n",
    "discount_ordervalue.plot.scatter(x='OrderValue', y='DiscountAmount')"
   ]
  },
  {
   "cell_type": "markdown",
   "id": "4eed33a4",
   "metadata": {},
   "source": [
    "# Shipments\n",
    "* Do shipments arrive late? "
   ]
  },
  {
   "cell_type": "code",
   "execution_count": null,
   "id": "1061cf04",
   "metadata": {},
   "outputs": [],
   "source": []
  }
 ],
 "metadata": {
  "kernelspec": {
   "display_name": "vs_group_env",
   "language": "python",
   "name": "python3"
  },
  "language_info": {
   "codemirror_mode": {
    "name": "ipython",
    "version": 3
   },
   "file_extension": ".py",
   "mimetype": "text/x-python",
   "name": "python",
   "nbconvert_exporter": "python",
   "pygments_lexer": "ipython3",
   "version": "3.13.5"
  }
 },
 "nbformat": 4,
 "nbformat_minor": 5
}
