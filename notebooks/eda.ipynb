{
 "cells": [
  {
   "cell_type": "markdown",
   "id": "47642754",
   "metadata": {},
   "source": [
    "# Exploratory Data Analysis\n",
    "\n",
    "Guiding Questions:\n",
    "* What customer purchasing patterns can you discover? Such as activity on different days of the week, or weekly, monthly, quarterly, yearly, etc.\n",
    "* Are there specific days/months/quarters when the sales have been unusually high/low, and what could be the possible reasons? How about the profit and loss margin?\n",
    "* Which States and which customers made the highest number of orders? Are they the same as the highest spenders?\n",
    "* Can you make a map showing the 5 States generating the most and least sales revenue?\n",
    "* Can we see any patterns in the quarterly revenue behavior?\n",
    "* Can you create a plot showing the growth rate of new customers over the months?\n",
    "* What do you think about the customers? Are they individuals or wholesalers? Why would you say so?\n",
    "* Are there any issues with the dataset?"
   ]
  },
  {
   "cell_type": "code",
   "execution_count": 1,
   "id": "2d23eb53",
   "metadata": {},
   "outputs": [],
   "source": [
    "import pandas as pd"
   ]
  },
  {
   "cell_type": "markdown",
   "id": "35e19c2e",
   "metadata": {},
   "source": [
    "Some insights\n",
    "\n",
    "How is it going currently? \n",
    "* Sales increase in 2017\n",
    "* Customer Segment\n",
    "  * sales increase across all segments\n",
    "  * sales ranking: Consumer, Corporate, Home Office \n",
    "  * profit ranking similar; recently there has been a drop in profits in the Corporate segment \n",
    "  * the distribution approximately stays constant\n",
    "* Regions, States\n",
    "  * Sales highest in California, New York, Texas; similar to population\n",
    "  * Profits however can be negative! Texas, Florida \n",
    "\n",
    "How is the regional sales going? \n",
    "* What the fuck happened in Texas?\n",
    "  * Greedy customers buy stuff when on discount!\n",
    "  * Try a different discount approach: \n",
    "    * don't easily give the discounts away; discounts should not be gameable; is that the case? Do people just come when discounts are available? \n",
    "    * less discounts, such that there is still a profit margin\n",
    "  * can customers be segmented into Discount buyers and repeated buyers?"
   ]
  },
  {
   "cell_type": "code",
   "execution_count": 42,
   "id": "3e76d046",
   "metadata": {},
   "outputs": [],
   "source": [
    "%store -r dashboard_data"
   ]
  },
  {
   "cell_type": "code",
   "execution_count": 43,
   "id": "e343262a",
   "metadata": {},
   "outputs": [
    {
     "data": {
      "application/vnd.microsoft.datawrangler.viewer.v0+json": {
       "columns": [
        {
         "name": "index",
         "rawType": "int64",
         "type": "integer"
        },
        {
         "name": "OrderDate",
         "rawType": "object",
         "type": "string"
        },
        {
         "name": "ProductID",
         "rawType": "object",
         "type": "string"
        },
        {
         "name": "CustomerID",
         "rawType": "object",
         "type": "string"
        },
        {
         "name": "ShipmentID",
         "rawType": "int64",
         "type": "integer"
        },
        {
         "name": "OrderReference",
         "rawType": "object",
         "type": "string"
        },
        {
         "name": "Quantity",
         "rawType": "int64",
         "type": "integer"
        },
        {
         "name": "Discount",
         "rawType": "float64",
         "type": "float"
        },
        {
         "name": "Sales",
         "rawType": "float64",
         "type": "float"
        },
        {
         "name": "Profit",
         "rawType": "float64",
         "type": "float"
        },
        {
         "name": "DiscountAmount",
         "rawType": "float64",
         "type": "float"
        },
        {
         "name": "SalesWoDiscount",
         "rawType": "float64",
         "type": "float"
        },
        {
         "name": "CustomerName",
         "rawType": "object",
         "type": "string"
        },
        {
         "name": "Segment",
         "rawType": "object",
         "type": "string"
        },
        {
         "name": "ProductName",
         "rawType": "object",
         "type": "string"
        },
        {
         "name": "Category",
         "rawType": "object",
         "type": "string"
        },
        {
         "name": "SubCategory",
         "rawType": "object",
         "type": "string"
        },
        {
         "name": "ShipDate",
         "rawType": "object",
         "type": "string"
        },
        {
         "name": "ShipMode",
         "rawType": "object",
         "type": "string"
        },
        {
         "name": "PostalCode",
         "rawType": "int64",
         "type": "integer"
        },
        {
         "name": "City",
         "rawType": "object",
         "type": "string"
        },
        {
         "name": "Country",
         "rawType": "object",
         "type": "string"
        },
        {
         "name": "Region",
         "rawType": "object",
         "type": "string"
        },
        {
         "name": "State",
         "rawType": "object",
         "type": "string"
        }
       ],
       "ref": "6b536452-0de1-4345-a563-1e35d78e7870",
       "rows": [
        [
         "0",
         "2014-09-07 00:00:00",
         "TEC-PH-10000000",
         "DK-13375",
         "0",
         "CA-2014-100006",
         "3",
         "0.0",
         "377.97",
         "109.6113",
         "0.0",
         "377.96999999999997",
         "Dennis Kane",
         "Consumer",
         "AT&T EL51110 DECT",
         "Technology",
         "Phones",
         "2014-09-13 00:00:00",
         "Standard Class",
         "10024",
         "New York City",
         "United States",
         "East",
         "New York"
        ],
        [
         "1",
         "2014-10-19 00:00:00",
         "TEC-PH-10000001",
         "EH-14125",
         "10",
         "CA-2014-100867",
         "6",
         "0.2",
         "321.552",
         "20.097",
         "80.388",
         "401.93999999999994",
         "Eugene Hildebrand",
         "Home Office",
         "RCA Visys Integrated PBX 8-Line Router",
         "Technology",
         "Phones",
         "2014-10-24 00:00:00",
         "Standard Class",
         "90712",
         "Lakewood",
         "United States",
         "West",
         "California"
        ],
        [
         "2",
         "2014-11-21 00:00:00",
         "TEC-PH-10000001",
         "JK-15325",
         "4328",
         "US-2014-168501",
         "5",
         "0.2",
         "267.96",
         "16.7475",
         "66.99",
         "334.95",
         "Jason Klamczynski",
         "Corporate",
         "RCA Visys Integrated PBX 8-Line Router",
         "Technology",
         "Phones",
         "2014-11-27 00:00:00",
         "Standard Class",
         "75220",
         "Dallas",
         "United States",
         "Central",
         "Texas"
        ],
        [
         "3",
         "2015-06-16 00:00:00",
         "TEC-PH-10000001",
         "LC-16885",
         "4459",
         "US-2015-163825",
         "2",
         "0.0",
         "133.98",
         "33.495",
         "0.0",
         "133.98",
         "Lena Creighton",
         "Consumer",
         "RCA Visys Integrated PBX 8-Line Router",
         "Technology",
         "Phones",
         "2015-06-19 00:00:00",
         "First Class",
         "10009",
         "New York City",
         "United States",
         "East",
         "New York"
        ],
        [
         "4",
         "2017-01-20 00:00:00",
         "TEC-PH-10000001",
         "TH-21100",
         "4011",
         "CA-2017-161809",
         "3",
         "0.2",
         "160.776",
         "10.0485",
         "40.194",
         "200.96999999999997",
         "Thea Hendricks",
         "Consumer",
         "RCA Visys Integrated PBX 8-Line Router",
         "Technology",
         "Phones",
         "2017-01-26 00:00:00",
         "Standard Class",
         "90045",
         "Los Angeles",
         "United States",
         "West",
         "California"
        ]
       ],
       "shape": {
        "columns": 23,
        "rows": 5
       }
      },
      "text/html": [
       "<div>\n",
       "<style scoped>\n",
       "    .dataframe tbody tr th:only-of-type {\n",
       "        vertical-align: middle;\n",
       "    }\n",
       "\n",
       "    .dataframe tbody tr th {\n",
       "        vertical-align: top;\n",
       "    }\n",
       "\n",
       "    .dataframe thead th {\n",
       "        text-align: right;\n",
       "    }\n",
       "</style>\n",
       "<table border=\"1\" class=\"dataframe\">\n",
       "  <thead>\n",
       "    <tr style=\"text-align: right;\">\n",
       "      <th></th>\n",
       "      <th>OrderDate</th>\n",
       "      <th>ProductID</th>\n",
       "      <th>CustomerID</th>\n",
       "      <th>ShipmentID</th>\n",
       "      <th>OrderReference</th>\n",
       "      <th>Quantity</th>\n",
       "      <th>Discount</th>\n",
       "      <th>Sales</th>\n",
       "      <th>Profit</th>\n",
       "      <th>DiscountAmount</th>\n",
       "      <th>...</th>\n",
       "      <th>ProductName</th>\n",
       "      <th>Category</th>\n",
       "      <th>SubCategory</th>\n",
       "      <th>ShipDate</th>\n",
       "      <th>ShipMode</th>\n",
       "      <th>PostalCode</th>\n",
       "      <th>City</th>\n",
       "      <th>Country</th>\n",
       "      <th>Region</th>\n",
       "      <th>State</th>\n",
       "    </tr>\n",
       "  </thead>\n",
       "  <tbody>\n",
       "    <tr>\n",
       "      <th>0</th>\n",
       "      <td>2014-09-07 00:00:00</td>\n",
       "      <td>TEC-PH-10000000</td>\n",
       "      <td>DK-13375</td>\n",
       "      <td>0</td>\n",
       "      <td>CA-2014-100006</td>\n",
       "      <td>3</td>\n",
       "      <td>0.0</td>\n",
       "      <td>377.970</td>\n",
       "      <td>109.6113</td>\n",
       "      <td>0.000</td>\n",
       "      <td>...</td>\n",
       "      <td>AT&amp;T EL51110 DECT</td>\n",
       "      <td>Technology</td>\n",
       "      <td>Phones</td>\n",
       "      <td>2014-09-13 00:00:00</td>\n",
       "      <td>Standard Class</td>\n",
       "      <td>10024</td>\n",
       "      <td>New York City</td>\n",
       "      <td>United States</td>\n",
       "      <td>East</td>\n",
       "      <td>New York</td>\n",
       "    </tr>\n",
       "    <tr>\n",
       "      <th>1</th>\n",
       "      <td>2014-10-19 00:00:00</td>\n",
       "      <td>TEC-PH-10000001</td>\n",
       "      <td>EH-14125</td>\n",
       "      <td>10</td>\n",
       "      <td>CA-2014-100867</td>\n",
       "      <td>6</td>\n",
       "      <td>0.2</td>\n",
       "      <td>321.552</td>\n",
       "      <td>20.0970</td>\n",
       "      <td>80.388</td>\n",
       "      <td>...</td>\n",
       "      <td>RCA Visys Integrated PBX 8-Line Router</td>\n",
       "      <td>Technology</td>\n",
       "      <td>Phones</td>\n",
       "      <td>2014-10-24 00:00:00</td>\n",
       "      <td>Standard Class</td>\n",
       "      <td>90712</td>\n",
       "      <td>Lakewood</td>\n",
       "      <td>United States</td>\n",
       "      <td>West</td>\n",
       "      <td>California</td>\n",
       "    </tr>\n",
       "    <tr>\n",
       "      <th>2</th>\n",
       "      <td>2014-11-21 00:00:00</td>\n",
       "      <td>TEC-PH-10000001</td>\n",
       "      <td>JK-15325</td>\n",
       "      <td>4328</td>\n",
       "      <td>US-2014-168501</td>\n",
       "      <td>5</td>\n",
       "      <td>0.2</td>\n",
       "      <td>267.960</td>\n",
       "      <td>16.7475</td>\n",
       "      <td>66.990</td>\n",
       "      <td>...</td>\n",
       "      <td>RCA Visys Integrated PBX 8-Line Router</td>\n",
       "      <td>Technology</td>\n",
       "      <td>Phones</td>\n",
       "      <td>2014-11-27 00:00:00</td>\n",
       "      <td>Standard Class</td>\n",
       "      <td>75220</td>\n",
       "      <td>Dallas</td>\n",
       "      <td>United States</td>\n",
       "      <td>Central</td>\n",
       "      <td>Texas</td>\n",
       "    </tr>\n",
       "    <tr>\n",
       "      <th>3</th>\n",
       "      <td>2015-06-16 00:00:00</td>\n",
       "      <td>TEC-PH-10000001</td>\n",
       "      <td>LC-16885</td>\n",
       "      <td>4459</td>\n",
       "      <td>US-2015-163825</td>\n",
       "      <td>2</td>\n",
       "      <td>0.0</td>\n",
       "      <td>133.980</td>\n",
       "      <td>33.4950</td>\n",
       "      <td>0.000</td>\n",
       "      <td>...</td>\n",
       "      <td>RCA Visys Integrated PBX 8-Line Router</td>\n",
       "      <td>Technology</td>\n",
       "      <td>Phones</td>\n",
       "      <td>2015-06-19 00:00:00</td>\n",
       "      <td>First Class</td>\n",
       "      <td>10009</td>\n",
       "      <td>New York City</td>\n",
       "      <td>United States</td>\n",
       "      <td>East</td>\n",
       "      <td>New York</td>\n",
       "    </tr>\n",
       "    <tr>\n",
       "      <th>4</th>\n",
       "      <td>2017-01-20 00:00:00</td>\n",
       "      <td>TEC-PH-10000001</td>\n",
       "      <td>TH-21100</td>\n",
       "      <td>4011</td>\n",
       "      <td>CA-2017-161809</td>\n",
       "      <td>3</td>\n",
       "      <td>0.2</td>\n",
       "      <td>160.776</td>\n",
       "      <td>10.0485</td>\n",
       "      <td>40.194</td>\n",
       "      <td>...</td>\n",
       "      <td>RCA Visys Integrated PBX 8-Line Router</td>\n",
       "      <td>Technology</td>\n",
       "      <td>Phones</td>\n",
       "      <td>2017-01-26 00:00:00</td>\n",
       "      <td>Standard Class</td>\n",
       "      <td>90045</td>\n",
       "      <td>Los Angeles</td>\n",
       "      <td>United States</td>\n",
       "      <td>West</td>\n",
       "      <td>California</td>\n",
       "    </tr>\n",
       "  </tbody>\n",
       "</table>\n",
       "<p>5 rows × 23 columns</p>\n",
       "</div>"
      ],
      "text/plain": [
       "             OrderDate        ProductID CustomerID  ShipmentID  \\\n",
       "0  2014-09-07 00:00:00  TEC-PH-10000000   DK-13375           0   \n",
       "1  2014-10-19 00:00:00  TEC-PH-10000001   EH-14125          10   \n",
       "2  2014-11-21 00:00:00  TEC-PH-10000001   JK-15325        4328   \n",
       "3  2015-06-16 00:00:00  TEC-PH-10000001   LC-16885        4459   \n",
       "4  2017-01-20 00:00:00  TEC-PH-10000001   TH-21100        4011   \n",
       "\n",
       "   OrderReference  Quantity  Discount    Sales    Profit  DiscountAmount  ...  \\\n",
       "0  CA-2014-100006         3       0.0  377.970  109.6113           0.000  ...   \n",
       "1  CA-2014-100867         6       0.2  321.552   20.0970          80.388  ...   \n",
       "2  US-2014-168501         5       0.2  267.960   16.7475          66.990  ...   \n",
       "3  US-2015-163825         2       0.0  133.980   33.4950           0.000  ...   \n",
       "4  CA-2017-161809         3       0.2  160.776   10.0485          40.194  ...   \n",
       "\n",
       "                              ProductName    Category SubCategory  \\\n",
       "0                       AT&T EL51110 DECT  Technology      Phones   \n",
       "1  RCA Visys Integrated PBX 8-Line Router  Technology      Phones   \n",
       "2  RCA Visys Integrated PBX 8-Line Router  Technology      Phones   \n",
       "3  RCA Visys Integrated PBX 8-Line Router  Technology      Phones   \n",
       "4  RCA Visys Integrated PBX 8-Line Router  Technology      Phones   \n",
       "\n",
       "              ShipDate        ShipMode PostalCode           City  \\\n",
       "0  2014-09-13 00:00:00  Standard Class      10024  New York City   \n",
       "1  2014-10-24 00:00:00  Standard Class      90712       Lakewood   \n",
       "2  2014-11-27 00:00:00  Standard Class      75220         Dallas   \n",
       "3  2015-06-19 00:00:00     First Class      10009  New York City   \n",
       "4  2017-01-26 00:00:00  Standard Class      90045    Los Angeles   \n",
       "\n",
       "         Country   Region       State  \n",
       "0  United States     East    New York  \n",
       "1  United States     West  California  \n",
       "2  United States  Central       Texas  \n",
       "3  United States     East    New York  \n",
       "4  United States     West  California  \n",
       "\n",
       "[5 rows x 23 columns]"
      ]
     },
     "execution_count": 43,
     "metadata": {},
     "output_type": "execute_result"
    }
   ],
   "source": [
    "dashboard_data.head()"
   ]
  },
  {
   "cell_type": "code",
   "execution_count": 5,
   "id": "8a55e4d0",
   "metadata": {},
   "outputs": [
    {
     "data": {
      "text/plain": [
       "Index(['OrderDate', 'ProductID', 'CustomerID', 'ShipmentID', 'OrderReference',\n",
       "       'Quantity', 'Discount', 'Sales', 'Profit', 'DiscountAmount',\n",
       "       'CustomerName', 'Segment', 'ProductName', 'Category', 'SubCategory',\n",
       "       'ShipDate', 'ShipMode', 'PostalCode', 'City', 'Country', 'Region',\n",
       "       'State'],\n",
       "      dtype='object')"
      ]
     },
     "execution_count": 5,
     "metadata": {},
     "output_type": "execute_result"
    }
   ],
   "source": [
    "dashboard_data.columns"
   ]
  },
  {
   "cell_type": "code",
   "execution_count": 11,
   "id": "14f679f7",
   "metadata": {},
   "outputs": [
    {
     "name": "stdout",
     "output_type": "stream",
     "text": [
      "2297200.8603\n"
     ]
    }
   ],
   "source": [
    "total_revenue = dashboard_data.Sales.sum()\n",
    "print(total_revenue)"
   ]
  },
  {
   "cell_type": "code",
   "execution_count": 34,
   "id": "0c71e6d5",
   "metadata": {},
   "outputs": [
    {
     "name": "stdout",
     "output_type": "stream",
     "text": [
      "fraction of discount hunters of all customers 0.04287515762925599\n"
     ]
    },
    {
     "name": "stderr",
     "output_type": "stream",
     "text": [
      "C:\\Users\\olive\\AppData\\Local\\Temp\\ipykernel_26348\\1066716713.py:2: FutureWarning: DataFrameGroupBy.apply operated on the grouping columns. This behavior is deprecated, and in a future version of pandas the grouping columns will be excluded from the operation. Either pass `include_groups=False` to exclude the groupings or explicitly select the grouping columns after groupby to silence this warning.\n",
      "  customers_only_buy_on_discount = dashboard_data.groupby('CustomerID').apply(lambda g: (g.Discount>0).all()).rename('orders_only_with_discount')\n"
     ]
    }
   ],
   "source": [
    "# How many discount hunters are there?\n",
    "customers_only_buy_on_discount = dashboard_data.groupby('CustomerID').apply(lambda g: (g.Discount>0).all()).rename('orders_only_with_discount')\n",
    "print('fraction of discount hunters of all customers', customers_only_buy_on_discount.sum() / customers_only_buy_on_discount.shape[0])"
   ]
  },
  {
   "cell_type": "code",
   "execution_count": null,
   "id": "98f4715b",
   "metadata": {},
   "outputs": [
    {
     "data": {
      "text/plain": [
       "np.float64(0.01504325564090509)"
      ]
     },
     "execution_count": 41,
     "metadata": {},
     "output_type": "execute_result"
    }
   ],
   "source": [
    "# How much revenue is lost to discount hunters?\n",
    "discount_hunters = customers_only_buy_on_discount[customers_only_buy_on_discount==True]\n",
    "dashboard_data.loc[dashboard_data.CustomerID.isin(discount_hunters.index), 'Sales'].sum() / total_revenue"
   ]
  },
  {
   "cell_type": "markdown",
   "id": "41441cf8",
   "metadata": {},
   "source": [
    "They make only a small fraction of the total revenue. This quantity is tilted, because their sales is reduced by the discount."
   ]
  },
  {
   "cell_type": "code",
   "execution_count": 28,
   "id": "c2988ad3",
   "metadata": {},
   "outputs": [
    {
     "data": {
      "text/plain": [
       "np.float64(0.17062086884679892)"
      ]
     },
     "execution_count": 28,
     "metadata": {},
     "output_type": "execute_result"
    }
   ],
   "source": [
    "# How many orders do customers with negative net profit place?\n",
    "# How much of the sales do they generate?\n",
    "customers_sales_profit = dashboard_data[['CustomerID', 'Sales', 'Profit']].groupby(by='CustomerID').sum().reset_index()\n",
    "customers_sales_profit.loc[customers_sales_profit.Profit<=0,'Sales'].sum() / total_revenue\n",
    "# customers_sales_profit"
   ]
  },
  {
   "cell_type": "code",
   "execution_count": null,
   "id": "457aaadf",
   "metadata": {},
   "outputs": [
    {
     "data": {
      "application/vnd.microsoft.datawrangler.viewer.v0+json": {
       "columns": [
        {
         "name": "('CustomerID', 'State')",
         "rawType": "object",
         "type": "unknown"
        }
       ],
       "ref": "e99b0d28-db38-4748-9d35-000fef680108",
       "rows": [
        [
         "('AA-10315', 'California')"
        ],
        [
         "('AA-10315', 'Texas')"
        ],
        [
         "('AA-10375', 'Arizona')"
        ],
        [
         "('AA-10375', 'California')"
        ],
        [
         "('AA-10375', 'New York')"
        ],
        [
         "('AA-10375', 'Oregon')"
        ],
        [
         "('AA-10375', 'Tennessee')"
        ],
        [
         "('AA-10480', 'North Carolina')"
        ],
        [
         "('AA-10645', 'California')"
        ],
        [
         "('AA-10645', 'Pennsylvania')"
        ],
        [
         "('AB-10015', 'Texas')"
        ],
        [
         "('AB-10015', 'Washington')"
        ],
        [
         "('AB-10060', 'New York')"
        ],
        [
         "('AB-10060', 'Pennsylvania')"
        ],
        [
         "('AB-10060', 'Washington')"
        ],
        [
         "('AB-10105', 'Arizona')"
        ],
        [
         "('AB-10105', 'Illinois')"
        ],
        [
         "('AB-10105', 'Oregon')"
        ],
        [
         "('AB-10105', 'Texas')"
        ],
        [
         "('AB-10150', 'New York')"
        ],
        [
         "('AB-10150', 'Texas')"
        ],
        [
         "('AB-10165', 'California')"
        ],
        [
         "('AB-10165', 'Colorado')"
        ],
        [
         "('AB-10165', 'Illinois')"
        ],
        [
         "('AB-10165', 'Ohio')"
        ],
        [
         "('AB-10165', 'Tennessee')"
        ],
        [
         "('AB-10165', 'Washington')"
        ],
        [
         "('AB-10255', 'California')"
        ],
        [
         "('AB-10255', 'Ohio')"
        ],
        [
         "('AB-10255', 'Pennsylvania')"
        ],
        [
         "('AB-10255', 'Texas')"
        ],
        [
         "('AB-10600', 'Arizona')"
        ],
        [
         "('AB-10600', 'Illinois')"
        ],
        [
         "('AB-10600', 'North Carolina')"
        ],
        [
         "('AC-10420', 'California')"
        ],
        [
         "('AC-10420', 'Pennsylvania')"
        ],
        [
         "('AC-10420', 'Texas')"
        ],
        [
         "('AC-10450', 'Arizona')"
        ],
        [
         "('AC-10450', 'Florida')"
        ],
        [
         "('AC-10450', 'New York')"
        ],
        [
         "('AC-10450', 'Washington')"
        ],
        [
         "('AC-10615', 'New York')"
        ],
        [
         "('AC-10615', 'Pennsylvania')"
        ],
        [
         "('AC-10615', 'Texas')"
        ],
        [
         "('AC-10615', 'Washington')"
        ],
        [
         "('AC-10660', 'California')"
        ],
        [
         "('AC-10660', 'Ohio')"
        ],
        [
         "('AC-10660', 'Texas')"
        ],
        [
         "('AD-10180', 'Pennsylvania')"
        ],
        [
         "('AD-10180', 'Texas')"
        ]
       ],
       "shape": {
        "columns": 0,
        "rows": 2485
       }
      },
      "text/html": [
       "<div>\n",
       "<style scoped>\n",
       "    .dataframe tbody tr th:only-of-type {\n",
       "        vertical-align: middle;\n",
       "    }\n",
       "\n",
       "    .dataframe tbody tr th {\n",
       "        vertical-align: top;\n",
       "    }\n",
       "\n",
       "    .dataframe thead th {\n",
       "        text-align: right;\n",
       "    }\n",
       "</style>\n",
       "<table border=\"1\" class=\"dataframe\">\n",
       "  <thead>\n",
       "    <tr style=\"text-align: right;\">\n",
       "      <th></th>\n",
       "      <th></th>\n",
       "    </tr>\n",
       "    <tr>\n",
       "      <th>CustomerID</th>\n",
       "      <th>State</th>\n",
       "    </tr>\n",
       "  </thead>\n",
       "  <tbody>\n",
       "    <tr>\n",
       "      <th rowspan=\"2\" valign=\"top\">AA-10315</th>\n",
       "      <th>California</th>\n",
       "    </tr>\n",
       "    <tr>\n",
       "      <th>Texas</th>\n",
       "    </tr>\n",
       "    <tr>\n",
       "      <th rowspan=\"3\" valign=\"top\">AA-10375</th>\n",
       "      <th>Arizona</th>\n",
       "    </tr>\n",
       "    <tr>\n",
       "      <th>California</th>\n",
       "    </tr>\n",
       "    <tr>\n",
       "      <th>New York</th>\n",
       "    </tr>\n",
       "    <tr>\n",
       "      <th>...</th>\n",
       "      <th>...</th>\n",
       "    </tr>\n",
       "    <tr>\n",
       "      <th rowspan=\"2\" valign=\"top\">ZC-21910</th>\n",
       "      <th>Oregon</th>\n",
       "    </tr>\n",
       "    <tr>\n",
       "      <th>Texas</th>\n",
       "    </tr>\n",
       "    <tr>\n",
       "      <th rowspan=\"3\" valign=\"top\">ZD-21925</th>\n",
       "      <th>California</th>\n",
       "    </tr>\n",
       "    <tr>\n",
       "      <th>Florida</th>\n",
       "    </tr>\n",
       "    <tr>\n",
       "      <th>Tennessee</th>\n",
       "    </tr>\n",
       "  </tbody>\n",
       "</table>\n",
       "<p>2485 rows × 0 columns</p>\n",
       "</div>"
      ],
      "text/plain": [
       "Empty DataFrame\n",
       "Columns: []\n",
       "Index: [(AA-10315, California), (AA-10315, Texas), (AA-10375, Arizona), (AA-10375, California), (AA-10375, New York), (AA-10375, Oregon), (AA-10375, Tennessee), (AA-10480, North Carolina), (AA-10645, California), (AA-10645, Pennsylvania), (AB-10015, Texas), (AB-10015, Washington), (AB-10060, New York), (AB-10060, Pennsylvania), (AB-10060, Washington), (AB-10105, Arizona), (AB-10105, Illinois), (AB-10105, Oregon), (AB-10105, Texas), (AB-10150, New York), (AB-10150, Texas), (AB-10165, California), (AB-10165, Colorado), (AB-10165, Illinois), (AB-10165, Ohio), (AB-10165, Tennessee), (AB-10165, Washington), (AB-10255, California), (AB-10255, Ohio), (AB-10255, Pennsylvania), (AB-10255, Texas), (AB-10600, Arizona), (AB-10600, Illinois), (AB-10600, North Carolina), (AC-10420, California), (AC-10420, Pennsylvania), (AC-10420, Texas), (AC-10450, Arizona), (AC-10450, Florida), (AC-10450, New York), (AC-10450, Washington), (AC-10615, New York), (AC-10615, Pennsylvania), (AC-10615, Texas), (AC-10615, Washington), (AC-10660, California), (AC-10660, Ohio), (AC-10660, Texas), (AD-10180, Pennsylvania), (AD-10180, Texas), (AF-10870, California), (AF-10870, Florida), (AF-10870, Illinois), (AF-10870, New Jersey), (AF-10870, Texas), (AF-10885, Ohio), (AF-10885, Pennsylvania), (AG-10270, Pennsylvania), (AG-10300, California), (AG-10330, Arizona), (AG-10330, California), (AG-10330, North Carolina), (AG-10330, Texas), (AG-10390, Ohio), (AG-10390, Tennessee), (AG-10495, Arizona), (AG-10495, California), (AG-10495, Florida), (AG-10495, Michigan), (AG-10495, Pennsylvania), (AG-10495, Texas), (AG-10495, Washington), (AG-10525, Florida), (AG-10525, New York), (AG-10525, Texas), (AG-10675, North Carolina), (AG-10675, Texas), (AG-10765, Illinois), (AG-10765, Pennsylvania), (AG-10900, Arizona), (AG-10900, California), (AG-10900, Florida), (AG-10900, Illinois), (AG-10900, Pennsylvania), (AG-10900, Texas), (AH-10030, California), (AH-10030, New York), (AH-10030, Pennsylvania), (AH-10075, New York), (AH-10075, Ohio), (AH-10075, Pennsylvania), (AH-10075, Rhode Island), (AH-10075, Tennessee), (AH-10075, Texas), (AH-10120, Arizona), (AH-10120, Illinois), (AH-10120, Oregon), (AH-10120, Texas), (AH-10195, Florida), (AH-10195, Illinois), ...]\n",
       "\n",
       "[2485 rows x 0 columns]"
      ]
     },
     "execution_count": 9,
     "metadata": {},
     "output_type": "execute_result"
    }
   ],
   "source": [
    "dashboard_data.loc[dashboard_data.Discount>0, ['CustomerID', 'OrderReference', 'State', 'Sales']].groupby(['CustomerID', 'State']).count()"
   ]
  },
  {
   "cell_type": "markdown",
   "id": "4eed33a4",
   "metadata": {},
   "source": [
    "# Shipments\n",
    "* Do shipments arrive late? "
   ]
  },
  {
   "cell_type": "code",
   "execution_count": null,
   "id": "1061cf04",
   "metadata": {},
   "outputs": [],
   "source": []
  }
 ],
 "metadata": {
  "kernelspec": {
   "display_name": "vs_group_env",
   "language": "python",
   "name": "python3"
  },
  "language_info": {
   "codemirror_mode": {
    "name": "ipython",
    "version": 3
   },
   "file_extension": ".py",
   "mimetype": "text/x-python",
   "name": "python",
   "nbconvert_exporter": "python",
   "pygments_lexer": "ipython3",
   "version": "3.13.5"
  }
 },
 "nbformat": 4,
 "nbformat_minor": 5
}
