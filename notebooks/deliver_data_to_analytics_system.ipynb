{
 "cells": [
  {
   "cell_type": "markdown",
   "id": "e7979f98",
   "metadata": {},
   "source": [
    "# Deliver data for Analytics System \n",
    "- Tableau Dashboard\n",
    "- KPIs"
   ]
  },
  {
   "cell_type": "code",
   "execution_count": 1,
   "id": "cf8f4584",
   "metadata": {},
   "outputs": [],
   "source": [
    "import sqlite3\n",
    "import sys\n",
    "from pathlib import Path\n",
    "\n",
    "import pandas as pd\n",
    "import yaml"
   ]
  },
  {
   "cell_type": "code",
   "execution_count": 2,
   "id": "d9dbb418",
   "metadata": {},
   "outputs": [],
   "source": [
    "with open('../config.yaml') as file:\n",
    "    config = yaml.safe_load(file)"
   ]
  },
  {
   "cell_type": "markdown",
   "id": "43901bbf",
   "metadata": {},
   "source": [
    "# Base Data"
   ]
  },
  {
   "cell_type": "code",
   "execution_count": 3,
   "id": "aa0da6e4",
   "metadata": {},
   "outputs": [
    {
     "name": "stdout",
     "output_type": "stream",
     "text": [
      "3.13.5 | packaged by conda-forge | (main, Jun 16 2025, 08:20:19) [MSC v.1943 64 bit (AMD64)]\n",
      "True\n"
     ]
    }
   ],
   "source": [
    "# check dem system: 64 bit python? odb driver must be compatible with the python version\n",
    "print(sys.version)\n",
    "print(sys.maxsize > 2**32) # True for 64-bit, False for 32-bit"
   ]
  },
  {
   "cell_type": "code",
   "execution_count": 4,
   "id": "77a5ebfd",
   "metadata": {},
   "outputs": [],
   "source": [
    "# access db for tableau\n",
    "# import pyodbc\n",
    "\n",
    "# with pyodbc.connect(config['processed_data']['database_access']) as conn:\n",
    "#     init_db(conn)"
   ]
  },
  {
   "cell_type": "code",
   "execution_count": 44,
   "id": "76e9e080",
   "metadata": {},
   "outputs": [
    {
     "data": {
      "application/vnd.microsoft.datawrangler.viewer.v0+json": {
       "columns": [
        {
         "name": "index",
         "rawType": "int64",
         "type": "integer"
        },
        {
         "name": "OrderDate",
         "rawType": "object",
         "type": "string"
        },
        {
         "name": "ProductID",
         "rawType": "object",
         "type": "string"
        },
        {
         "name": "CustomerID",
         "rawType": "object",
         "type": "string"
        },
        {
         "name": "ShipmentID",
         "rawType": "int64",
         "type": "integer"
        },
        {
         "name": "OrderReference",
         "rawType": "object",
         "type": "string"
        },
        {
         "name": "Quantity",
         "rawType": "int64",
         "type": "integer"
        },
        {
         "name": "Discount",
         "rawType": "float64",
         "type": "float"
        },
        {
         "name": "Sales",
         "rawType": "float64",
         "type": "float"
        },
        {
         "name": "Profit",
         "rawType": "float64",
         "type": "float"
        },
        {
         "name": "DiscountAmount",
         "rawType": "float64",
         "type": "float"
        },
        {
         "name": "SalesWoDiscount",
         "rawType": "float64",
         "type": "float"
        },
        {
         "name": "CustomerName",
         "rawType": "object",
         "type": "string"
        },
        {
         "name": "Segment",
         "rawType": "object",
         "type": "string"
        },
        {
         "name": "ProductName",
         "rawType": "object",
         "type": "string"
        },
        {
         "name": "Category",
         "rawType": "object",
         "type": "string"
        },
        {
         "name": "SubCategory",
         "rawType": "object",
         "type": "string"
        },
        {
         "name": "ShipDate",
         "rawType": "object",
         "type": "string"
        },
        {
         "name": "ShipMode",
         "rawType": "object",
         "type": "string"
        },
        {
         "name": "PostalCode",
         "rawType": "int64",
         "type": "integer"
        },
        {
         "name": "City",
         "rawType": "object",
         "type": "string"
        },
        {
         "name": "Country",
         "rawType": "object",
         "type": "string"
        },
        {
         "name": "Region",
         "rawType": "object",
         "type": "string"
        },
        {
         "name": "State",
         "rawType": "object",
         "type": "string"
        }
       ],
       "ref": "2282dbd4-da17-4c43-9687-b3bdfb2b1184",
       "rows": [
        [
         "0",
         "2014-09-07 00:00:00",
         "TEC-PH-10000000",
         "DK-13375",
         "0",
         "CA-2014-100006",
         "3",
         "0.0",
         "377.97",
         "109.6113",
         "0.0",
         "377.96999999999997",
         "Dennis Kane",
         "Consumer",
         "AT&T EL51110 DECT",
         "Technology",
         "Phones",
         "2014-09-13 00:00:00",
         "Standard Class",
         "10024",
         "New York City",
         "United States",
         "East",
         "New York"
        ],
        [
         "1",
         "2014-10-19 00:00:00",
         "TEC-PH-10000001",
         "EH-14125",
         "10",
         "CA-2014-100867",
         "6",
         "0.2",
         "321.552",
         "20.097",
         "80.388",
         "401.93999999999994",
         "Eugene Hildebrand",
         "Home Office",
         "RCA Visys Integrated PBX 8-Line Router",
         "Technology",
         "Phones",
         "2014-10-24 00:00:00",
         "Standard Class",
         "90712",
         "Lakewood",
         "United States",
         "West",
         "California"
        ],
        [
         "2",
         "2014-11-21 00:00:00",
         "TEC-PH-10000001",
         "JK-15325",
         "4328",
         "US-2014-168501",
         "5",
         "0.2",
         "267.96",
         "16.7475",
         "66.99",
         "334.95",
         "Jason Klamczynski",
         "Corporate",
         "RCA Visys Integrated PBX 8-Line Router",
         "Technology",
         "Phones",
         "2014-11-27 00:00:00",
         "Standard Class",
         "75220",
         "Dallas",
         "United States",
         "Central",
         "Texas"
        ],
        [
         "3",
         "2015-06-16 00:00:00",
         "TEC-PH-10000001",
         "LC-16885",
         "4459",
         "US-2015-163825",
         "2",
         "0.0",
         "133.98",
         "33.495",
         "0.0",
         "133.98",
         "Lena Creighton",
         "Consumer",
         "RCA Visys Integrated PBX 8-Line Router",
         "Technology",
         "Phones",
         "2015-06-19 00:00:00",
         "First Class",
         "10009",
         "New York City",
         "United States",
         "East",
         "New York"
        ],
        [
         "4",
         "2017-01-20 00:00:00",
         "TEC-PH-10000001",
         "TH-21100",
         "4011",
         "CA-2017-161809",
         "3",
         "0.2",
         "160.776",
         "10.0485",
         "40.194",
         "200.96999999999997",
         "Thea Hendricks",
         "Consumer",
         "RCA Visys Integrated PBX 8-Line Router",
         "Technology",
         "Phones",
         "2017-01-26 00:00:00",
         "Standard Class",
         "90045",
         "Los Angeles",
         "United States",
         "West",
         "California"
        ]
       ],
       "shape": {
        "columns": 23,
        "rows": 5
       }
      },
      "text/html": [
       "<div>\n",
       "<style scoped>\n",
       "    .dataframe tbody tr th:only-of-type {\n",
       "        vertical-align: middle;\n",
       "    }\n",
       "\n",
       "    .dataframe tbody tr th {\n",
       "        vertical-align: top;\n",
       "    }\n",
       "\n",
       "    .dataframe thead th {\n",
       "        text-align: right;\n",
       "    }\n",
       "</style>\n",
       "<table border=\"1\" class=\"dataframe\">\n",
       "  <thead>\n",
       "    <tr style=\"text-align: right;\">\n",
       "      <th></th>\n",
       "      <th>OrderDate</th>\n",
       "      <th>ProductID</th>\n",
       "      <th>CustomerID</th>\n",
       "      <th>ShipmentID</th>\n",
       "      <th>OrderReference</th>\n",
       "      <th>Quantity</th>\n",
       "      <th>Discount</th>\n",
       "      <th>Sales</th>\n",
       "      <th>Profit</th>\n",
       "      <th>DiscountAmount</th>\n",
       "      <th>...</th>\n",
       "      <th>ProductName</th>\n",
       "      <th>Category</th>\n",
       "      <th>SubCategory</th>\n",
       "      <th>ShipDate</th>\n",
       "      <th>ShipMode</th>\n",
       "      <th>PostalCode</th>\n",
       "      <th>City</th>\n",
       "      <th>Country</th>\n",
       "      <th>Region</th>\n",
       "      <th>State</th>\n",
       "    </tr>\n",
       "  </thead>\n",
       "  <tbody>\n",
       "    <tr>\n",
       "      <th>0</th>\n",
       "      <td>2014-09-07 00:00:00</td>\n",
       "      <td>TEC-PH-10000000</td>\n",
       "      <td>DK-13375</td>\n",
       "      <td>0</td>\n",
       "      <td>CA-2014-100006</td>\n",
       "      <td>3</td>\n",
       "      <td>0.0</td>\n",
       "      <td>377.970</td>\n",
       "      <td>109.6113</td>\n",
       "      <td>0.000</td>\n",
       "      <td>...</td>\n",
       "      <td>AT&amp;T EL51110 DECT</td>\n",
       "      <td>Technology</td>\n",
       "      <td>Phones</td>\n",
       "      <td>2014-09-13 00:00:00</td>\n",
       "      <td>Standard Class</td>\n",
       "      <td>10024</td>\n",
       "      <td>New York City</td>\n",
       "      <td>United States</td>\n",
       "      <td>East</td>\n",
       "      <td>New York</td>\n",
       "    </tr>\n",
       "    <tr>\n",
       "      <th>1</th>\n",
       "      <td>2014-10-19 00:00:00</td>\n",
       "      <td>TEC-PH-10000001</td>\n",
       "      <td>EH-14125</td>\n",
       "      <td>10</td>\n",
       "      <td>CA-2014-100867</td>\n",
       "      <td>6</td>\n",
       "      <td>0.2</td>\n",
       "      <td>321.552</td>\n",
       "      <td>20.0970</td>\n",
       "      <td>80.388</td>\n",
       "      <td>...</td>\n",
       "      <td>RCA Visys Integrated PBX 8-Line Router</td>\n",
       "      <td>Technology</td>\n",
       "      <td>Phones</td>\n",
       "      <td>2014-10-24 00:00:00</td>\n",
       "      <td>Standard Class</td>\n",
       "      <td>90712</td>\n",
       "      <td>Lakewood</td>\n",
       "      <td>United States</td>\n",
       "      <td>West</td>\n",
       "      <td>California</td>\n",
       "    </tr>\n",
       "    <tr>\n",
       "      <th>2</th>\n",
       "      <td>2014-11-21 00:00:00</td>\n",
       "      <td>TEC-PH-10000001</td>\n",
       "      <td>JK-15325</td>\n",
       "      <td>4328</td>\n",
       "      <td>US-2014-168501</td>\n",
       "      <td>5</td>\n",
       "      <td>0.2</td>\n",
       "      <td>267.960</td>\n",
       "      <td>16.7475</td>\n",
       "      <td>66.990</td>\n",
       "      <td>...</td>\n",
       "      <td>RCA Visys Integrated PBX 8-Line Router</td>\n",
       "      <td>Technology</td>\n",
       "      <td>Phones</td>\n",
       "      <td>2014-11-27 00:00:00</td>\n",
       "      <td>Standard Class</td>\n",
       "      <td>75220</td>\n",
       "      <td>Dallas</td>\n",
       "      <td>United States</td>\n",
       "      <td>Central</td>\n",
       "      <td>Texas</td>\n",
       "    </tr>\n",
       "    <tr>\n",
       "      <th>3</th>\n",
       "      <td>2015-06-16 00:00:00</td>\n",
       "      <td>TEC-PH-10000001</td>\n",
       "      <td>LC-16885</td>\n",
       "      <td>4459</td>\n",
       "      <td>US-2015-163825</td>\n",
       "      <td>2</td>\n",
       "      <td>0.0</td>\n",
       "      <td>133.980</td>\n",
       "      <td>33.4950</td>\n",
       "      <td>0.000</td>\n",
       "      <td>...</td>\n",
       "      <td>RCA Visys Integrated PBX 8-Line Router</td>\n",
       "      <td>Technology</td>\n",
       "      <td>Phones</td>\n",
       "      <td>2015-06-19 00:00:00</td>\n",
       "      <td>First Class</td>\n",
       "      <td>10009</td>\n",
       "      <td>New York City</td>\n",
       "      <td>United States</td>\n",
       "      <td>East</td>\n",
       "      <td>New York</td>\n",
       "    </tr>\n",
       "    <tr>\n",
       "      <th>4</th>\n",
       "      <td>2017-01-20 00:00:00</td>\n",
       "      <td>TEC-PH-10000001</td>\n",
       "      <td>TH-21100</td>\n",
       "      <td>4011</td>\n",
       "      <td>CA-2017-161809</td>\n",
       "      <td>3</td>\n",
       "      <td>0.2</td>\n",
       "      <td>160.776</td>\n",
       "      <td>10.0485</td>\n",
       "      <td>40.194</td>\n",
       "      <td>...</td>\n",
       "      <td>RCA Visys Integrated PBX 8-Line Router</td>\n",
       "      <td>Technology</td>\n",
       "      <td>Phones</td>\n",
       "      <td>2017-01-26 00:00:00</td>\n",
       "      <td>Standard Class</td>\n",
       "      <td>90045</td>\n",
       "      <td>Los Angeles</td>\n",
       "      <td>United States</td>\n",
       "      <td>West</td>\n",
       "      <td>California</td>\n",
       "    </tr>\n",
       "  </tbody>\n",
       "</table>\n",
       "<p>5 rows × 23 columns</p>\n",
       "</div>"
      ],
      "text/plain": [
       "             OrderDate        ProductID CustomerID  ShipmentID  \\\n",
       "0  2014-09-07 00:00:00  TEC-PH-10000000   DK-13375           0   \n",
       "1  2014-10-19 00:00:00  TEC-PH-10000001   EH-14125          10   \n",
       "2  2014-11-21 00:00:00  TEC-PH-10000001   JK-15325        4328   \n",
       "3  2015-06-16 00:00:00  TEC-PH-10000001   LC-16885        4459   \n",
       "4  2017-01-20 00:00:00  TEC-PH-10000001   TH-21100        4011   \n",
       "\n",
       "   OrderReference  Quantity  Discount    Sales    Profit  DiscountAmount  ...  \\\n",
       "0  CA-2014-100006         3       0.0  377.970  109.6113           0.000  ...   \n",
       "1  CA-2014-100867         6       0.2  321.552   20.0970          80.388  ...   \n",
       "2  US-2014-168501         5       0.2  267.960   16.7475          66.990  ...   \n",
       "3  US-2015-163825         2       0.0  133.980   33.4950           0.000  ...   \n",
       "4  CA-2017-161809         3       0.2  160.776   10.0485          40.194  ...   \n",
       "\n",
       "                              ProductName    Category SubCategory  \\\n",
       "0                       AT&T EL51110 DECT  Technology      Phones   \n",
       "1  RCA Visys Integrated PBX 8-Line Router  Technology      Phones   \n",
       "2  RCA Visys Integrated PBX 8-Line Router  Technology      Phones   \n",
       "3  RCA Visys Integrated PBX 8-Line Router  Technology      Phones   \n",
       "4  RCA Visys Integrated PBX 8-Line Router  Technology      Phones   \n",
       "\n",
       "              ShipDate        ShipMode PostalCode           City  \\\n",
       "0  2014-09-13 00:00:00  Standard Class      10024  New York City   \n",
       "1  2014-10-24 00:00:00  Standard Class      90712       Lakewood   \n",
       "2  2014-11-27 00:00:00  Standard Class      75220         Dallas   \n",
       "3  2015-06-19 00:00:00     First Class      10009  New York City   \n",
       "4  2017-01-26 00:00:00  Standard Class      90045    Los Angeles   \n",
       "\n",
       "         Country   Region       State  \n",
       "0  United States     East    New York  \n",
       "1  United States     West  California  \n",
       "2  United States  Central       Texas  \n",
       "3  United States     East    New York  \n",
       "4  United States     West  California  \n",
       "\n",
       "[5 rows x 23 columns]"
      ]
     },
     "execution_count": 44,
     "metadata": {},
     "output_type": "execute_result"
    }
   ],
   "source": [
    "# export full data into csv file\n",
    "db_path = Path(config['processed_data']['database_sqlite'])\n",
    "query_path = Path(config['queries_path'])\n",
    "\n",
    "with sqlite3.connect(db_path) as conn:\n",
    "    \n",
    "    with open(query_path.joinpath('create_views.sql'), 'r') as f:\n",
    "        conn.executescript(f.read())\n",
    "\n",
    "    with open(query_path.joinpath('select_data_for_tableau_dashboard.sql'), 'r') as f:\n",
    "        # cur = conn.executescript(f.read())\n",
    "        dashboard_data = pd.read_sql_query(f.read(), conn)\n",
    "        dashboard_data.to_parquet(config['processed_data']['sample_parquet'])\n",
    "        dashboard_data.to_csv(config['processed_data']['sample_csv'], index=False, encoding='utf-8')\n",
    "dashboard_data.head()"
   ]
  },
  {
   "cell_type": "code",
   "execution_count": 45,
   "id": "6f581894",
   "metadata": {},
   "outputs": [
    {
     "name": "stdout",
     "output_type": "stream",
     "text": [
      "Stored 'dashboard_data' (DataFrame)\n"
     ]
    }
   ],
   "source": [
    "%store dashboard_data"
   ]
  },
  {
   "cell_type": "markdown",
   "id": "be1299f2",
   "metadata": {},
   "source": [
    "# KPI Data "
   ]
  },
  {
   "cell_type": "code",
   "execution_count": null,
   "id": "769ab79f",
   "metadata": {},
   "outputs": [],
   "source": []
  },
  {
   "cell_type": "markdown",
   "id": "7bc0daec",
   "metadata": {},
   "source": [
    "# EDA"
   ]
  },
  {
   "cell_type": "code",
   "execution_count": 40,
   "id": "40571c60",
   "metadata": {},
   "outputs": [
    {
     "data": {
      "text/plain": [
       "np.float64(2297200.8603)"
      ]
     },
     "execution_count": 40,
     "metadata": {},
     "output_type": "execute_result"
    }
   ],
   "source": [
    "dashboard_data.Sales.sum()"
   ]
  },
  {
   "cell_type": "code",
   "execution_count": 24,
   "id": "dafa372f",
   "metadata": {},
   "outputs": [],
   "source": [
    "dashboard_data.OrderDate = pd.to_datetime(dashboard_data.OrderDate)"
   ]
  },
  {
   "cell_type": "code",
   "execution_count": 11,
   "id": "b3151465",
   "metadata": {},
   "outputs": [
    {
     "data": {
      "text/plain": [
       "Index(['OrderDate', 'ProductID', 'CustomerID', 'ShipmentID', 'OrderReference',\n",
       "       'Quantity', 'Discount', 'Sales', 'Profit', 'DiscountAmount',\n",
       "       'CustomerName', 'Segment', 'ProductName', 'Category', 'SubCategory',\n",
       "       'ShipDate', 'ShipMode', 'PostalCode', 'City', 'Country', 'Region',\n",
       "       'State'],\n",
       "      dtype='object')"
      ]
     },
     "execution_count": 11,
     "metadata": {},
     "output_type": "execute_result"
    }
   ],
   "source": [
    "dashboard_data.columns"
   ]
  },
  {
   "cell_type": "code",
   "execution_count": null,
   "id": "2618965d",
   "metadata": {},
   "outputs": [],
   "source": [
    "{'Quantity':'sum', 'Discount':'sum', 'Sales':'sum', 'Profit':'sum', 'DiscountAmount':'sum'}"
   ]
  },
  {
   "cell_type": "code",
   "execution_count": 28,
   "id": "6dd94070",
   "metadata": {},
   "outputs": [
    {
     "data": {
      "application/vnd.microsoft.datawrangler.viewer.v0+json": {
       "columns": [
        {
         "name": "('Category', 'SubCategory', 'OrderDate')",
         "rawType": "object",
         "type": "unknown"
        },
        {
         "name": "Quantity",
         "rawType": "int64",
         "type": "integer"
        },
        {
         "name": "Discount",
         "rawType": "float64",
         "type": "float"
        },
        {
         "name": "Sales",
         "rawType": "float64",
         "type": "float"
        },
        {
         "name": "Profit",
         "rawType": "float64",
         "type": "float"
        },
        {
         "name": "DiscountAmount",
         "rawType": "float64",
         "type": "float"
        }
       ],
       "ref": "0455d5c3-24fc-4f04-8b75-763876653904",
       "rows": [
        [
         "('Furniture', 'Bookcases', Timestamp('2014-12-31 00:00:00'))",
         "153",
         "7.61",
         "20036.6776",
         "-346.17069999999995",
         "5211.8024"
        ],
        [
         "('Furniture', 'Bookcases', Timestamp('2015-12-31 00:00:00'))",
         "242",
         "13.94",
         "38543.572499999995",
         "-2755.2302000000004",
         "13623.5675"
        ],
        [
         "('Furniture', 'Bookcases', Timestamp('2016-12-31 00:00:00'))",
         "197",
         "10.27",
         "26275.4665",
         "212.47099999999995",
         "6542.0335"
        ],
        [
         "('Furniture', 'Bookcases', Timestamp('2017-12-31 00:00:00'))",
         "276",
         "16.32",
         "30024.2797",
         "-583.6261000000001",
         "7899.1503"
        ],
        [
         "('Furniture', 'Chairs', Timestamp('2014-12-31 00:00:00'))",
         "540",
         "22.2",
         "77241.576",
         "6955.047",
         "15596.384"
        ],
        [
         "('Furniture', 'Chairs', Timestamp('2015-12-31 00:00:00'))",
         "528",
         "21.2",
         "71734.529",
         "6228.4161",
         "13070.521"
        ],
        [
         "('Furniture', 'Chairs', Timestamp('2016-12-31 00:00:00'))",
         "614",
         "29.5",
         "83918.645",
         "5763.1539",
         "17996.975"
        ],
        [
         "('Furniture', 'Chairs', Timestamp('2017-12-31 00:00:00'))",
         "674",
         "31.8",
         "95554.353",
         "7643.549300000001",
         "18707.217"
        ],
        [
         "('Furniture', 'Furnishings', Timestamp('2014-12-31 00:00:00'))",
         "660",
         "27.6",
         "13826.234",
         "1972.8919",
         "2420.806"
        ],
        [
         "('Furniture', 'Furnishings', Timestamp('2015-12-31 00:00:00'))",
         "770",
         "27.4",
         "21089.712",
         "3051.8189",
         "3555.828"
        ],
        [
         "('Furniture', 'Furnishings', Timestamp('2016-12-31 00:00:00'))",
         "1036",
         "36.6",
         "27874.124",
         "3935.27",
         "4961.266"
        ],
        [
         "('Furniture', 'Furnishings', Timestamp('2017-12-31 00:00:00'))",
         "1097",
         "40.8",
         "28915.094",
         "4099.1628",
         "4931.816"
        ],
        [
         "('Furniture', 'Tables', Timestamp('2014-12-31 00:00:00'))",
         "270",
         "18.95",
         "46088.3655",
         "-3124.0427",
         "14971.6445"
        ],
        [
         "('Furniture', 'Tables', Timestamp('2015-12-31 00:00:00'))",
         "235",
         "13.75",
         "39150.4235",
         "-3509.8019",
         "13637.5565"
        ],
        [
         "('Furniture', 'Tables', Timestamp('2016-12-31 00:00:00'))",
         "346",
         "23.05",
         "60833.2005",
         "-2950.9418",
         "18233.2095"
        ],
        [
         "('Furniture', 'Tables', Timestamp('2017-12-31 00:00:00'))",
         "390",
         "27.6",
         "60893.542499999996",
         "-8140.6947",
         "23879.8175"
        ],
        [
         "('Office Supplies', 'Appliances', Timestamp('2014-12-31 00:00:00'))",
         "314",
         "15.3",
         "15313.625",
         "2459.4999",
         "3094.145"
        ],
        [
         "('Office Supplies', 'Appliances', Timestamp('2015-12-31 00:00:00'))",
         "365",
         "16.900000000000002",
         "23241.289",
         "2511.8957",
         "6281.131"
        ],
        [
         "('Office Supplies', 'Appliances', Timestamp('2016-12-31 00:00:00'))",
         "396",
         "16.3",
         "26050.315000000002",
         "5301.3415",
         "3839.625"
        ],
        [
         "('Office Supplies', 'Appliances', Timestamp('2017-12-31 00:00:00'))",
         "654",
         "29.1",
         "42926.932",
         "7865.2683",
         "6235.518"
        ],
        [
         "('Office Supplies', 'Art', Timestamp('2014-12-31 00:00:00'))",
         "613",
         "12.0",
         "6057.982",
         "1406.8031",
         "634.208"
        ],
        [
         "('Office Supplies', 'Art', Timestamp('2015-12-31 00:00:00'))",
         "608",
         "12.8",
         "6236.834",
         "1485.0582",
         "490.956"
        ],
        [
         "('Office Supplies', 'Art', Timestamp('2016-12-31 00:00:00'))",
         "678",
         "12.600000000000001",
         "5960.908",
         "1413.9626",
         "441.912"
        ],
        [
         "('Office Supplies', 'Art', Timestamp('2017-12-31 00:00:00'))",
         "1101",
         "22.200000000000003",
         "8863.068",
         "2221.9631",
         "708.962"
        ],
        [
         "('Office Supplies', 'Binders', Timestamp('2014-12-31 00:00:00'))",
         "1089",
         "109.0",
         "43488.265",
         "4739.716",
         "29835.235"
        ],
        [
         "('Office Supplies', 'Binders', Timestamp('2015-12-31 00:00:00'))",
         "1215",
         "120.8",
         "37453.098",
         "7596.671399999999",
         "20612.712"
        ],
        [
         "('Office Supplies', 'Binders', Timestamp('2016-12-31 00:00:00'))",
         "1603",
         "148.1",
         "49683.325",
         "10215.6341",
         "26182.385"
        ],
        [
         "('Office Supplies', 'Binders', Timestamp('2017-12-31 00:00:00'))",
         "2067",
         "189.1",
         "72788.045",
         "7669.741799999999",
         "51693.795"
        ],
        [
         "('Office Supplies', 'Envelopes', Timestamp('2014-12-31 00:00:00'))",
         "206",
         "5.6000000000000005",
         "3855.75",
         "1495.4788",
         "633.99"
        ],
        [
         "('Office Supplies', 'Envelopes', Timestamp('2015-12-31 00:00:00'))",
         "237",
         "4.4",
         "4512.188",
         "1960.1906",
         "263.212"
        ],
        [
         "('Office Supplies', 'Envelopes', Timestamp('2016-12-31 00:00:00'))",
         "222",
         "4.2",
         "4729.89",
         "2066.7483",
         "282.23"
        ],
        [
         "('Office Supplies', 'Envelopes', Timestamp('2017-12-31 00:00:00'))",
         "241",
         "6.2",
         "3378.574",
         "1441.759",
         "288.05600000000004"
        ],
        [
         "('Office Supplies', 'Fasteners', Timestamp('2014-12-31 00:00:00'))",
         "201",
         "5.2",
         "661.328",
         "178.5583",
         "86.122"
        ],
        [
         "('Office Supplies', 'Fasteners', Timestamp('2015-12-31 00:00:00'))",
         "176",
         "3.8000000000000003",
         "545.224",
         "171.9376",
         "58.456"
        ],
        [
         "('Office Supplies', 'Fasteners', Timestamp('2016-12-31 00:00:00'))",
         "288",
         "4.6000000000000005",
         "960.134",
         "294.0734",
         "84.706"
        ],
        [
         "('Office Supplies', 'Fasteners', Timestamp('2017-12-31 00:00:00'))",
         "249",
         "4.2",
         "857.594",
         "304.9489",
         "71.076"
        ],
        [
         "('Office Supplies', 'Labels', Timestamp('2014-12-31 00:00:00'))",
         "326",
         "5.0",
         "2841.394",
         "1286.0042",
         "135.786"
        ],
        [
         "('Office Supplies', 'Labels', Timestamp('2015-12-31 00:00:00'))",
         "263",
         "6.0",
         "2956.462",
         "1323.0286",
         "158.748"
        ],
        [
         "('Office Supplies', 'Labels', Timestamp('2016-12-31 00:00:00'))",
         "363",
         "6.800000000000001",
         "2827.24",
         "1192.6118999999999",
         "301.33"
        ],
        [
         "('Office Supplies', 'Labels', Timestamp('2017-12-31 00:00:00'))",
         "448",
         "7.2",
         "3861.216",
         "1744.6093",
         "215.82399999999998"
        ],
        [
         "('Office Supplies', 'Paper', Timestamp('2014-12-31 00:00:00'))",
         "1017",
         "22.400000000000002",
         "14834.956",
         "6371.0214",
         "1308.364"
        ],
        [
         "('Office Supplies', 'Paper', Timestamp('2015-12-31 00:00:00'))",
         "1087",
         "17.400000000000002",
         "15287.637999999999",
         "6570.17",
         "1272.402"
        ],
        [
         "('Office Supplies', 'Paper', Timestamp('2016-12-31 00:00:00'))",
         "1372",
         "26.400000000000002",
         "20661.894",
         "9071.5345",
         "1467.216"
        ],
        [
         "('Office Supplies', 'Paper', Timestamp('2017-12-31 00:00:00'))",
         "1702",
         "36.4",
         "27694.718",
         "12040.8434",
         "2282.352"
        ],
        [
         "('Office Supplies', 'Storage', Timestamp('2014-12-31 00:00:00'))",
         "673",
         "13.0",
         "50329.042",
         "4166.2788",
         "3299.618"
        ],
        [
         "('Office Supplies', 'Storage', Timestamp('2015-12-31 00:00:00'))",
         "655",
         "13.600000000000001",
         "45048.248",
         "3505.4601000000002",
         "4089.402"
        ],
        [
         "('Office Supplies', 'Storage', Timestamp('2016-12-31 00:00:00'))",
         "808",
         "14.8",
         "58788.7",
         "6204.2868",
         "4078.08"
        ],
        [
         "('Office Supplies', 'Storage', Timestamp('2017-12-31 00:00:00'))",
         "1022",
         "21.8",
         "69677.618",
         "7402.8007",
         "5030.362"
        ],
        [
         "('Office Supplies', 'Supplies', Timestamp('2014-12-31 00:00:00'))",
         "130",
         "2.8000000000000003",
         "14394.07",
         "490.05559999999997",
         "122.17"
        ],
        [
         "('Office Supplies', 'Supplies', Timestamp('2015-12-31 00:00:00'))",
         "109",
         "3.2",
         "1952.482",
         "-24.878399999999996",
         "279.318"
        ]
       ],
       "shape": {
        "columns": 5,
        "rows": 68
       }
      },
      "text/html": [
       "<div>\n",
       "<style scoped>\n",
       "    .dataframe tbody tr th:only-of-type {\n",
       "        vertical-align: middle;\n",
       "    }\n",
       "\n",
       "    .dataframe tbody tr th {\n",
       "        vertical-align: top;\n",
       "    }\n",
       "\n",
       "    .dataframe thead th {\n",
       "        text-align: right;\n",
       "    }\n",
       "</style>\n",
       "<table border=\"1\" class=\"dataframe\">\n",
       "  <thead>\n",
       "    <tr style=\"text-align: right;\">\n",
       "      <th></th>\n",
       "      <th></th>\n",
       "      <th></th>\n",
       "      <th>Quantity</th>\n",
       "      <th>Discount</th>\n",
       "      <th>Sales</th>\n",
       "      <th>Profit</th>\n",
       "      <th>DiscountAmount</th>\n",
       "    </tr>\n",
       "    <tr>\n",
       "      <th>Category</th>\n",
       "      <th>SubCategory</th>\n",
       "      <th>OrderDate</th>\n",
       "      <th></th>\n",
       "      <th></th>\n",
       "      <th></th>\n",
       "      <th></th>\n",
       "      <th></th>\n",
       "    </tr>\n",
       "  </thead>\n",
       "  <tbody>\n",
       "    <tr>\n",
       "      <th rowspan=\"5\" valign=\"top\">Furniture</th>\n",
       "      <th rowspan=\"4\" valign=\"top\">Bookcases</th>\n",
       "      <th>2014-12-31</th>\n",
       "      <td>153</td>\n",
       "      <td>7.61</td>\n",
       "      <td>20036.6776</td>\n",
       "      <td>-346.1707</td>\n",
       "      <td>5211.8024</td>\n",
       "    </tr>\n",
       "    <tr>\n",
       "      <th>2015-12-31</th>\n",
       "      <td>242</td>\n",
       "      <td>13.94</td>\n",
       "      <td>38543.5725</td>\n",
       "      <td>-2755.2302</td>\n",
       "      <td>13623.5675</td>\n",
       "    </tr>\n",
       "    <tr>\n",
       "      <th>2016-12-31</th>\n",
       "      <td>197</td>\n",
       "      <td>10.27</td>\n",
       "      <td>26275.4665</td>\n",
       "      <td>212.4710</td>\n",
       "      <td>6542.0335</td>\n",
       "    </tr>\n",
       "    <tr>\n",
       "      <th>2017-12-31</th>\n",
       "      <td>276</td>\n",
       "      <td>16.32</td>\n",
       "      <td>30024.2797</td>\n",
       "      <td>-583.6261</td>\n",
       "      <td>7899.1503</td>\n",
       "    </tr>\n",
       "    <tr>\n",
       "      <th>Chairs</th>\n",
       "      <th>2014-12-31</th>\n",
       "      <td>540</td>\n",
       "      <td>22.20</td>\n",
       "      <td>77241.5760</td>\n",
       "      <td>6955.0470</td>\n",
       "      <td>15596.3840</td>\n",
       "    </tr>\n",
       "    <tr>\n",
       "      <th>...</th>\n",
       "      <th>...</th>\n",
       "      <th>...</th>\n",
       "      <td>...</td>\n",
       "      <td>...</td>\n",
       "      <td>...</td>\n",
       "      <td>...</td>\n",
       "      <td>...</td>\n",
       "    </tr>\n",
       "    <tr>\n",
       "      <th rowspan=\"5\" valign=\"top\">Technology</th>\n",
       "      <th>Machines</th>\n",
       "      <th>2017-12-31</th>\n",
       "      <td>121</td>\n",
       "      <td>9.90</td>\n",
       "      <td>43544.6750</td>\n",
       "      <td>-2869.2156</td>\n",
       "      <td>24338.8250</td>\n",
       "    </tr>\n",
       "    <tr>\n",
       "      <th rowspan=\"4\" valign=\"top\">Phones</th>\n",
       "      <th>2014-12-31</th>\n",
       "      <td>684</td>\n",
       "      <td>26.20</td>\n",
       "      <td>77390.8060</td>\n",
       "      <td>11808.0053</td>\n",
       "      <td>13860.0540</td>\n",
       "    </tr>\n",
       "    <tr>\n",
       "      <th>2015-12-31</th>\n",
       "      <td>697</td>\n",
       "      <td>28.00</td>\n",
       "      <td>68313.7020</td>\n",
       "      <td>10398.8074</td>\n",
       "      <td>12550.4780</td>\n",
       "    </tr>\n",
       "    <tr>\n",
       "      <th>2016-12-31</th>\n",
       "      <td>818</td>\n",
       "      <td>35.00</td>\n",
       "      <td>78962.0300</td>\n",
       "      <td>9459.5929</td>\n",
       "      <td>17066.2000</td>\n",
       "    </tr>\n",
       "    <tr>\n",
       "      <th>2017-12-31</th>\n",
       "      <td>1090</td>\n",
       "      <td>48.20</td>\n",
       "      <td>105340.5160</td>\n",
       "      <td>12849.3250</td>\n",
       "      <td>22362.3340</td>\n",
       "    </tr>\n",
       "  </tbody>\n",
       "</table>\n",
       "<p>68 rows × 5 columns</p>\n",
       "</div>"
      ],
      "text/plain": [
       "                                   Quantity  Discount        Sales  \\\n",
       "Category   SubCategory OrderDate                                     \n",
       "Furniture  Bookcases   2014-12-31       153      7.61   20036.6776   \n",
       "                       2015-12-31       242     13.94   38543.5725   \n",
       "                       2016-12-31       197     10.27   26275.4665   \n",
       "                       2017-12-31       276     16.32   30024.2797   \n",
       "           Chairs      2014-12-31       540     22.20   77241.5760   \n",
       "...                                     ...       ...          ...   \n",
       "Technology Machines    2017-12-31       121      9.90   43544.6750   \n",
       "           Phones      2014-12-31       684     26.20   77390.8060   \n",
       "                       2015-12-31       697     28.00   68313.7020   \n",
       "                       2016-12-31       818     35.00   78962.0300   \n",
       "                       2017-12-31      1090     48.20  105340.5160   \n",
       "\n",
       "                                       Profit  DiscountAmount  \n",
       "Category   SubCategory OrderDate                               \n",
       "Furniture  Bookcases   2014-12-31   -346.1707       5211.8024  \n",
       "                       2015-12-31  -2755.2302      13623.5675  \n",
       "                       2016-12-31    212.4710       6542.0335  \n",
       "                       2017-12-31   -583.6261       7899.1503  \n",
       "           Chairs      2014-12-31   6955.0470      15596.3840  \n",
       "...                                       ...             ...  \n",
       "Technology Machines    2017-12-31  -2869.2156      24338.8250  \n",
       "           Phones      2014-12-31  11808.0053      13860.0540  \n",
       "                       2015-12-31  10398.8074      12550.4780  \n",
       "                       2016-12-31   9459.5929      17066.2000  \n",
       "                       2017-12-31  12849.3250      22362.3340  \n",
       "\n",
       "[68 rows x 5 columns]"
      ]
     },
     "execution_count": 28,
     "metadata": {},
     "output_type": "execute_result"
    }
   ],
   "source": [
    "OrderDateGrouper = pd.Grouper(key='OrderDate', freq='YE')\n",
    "dashboard_data[['Category', 'SubCategory', 'OrderDate', 'Quantity', 'Discount', 'Sales', 'Profit', 'DiscountAmount']].groupby(by=['Category', 'SubCategory', OrderDateGrouper]).sum().sort_index()#.sort_values(by='Profit')"
   ]
  },
  {
   "cell_type": "code",
   "execution_count": 36,
   "id": "c09efe0a",
   "metadata": {},
   "outputs": [
    {
     "data": {
      "application/vnd.microsoft.datawrangler.viewer.v0+json": {
       "columns": [
        {
         "name": "index",
         "rawType": "int64",
         "type": "integer"
        },
        {
         "name": "Category",
         "rawType": "object",
         "type": "string"
        },
        {
         "name": "SubCategory",
         "rawType": "object",
         "type": "string"
        },
        {
         "name": "ProductName",
         "rawType": "object",
         "type": "string"
        }
       ],
       "ref": "f477979c-f609-4b33-97a8-10d8015a0c39",
       "rows": [
        [
         "9698",
         "Furniture",
         "Bookcases",
         "Atlantic Metals Mobile 2-Shelf Bookcases, Custom Colors"
        ],
        [
         "9591",
         "Furniture",
         "Bookcases",
         "Atlantic Metals Mobile 3-Shelf Bookcases, Custom Colors"
        ],
        [
         "9585",
         "Furniture",
         "Bookcases",
         "Atlantic Metals Mobile 4-Shelf Bookcases, Custom Colors"
        ],
        [
         "9673",
         "Furniture",
         "Bookcases",
         "Atlantic Metals Mobile 5-Shelf Bookcases, Custom Colors"
        ],
        [
         "9531",
         "Furniture",
         "Bookcases",
         "Bestar Classic Bookcase"
        ],
        [
         "9543",
         "Furniture",
         "Bookcases",
         "Bush Andora Bookcase, Maple/Graphite Gray Finish"
        ],
        [
         "9726",
         "Furniture",
         "Bookcases",
         "Bush Birmingham Collection Bookcase, Dark Cherry"
        ],
        [
         "9683",
         "Furniture",
         "Bookcases",
         "Bush Cubix Collection Bookcases, Fully Assembled"
        ],
        [
         "9517",
         "Furniture",
         "Bookcases",
         "Bush Heritage Pine Collection 5-Shelf Bookcase, Albany Pine Finish, *Special Order"
        ],
        [
         "9686",
         "Furniture",
         "Bookcases",
         "Bush Mission Pointe Library"
        ],
        [
         "9727",
         "Furniture",
         "Bookcases",
         "Bush Saratoga Collection 5-Shelf Bookcase, Hanover Cherry, *Special Order"
        ],
        [
         "9706",
         "Furniture",
         "Bookcases",
         "Bush Somerset Collection Bookcase"
        ],
        [
         "9636",
         "Furniture",
         "Bookcases",
         "Bush Westfield Collection Bookcases, Dark Cherry Finish"
        ],
        [
         "9715",
         "Furniture",
         "Bookcases",
         "Bush Westfield Collection Bookcases, Dark Cherry Finish, Fully Assembled"
        ],
        [
         "9700",
         "Furniture",
         "Bookcases",
         "Bush Westfield Collection Bookcases, Fully Assembled"
        ],
        [
         "9643",
         "Furniture",
         "Bookcases",
         "Bush Westfield Collection Bookcases, Medium Cherry Finish"
        ],
        [
         "9559",
         "Furniture",
         "Bookcases",
         "DMI Eclipse Executive Suite Bookcases"
        ],
        [
         "9719",
         "Furniture",
         "Bookcases",
         "Global Adaptabilites Bookcase, Cherry/Storm Gray Finish"
        ],
        [
         "9610",
         "Furniture",
         "Bookcases",
         "Hon 4-Shelf Metal Bookcases"
        ],
        [
         "9614",
         "Furniture",
         "Bookcases",
         "Hon Metal Bookcases, Black"
        ],
        [
         "9570",
         "Furniture",
         "Bookcases",
         "Hon Metal Bookcases, Gray"
        ],
        [
         "9656",
         "Furniture",
         "Bookcases",
         "Hon Metal Bookcases, Putty"
        ],
        [
         "9666",
         "Furniture",
         "Bookcases",
         "O'Sullivan 2-Door Barrister Bookcase in Odessa Pine"
        ],
        [
         "9599",
         "Furniture",
         "Bookcases",
         "O'Sullivan 2-Shelf Heavy-Duty Bookcases"
        ],
        [
         "9625",
         "Furniture",
         "Bookcases",
         "O'Sullivan 3-Shelf Heavy-Duty Bookcases"
        ],
        [
         "9575",
         "Furniture",
         "Bookcases",
         "O'Sullivan 4-Shelf Bookcase in Odessa Pine"
        ],
        [
         "9630",
         "Furniture",
         "Bookcases",
         "O'Sullivan 5-Shelf Heavy-Duty Bookcases"
        ],
        [
         "9634",
         "Furniture",
         "Bookcases",
         "O'Sullivan Cherrywood Estates Traditional Barrister Bookcase"
        ],
        [
         "9710",
         "Furniture",
         "Bookcases",
         "O'Sullivan Cherrywood Estates Traditional Bookcase"
        ],
        [
         "9605",
         "Furniture",
         "Bookcases",
         "O'Sullivan Elevations Bookcase, Cherry Finish"
        ],
        [
         "9500",
         "Furniture",
         "Bookcases",
         "O'Sullivan Living Dimensions 2-Shelf Bookcases"
        ],
        [
         "9639",
         "Furniture",
         "Bookcases",
         "O'Sullivan Living Dimensions 3-Shelf Bookcases"
        ],
        [
         "9525",
         "Furniture",
         "Bookcases",
         "O'Sullivan Living Dimensions 5-Shelf Bookcases"
        ],
        [
         "9652",
         "Furniture",
         "Bookcases",
         "O'Sullivan Manor Hill 2-Door Library in Brianna Oak"
        ],
        [
         "9721",
         "Furniture",
         "Bookcases",
         "O'Sullivan Plantations 2-Door Library in Landvery Oak"
        ],
        [
         "9661",
         "Furniture",
         "Bookcases",
         "Riverside Palais Royal Lawyers Bookcase, Royale Cherry Finish"
        ],
        [
         "9513",
         "Furniture",
         "Bookcases",
         "Rush Hierlooms Collection 1\" Thick Stackable Bookcases"
        ],
        [
         "9693",
         "Furniture",
         "Bookcases",
         "Rush Hierlooms Collection Rich Wood Bookcases"
        ],
        [
         "9619",
         "Furniture",
         "Bookcases",
         "Safco Value Mate Series Steel Bookcases, Baked Enamel Finish on Steel, Gray"
        ],
        [
         "9716",
         "Furniture",
         "Bookcases",
         "Safco Value Mate Steel Bookcase, Baked Enamel Finish on Steel, Black"
        ],
        [
         "9712",
         "Furniture",
         "Bookcases",
         "Sauder Barrister Bookcases"
        ],
        [
         "9510",
         "Furniture",
         "Bookcases",
         "Sauder Camden County Barrister Bookcase, Planked Cherry Finish"
        ],
        [
         "9552",
         "Furniture",
         "Bookcases",
         "Sauder Camden County Collection Libraries, Planked Cherry Finish"
        ],
        [
         "9681",
         "Furniture",
         "Bookcases",
         "Sauder Camden County Collection Library"
        ],
        [
         "9582",
         "Furniture",
         "Bookcases",
         "Sauder Cornerstone Collection Library"
        ],
        [
         "9539",
         "Furniture",
         "Bookcases",
         "Sauder Facets Collection Library, Sky Alder Finish"
        ],
        [
         "9695",
         "Furniture",
         "Bookcases",
         "Sauder Forest Hills Library with Doors, Woodland Oak Finish"
        ],
        [
         "9689",
         "Furniture",
         "Bookcases",
         "Sauder Forest Hills Library, Woodland Oak Finish"
        ],
        [
         "9565",
         "Furniture",
         "Bookcases",
         "Sauder Inglewood Library Bookcases"
        ],
        [
         "9572",
         "Furniture",
         "Bookcases",
         "Sauder Mission Library with Doors, Fruitwood Finish"
        ]
       ],
       "shape": {
        "columns": 3,
        "rows": 1850
       }
      },
      "text/html": [
       "<div>\n",
       "<style scoped>\n",
       "    .dataframe tbody tr th:only-of-type {\n",
       "        vertical-align: middle;\n",
       "    }\n",
       "\n",
       "    .dataframe tbody tr th {\n",
       "        vertical-align: top;\n",
       "    }\n",
       "\n",
       "    .dataframe thead th {\n",
       "        text-align: right;\n",
       "    }\n",
       "</style>\n",
       "<table border=\"1\" class=\"dataframe\">\n",
       "  <thead>\n",
       "    <tr style=\"text-align: right;\">\n",
       "      <th></th>\n",
       "      <th>Category</th>\n",
       "      <th>SubCategory</th>\n",
       "      <th>ProductName</th>\n",
       "    </tr>\n",
       "  </thead>\n",
       "  <tbody>\n",
       "    <tr>\n",
       "      <th>9698</th>\n",
       "      <td>Furniture</td>\n",
       "      <td>Bookcases</td>\n",
       "      <td>Atlantic Metals Mobile 2-Shelf Bookcases, Cust...</td>\n",
       "    </tr>\n",
       "    <tr>\n",
       "      <th>9591</th>\n",
       "      <td>Furniture</td>\n",
       "      <td>Bookcases</td>\n",
       "      <td>Atlantic Metals Mobile 3-Shelf Bookcases, Cust...</td>\n",
       "    </tr>\n",
       "    <tr>\n",
       "      <th>9585</th>\n",
       "      <td>Furniture</td>\n",
       "      <td>Bookcases</td>\n",
       "      <td>Atlantic Metals Mobile 4-Shelf Bookcases, Cust...</td>\n",
       "    </tr>\n",
       "    <tr>\n",
       "      <th>9673</th>\n",
       "      <td>Furniture</td>\n",
       "      <td>Bookcases</td>\n",
       "      <td>Atlantic Metals Mobile 5-Shelf Bookcases, Cust...</td>\n",
       "    </tr>\n",
       "    <tr>\n",
       "      <th>9531</th>\n",
       "      <td>Furniture</td>\n",
       "      <td>Bookcases</td>\n",
       "      <td>Bestar Classic Bookcase</td>\n",
       "    </tr>\n",
       "    <tr>\n",
       "      <th>...</th>\n",
       "      <td>...</td>\n",
       "      <td>...</td>\n",
       "      <td>...</td>\n",
       "    </tr>\n",
       "    <tr>\n",
       "      <th>768</th>\n",
       "      <td>Technology</td>\n",
       "      <td>Phones</td>\n",
       "      <td>iKross Bluetooth Portable Keyboard + Cell Phon...</td>\n",
       "    </tr>\n",
       "    <tr>\n",
       "      <th>361</th>\n",
       "      <td>Technology</td>\n",
       "      <td>Phones</td>\n",
       "      <td>iOttie HLCRIO102 Car Mount</td>\n",
       "    </tr>\n",
       "    <tr>\n",
       "      <th>863</th>\n",
       "      <td>Technology</td>\n",
       "      <td>Phones</td>\n",
       "      <td>iOttie XL Car Mount</td>\n",
       "    </tr>\n",
       "    <tr>\n",
       "      <th>226</th>\n",
       "      <td>Technology</td>\n",
       "      <td>Phones</td>\n",
       "      <td>invisibleSHIELD by ZAGG Smudge-Free Screen Pro...</td>\n",
       "    </tr>\n",
       "    <tr>\n",
       "      <th>116</th>\n",
       "      <td>Technology</td>\n",
       "      <td>Phones</td>\n",
       "      <td>netTALK DUO VoIP Telephone Service</td>\n",
       "    </tr>\n",
       "  </tbody>\n",
       "</table>\n",
       "<p>1850 rows × 3 columns</p>\n",
       "</div>"
      ],
      "text/plain": [
       "        Category SubCategory  \\\n",
       "9698   Furniture   Bookcases   \n",
       "9591   Furniture   Bookcases   \n",
       "9585   Furniture   Bookcases   \n",
       "9673   Furniture   Bookcases   \n",
       "9531   Furniture   Bookcases   \n",
       "...          ...         ...   \n",
       "768   Technology      Phones   \n",
       "361   Technology      Phones   \n",
       "863   Technology      Phones   \n",
       "226   Technology      Phones   \n",
       "116   Technology      Phones   \n",
       "\n",
       "                                            ProductName  \n",
       "9698  Atlantic Metals Mobile 2-Shelf Bookcases, Cust...  \n",
       "9591  Atlantic Metals Mobile 3-Shelf Bookcases, Cust...  \n",
       "9585  Atlantic Metals Mobile 4-Shelf Bookcases, Cust...  \n",
       "9673  Atlantic Metals Mobile 5-Shelf Bookcases, Cust...  \n",
       "9531                            Bestar Classic Bookcase  \n",
       "...                                                 ...  \n",
       "768   iKross Bluetooth Portable Keyboard + Cell Phon...  \n",
       "361                          iOttie HLCRIO102 Car Mount  \n",
       "863                                 iOttie XL Car Mount  \n",
       "226   invisibleSHIELD by ZAGG Smudge-Free Screen Pro...  \n",
       "116                  netTALK DUO VoIP Telephone Service  \n",
       "\n",
       "[1850 rows x 3 columns]"
      ]
     },
     "execution_count": 36,
     "metadata": {},
     "output_type": "execute_result"
    }
   ],
   "source": [
    "dashboard_data[['Category', 'SubCategory', 'ProductName']].drop_duplicates().sort_values(by=['Category', 'SubCategory', 'ProductName'])"
   ]
  },
  {
   "cell_type": "code",
   "execution_count": 41,
   "id": "258844ba",
   "metadata": {},
   "outputs": [
    {
     "data": {
      "text/plain": [
       "5009"
      ]
     },
     "execution_count": 41,
     "metadata": {},
     "output_type": "execute_result"
    }
   ],
   "source": [
    "dashboard_data.OrderReference.nunique()"
   ]
  },
  {
   "cell_type": "code",
   "execution_count": null,
   "id": "51edf944",
   "metadata": {},
   "outputs": [],
   "source": []
  }
 ],
 "metadata": {
  "kernelspec": {
   "display_name": "vs_group_env",
   "language": "python",
   "name": "python3"
  },
  "language_info": {
   "codemirror_mode": {
    "name": "ipython",
    "version": 3
   },
   "file_extension": ".py",
   "mimetype": "text/x-python",
   "name": "python",
   "nbconvert_exporter": "python",
   "pygments_lexer": "ipython3",
   "version": "3.13.5"
  }
 },
 "nbformat": 4,
 "nbformat_minor": 5
}
