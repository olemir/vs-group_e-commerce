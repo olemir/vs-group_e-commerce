{
 "cells": [
  {
   "cell_type": "markdown",
   "id": "e7979f98",
   "metadata": {},
   "source": [
    "# Deliver data for Analytics System \n",
    "- Tableau Dashboard\n",
    "- KPIs"
   ]
  },
  {
   "cell_type": "code",
   "execution_count": 11,
   "id": "cf8f4584",
   "metadata": {},
   "outputs": [],
   "source": [
    "import sqlite3\n",
    "import sys\n",
    "from pathlib import Path\n",
    "\n",
    "import pandas as pd\n",
    "import yaml"
   ]
  },
  {
   "cell_type": "code",
   "execution_count": 12,
   "id": "d9dbb418",
   "metadata": {},
   "outputs": [],
   "source": [
    "with open('../config.yaml') as file:\n",
    "    config = yaml.safe_load(file)"
   ]
  },
  {
   "cell_type": "markdown",
   "id": "43901bbf",
   "metadata": {},
   "source": [
    "# Base Data"
   ]
  },
  {
   "cell_type": "code",
   "execution_count": 13,
   "id": "aa0da6e4",
   "metadata": {},
   "outputs": [
    {
     "name": "stdout",
     "output_type": "stream",
     "text": [
      "3.13.5 | packaged by conda-forge | (main, Jun 16 2025, 08:20:19) [MSC v.1943 64 bit (AMD64)]\n",
      "True\n"
     ]
    }
   ],
   "source": [
    "# check dem system: 64 bit python? odb driver must be compatible with the python version\n",
    "print(sys.version)\n",
    "print(sys.maxsize > 2**32) # True for 64-bit, False for 32-bit"
   ]
  },
  {
   "cell_type": "code",
   "execution_count": 14,
   "id": "77a5ebfd",
   "metadata": {},
   "outputs": [],
   "source": [
    "# access db for tableau\n",
    "# import pyodbc\n",
    "\n",
    "# with pyodbc.connect(config['processed_data']['database_access']) as conn:\n",
    "#     init_db(conn)"
   ]
  },
  {
   "cell_type": "code",
   "execution_count": 15,
   "id": "76e9e080",
   "metadata": {},
   "outputs": [
    {
     "data": {
      "application/vnd.microsoft.datawrangler.viewer.v0+json": {
       "columns": [
        {
         "name": "index",
         "rawType": "int64",
         "type": "integer"
        },
        {
         "name": "OrderDate",
         "rawType": "object",
         "type": "string"
        },
        {
         "name": "ProductID",
         "rawType": "object",
         "type": "string"
        },
        {
         "name": "CustomerID",
         "rawType": "object",
         "type": "string"
        },
        {
         "name": "ShipmentID",
         "rawType": "int64",
         "type": "integer"
        },
        {
         "name": "OrderReference",
         "rawType": "object",
         "type": "string"
        },
        {
         "name": "Quantity",
         "rawType": "int64",
         "type": "integer"
        },
        {
         "name": "Discount",
         "rawType": "float64",
         "type": "float"
        },
        {
         "name": "Sales",
         "rawType": "float64",
         "type": "float"
        },
        {
         "name": "Profit",
         "rawType": "float64",
         "type": "float"
        },
        {
         "name": "CustomerName",
         "rawType": "object",
         "type": "string"
        },
        {
         "name": "Segment",
         "rawType": "object",
         "type": "string"
        },
        {
         "name": "ProductName",
         "rawType": "object",
         "type": "string"
        },
        {
         "name": "Category",
         "rawType": "object",
         "type": "string"
        },
        {
         "name": "SubCategory",
         "rawType": "object",
         "type": "string"
        },
        {
         "name": "ShipDate",
         "rawType": "object",
         "type": "string"
        },
        {
         "name": "ShipMode",
         "rawType": "object",
         "type": "string"
        },
        {
         "name": "PostalCode",
         "rawType": "int64",
         "type": "integer"
        },
        {
         "name": "City",
         "rawType": "object",
         "type": "string"
        },
        {
         "name": "Country",
         "rawType": "object",
         "type": "string"
        },
        {
         "name": "Region",
         "rawType": "object",
         "type": "string"
        },
        {
         "name": "State",
         "rawType": "object",
         "type": "string"
        }
       ],
       "ref": "e8051ef4-6e23-482a-a5fb-06a35b6c9585",
       "rows": [
        [
         "0",
         "2014-09-07 00:00:00",
         "TEC-PH-10000000",
         "DK-13375",
         "0",
         "CA-2014-100006",
         "3",
         "0.0",
         "377.97",
         "109.6113",
         "Dennis Kane",
         "Consumer",
         "AT&T EL51110 DECT",
         "Technology",
         "Phones",
         "2014-09-13 00:00:00",
         "Standard Class",
         "10024",
         "New York City",
         "United States",
         "East",
         "New York"
        ],
        [
         "1",
         "2014-10-19 00:00:00",
         "TEC-PH-10000001",
         "EH-14125",
         "10",
         "CA-2014-100867",
         "6",
         "0.2",
         "321.552",
         "20.097",
         "Eugene Hildebrand",
         "Home Office",
         "RCA Visys Integrated PBX 8-Line Router",
         "Technology",
         "Phones",
         "2014-10-24 00:00:00",
         "Standard Class",
         "90712",
         "Lakewood",
         "United States",
         "West",
         "California"
        ],
        [
         "2",
         "2014-11-21 00:00:00",
         "TEC-PH-10000001",
         "JK-15325",
         "4328",
         "US-2014-168501",
         "5",
         "0.2",
         "267.96",
         "16.7475",
         "Jason Klamczynski",
         "Corporate",
         "RCA Visys Integrated PBX 8-Line Router",
         "Technology",
         "Phones",
         "2014-11-27 00:00:00",
         "Standard Class",
         "75220",
         "Dallas",
         "United States",
         "Central",
         "Texas"
        ],
        [
         "3",
         "2015-06-16 00:00:00",
         "TEC-PH-10000001",
         "LC-16885",
         "4459",
         "US-2015-163825",
         "2",
         "0.0",
         "133.98",
         "33.495",
         "Lena Creighton",
         "Consumer",
         "RCA Visys Integrated PBX 8-Line Router",
         "Technology",
         "Phones",
         "2015-06-19 00:00:00",
         "First Class",
         "10009",
         "New York City",
         "United States",
         "East",
         "New York"
        ],
        [
         "4",
         "2017-01-20 00:00:00",
         "TEC-PH-10000001",
         "TH-21100",
         "4011",
         "CA-2017-161809",
         "3",
         "0.2",
         "160.776",
         "10.0485",
         "Thea Hendricks",
         "Consumer",
         "RCA Visys Integrated PBX 8-Line Router",
         "Technology",
         "Phones",
         "2017-01-26 00:00:00",
         "Standard Class",
         "90045",
         "Los Angeles",
         "United States",
         "West",
         "California"
        ]
       ],
       "shape": {
        "columns": 21,
        "rows": 5
       }
      },
      "text/html": [
       "<div>\n",
       "<style scoped>\n",
       "    .dataframe tbody tr th:only-of-type {\n",
       "        vertical-align: middle;\n",
       "    }\n",
       "\n",
       "    .dataframe tbody tr th {\n",
       "        vertical-align: top;\n",
       "    }\n",
       "\n",
       "    .dataframe thead th {\n",
       "        text-align: right;\n",
       "    }\n",
       "</style>\n",
       "<table border=\"1\" class=\"dataframe\">\n",
       "  <thead>\n",
       "    <tr style=\"text-align: right;\">\n",
       "      <th></th>\n",
       "      <th>OrderDate</th>\n",
       "      <th>ProductID</th>\n",
       "      <th>CustomerID</th>\n",
       "      <th>ShipmentID</th>\n",
       "      <th>OrderReference</th>\n",
       "      <th>Quantity</th>\n",
       "      <th>Discount</th>\n",
       "      <th>Sales</th>\n",
       "      <th>Profit</th>\n",
       "      <th>CustomerName</th>\n",
       "      <th>...</th>\n",
       "      <th>ProductName</th>\n",
       "      <th>Category</th>\n",
       "      <th>SubCategory</th>\n",
       "      <th>ShipDate</th>\n",
       "      <th>ShipMode</th>\n",
       "      <th>PostalCode</th>\n",
       "      <th>City</th>\n",
       "      <th>Country</th>\n",
       "      <th>Region</th>\n",
       "      <th>State</th>\n",
       "    </tr>\n",
       "  </thead>\n",
       "  <tbody>\n",
       "    <tr>\n",
       "      <th>0</th>\n",
       "      <td>2014-09-07 00:00:00</td>\n",
       "      <td>TEC-PH-10000000</td>\n",
       "      <td>DK-13375</td>\n",
       "      <td>0</td>\n",
       "      <td>CA-2014-100006</td>\n",
       "      <td>3</td>\n",
       "      <td>0.0</td>\n",
       "      <td>377.970</td>\n",
       "      <td>109.6113</td>\n",
       "      <td>Dennis Kane</td>\n",
       "      <td>...</td>\n",
       "      <td>AT&amp;T EL51110 DECT</td>\n",
       "      <td>Technology</td>\n",
       "      <td>Phones</td>\n",
       "      <td>2014-09-13 00:00:00</td>\n",
       "      <td>Standard Class</td>\n",
       "      <td>10024</td>\n",
       "      <td>New York City</td>\n",
       "      <td>United States</td>\n",
       "      <td>East</td>\n",
       "      <td>New York</td>\n",
       "    </tr>\n",
       "    <tr>\n",
       "      <th>1</th>\n",
       "      <td>2014-10-19 00:00:00</td>\n",
       "      <td>TEC-PH-10000001</td>\n",
       "      <td>EH-14125</td>\n",
       "      <td>10</td>\n",
       "      <td>CA-2014-100867</td>\n",
       "      <td>6</td>\n",
       "      <td>0.2</td>\n",
       "      <td>321.552</td>\n",
       "      <td>20.0970</td>\n",
       "      <td>Eugene Hildebrand</td>\n",
       "      <td>...</td>\n",
       "      <td>RCA Visys Integrated PBX 8-Line Router</td>\n",
       "      <td>Technology</td>\n",
       "      <td>Phones</td>\n",
       "      <td>2014-10-24 00:00:00</td>\n",
       "      <td>Standard Class</td>\n",
       "      <td>90712</td>\n",
       "      <td>Lakewood</td>\n",
       "      <td>United States</td>\n",
       "      <td>West</td>\n",
       "      <td>California</td>\n",
       "    </tr>\n",
       "    <tr>\n",
       "      <th>2</th>\n",
       "      <td>2014-11-21 00:00:00</td>\n",
       "      <td>TEC-PH-10000001</td>\n",
       "      <td>JK-15325</td>\n",
       "      <td>4328</td>\n",
       "      <td>US-2014-168501</td>\n",
       "      <td>5</td>\n",
       "      <td>0.2</td>\n",
       "      <td>267.960</td>\n",
       "      <td>16.7475</td>\n",
       "      <td>Jason Klamczynski</td>\n",
       "      <td>...</td>\n",
       "      <td>RCA Visys Integrated PBX 8-Line Router</td>\n",
       "      <td>Technology</td>\n",
       "      <td>Phones</td>\n",
       "      <td>2014-11-27 00:00:00</td>\n",
       "      <td>Standard Class</td>\n",
       "      <td>75220</td>\n",
       "      <td>Dallas</td>\n",
       "      <td>United States</td>\n",
       "      <td>Central</td>\n",
       "      <td>Texas</td>\n",
       "    </tr>\n",
       "    <tr>\n",
       "      <th>3</th>\n",
       "      <td>2015-06-16 00:00:00</td>\n",
       "      <td>TEC-PH-10000001</td>\n",
       "      <td>LC-16885</td>\n",
       "      <td>4459</td>\n",
       "      <td>US-2015-163825</td>\n",
       "      <td>2</td>\n",
       "      <td>0.0</td>\n",
       "      <td>133.980</td>\n",
       "      <td>33.4950</td>\n",
       "      <td>Lena Creighton</td>\n",
       "      <td>...</td>\n",
       "      <td>RCA Visys Integrated PBX 8-Line Router</td>\n",
       "      <td>Technology</td>\n",
       "      <td>Phones</td>\n",
       "      <td>2015-06-19 00:00:00</td>\n",
       "      <td>First Class</td>\n",
       "      <td>10009</td>\n",
       "      <td>New York City</td>\n",
       "      <td>United States</td>\n",
       "      <td>East</td>\n",
       "      <td>New York</td>\n",
       "    </tr>\n",
       "    <tr>\n",
       "      <th>4</th>\n",
       "      <td>2017-01-20 00:00:00</td>\n",
       "      <td>TEC-PH-10000001</td>\n",
       "      <td>TH-21100</td>\n",
       "      <td>4011</td>\n",
       "      <td>CA-2017-161809</td>\n",
       "      <td>3</td>\n",
       "      <td>0.2</td>\n",
       "      <td>160.776</td>\n",
       "      <td>10.0485</td>\n",
       "      <td>Thea Hendricks</td>\n",
       "      <td>...</td>\n",
       "      <td>RCA Visys Integrated PBX 8-Line Router</td>\n",
       "      <td>Technology</td>\n",
       "      <td>Phones</td>\n",
       "      <td>2017-01-26 00:00:00</td>\n",
       "      <td>Standard Class</td>\n",
       "      <td>90045</td>\n",
       "      <td>Los Angeles</td>\n",
       "      <td>United States</td>\n",
       "      <td>West</td>\n",
       "      <td>California</td>\n",
       "    </tr>\n",
       "  </tbody>\n",
       "</table>\n",
       "<p>5 rows × 21 columns</p>\n",
       "</div>"
      ],
      "text/plain": [
       "             OrderDate        ProductID CustomerID  ShipmentID  \\\n",
       "0  2014-09-07 00:00:00  TEC-PH-10000000   DK-13375           0   \n",
       "1  2014-10-19 00:00:00  TEC-PH-10000001   EH-14125          10   \n",
       "2  2014-11-21 00:00:00  TEC-PH-10000001   JK-15325        4328   \n",
       "3  2015-06-16 00:00:00  TEC-PH-10000001   LC-16885        4459   \n",
       "4  2017-01-20 00:00:00  TEC-PH-10000001   TH-21100        4011   \n",
       "\n",
       "   OrderReference  Quantity  Discount    Sales    Profit       CustomerName  \\\n",
       "0  CA-2014-100006         3       0.0  377.970  109.6113        Dennis Kane   \n",
       "1  CA-2014-100867         6       0.2  321.552   20.0970  Eugene Hildebrand   \n",
       "2  US-2014-168501         5       0.2  267.960   16.7475  Jason Klamczynski   \n",
       "3  US-2015-163825         2       0.0  133.980   33.4950     Lena Creighton   \n",
       "4  CA-2017-161809         3       0.2  160.776   10.0485     Thea Hendricks   \n",
       "\n",
       "   ...                             ProductName    Category SubCategory  \\\n",
       "0  ...                       AT&T EL51110 DECT  Technology      Phones   \n",
       "1  ...  RCA Visys Integrated PBX 8-Line Router  Technology      Phones   \n",
       "2  ...  RCA Visys Integrated PBX 8-Line Router  Technology      Phones   \n",
       "3  ...  RCA Visys Integrated PBX 8-Line Router  Technology      Phones   \n",
       "4  ...  RCA Visys Integrated PBX 8-Line Router  Technology      Phones   \n",
       "\n",
       "              ShipDate        ShipMode PostalCode           City  \\\n",
       "0  2014-09-13 00:00:00  Standard Class      10024  New York City   \n",
       "1  2014-10-24 00:00:00  Standard Class      90712       Lakewood   \n",
       "2  2014-11-27 00:00:00  Standard Class      75220         Dallas   \n",
       "3  2015-06-19 00:00:00     First Class      10009  New York City   \n",
       "4  2017-01-26 00:00:00  Standard Class      90045    Los Angeles   \n",
       "\n",
       "         Country   Region       State  \n",
       "0  United States     East    New York  \n",
       "1  United States     West  California  \n",
       "2  United States  Central       Texas  \n",
       "3  United States     East    New York  \n",
       "4  United States     West  California  \n",
       "\n",
       "[5 rows x 21 columns]"
      ]
     },
     "execution_count": 15,
     "metadata": {},
     "output_type": "execute_result"
    }
   ],
   "source": [
    "# export full data into csv file\n",
    "db_path = Path(config['processed_data']['database_sqlite'])\n",
    "query_path = Path(config['queries_path'])\n",
    "\n",
    "with sqlite3.connect(db_path) as conn:\n",
    "    with open(query_path.joinpath('select_data_for_tableau_dashboard.sql'), 'r') as f:\n",
    "        # cur = conn.executescript(f.read())\n",
    "        dashboard_data = pd.read_sql_query(f.read(), conn)\n",
    "        dashboard_data.to_parquet(config['processed_data']['sample_parquet'])\n",
    "        dashboard_data.to_csv(config['processed_data']['sample_csv'], index=False, encoding='utf-8')\n",
    "dashboard_data.head()"
   ]
  },
  {
   "cell_type": "markdown",
   "id": "be1299f2",
   "metadata": {},
   "source": [
    "# KPI Data "
   ]
  },
  {
   "cell_type": "code",
   "execution_count": null,
   "id": "769ab79f",
   "metadata": {},
   "outputs": [],
   "source": []
  }
 ],
 "metadata": {
  "kernelspec": {
   "display_name": "vs_group_env",
   "language": "python",
   "name": "python3"
  },
  "language_info": {
   "codemirror_mode": {
    "name": "ipython",
    "version": 3
   },
   "file_extension": ".py",
   "mimetype": "text/x-python",
   "name": "python",
   "nbconvert_exporter": "python",
   "pygments_lexer": "ipython3",
   "version": "3.13.5"
  }
 },
 "nbformat": 4,
 "nbformat_minor": 5
}
