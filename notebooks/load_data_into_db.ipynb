{
 "cells": [
  {
   "cell_type": "code",
   "execution_count": 248,
   "id": "ddcc8215",
   "metadata": {},
   "outputs": [],
   "source": [
    "import yaml\n",
    "import os\n",
    "import sys"
   ]
  },
  {
   "cell_type": "code",
   "execution_count": 249,
   "id": "437f71aa",
   "metadata": {},
   "outputs": [],
   "source": [
    "import pandas as pd"
   ]
  },
  {
   "cell_type": "code",
   "execution_count": 250,
   "id": "a92bdf09",
   "metadata": {},
   "outputs": [],
   "source": [
    "# add module path to the python path\n",
    "# module_path = os.path.abspath(os.path.join('../src'))\n",
    "# sys.path.insert(0, module_path)\n",
    "\n",
    "# add project root to python path\n",
    "notebook_dir = os.path.dirname(os.path.abspath('__file__'))\n",
    "project_root = os.path.join(notebook_dir, '..')\n",
    "sys.path.insert(0, project_root)\n",
    "\n",
    "from src import util"
   ]
  },
  {
   "cell_type": "code",
   "execution_count": 251,
   "id": "9a16b98b",
   "metadata": {},
   "outputs": [
    {
     "data": {
      "text/plain": [
       "{'raw_data': {'sample': '../data/raw/Sample-Superstore.csv'},\n",
       " 'processed_data': {'database': '../data/processed/vs_group_order-db.db'}}"
      ]
     },
     "execution_count": 251,
     "metadata": {},
     "output_type": "execute_result"
    }
   ],
   "source": [
    "with open('../config.yaml') as file:\n",
    "    config = yaml.safe_load(file)\n",
    "config"
   ]
  },
  {
   "cell_type": "markdown",
   "id": "065fa650",
   "metadata": {},
   "source": [
    "# Import"
   ]
  },
  {
   "cell_type": "code",
   "execution_count": 252,
   "id": "2928849d",
   "metadata": {},
   "outputs": [],
   "source": [
    "# detect file encoding\n",
    "# temporarily needed: does not have to run each time\n",
    "# encoding, confidence = util.detect_encoding(config['raw_data']['sample'])\n",
    "\n",
    "# print('encoding: ', encoding)\n",
    "# print('confidence: ', confidence)"
   ]
  },
  {
   "cell_type": "code",
   "execution_count": 253,
   "id": "50b699c7",
   "metadata": {},
   "outputs": [],
   "source": [
    "df = pd.read_csv(config['raw_data']['sample'], encoding='Windows-1252')"
   ]
  },
  {
   "cell_type": "code",
   "execution_count": 254,
   "id": "a5635ad3",
   "metadata": {},
   "outputs": [
    {
     "data": {
      "application/vnd.microsoft.datawrangler.viewer.v0+json": {
       "columns": [
        {
         "name": "index",
         "rawType": "int64",
         "type": "integer"
        },
        {
         "name": "Row ID",
         "rawType": "int64",
         "type": "integer"
        },
        {
         "name": "Order ID",
         "rawType": "object",
         "type": "string"
        },
        {
         "name": "Order Date",
         "rawType": "object",
         "type": "string"
        },
        {
         "name": "Ship Date",
         "rawType": "object",
         "type": "string"
        },
        {
         "name": "Ship Mode",
         "rawType": "object",
         "type": "string"
        },
        {
         "name": "Customer ID",
         "rawType": "object",
         "type": "string"
        },
        {
         "name": "Customer Name",
         "rawType": "object",
         "type": "string"
        },
        {
         "name": "Segment",
         "rawType": "object",
         "type": "string"
        },
        {
         "name": "Country",
         "rawType": "object",
         "type": "string"
        },
        {
         "name": "City",
         "rawType": "object",
         "type": "string"
        },
        {
         "name": "State",
         "rawType": "object",
         "type": "string"
        },
        {
         "name": "Postal Code",
         "rawType": "int64",
         "type": "integer"
        },
        {
         "name": "Region",
         "rawType": "object",
         "type": "string"
        },
        {
         "name": "Product ID",
         "rawType": "object",
         "type": "string"
        },
        {
         "name": "Category",
         "rawType": "object",
         "type": "string"
        },
        {
         "name": "Sub-Category",
         "rawType": "object",
         "type": "string"
        },
        {
         "name": "Product Name",
         "rawType": "object",
         "type": "string"
        },
        {
         "name": "Sales",
         "rawType": "float64",
         "type": "float"
        },
        {
         "name": "Quantity",
         "rawType": "int64",
         "type": "integer"
        },
        {
         "name": "Discount",
         "rawType": "float64",
         "type": "float"
        },
        {
         "name": "Profit",
         "rawType": "float64",
         "type": "float"
        }
       ],
       "ref": "d4317220-0883-469c-bd9a-0028978eb2cb",
       "rows": [
        [
         "0",
         "1",
         "CA-2016-152156",
         "11/8/2016",
         "11/11/2016",
         "Second Class",
         "CG-12520",
         "Claire Gute",
         "Consumer",
         "United States",
         "Henderson",
         "Kentucky",
         "42420",
         "South",
         "FUR-BO-10001798",
         "Furniture",
         "Bookcases",
         "Bush Somerset Collection Bookcase",
         "261.96",
         "2",
         "0.0",
         "41.9136"
        ],
        [
         "1",
         "2",
         "CA-2016-152156",
         "11/8/2016",
         "11/11/2016",
         "Second Class",
         "CG-12520",
         "Claire Gute",
         "Consumer",
         "United States",
         "Henderson",
         "Kentucky",
         "42420",
         "South",
         "FUR-CH-10000454",
         "Furniture",
         "Chairs",
         "Hon Deluxe Fabric Upholstered Stacking Chairs, Rounded Back",
         "731.94",
         "3",
         "0.0",
         "219.582"
        ],
        [
         "2",
         "3",
         "CA-2016-138688",
         "6/12/2016",
         "6/16/2016",
         "Second Class",
         "DV-13045",
         "Darrin Van Huff",
         "Corporate",
         "United States",
         "Los Angeles",
         "California",
         "90036",
         "West",
         "OFF-LA-10000240",
         "Office Supplies",
         "Labels",
         "Self-Adhesive Address Labels for Typewriters by Universal",
         "14.62",
         "2",
         "0.0",
         "6.8714"
        ],
        [
         "3",
         "4",
         "US-2015-108966",
         "10/11/2015",
         "10/18/2015",
         "Standard Class",
         "SO-20335",
         "Sean O'Donnell",
         "Consumer",
         "United States",
         "Fort Lauderdale",
         "Florida",
         "33311",
         "South",
         "FUR-TA-10000577",
         "Furniture",
         "Tables",
         "Bretford CR4500 Series Slim Rectangular Table",
         "957.5775",
         "5",
         "0.45",
         "-383.031"
        ],
        [
         "4",
         "5",
         "US-2015-108966",
         "10/11/2015",
         "10/18/2015",
         "Standard Class",
         "SO-20335",
         "Sean O'Donnell",
         "Consumer",
         "United States",
         "Fort Lauderdale",
         "Florida",
         "33311",
         "South",
         "OFF-ST-10000760",
         "Office Supplies",
         "Storage",
         "Eldon Fold 'N Roll Cart System",
         "22.368",
         "2",
         "0.2",
         "2.5164"
        ]
       ],
       "shape": {
        "columns": 21,
        "rows": 5
       }
      },
      "text/html": [
       "<div>\n",
       "<style scoped>\n",
       "    .dataframe tbody tr th:only-of-type {\n",
       "        vertical-align: middle;\n",
       "    }\n",
       "\n",
       "    .dataframe tbody tr th {\n",
       "        vertical-align: top;\n",
       "    }\n",
       "\n",
       "    .dataframe thead th {\n",
       "        text-align: right;\n",
       "    }\n",
       "</style>\n",
       "<table border=\"1\" class=\"dataframe\">\n",
       "  <thead>\n",
       "    <tr style=\"text-align: right;\">\n",
       "      <th></th>\n",
       "      <th>Row ID</th>\n",
       "      <th>Order ID</th>\n",
       "      <th>Order Date</th>\n",
       "      <th>Ship Date</th>\n",
       "      <th>Ship Mode</th>\n",
       "      <th>Customer ID</th>\n",
       "      <th>Customer Name</th>\n",
       "      <th>Segment</th>\n",
       "      <th>Country</th>\n",
       "      <th>City</th>\n",
       "      <th>...</th>\n",
       "      <th>Postal Code</th>\n",
       "      <th>Region</th>\n",
       "      <th>Product ID</th>\n",
       "      <th>Category</th>\n",
       "      <th>Sub-Category</th>\n",
       "      <th>Product Name</th>\n",
       "      <th>Sales</th>\n",
       "      <th>Quantity</th>\n",
       "      <th>Discount</th>\n",
       "      <th>Profit</th>\n",
       "    </tr>\n",
       "  </thead>\n",
       "  <tbody>\n",
       "    <tr>\n",
       "      <th>0</th>\n",
       "      <td>1</td>\n",
       "      <td>CA-2016-152156</td>\n",
       "      <td>11/8/2016</td>\n",
       "      <td>11/11/2016</td>\n",
       "      <td>Second Class</td>\n",
       "      <td>CG-12520</td>\n",
       "      <td>Claire Gute</td>\n",
       "      <td>Consumer</td>\n",
       "      <td>United States</td>\n",
       "      <td>Henderson</td>\n",
       "      <td>...</td>\n",
       "      <td>42420</td>\n",
       "      <td>South</td>\n",
       "      <td>FUR-BO-10001798</td>\n",
       "      <td>Furniture</td>\n",
       "      <td>Bookcases</td>\n",
       "      <td>Bush Somerset Collection Bookcase</td>\n",
       "      <td>261.9600</td>\n",
       "      <td>2</td>\n",
       "      <td>0.00</td>\n",
       "      <td>41.9136</td>\n",
       "    </tr>\n",
       "    <tr>\n",
       "      <th>1</th>\n",
       "      <td>2</td>\n",
       "      <td>CA-2016-152156</td>\n",
       "      <td>11/8/2016</td>\n",
       "      <td>11/11/2016</td>\n",
       "      <td>Second Class</td>\n",
       "      <td>CG-12520</td>\n",
       "      <td>Claire Gute</td>\n",
       "      <td>Consumer</td>\n",
       "      <td>United States</td>\n",
       "      <td>Henderson</td>\n",
       "      <td>...</td>\n",
       "      <td>42420</td>\n",
       "      <td>South</td>\n",
       "      <td>FUR-CH-10000454</td>\n",
       "      <td>Furniture</td>\n",
       "      <td>Chairs</td>\n",
       "      <td>Hon Deluxe Fabric Upholstered Stacking Chairs,...</td>\n",
       "      <td>731.9400</td>\n",
       "      <td>3</td>\n",
       "      <td>0.00</td>\n",
       "      <td>219.5820</td>\n",
       "    </tr>\n",
       "    <tr>\n",
       "      <th>2</th>\n",
       "      <td>3</td>\n",
       "      <td>CA-2016-138688</td>\n",
       "      <td>6/12/2016</td>\n",
       "      <td>6/16/2016</td>\n",
       "      <td>Second Class</td>\n",
       "      <td>DV-13045</td>\n",
       "      <td>Darrin Van Huff</td>\n",
       "      <td>Corporate</td>\n",
       "      <td>United States</td>\n",
       "      <td>Los Angeles</td>\n",
       "      <td>...</td>\n",
       "      <td>90036</td>\n",
       "      <td>West</td>\n",
       "      <td>OFF-LA-10000240</td>\n",
       "      <td>Office Supplies</td>\n",
       "      <td>Labels</td>\n",
       "      <td>Self-Adhesive Address Labels for Typewriters b...</td>\n",
       "      <td>14.6200</td>\n",
       "      <td>2</td>\n",
       "      <td>0.00</td>\n",
       "      <td>6.8714</td>\n",
       "    </tr>\n",
       "    <tr>\n",
       "      <th>3</th>\n",
       "      <td>4</td>\n",
       "      <td>US-2015-108966</td>\n",
       "      <td>10/11/2015</td>\n",
       "      <td>10/18/2015</td>\n",
       "      <td>Standard Class</td>\n",
       "      <td>SO-20335</td>\n",
       "      <td>Sean O'Donnell</td>\n",
       "      <td>Consumer</td>\n",
       "      <td>United States</td>\n",
       "      <td>Fort Lauderdale</td>\n",
       "      <td>...</td>\n",
       "      <td>33311</td>\n",
       "      <td>South</td>\n",
       "      <td>FUR-TA-10000577</td>\n",
       "      <td>Furniture</td>\n",
       "      <td>Tables</td>\n",
       "      <td>Bretford CR4500 Series Slim Rectangular Table</td>\n",
       "      <td>957.5775</td>\n",
       "      <td>5</td>\n",
       "      <td>0.45</td>\n",
       "      <td>-383.0310</td>\n",
       "    </tr>\n",
       "    <tr>\n",
       "      <th>4</th>\n",
       "      <td>5</td>\n",
       "      <td>US-2015-108966</td>\n",
       "      <td>10/11/2015</td>\n",
       "      <td>10/18/2015</td>\n",
       "      <td>Standard Class</td>\n",
       "      <td>SO-20335</td>\n",
       "      <td>Sean O'Donnell</td>\n",
       "      <td>Consumer</td>\n",
       "      <td>United States</td>\n",
       "      <td>Fort Lauderdale</td>\n",
       "      <td>...</td>\n",
       "      <td>33311</td>\n",
       "      <td>South</td>\n",
       "      <td>OFF-ST-10000760</td>\n",
       "      <td>Office Supplies</td>\n",
       "      <td>Storage</td>\n",
       "      <td>Eldon Fold 'N Roll Cart System</td>\n",
       "      <td>22.3680</td>\n",
       "      <td>2</td>\n",
       "      <td>0.20</td>\n",
       "      <td>2.5164</td>\n",
       "    </tr>\n",
       "  </tbody>\n",
       "</table>\n",
       "<p>5 rows × 21 columns</p>\n",
       "</div>"
      ],
      "text/plain": [
       "   Row ID        Order ID  Order Date   Ship Date       Ship Mode Customer ID  \\\n",
       "0       1  CA-2016-152156   11/8/2016  11/11/2016    Second Class    CG-12520   \n",
       "1       2  CA-2016-152156   11/8/2016  11/11/2016    Second Class    CG-12520   \n",
       "2       3  CA-2016-138688   6/12/2016   6/16/2016    Second Class    DV-13045   \n",
       "3       4  US-2015-108966  10/11/2015  10/18/2015  Standard Class    SO-20335   \n",
       "4       5  US-2015-108966  10/11/2015  10/18/2015  Standard Class    SO-20335   \n",
       "\n",
       "     Customer Name    Segment        Country             City  ...  \\\n",
       "0      Claire Gute   Consumer  United States        Henderson  ...   \n",
       "1      Claire Gute   Consumer  United States        Henderson  ...   \n",
       "2  Darrin Van Huff  Corporate  United States      Los Angeles  ...   \n",
       "3   Sean O'Donnell   Consumer  United States  Fort Lauderdale  ...   \n",
       "4   Sean O'Donnell   Consumer  United States  Fort Lauderdale  ...   \n",
       "\n",
       "  Postal Code  Region       Product ID         Category Sub-Category  \\\n",
       "0       42420   South  FUR-BO-10001798        Furniture    Bookcases   \n",
       "1       42420   South  FUR-CH-10000454        Furniture       Chairs   \n",
       "2       90036    West  OFF-LA-10000240  Office Supplies       Labels   \n",
       "3       33311   South  FUR-TA-10000577        Furniture       Tables   \n",
       "4       33311   South  OFF-ST-10000760  Office Supplies      Storage   \n",
       "\n",
       "                                        Product Name     Sales  Quantity  \\\n",
       "0                  Bush Somerset Collection Bookcase  261.9600         2   \n",
       "1  Hon Deluxe Fabric Upholstered Stacking Chairs,...  731.9400         3   \n",
       "2  Self-Adhesive Address Labels for Typewriters b...   14.6200         2   \n",
       "3      Bretford CR4500 Series Slim Rectangular Table  957.5775         5   \n",
       "4                     Eldon Fold 'N Roll Cart System   22.3680         2   \n",
       "\n",
       "   Discount    Profit  \n",
       "0      0.00   41.9136  \n",
       "1      0.00  219.5820  \n",
       "2      0.00    6.8714  \n",
       "3      0.45 -383.0310  \n",
       "4      0.20    2.5164  \n",
       "\n",
       "[5 rows x 21 columns]"
      ]
     },
     "execution_count": 254,
     "metadata": {},
     "output_type": "execute_result"
    }
   ],
   "source": [
    "df.head()"
   ]
  },
  {
   "cell_type": "markdown",
   "id": "7334512b",
   "metadata": {},
   "source": [
    "# Normalize"
   ]
  },
  {
   "cell_type": "code",
   "execution_count": 255,
   "id": "13015c6b",
   "metadata": {},
   "outputs": [],
   "source": [
    "df.columns = df.columns.str.replace(' ', '').str.replace('-', '')"
   ]
  },
  {
   "cell_type": "code",
   "execution_count": 256,
   "id": "104b1a1d",
   "metadata": {},
   "outputs": [],
   "source": [
    "df = df.drop(columns='RowID')"
   ]
  },
  {
   "cell_type": "code",
   "execution_count": 257,
   "id": "4597abec",
   "metadata": {},
   "outputs": [],
   "source": [
    "#df = df.drop_duplicates()"
   ]
  },
  {
   "cell_type": "code",
   "execution_count": 258,
   "id": "dbacf451",
   "metadata": {},
   "outputs": [
    {
     "name": "stdout",
     "output_type": "stream",
     "text": [
      "<class 'pandas.core.frame.DataFrame'>\n",
      "RangeIndex: 9994 entries, 0 to 9993\n",
      "Data columns (total 20 columns):\n",
      " #   Column        Non-Null Count  Dtype  \n",
      "---  ------        --------------  -----  \n",
      " 0   OrderID       9994 non-null   object \n",
      " 1   OrderDate     9994 non-null   object \n",
      " 2   ShipDate      9994 non-null   object \n",
      " 3   ShipMode      9994 non-null   object \n",
      " 4   CustomerID    9994 non-null   object \n",
      " 5   CustomerName  9994 non-null   object \n",
      " 6   Segment       9994 non-null   object \n",
      " 7   Country       9994 non-null   object \n",
      " 8   City          9994 non-null   object \n",
      " 9   State         9994 non-null   object \n",
      " 10  PostalCode    9994 non-null   int64  \n",
      " 11  Region        9994 non-null   object \n",
      " 12  ProductID     9994 non-null   object \n",
      " 13  Category      9994 non-null   object \n",
      " 14  SubCategory   9994 non-null   object \n",
      " 15  ProductName   9994 non-null   object \n",
      " 16  Sales         9994 non-null   float64\n",
      " 17  Quantity      9994 non-null   int64  \n",
      " 18  Discount      9994 non-null   float64\n",
      " 19  Profit        9994 non-null   float64\n",
      "dtypes: float64(3), int64(2), object(15)\n",
      "memory usage: 1.5+ MB\n"
     ]
    }
   ],
   "source": [
    "df.info()"
   ]
  },
  {
   "cell_type": "markdown",
   "id": "65bce6f4",
   "metadata": {},
   "source": [
    "# Set Data Types"
   ]
  },
  {
   "cell_type": "code",
   "execution_count": 259,
   "id": "856e1460",
   "metadata": {},
   "outputs": [],
   "source": [
    "df['OrderID']       = df['OrderID'].astype(pd.StringDtype())\n",
    "df['OrderDate']     = pd.to_datetime(df['OrderDate']).dt.floor('D')\n",
    "df['ShipDate']      = pd.to_datetime(df['ShipDate']).dt.floor('D')\n",
    "df['ShipMode']      = df['ShipMode'].astype('category')\n",
    "df['CustomerID']    = df['CustomerID'].astype(pd.StringDtype())\n",
    "df['CustomerName']  = df['CustomerName'].astype(pd.StringDtype())\n",
    "df['Segment']       = df['Segment'].astype('category')\n",
    "df['Country']       = df['Country'].astype('category')\n",
    "df['City']          = df['City'].astype('category')\n",
    "df['State']         = df['State'].astype('category')\n",
    "df['Region']        = df['Region'].astype('category')\n",
    "df['ProductID']     = df['ProductID'].astype(pd.StringDtype())\n",
    "df['Category']      = df['Category'].astype('category')\n",
    "df['SubCategory']   = df['SubCategory'].astype('category')\n",
    "df['ProductName']   = df['ProductName'].astype(pd.StringDtype())"
   ]
  },
  {
   "cell_type": "code",
   "execution_count": 260,
   "id": "5de55b13",
   "metadata": {},
   "outputs": [
    {
     "name": "stdout",
     "output_type": "stream",
     "text": [
      "<class 'pandas.core.frame.DataFrame'>\n",
      "RangeIndex: 9994 entries, 0 to 9993\n",
      "Data columns (total 20 columns):\n",
      " #   Column        Non-Null Count  Dtype         \n",
      "---  ------        --------------  -----         \n",
      " 0   OrderID       9994 non-null   string        \n",
      " 1   OrderDate     9994 non-null   datetime64[ns]\n",
      " 2   ShipDate      9994 non-null   datetime64[ns]\n",
      " 3   ShipMode      9994 non-null   category      \n",
      " 4   CustomerID    9994 non-null   string        \n",
      " 5   CustomerName  9994 non-null   string        \n",
      " 6   Segment       9994 non-null   category      \n",
      " 7   Country       9994 non-null   category      \n",
      " 8   City          9994 non-null   category      \n",
      " 9   State         9994 non-null   category      \n",
      " 10  PostalCode    9994 non-null   int64         \n",
      " 11  Region        9994 non-null   category      \n",
      " 12  ProductID     9994 non-null   string        \n",
      " 13  Category      9994 non-null   category      \n",
      " 14  SubCategory   9994 non-null   category      \n",
      " 15  ProductName   9994 non-null   string        \n",
      " 16  Sales         9994 non-null   float64       \n",
      " 17  Quantity      9994 non-null   int64         \n",
      " 18  Discount      9994 non-null   float64       \n",
      " 19  Profit        9994 non-null   float64       \n",
      "dtypes: category(8), datetime64[ns](2), float64(3), int64(2), string(5)\n",
      "memory usage: 1.0 MB\n"
     ]
    }
   ],
   "source": [
    "df.info()"
   ]
  },
  {
   "cell_type": "markdown",
   "id": "5410fcba",
   "metadata": {},
   "source": [
    "# Making sense of the data"
   ]
  },
  {
   "cell_type": "markdown",
   "id": "5f2c31c5",
   "metadata": {},
   "source": [
    "## Meaning of Order ID"
   ]
  },
  {
   "cell_type": "code",
   "execution_count": 261,
   "id": "248fd461",
   "metadata": {},
   "outputs": [
    {
     "data": {
      "application/vnd.microsoft.datawrangler.viewer.v0+json": {
       "columns": [
        {
         "name": "OrderID",
         "rawType": "string",
         "type": "string"
        },
        {
         "name": "count",
         "rawType": "Int64",
         "type": "integer"
        }
       ],
       "ref": "3e82e182-8dda-4e8a-8339-eb298b2fb3d9",
       "rows": [
        [
         "CA-2017-100111",
         "14"
        ],
        [
         "CA-2017-157987",
         "12"
        ],
        [
         "CA-2016-165330",
         "11"
        ],
        [
         "US-2016-108504",
         "11"
        ],
        [
         "CA-2015-131338",
         "10"
        ],
        [
         "CA-2016-105732",
         "10"
        ],
        [
         "US-2015-126977",
         "10"
        ],
        [
         "US-2015-163433",
         "9"
        ],
        [
         "CA-2017-140949",
         "9"
        ],
        [
         "CA-2015-158421",
         "9"
        ],
        [
         "CA-2015-132626",
         "9"
        ],
        [
         "CA-2015-104346",
         "9"
        ],
        [
         "CA-2015-164882",
         "9"
        ],
        [
         "CA-2017-117457",
         "9"
        ],
        [
         "CA-2016-145177",
         "9"
        ],
        [
         "CA-2014-106439",
         "9"
        ],
        [
         "US-2016-114013",
         "9"
        ],
        [
         "CA-2017-164756",
         "8"
        ],
        [
         "CA-2015-121720",
         "8"
        ],
        [
         "CA-2017-113278",
         "8"
        ],
        [
         "CA-2014-167927",
         "8"
        ],
        [
         "CA-2017-161956",
         "8"
        ],
        [
         "US-2016-110156",
         "8"
        ],
        [
         "CA-2017-156776",
         "8"
        ],
        [
         "US-2017-118087",
         "8"
        ],
        [
         "CA-2017-118017",
         "8"
        ],
        [
         "CA-2014-142769",
         "8"
        ],
        [
         "CA-2016-152730",
         "8"
        ],
        [
         "CA-2017-140872",
         "8"
        ],
        [
         "CA-2015-167010",
         "8"
        ],
        [
         "CA-2017-110905",
         "8"
        ],
        [
         "CA-2014-129364",
         "8"
        ],
        [
         "CA-2017-102925",
         "8"
        ],
        [
         "CA-2017-151750",
         "7"
        ],
        [
         "US-2017-162558",
         "7"
        ],
        [
         "US-2014-155502",
         "7"
        ],
        [
         "US-2017-112347",
         "7"
        ],
        [
         "US-2016-148901",
         "7"
        ],
        [
         "CA-2017-128363",
         "7"
        ],
        [
         "CA-2014-108189",
         "7"
        ],
        [
         "CA-2015-124800",
         "7"
        ],
        [
         "CA-2014-115812",
         "7"
        ],
        [
         "US-2017-109253",
         "7"
        ],
        [
         "CA-2017-104731",
         "7"
        ],
        [
         "CA-2016-145583",
         "7"
        ],
        [
         "CA-2014-167199",
         "7"
        ],
        [
         "CA-2016-145261",
         "7"
        ],
        [
         "CA-2017-121048",
         "7"
        ],
        [
         "US-2016-125402",
         "7"
        ],
        [
         "CA-2016-135776",
         "7"
        ]
       ],
       "shape": {
        "columns": 1,
        "rows": 5009
       }
      },
      "text/plain": [
       "OrderID\n",
       "CA-2017-100111    14\n",
       "CA-2017-157987    12\n",
       "CA-2016-165330    11\n",
       "US-2016-108504    11\n",
       "CA-2015-131338    10\n",
       "                  ..\n",
       "US-2015-131842     1\n",
       "CA-2016-144939     1\n",
       "CA-2015-157035     1\n",
       "CA-2016-168361     1\n",
       "CA-2017-119914     1\n",
       "Name: count, Length: 5009, dtype: Int64"
      ]
     },
     "execution_count": 261,
     "metadata": {},
     "output_type": "execute_result"
    }
   ],
   "source": [
    "df.OrderID.value_counts()"
   ]
  },
  {
   "cell_type": "code",
   "execution_count": 262,
   "id": "89d6efe9",
   "metadata": {},
   "outputs": [
    {
     "data": {
      "application/vnd.microsoft.datawrangler.viewer.v0+json": {
       "columns": [
        {
         "name": "index",
         "rawType": "int64",
         "type": "integer"
        },
        {
         "name": "OrderID",
         "rawType": "string",
         "type": "string"
        },
        {
         "name": "OrderDate",
         "rawType": "datetime64[ns]",
         "type": "datetime"
        },
        {
         "name": "ShipDate",
         "rawType": "datetime64[ns]",
         "type": "datetime"
        },
        {
         "name": "ShipMode",
         "rawType": "category",
         "type": "unknown"
        },
        {
         "name": "CustomerID",
         "rawType": "string",
         "type": "string"
        },
        {
         "name": "CustomerName",
         "rawType": "string",
         "type": "string"
        },
        {
         "name": "Segment",
         "rawType": "category",
         "type": "unknown"
        },
        {
         "name": "Country",
         "rawType": "category",
         "type": "unknown"
        },
        {
         "name": "City",
         "rawType": "category",
         "type": "unknown"
        },
        {
         "name": "State",
         "rawType": "category",
         "type": "unknown"
        },
        {
         "name": "PostalCode",
         "rawType": "int64",
         "type": "integer"
        },
        {
         "name": "Region",
         "rawType": "category",
         "type": "unknown"
        },
        {
         "name": "ProductID",
         "rawType": "string",
         "type": "string"
        },
        {
         "name": "Category",
         "rawType": "category",
         "type": "unknown"
        },
        {
         "name": "SubCategory",
         "rawType": "category",
         "type": "unknown"
        },
        {
         "name": "ProductName",
         "rawType": "string",
         "type": "string"
        },
        {
         "name": "Sales",
         "rawType": "float64",
         "type": "float"
        },
        {
         "name": "Quantity",
         "rawType": "int64",
         "type": "integer"
        },
        {
         "name": "Discount",
         "rawType": "float64",
         "type": "float"
        },
        {
         "name": "Profit",
         "rawType": "float64",
         "type": "float"
        }
       ],
       "ref": "07da0066-6939-4e34-bb4d-c517493f31a9",
       "rows": [
        [
         "6090",
         "CA-2017-100111",
         "2017-09-20 00:00:00",
         "2017-09-26 00:00:00",
         "Standard Class",
         "SV-20365",
         "Seth Vernon",
         "Consumer",
         "United States",
         "New York City",
         "New York",
         "10035",
         "East",
         "FUR-CH-10003846",
         "Furniture",
         "Chairs",
         "Hon Valutask Swivel Chairs",
         "272.646",
         "3",
         "0.1",
         "18.1764"
        ],
        [
         "6091",
         "CA-2017-100111",
         "2017-09-20 00:00:00",
         "2017-09-26 00:00:00",
         "Standard Class",
         "SV-20365",
         "Seth Vernon",
         "Consumer",
         "United States",
         "New York City",
         "New York",
         "10035",
         "East",
         "TEC-AC-10002647",
         "Technology",
         "Accessories",
         "Logitech Wireless Boombox Speaker - portable - wireless, wired",
         "212.8",
         "2",
         "0.0",
         "95.76"
        ],
        [
         "6092",
         "CA-2017-100111",
         "2017-09-20 00:00:00",
         "2017-09-26 00:00:00",
         "Standard Class",
         "SV-20365",
         "Seth Vernon",
         "Consumer",
         "United States",
         "New York City",
         "New York",
         "10035",
         "East",
         "OFF-PA-10000807",
         "Office Supplies",
         "Paper",
         "TOPS \"Important Message\" Pads, Canary, 4-1/4 x 5-1/2, 50 Sheets per Pad",
         "38.52",
         "9",
         "0.0",
         "18.1044"
        ],
        [
         "6093",
         "CA-2017-100111",
         "2017-09-20 00:00:00",
         "2017-09-26 00:00:00",
         "Standard Class",
         "SV-20365",
         "Seth Vernon",
         "Consumer",
         "United States",
         "New York City",
         "New York",
         "10035",
         "East",
         "TEC-AC-10001465",
         "Technology",
         "Accessories",
         "SanDisk Cruzer 64 GB USB Flash Drive",
         "72.64",
         "2",
         "0.0",
         "21.792"
        ],
        [
         "6094",
         "CA-2017-100111",
         "2017-09-20 00:00:00",
         "2017-09-26 00:00:00",
         "Standard Class",
         "SV-20365",
         "Seth Vernon",
         "Consumer",
         "United States",
         "New York City",
         "New York",
         "10035",
         "East",
         "OFF-ST-10000615",
         "Office Supplies",
         "Storage",
         "SimpliFile Personal File, Black Granite, 15w x 6-15/16d x 11-1/4h",
         "45.4",
         "4",
         "0.0",
         "12.712"
        ],
        [
         "6095",
         "CA-2017-100111",
         "2017-09-20 00:00:00",
         "2017-09-26 00:00:00",
         "Standard Class",
         "SV-20365",
         "Seth Vernon",
         "Consumer",
         "United States",
         "New York City",
         "New York",
         "10035",
         "East",
         "OFF-PA-10002713",
         "Office Supplies",
         "Paper",
         "Adams Phone Message Book, 200 Message Capacity, 8 1/16” x 11”",
         "13.76",
         "2",
         "0.0",
         "6.3296"
        ],
        [
         "6096",
         "CA-2017-100111",
         "2017-09-20 00:00:00",
         "2017-09-26 00:00:00",
         "Standard Class",
         "SV-20365",
         "Seth Vernon",
         "Consumer",
         "United States",
         "New York City",
         "New York",
         "10035",
         "East",
         "FUR-CH-10003061",
         "Furniture",
         "Chairs",
         "Global Leather Task Chair, Black",
         "80.991",
         "1",
         "0.1",
         "8.0991"
        ],
        [
         "6097",
         "CA-2017-100111",
         "2017-09-20 00:00:00",
         "2017-09-26 00:00:00",
         "Standard Class",
         "SV-20365",
         "Seth Vernon",
         "Consumer",
         "United States",
         "New York City",
         "New York",
         "10035",
         "East",
         "OFF-BI-10000343",
         "Office Supplies",
         "Binders",
         "Pressboard Covers with Storage Hooks, 9 1/2\" x 11\", Light Blue",
         "11.784",
         "3",
         "0.2",
         "3.9771"
        ],
        [
         "6098",
         "CA-2017-100111",
         "2017-09-20 00:00:00",
         "2017-09-26 00:00:00",
         "Standard Class",
         "SV-20365",
         "Seth Vernon",
         "Consumer",
         "United States",
         "New York City",
         "New York",
         "10035",
         "East",
         "OFF-FA-10000304",
         "Office Supplies",
         "Fasteners",
         "Advantus Push Pins",
         "4.36",
         "2",
         "0.0",
         "1.7876"
        ],
        [
         "6099",
         "CA-2017-100111",
         "2017-09-20 00:00:00",
         "2017-09-26 00:00:00",
         "Standard Class",
         "SV-20365",
         "Seth Vernon",
         "Consumer",
         "United States",
         "New York City",
         "New York",
         "10035",
         "East",
         "FUR-CH-10004086",
         "Furniture",
         "Chairs",
         "Hon 4070 Series Pagoda Armless Upholstered Stacking Chairs",
         "2888.127",
         "11",
         "0.1",
         "609.7157"
        ],
        [
         "6100",
         "CA-2017-100111",
         "2017-09-20 00:00:00",
         "2017-09-26 00:00:00",
         "Standard Class",
         "SV-20365",
         "Seth Vernon",
         "Consumer",
         "United States",
         "New York City",
         "New York",
         "10035",
         "East",
         "TEC-PH-10002885",
         "Technology",
         "Phones",
         "Apple iPhone 5",
         "1299.66",
         "2",
         "0.0",
         "350.9082"
        ],
        [
         "6101",
         "CA-2017-100111",
         "2017-09-20 00:00:00",
         "2017-09-26 00:00:00",
         "Standard Class",
         "SV-20365",
         "Seth Vernon",
         "Consumer",
         "United States",
         "New York City",
         "New York",
         "10035",
         "East",
         "FUR-CH-10001215",
         "Furniture",
         "Chairs",
         "Global Troy Executive Leather Low-Back Tilter",
         "2254.41",
         "5",
         "0.1",
         "375.735"
        ],
        [
         "6102",
         "CA-2017-100111",
         "2017-09-20 00:00:00",
         "2017-09-26 00:00:00",
         "Standard Class",
         "SV-20365",
         "Seth Vernon",
         "Consumer",
         "United States",
         "New York City",
         "New York",
         "10035",
         "East",
         "TEC-PH-10000215",
         "Technology",
         "Phones",
         "Plantronics Cordless Phone Headset with In-line Volume - M214C",
         "104.85",
         "3",
         "0.0",
         "28.3095"
        ],
        [
         "6103",
         "CA-2017-100111",
         "2017-09-20 00:00:00",
         "2017-09-26 00:00:00",
         "Standard Class",
         "SV-20365",
         "Seth Vernon",
         "Consumer",
         "United States",
         "New York City",
         "New York",
         "10035",
         "East",
         "TEC-AC-10001998",
         "Technology",
         "Accessories",
         "Logitech LS21 Speaker System - PC Multimedia - 2.1-CH - Wired",
         "59.97",
         "3",
         "0.0",
         "20.3898"
        ]
       ],
       "shape": {
        "columns": 20,
        "rows": 14
       }
      },
      "text/html": [
       "<div>\n",
       "<style scoped>\n",
       "    .dataframe tbody tr th:only-of-type {\n",
       "        vertical-align: middle;\n",
       "    }\n",
       "\n",
       "    .dataframe tbody tr th {\n",
       "        vertical-align: top;\n",
       "    }\n",
       "\n",
       "    .dataframe thead th {\n",
       "        text-align: right;\n",
       "    }\n",
       "</style>\n",
       "<table border=\"1\" class=\"dataframe\">\n",
       "  <thead>\n",
       "    <tr style=\"text-align: right;\">\n",
       "      <th></th>\n",
       "      <th>OrderID</th>\n",
       "      <th>OrderDate</th>\n",
       "      <th>ShipDate</th>\n",
       "      <th>ShipMode</th>\n",
       "      <th>CustomerID</th>\n",
       "      <th>CustomerName</th>\n",
       "      <th>Segment</th>\n",
       "      <th>Country</th>\n",
       "      <th>City</th>\n",
       "      <th>State</th>\n",
       "      <th>PostalCode</th>\n",
       "      <th>Region</th>\n",
       "      <th>ProductID</th>\n",
       "      <th>Category</th>\n",
       "      <th>SubCategory</th>\n",
       "      <th>ProductName</th>\n",
       "      <th>Sales</th>\n",
       "      <th>Quantity</th>\n",
       "      <th>Discount</th>\n",
       "      <th>Profit</th>\n",
       "    </tr>\n",
       "  </thead>\n",
       "  <tbody>\n",
       "    <tr>\n",
       "      <th>6090</th>\n",
       "      <td>CA-2017-100111</td>\n",
       "      <td>2017-09-20</td>\n",
       "      <td>2017-09-26</td>\n",
       "      <td>Standard Class</td>\n",
       "      <td>SV-20365</td>\n",
       "      <td>Seth Vernon</td>\n",
       "      <td>Consumer</td>\n",
       "      <td>United States</td>\n",
       "      <td>New York City</td>\n",
       "      <td>New York</td>\n",
       "      <td>10035</td>\n",
       "      <td>East</td>\n",
       "      <td>FUR-CH-10003846</td>\n",
       "      <td>Furniture</td>\n",
       "      <td>Chairs</td>\n",
       "      <td>Hon Valutask Swivel Chairs</td>\n",
       "      <td>272.646</td>\n",
       "      <td>3</td>\n",
       "      <td>0.1</td>\n",
       "      <td>18.1764</td>\n",
       "    </tr>\n",
       "    <tr>\n",
       "      <th>6091</th>\n",
       "      <td>CA-2017-100111</td>\n",
       "      <td>2017-09-20</td>\n",
       "      <td>2017-09-26</td>\n",
       "      <td>Standard Class</td>\n",
       "      <td>SV-20365</td>\n",
       "      <td>Seth Vernon</td>\n",
       "      <td>Consumer</td>\n",
       "      <td>United States</td>\n",
       "      <td>New York City</td>\n",
       "      <td>New York</td>\n",
       "      <td>10035</td>\n",
       "      <td>East</td>\n",
       "      <td>TEC-AC-10002647</td>\n",
       "      <td>Technology</td>\n",
       "      <td>Accessories</td>\n",
       "      <td>Logitech Wireless Boombox Speaker - portable -...</td>\n",
       "      <td>212.800</td>\n",
       "      <td>2</td>\n",
       "      <td>0.0</td>\n",
       "      <td>95.7600</td>\n",
       "    </tr>\n",
       "    <tr>\n",
       "      <th>6092</th>\n",
       "      <td>CA-2017-100111</td>\n",
       "      <td>2017-09-20</td>\n",
       "      <td>2017-09-26</td>\n",
       "      <td>Standard Class</td>\n",
       "      <td>SV-20365</td>\n",
       "      <td>Seth Vernon</td>\n",
       "      <td>Consumer</td>\n",
       "      <td>United States</td>\n",
       "      <td>New York City</td>\n",
       "      <td>New York</td>\n",
       "      <td>10035</td>\n",
       "      <td>East</td>\n",
       "      <td>OFF-PA-10000807</td>\n",
       "      <td>Office Supplies</td>\n",
       "      <td>Paper</td>\n",
       "      <td>TOPS \"Important Message\" Pads, Canary, 4-1/4 x...</td>\n",
       "      <td>38.520</td>\n",
       "      <td>9</td>\n",
       "      <td>0.0</td>\n",
       "      <td>18.1044</td>\n",
       "    </tr>\n",
       "    <tr>\n",
       "      <th>6093</th>\n",
       "      <td>CA-2017-100111</td>\n",
       "      <td>2017-09-20</td>\n",
       "      <td>2017-09-26</td>\n",
       "      <td>Standard Class</td>\n",
       "      <td>SV-20365</td>\n",
       "      <td>Seth Vernon</td>\n",
       "      <td>Consumer</td>\n",
       "      <td>United States</td>\n",
       "      <td>New York City</td>\n",
       "      <td>New York</td>\n",
       "      <td>10035</td>\n",
       "      <td>East</td>\n",
       "      <td>TEC-AC-10001465</td>\n",
       "      <td>Technology</td>\n",
       "      <td>Accessories</td>\n",
       "      <td>SanDisk Cruzer 64 GB USB Flash Drive</td>\n",
       "      <td>72.640</td>\n",
       "      <td>2</td>\n",
       "      <td>0.0</td>\n",
       "      <td>21.7920</td>\n",
       "    </tr>\n",
       "    <tr>\n",
       "      <th>6094</th>\n",
       "      <td>CA-2017-100111</td>\n",
       "      <td>2017-09-20</td>\n",
       "      <td>2017-09-26</td>\n",
       "      <td>Standard Class</td>\n",
       "      <td>SV-20365</td>\n",
       "      <td>Seth Vernon</td>\n",
       "      <td>Consumer</td>\n",
       "      <td>United States</td>\n",
       "      <td>New York City</td>\n",
       "      <td>New York</td>\n",
       "      <td>10035</td>\n",
       "      <td>East</td>\n",
       "      <td>OFF-ST-10000615</td>\n",
       "      <td>Office Supplies</td>\n",
       "      <td>Storage</td>\n",
       "      <td>SimpliFile Personal File, Black Granite, 15w x...</td>\n",
       "      <td>45.400</td>\n",
       "      <td>4</td>\n",
       "      <td>0.0</td>\n",
       "      <td>12.7120</td>\n",
       "    </tr>\n",
       "    <tr>\n",
       "      <th>6095</th>\n",
       "      <td>CA-2017-100111</td>\n",
       "      <td>2017-09-20</td>\n",
       "      <td>2017-09-26</td>\n",
       "      <td>Standard Class</td>\n",
       "      <td>SV-20365</td>\n",
       "      <td>Seth Vernon</td>\n",
       "      <td>Consumer</td>\n",
       "      <td>United States</td>\n",
       "      <td>New York City</td>\n",
       "      <td>New York</td>\n",
       "      <td>10035</td>\n",
       "      <td>East</td>\n",
       "      <td>OFF-PA-10002713</td>\n",
       "      <td>Office Supplies</td>\n",
       "      <td>Paper</td>\n",
       "      <td>Adams Phone Message Book, 200 Message Capacity...</td>\n",
       "      <td>13.760</td>\n",
       "      <td>2</td>\n",
       "      <td>0.0</td>\n",
       "      <td>6.3296</td>\n",
       "    </tr>\n",
       "    <tr>\n",
       "      <th>6096</th>\n",
       "      <td>CA-2017-100111</td>\n",
       "      <td>2017-09-20</td>\n",
       "      <td>2017-09-26</td>\n",
       "      <td>Standard Class</td>\n",
       "      <td>SV-20365</td>\n",
       "      <td>Seth Vernon</td>\n",
       "      <td>Consumer</td>\n",
       "      <td>United States</td>\n",
       "      <td>New York City</td>\n",
       "      <td>New York</td>\n",
       "      <td>10035</td>\n",
       "      <td>East</td>\n",
       "      <td>FUR-CH-10003061</td>\n",
       "      <td>Furniture</td>\n",
       "      <td>Chairs</td>\n",
       "      <td>Global Leather Task Chair, Black</td>\n",
       "      <td>80.991</td>\n",
       "      <td>1</td>\n",
       "      <td>0.1</td>\n",
       "      <td>8.0991</td>\n",
       "    </tr>\n",
       "    <tr>\n",
       "      <th>6097</th>\n",
       "      <td>CA-2017-100111</td>\n",
       "      <td>2017-09-20</td>\n",
       "      <td>2017-09-26</td>\n",
       "      <td>Standard Class</td>\n",
       "      <td>SV-20365</td>\n",
       "      <td>Seth Vernon</td>\n",
       "      <td>Consumer</td>\n",
       "      <td>United States</td>\n",
       "      <td>New York City</td>\n",
       "      <td>New York</td>\n",
       "      <td>10035</td>\n",
       "      <td>East</td>\n",
       "      <td>OFF-BI-10000343</td>\n",
       "      <td>Office Supplies</td>\n",
       "      <td>Binders</td>\n",
       "      <td>Pressboard Covers with Storage Hooks, 9 1/2\" x...</td>\n",
       "      <td>11.784</td>\n",
       "      <td>3</td>\n",
       "      <td>0.2</td>\n",
       "      <td>3.9771</td>\n",
       "    </tr>\n",
       "    <tr>\n",
       "      <th>6098</th>\n",
       "      <td>CA-2017-100111</td>\n",
       "      <td>2017-09-20</td>\n",
       "      <td>2017-09-26</td>\n",
       "      <td>Standard Class</td>\n",
       "      <td>SV-20365</td>\n",
       "      <td>Seth Vernon</td>\n",
       "      <td>Consumer</td>\n",
       "      <td>United States</td>\n",
       "      <td>New York City</td>\n",
       "      <td>New York</td>\n",
       "      <td>10035</td>\n",
       "      <td>East</td>\n",
       "      <td>OFF-FA-10000304</td>\n",
       "      <td>Office Supplies</td>\n",
       "      <td>Fasteners</td>\n",
       "      <td>Advantus Push Pins</td>\n",
       "      <td>4.360</td>\n",
       "      <td>2</td>\n",
       "      <td>0.0</td>\n",
       "      <td>1.7876</td>\n",
       "    </tr>\n",
       "    <tr>\n",
       "      <th>6099</th>\n",
       "      <td>CA-2017-100111</td>\n",
       "      <td>2017-09-20</td>\n",
       "      <td>2017-09-26</td>\n",
       "      <td>Standard Class</td>\n",
       "      <td>SV-20365</td>\n",
       "      <td>Seth Vernon</td>\n",
       "      <td>Consumer</td>\n",
       "      <td>United States</td>\n",
       "      <td>New York City</td>\n",
       "      <td>New York</td>\n",
       "      <td>10035</td>\n",
       "      <td>East</td>\n",
       "      <td>FUR-CH-10004086</td>\n",
       "      <td>Furniture</td>\n",
       "      <td>Chairs</td>\n",
       "      <td>Hon 4070 Series Pagoda Armless Upholstered Sta...</td>\n",
       "      <td>2888.127</td>\n",
       "      <td>11</td>\n",
       "      <td>0.1</td>\n",
       "      <td>609.7157</td>\n",
       "    </tr>\n",
       "    <tr>\n",
       "      <th>6100</th>\n",
       "      <td>CA-2017-100111</td>\n",
       "      <td>2017-09-20</td>\n",
       "      <td>2017-09-26</td>\n",
       "      <td>Standard Class</td>\n",
       "      <td>SV-20365</td>\n",
       "      <td>Seth Vernon</td>\n",
       "      <td>Consumer</td>\n",
       "      <td>United States</td>\n",
       "      <td>New York City</td>\n",
       "      <td>New York</td>\n",
       "      <td>10035</td>\n",
       "      <td>East</td>\n",
       "      <td>TEC-PH-10002885</td>\n",
       "      <td>Technology</td>\n",
       "      <td>Phones</td>\n",
       "      <td>Apple iPhone 5</td>\n",
       "      <td>1299.660</td>\n",
       "      <td>2</td>\n",
       "      <td>0.0</td>\n",
       "      <td>350.9082</td>\n",
       "    </tr>\n",
       "    <tr>\n",
       "      <th>6101</th>\n",
       "      <td>CA-2017-100111</td>\n",
       "      <td>2017-09-20</td>\n",
       "      <td>2017-09-26</td>\n",
       "      <td>Standard Class</td>\n",
       "      <td>SV-20365</td>\n",
       "      <td>Seth Vernon</td>\n",
       "      <td>Consumer</td>\n",
       "      <td>United States</td>\n",
       "      <td>New York City</td>\n",
       "      <td>New York</td>\n",
       "      <td>10035</td>\n",
       "      <td>East</td>\n",
       "      <td>FUR-CH-10001215</td>\n",
       "      <td>Furniture</td>\n",
       "      <td>Chairs</td>\n",
       "      <td>Global Troy Executive Leather Low-Back Tilter</td>\n",
       "      <td>2254.410</td>\n",
       "      <td>5</td>\n",
       "      <td>0.1</td>\n",
       "      <td>375.7350</td>\n",
       "    </tr>\n",
       "    <tr>\n",
       "      <th>6102</th>\n",
       "      <td>CA-2017-100111</td>\n",
       "      <td>2017-09-20</td>\n",
       "      <td>2017-09-26</td>\n",
       "      <td>Standard Class</td>\n",
       "      <td>SV-20365</td>\n",
       "      <td>Seth Vernon</td>\n",
       "      <td>Consumer</td>\n",
       "      <td>United States</td>\n",
       "      <td>New York City</td>\n",
       "      <td>New York</td>\n",
       "      <td>10035</td>\n",
       "      <td>East</td>\n",
       "      <td>TEC-PH-10000215</td>\n",
       "      <td>Technology</td>\n",
       "      <td>Phones</td>\n",
       "      <td>Plantronics Cordless Phone Headset with In-lin...</td>\n",
       "      <td>104.850</td>\n",
       "      <td>3</td>\n",
       "      <td>0.0</td>\n",
       "      <td>28.3095</td>\n",
       "    </tr>\n",
       "    <tr>\n",
       "      <th>6103</th>\n",
       "      <td>CA-2017-100111</td>\n",
       "      <td>2017-09-20</td>\n",
       "      <td>2017-09-26</td>\n",
       "      <td>Standard Class</td>\n",
       "      <td>SV-20365</td>\n",
       "      <td>Seth Vernon</td>\n",
       "      <td>Consumer</td>\n",
       "      <td>United States</td>\n",
       "      <td>New York City</td>\n",
       "      <td>New York</td>\n",
       "      <td>10035</td>\n",
       "      <td>East</td>\n",
       "      <td>TEC-AC-10001998</td>\n",
       "      <td>Technology</td>\n",
       "      <td>Accessories</td>\n",
       "      <td>Logitech LS21 Speaker System - PC Multimedia -...</td>\n",
       "      <td>59.970</td>\n",
       "      <td>3</td>\n",
       "      <td>0.0</td>\n",
       "      <td>20.3898</td>\n",
       "    </tr>\n",
       "  </tbody>\n",
       "</table>\n",
       "</div>"
      ],
      "text/plain": [
       "             OrderID  OrderDate   ShipDate        ShipMode CustomerID  \\\n",
       "6090  CA-2017-100111 2017-09-20 2017-09-26  Standard Class   SV-20365   \n",
       "6091  CA-2017-100111 2017-09-20 2017-09-26  Standard Class   SV-20365   \n",
       "6092  CA-2017-100111 2017-09-20 2017-09-26  Standard Class   SV-20365   \n",
       "6093  CA-2017-100111 2017-09-20 2017-09-26  Standard Class   SV-20365   \n",
       "6094  CA-2017-100111 2017-09-20 2017-09-26  Standard Class   SV-20365   \n",
       "6095  CA-2017-100111 2017-09-20 2017-09-26  Standard Class   SV-20365   \n",
       "6096  CA-2017-100111 2017-09-20 2017-09-26  Standard Class   SV-20365   \n",
       "6097  CA-2017-100111 2017-09-20 2017-09-26  Standard Class   SV-20365   \n",
       "6098  CA-2017-100111 2017-09-20 2017-09-26  Standard Class   SV-20365   \n",
       "6099  CA-2017-100111 2017-09-20 2017-09-26  Standard Class   SV-20365   \n",
       "6100  CA-2017-100111 2017-09-20 2017-09-26  Standard Class   SV-20365   \n",
       "6101  CA-2017-100111 2017-09-20 2017-09-26  Standard Class   SV-20365   \n",
       "6102  CA-2017-100111 2017-09-20 2017-09-26  Standard Class   SV-20365   \n",
       "6103  CA-2017-100111 2017-09-20 2017-09-26  Standard Class   SV-20365   \n",
       "\n",
       "     CustomerName   Segment        Country           City     State  \\\n",
       "6090  Seth Vernon  Consumer  United States  New York City  New York   \n",
       "6091  Seth Vernon  Consumer  United States  New York City  New York   \n",
       "6092  Seth Vernon  Consumer  United States  New York City  New York   \n",
       "6093  Seth Vernon  Consumer  United States  New York City  New York   \n",
       "6094  Seth Vernon  Consumer  United States  New York City  New York   \n",
       "6095  Seth Vernon  Consumer  United States  New York City  New York   \n",
       "6096  Seth Vernon  Consumer  United States  New York City  New York   \n",
       "6097  Seth Vernon  Consumer  United States  New York City  New York   \n",
       "6098  Seth Vernon  Consumer  United States  New York City  New York   \n",
       "6099  Seth Vernon  Consumer  United States  New York City  New York   \n",
       "6100  Seth Vernon  Consumer  United States  New York City  New York   \n",
       "6101  Seth Vernon  Consumer  United States  New York City  New York   \n",
       "6102  Seth Vernon  Consumer  United States  New York City  New York   \n",
       "6103  Seth Vernon  Consumer  United States  New York City  New York   \n",
       "\n",
       "      PostalCode Region        ProductID         Category  SubCategory  \\\n",
       "6090       10035   East  FUR-CH-10003846        Furniture       Chairs   \n",
       "6091       10035   East  TEC-AC-10002647       Technology  Accessories   \n",
       "6092       10035   East  OFF-PA-10000807  Office Supplies        Paper   \n",
       "6093       10035   East  TEC-AC-10001465       Technology  Accessories   \n",
       "6094       10035   East  OFF-ST-10000615  Office Supplies      Storage   \n",
       "6095       10035   East  OFF-PA-10002713  Office Supplies        Paper   \n",
       "6096       10035   East  FUR-CH-10003061        Furniture       Chairs   \n",
       "6097       10035   East  OFF-BI-10000343  Office Supplies      Binders   \n",
       "6098       10035   East  OFF-FA-10000304  Office Supplies    Fasteners   \n",
       "6099       10035   East  FUR-CH-10004086        Furniture       Chairs   \n",
       "6100       10035   East  TEC-PH-10002885       Technology       Phones   \n",
       "6101       10035   East  FUR-CH-10001215        Furniture       Chairs   \n",
       "6102       10035   East  TEC-PH-10000215       Technology       Phones   \n",
       "6103       10035   East  TEC-AC-10001998       Technology  Accessories   \n",
       "\n",
       "                                            ProductName     Sales  Quantity  \\\n",
       "6090                         Hon Valutask Swivel Chairs   272.646         3   \n",
       "6091  Logitech Wireless Boombox Speaker - portable -...   212.800         2   \n",
       "6092  TOPS \"Important Message\" Pads, Canary, 4-1/4 x...    38.520         9   \n",
       "6093               SanDisk Cruzer 64 GB USB Flash Drive    72.640         2   \n",
       "6094  SimpliFile Personal File, Black Granite, 15w x...    45.400         4   \n",
       "6095  Adams Phone Message Book, 200 Message Capacity...    13.760         2   \n",
       "6096                   Global Leather Task Chair, Black    80.991         1   \n",
       "6097  Pressboard Covers with Storage Hooks, 9 1/2\" x...    11.784         3   \n",
       "6098                                 Advantus Push Pins     4.360         2   \n",
       "6099  Hon 4070 Series Pagoda Armless Upholstered Sta...  2888.127        11   \n",
       "6100                                     Apple iPhone 5  1299.660         2   \n",
       "6101      Global Troy Executive Leather Low-Back Tilter  2254.410         5   \n",
       "6102  Plantronics Cordless Phone Headset with In-lin...   104.850         3   \n",
       "6103  Logitech LS21 Speaker System - PC Multimedia -...    59.970         3   \n",
       "\n",
       "      Discount    Profit  \n",
       "6090       0.1   18.1764  \n",
       "6091       0.0   95.7600  \n",
       "6092       0.0   18.1044  \n",
       "6093       0.0   21.7920  \n",
       "6094       0.0   12.7120  \n",
       "6095       0.0    6.3296  \n",
       "6096       0.1    8.0991  \n",
       "6097       0.2    3.9771  \n",
       "6098       0.0    1.7876  \n",
       "6099       0.1  609.7157  \n",
       "6100       0.0  350.9082  \n",
       "6101       0.1  375.7350  \n",
       "6102       0.0   28.3095  \n",
       "6103       0.0   20.3898  "
      ]
     },
     "execution_count": 262,
     "metadata": {},
     "output_type": "execute_result"
    }
   ],
   "source": [
    "df[df.OrderID == 'CA-2017-100111']"
   ]
  },
  {
   "cell_type": "code",
   "execution_count": 263,
   "id": "924e2444",
   "metadata": {},
   "outputs": [
    {
     "data": {
      "application/vnd.microsoft.datawrangler.viewer.v0+json": {
       "columns": [
        {
         "name": "index",
         "rawType": "int64",
         "type": "integer"
        },
        {
         "name": "OrderID",
         "rawType": "string",
         "type": "string"
        },
        {
         "name": "OrderDate",
         "rawType": "datetime64[ns]",
         "type": "datetime"
        },
        {
         "name": "ShipDate",
         "rawType": "datetime64[ns]",
         "type": "datetime"
        },
        {
         "name": "ShipMode",
         "rawType": "category",
         "type": "unknown"
        },
        {
         "name": "CustomerID",
         "rawType": "string",
         "type": "string"
        },
        {
         "name": "CustomerName",
         "rawType": "string",
         "type": "string"
        },
        {
         "name": "Segment",
         "rawType": "category",
         "type": "unknown"
        },
        {
         "name": "Country",
         "rawType": "category",
         "type": "unknown"
        },
        {
         "name": "City",
         "rawType": "category",
         "type": "unknown"
        },
        {
         "name": "State",
         "rawType": "category",
         "type": "unknown"
        },
        {
         "name": "PostalCode",
         "rawType": "int64",
         "type": "integer"
        },
        {
         "name": "Region",
         "rawType": "category",
         "type": "unknown"
        },
        {
         "name": "ProductID",
         "rawType": "string",
         "type": "string"
        },
        {
         "name": "Category",
         "rawType": "category",
         "type": "unknown"
        },
        {
         "name": "SubCategory",
         "rawType": "category",
         "type": "unknown"
        },
        {
         "name": "ProductName",
         "rawType": "string",
         "type": "string"
        },
        {
         "name": "Sales",
         "rawType": "float64",
         "type": "float"
        },
        {
         "name": "Quantity",
         "rawType": "int64",
         "type": "integer"
        },
        {
         "name": "Discount",
         "rawType": "float64",
         "type": "float"
        },
        {
         "name": "Profit",
         "rawType": "float64",
         "type": "float"
        }
       ],
       "ref": "674d343e-d1e0-4493-81a0-3ce8d0386c58",
       "rows": [
        [
         "1579",
         "CA-2015-131338",
         "2015-08-09 00:00:00",
         "2015-08-12 00:00:00",
         "First Class",
         "NP-18325",
         "Naresj Patel",
         "Consumer",
         "United States",
         "New York City",
         "New York",
         "10024",
         "East",
         "TEC-PH-10003012",
         "Technology",
         "Phones",
         "Nortel Meridian M3904 Professional Digital phone",
         "307.98",
         "2",
         "0.0",
         "89.3142"
        ],
        [
         "1580",
         "CA-2015-131338",
         "2015-08-09 00:00:00",
         "2015-08-12 00:00:00",
         "First Class",
         "NP-18325",
         "Naresj Patel",
         "Consumer",
         "United States",
         "New York City",
         "New York",
         "10024",
         "East",
         "FUR-TA-10002607",
         "Furniture",
         "Tables",
         "KI Conference Tables",
         "382.806",
         "9",
         "0.4",
         "-153.1224"
        ],
        [
         "1581",
         "CA-2015-131338",
         "2015-08-09 00:00:00",
         "2015-08-12 00:00:00",
         "First Class",
         "NP-18325",
         "Naresj Patel",
         "Consumer",
         "United States",
         "New York City",
         "New York",
         "10024",
         "East",
         "OFF-ST-10000642",
         "Office Supplies",
         "Storage",
         "Tennsco Lockers, Gray",
         "41.96",
         "2",
         "0.0",
         "2.9372"
        ],
        [
         "1582",
         "CA-2015-131338",
         "2015-08-09 00:00:00",
         "2015-08-12 00:00:00",
         "First Class",
         "NP-18325",
         "Naresj Patel",
         "Consumer",
         "United States",
         "New York City",
         "New York",
         "10024",
         "East",
         "OFF-BI-10000545",
         "Office Supplies",
         "Binders",
         "GBC Ibimaster 500 Manual ProClick Binding System",
         "1217.568",
         "2",
         "0.2",
         "456.588"
        ],
        [
         "1583",
         "CA-2015-131338",
         "2015-08-09 00:00:00",
         "2015-08-12 00:00:00",
         "First Class",
         "NP-18325",
         "Naresj Patel",
         "Consumer",
         "United States",
         "New York City",
         "New York",
         "10024",
         "East",
         "FUR-FU-10002157",
         "Furniture",
         "Furnishings",
         "Artistic Insta-Plaque",
         "47.04",
         "3",
         "0.0",
         "18.3456"
        ],
        [
         "1584",
         "CA-2015-131338",
         "2015-08-09 00:00:00",
         "2015-08-12 00:00:00",
         "First Class",
         "NP-18325",
         "Naresj Patel",
         "Consumer",
         "United States",
         "New York City",
         "New York",
         "10024",
         "East",
         "FUR-FU-10001706",
         "Furniture",
         "Furnishings",
         "Longer-Life Soft White Bulbs",
         "6.16",
         "2",
         "0.0",
         "2.9568"
        ],
        [
         "1585",
         "CA-2015-131338",
         "2015-08-09 00:00:00",
         "2015-08-12 00:00:00",
         "First Class",
         "NP-18325",
         "Naresj Patel",
         "Consumer",
         "United States",
         "New York City",
         "New York",
         "10024",
         "East",
         "TEC-PH-10000984",
         "Technology",
         "Phones",
         "Panasonic KX-TG9471B",
         "979.95",
         "5",
         "0.0",
         "274.386"
        ],
        [
         "1586",
         "CA-2015-131338",
         "2015-08-09 00:00:00",
         "2015-08-12 00:00:00",
         "First Class",
         "NP-18325",
         "Naresj Patel",
         "Consumer",
         "United States",
         "New York City",
         "New York",
         "10024",
         "East",
         "OFF-PA-10001357",
         "Office Supplies",
         "Paper",
         "Xerox 1886",
         "143.7",
         "3",
         "0.0",
         "68.976"
        ],
        [
         "1587",
         "CA-2015-131338",
         "2015-08-09 00:00:00",
         "2015-08-12 00:00:00",
         "First Class",
         "NP-18325",
         "Naresj Patel",
         "Consumer",
         "United States",
         "New York City",
         "New York",
         "10024",
         "East",
         "OFF-FA-10000992",
         "Office Supplies",
         "Fasteners",
         "Acco Clips to Go Binder Clips, 24 Clips in Two Sizes",
         "10.65",
         "3",
         "0.0",
         "5.0055"
        ],
        [
         "1588",
         "CA-2015-131338",
         "2015-08-09 00:00:00",
         "2015-08-12 00:00:00",
         "First Class",
         "NP-18325",
         "Naresj Patel",
         "Consumer",
         "United States",
         "New York City",
         "New York",
         "10024",
         "East",
         "TEC-AC-10002600",
         "Technology",
         "Accessories",
         "Belkin QODE FastFit Bluetooth Keyboard",
         "247.8",
         "4",
         "0.0",
         "34.692"
        ]
       ],
       "shape": {
        "columns": 20,
        "rows": 10
       }
      },
      "text/html": [
       "<div>\n",
       "<style scoped>\n",
       "    .dataframe tbody tr th:only-of-type {\n",
       "        vertical-align: middle;\n",
       "    }\n",
       "\n",
       "    .dataframe tbody tr th {\n",
       "        vertical-align: top;\n",
       "    }\n",
       "\n",
       "    .dataframe thead th {\n",
       "        text-align: right;\n",
       "    }\n",
       "</style>\n",
       "<table border=\"1\" class=\"dataframe\">\n",
       "  <thead>\n",
       "    <tr style=\"text-align: right;\">\n",
       "      <th></th>\n",
       "      <th>OrderID</th>\n",
       "      <th>OrderDate</th>\n",
       "      <th>ShipDate</th>\n",
       "      <th>ShipMode</th>\n",
       "      <th>CustomerID</th>\n",
       "      <th>CustomerName</th>\n",
       "      <th>Segment</th>\n",
       "      <th>Country</th>\n",
       "      <th>City</th>\n",
       "      <th>State</th>\n",
       "      <th>PostalCode</th>\n",
       "      <th>Region</th>\n",
       "      <th>ProductID</th>\n",
       "      <th>Category</th>\n",
       "      <th>SubCategory</th>\n",
       "      <th>ProductName</th>\n",
       "      <th>Sales</th>\n",
       "      <th>Quantity</th>\n",
       "      <th>Discount</th>\n",
       "      <th>Profit</th>\n",
       "    </tr>\n",
       "  </thead>\n",
       "  <tbody>\n",
       "    <tr>\n",
       "      <th>1579</th>\n",
       "      <td>CA-2015-131338</td>\n",
       "      <td>2015-08-09</td>\n",
       "      <td>2015-08-12</td>\n",
       "      <td>First Class</td>\n",
       "      <td>NP-18325</td>\n",
       "      <td>Naresj Patel</td>\n",
       "      <td>Consumer</td>\n",
       "      <td>United States</td>\n",
       "      <td>New York City</td>\n",
       "      <td>New York</td>\n",
       "      <td>10024</td>\n",
       "      <td>East</td>\n",
       "      <td>TEC-PH-10003012</td>\n",
       "      <td>Technology</td>\n",
       "      <td>Phones</td>\n",
       "      <td>Nortel Meridian M3904 Professional Digital phone</td>\n",
       "      <td>307.980</td>\n",
       "      <td>2</td>\n",
       "      <td>0.0</td>\n",
       "      <td>89.3142</td>\n",
       "    </tr>\n",
       "    <tr>\n",
       "      <th>1580</th>\n",
       "      <td>CA-2015-131338</td>\n",
       "      <td>2015-08-09</td>\n",
       "      <td>2015-08-12</td>\n",
       "      <td>First Class</td>\n",
       "      <td>NP-18325</td>\n",
       "      <td>Naresj Patel</td>\n",
       "      <td>Consumer</td>\n",
       "      <td>United States</td>\n",
       "      <td>New York City</td>\n",
       "      <td>New York</td>\n",
       "      <td>10024</td>\n",
       "      <td>East</td>\n",
       "      <td>FUR-TA-10002607</td>\n",
       "      <td>Furniture</td>\n",
       "      <td>Tables</td>\n",
       "      <td>KI Conference Tables</td>\n",
       "      <td>382.806</td>\n",
       "      <td>9</td>\n",
       "      <td>0.4</td>\n",
       "      <td>-153.1224</td>\n",
       "    </tr>\n",
       "    <tr>\n",
       "      <th>1581</th>\n",
       "      <td>CA-2015-131338</td>\n",
       "      <td>2015-08-09</td>\n",
       "      <td>2015-08-12</td>\n",
       "      <td>First Class</td>\n",
       "      <td>NP-18325</td>\n",
       "      <td>Naresj Patel</td>\n",
       "      <td>Consumer</td>\n",
       "      <td>United States</td>\n",
       "      <td>New York City</td>\n",
       "      <td>New York</td>\n",
       "      <td>10024</td>\n",
       "      <td>East</td>\n",
       "      <td>OFF-ST-10000642</td>\n",
       "      <td>Office Supplies</td>\n",
       "      <td>Storage</td>\n",
       "      <td>Tennsco Lockers, Gray</td>\n",
       "      <td>41.960</td>\n",
       "      <td>2</td>\n",
       "      <td>0.0</td>\n",
       "      <td>2.9372</td>\n",
       "    </tr>\n",
       "    <tr>\n",
       "      <th>1582</th>\n",
       "      <td>CA-2015-131338</td>\n",
       "      <td>2015-08-09</td>\n",
       "      <td>2015-08-12</td>\n",
       "      <td>First Class</td>\n",
       "      <td>NP-18325</td>\n",
       "      <td>Naresj Patel</td>\n",
       "      <td>Consumer</td>\n",
       "      <td>United States</td>\n",
       "      <td>New York City</td>\n",
       "      <td>New York</td>\n",
       "      <td>10024</td>\n",
       "      <td>East</td>\n",
       "      <td>OFF-BI-10000545</td>\n",
       "      <td>Office Supplies</td>\n",
       "      <td>Binders</td>\n",
       "      <td>GBC Ibimaster 500 Manual ProClick Binding System</td>\n",
       "      <td>1217.568</td>\n",
       "      <td>2</td>\n",
       "      <td>0.2</td>\n",
       "      <td>456.5880</td>\n",
       "    </tr>\n",
       "    <tr>\n",
       "      <th>1583</th>\n",
       "      <td>CA-2015-131338</td>\n",
       "      <td>2015-08-09</td>\n",
       "      <td>2015-08-12</td>\n",
       "      <td>First Class</td>\n",
       "      <td>NP-18325</td>\n",
       "      <td>Naresj Patel</td>\n",
       "      <td>Consumer</td>\n",
       "      <td>United States</td>\n",
       "      <td>New York City</td>\n",
       "      <td>New York</td>\n",
       "      <td>10024</td>\n",
       "      <td>East</td>\n",
       "      <td>FUR-FU-10002157</td>\n",
       "      <td>Furniture</td>\n",
       "      <td>Furnishings</td>\n",
       "      <td>Artistic Insta-Plaque</td>\n",
       "      <td>47.040</td>\n",
       "      <td>3</td>\n",
       "      <td>0.0</td>\n",
       "      <td>18.3456</td>\n",
       "    </tr>\n",
       "    <tr>\n",
       "      <th>1584</th>\n",
       "      <td>CA-2015-131338</td>\n",
       "      <td>2015-08-09</td>\n",
       "      <td>2015-08-12</td>\n",
       "      <td>First Class</td>\n",
       "      <td>NP-18325</td>\n",
       "      <td>Naresj Patel</td>\n",
       "      <td>Consumer</td>\n",
       "      <td>United States</td>\n",
       "      <td>New York City</td>\n",
       "      <td>New York</td>\n",
       "      <td>10024</td>\n",
       "      <td>East</td>\n",
       "      <td>FUR-FU-10001706</td>\n",
       "      <td>Furniture</td>\n",
       "      <td>Furnishings</td>\n",
       "      <td>Longer-Life Soft White Bulbs</td>\n",
       "      <td>6.160</td>\n",
       "      <td>2</td>\n",
       "      <td>0.0</td>\n",
       "      <td>2.9568</td>\n",
       "    </tr>\n",
       "    <tr>\n",
       "      <th>1585</th>\n",
       "      <td>CA-2015-131338</td>\n",
       "      <td>2015-08-09</td>\n",
       "      <td>2015-08-12</td>\n",
       "      <td>First Class</td>\n",
       "      <td>NP-18325</td>\n",
       "      <td>Naresj Patel</td>\n",
       "      <td>Consumer</td>\n",
       "      <td>United States</td>\n",
       "      <td>New York City</td>\n",
       "      <td>New York</td>\n",
       "      <td>10024</td>\n",
       "      <td>East</td>\n",
       "      <td>TEC-PH-10000984</td>\n",
       "      <td>Technology</td>\n",
       "      <td>Phones</td>\n",
       "      <td>Panasonic KX-TG9471B</td>\n",
       "      <td>979.950</td>\n",
       "      <td>5</td>\n",
       "      <td>0.0</td>\n",
       "      <td>274.3860</td>\n",
       "    </tr>\n",
       "    <tr>\n",
       "      <th>1586</th>\n",
       "      <td>CA-2015-131338</td>\n",
       "      <td>2015-08-09</td>\n",
       "      <td>2015-08-12</td>\n",
       "      <td>First Class</td>\n",
       "      <td>NP-18325</td>\n",
       "      <td>Naresj Patel</td>\n",
       "      <td>Consumer</td>\n",
       "      <td>United States</td>\n",
       "      <td>New York City</td>\n",
       "      <td>New York</td>\n",
       "      <td>10024</td>\n",
       "      <td>East</td>\n",
       "      <td>OFF-PA-10001357</td>\n",
       "      <td>Office Supplies</td>\n",
       "      <td>Paper</td>\n",
       "      <td>Xerox 1886</td>\n",
       "      <td>143.700</td>\n",
       "      <td>3</td>\n",
       "      <td>0.0</td>\n",
       "      <td>68.9760</td>\n",
       "    </tr>\n",
       "    <tr>\n",
       "      <th>1587</th>\n",
       "      <td>CA-2015-131338</td>\n",
       "      <td>2015-08-09</td>\n",
       "      <td>2015-08-12</td>\n",
       "      <td>First Class</td>\n",
       "      <td>NP-18325</td>\n",
       "      <td>Naresj Patel</td>\n",
       "      <td>Consumer</td>\n",
       "      <td>United States</td>\n",
       "      <td>New York City</td>\n",
       "      <td>New York</td>\n",
       "      <td>10024</td>\n",
       "      <td>East</td>\n",
       "      <td>OFF-FA-10000992</td>\n",
       "      <td>Office Supplies</td>\n",
       "      <td>Fasteners</td>\n",
       "      <td>Acco Clips to Go Binder Clips, 24 Clips in Two...</td>\n",
       "      <td>10.650</td>\n",
       "      <td>3</td>\n",
       "      <td>0.0</td>\n",
       "      <td>5.0055</td>\n",
       "    </tr>\n",
       "    <tr>\n",
       "      <th>1588</th>\n",
       "      <td>CA-2015-131338</td>\n",
       "      <td>2015-08-09</td>\n",
       "      <td>2015-08-12</td>\n",
       "      <td>First Class</td>\n",
       "      <td>NP-18325</td>\n",
       "      <td>Naresj Patel</td>\n",
       "      <td>Consumer</td>\n",
       "      <td>United States</td>\n",
       "      <td>New York City</td>\n",
       "      <td>New York</td>\n",
       "      <td>10024</td>\n",
       "      <td>East</td>\n",
       "      <td>TEC-AC-10002600</td>\n",
       "      <td>Technology</td>\n",
       "      <td>Accessories</td>\n",
       "      <td>Belkin QODE FastFit Bluetooth Keyboard</td>\n",
       "      <td>247.800</td>\n",
       "      <td>4</td>\n",
       "      <td>0.0</td>\n",
       "      <td>34.6920</td>\n",
       "    </tr>\n",
       "  </tbody>\n",
       "</table>\n",
       "</div>"
      ],
      "text/plain": [
       "             OrderID  OrderDate   ShipDate     ShipMode CustomerID  \\\n",
       "1579  CA-2015-131338 2015-08-09 2015-08-12  First Class   NP-18325   \n",
       "1580  CA-2015-131338 2015-08-09 2015-08-12  First Class   NP-18325   \n",
       "1581  CA-2015-131338 2015-08-09 2015-08-12  First Class   NP-18325   \n",
       "1582  CA-2015-131338 2015-08-09 2015-08-12  First Class   NP-18325   \n",
       "1583  CA-2015-131338 2015-08-09 2015-08-12  First Class   NP-18325   \n",
       "1584  CA-2015-131338 2015-08-09 2015-08-12  First Class   NP-18325   \n",
       "1585  CA-2015-131338 2015-08-09 2015-08-12  First Class   NP-18325   \n",
       "1586  CA-2015-131338 2015-08-09 2015-08-12  First Class   NP-18325   \n",
       "1587  CA-2015-131338 2015-08-09 2015-08-12  First Class   NP-18325   \n",
       "1588  CA-2015-131338 2015-08-09 2015-08-12  First Class   NP-18325   \n",
       "\n",
       "      CustomerName   Segment        Country           City     State  \\\n",
       "1579  Naresj Patel  Consumer  United States  New York City  New York   \n",
       "1580  Naresj Patel  Consumer  United States  New York City  New York   \n",
       "1581  Naresj Patel  Consumer  United States  New York City  New York   \n",
       "1582  Naresj Patel  Consumer  United States  New York City  New York   \n",
       "1583  Naresj Patel  Consumer  United States  New York City  New York   \n",
       "1584  Naresj Patel  Consumer  United States  New York City  New York   \n",
       "1585  Naresj Patel  Consumer  United States  New York City  New York   \n",
       "1586  Naresj Patel  Consumer  United States  New York City  New York   \n",
       "1587  Naresj Patel  Consumer  United States  New York City  New York   \n",
       "1588  Naresj Patel  Consumer  United States  New York City  New York   \n",
       "\n",
       "      PostalCode Region        ProductID         Category  SubCategory  \\\n",
       "1579       10024   East  TEC-PH-10003012       Technology       Phones   \n",
       "1580       10024   East  FUR-TA-10002607        Furniture       Tables   \n",
       "1581       10024   East  OFF-ST-10000642  Office Supplies      Storage   \n",
       "1582       10024   East  OFF-BI-10000545  Office Supplies      Binders   \n",
       "1583       10024   East  FUR-FU-10002157        Furniture  Furnishings   \n",
       "1584       10024   East  FUR-FU-10001706        Furniture  Furnishings   \n",
       "1585       10024   East  TEC-PH-10000984       Technology       Phones   \n",
       "1586       10024   East  OFF-PA-10001357  Office Supplies        Paper   \n",
       "1587       10024   East  OFF-FA-10000992  Office Supplies    Fasteners   \n",
       "1588       10024   East  TEC-AC-10002600       Technology  Accessories   \n",
       "\n",
       "                                            ProductName     Sales  Quantity  \\\n",
       "1579   Nortel Meridian M3904 Professional Digital phone   307.980         2   \n",
       "1580                               KI Conference Tables   382.806         9   \n",
       "1581                              Tennsco Lockers, Gray    41.960         2   \n",
       "1582   GBC Ibimaster 500 Manual ProClick Binding System  1217.568         2   \n",
       "1583                              Artistic Insta-Plaque    47.040         3   \n",
       "1584                       Longer-Life Soft White Bulbs     6.160         2   \n",
       "1585                               Panasonic KX-TG9471B   979.950         5   \n",
       "1586                                         Xerox 1886   143.700         3   \n",
       "1587  Acco Clips to Go Binder Clips, 24 Clips in Two...    10.650         3   \n",
       "1588             Belkin QODE FastFit Bluetooth Keyboard   247.800         4   \n",
       "\n",
       "      Discount    Profit  \n",
       "1579       0.0   89.3142  \n",
       "1580       0.4 -153.1224  \n",
       "1581       0.0    2.9372  \n",
       "1582       0.2  456.5880  \n",
       "1583       0.0   18.3456  \n",
       "1584       0.0    2.9568  \n",
       "1585       0.0  274.3860  \n",
       "1586       0.0   68.9760  \n",
       "1587       0.0    5.0055  \n",
       "1588       0.0   34.6920  "
      ]
     },
     "execution_count": 263,
     "metadata": {},
     "output_type": "execute_result"
    }
   ],
   "source": [
    "df[df.OrderID == 'CA-2015-131338']"
   ]
  },
  {
   "cell_type": "markdown",
   "id": "5859611e",
   "metadata": {},
   "source": [
    "* OrderID is not unique\n",
    "* A customer places an order with several products:\n",
    "  * For each product in an order an additional row is added.\n",
    "  * Order Date and Shipment Data is typically the same.\n",
    "  * An Order could however be split into multiple Shipments. \n",
    "* OrderID is more an OrderReference."
   ]
  },
  {
   "cell_type": "markdown",
   "id": "243d8095",
   "metadata": {},
   "source": [
    "## Sales and Profit"
   ]
  },
  {
   "cell_type": "code",
   "execution_count": 264,
   "id": "a4c7ca2f",
   "metadata": {},
   "outputs": [
    {
     "data": {
      "application/vnd.microsoft.datawrangler.viewer.v0+json": {
       "columns": [
        {
         "name": "index",
         "rawType": "int64",
         "type": "integer"
        },
        {
         "name": "OrderID",
         "rawType": "string",
         "type": "string"
        },
        {
         "name": "OrderDate",
         "rawType": "datetime64[ns]",
         "type": "datetime"
        },
        {
         "name": "ShipDate",
         "rawType": "datetime64[ns]",
         "type": "datetime"
        },
        {
         "name": "ShipMode",
         "rawType": "category",
         "type": "unknown"
        },
        {
         "name": "CustomerID",
         "rawType": "string",
         "type": "string"
        },
        {
         "name": "CustomerName",
         "rawType": "string",
         "type": "string"
        },
        {
         "name": "Segment",
         "rawType": "category",
         "type": "unknown"
        },
        {
         "name": "Country",
         "rawType": "category",
         "type": "unknown"
        },
        {
         "name": "City",
         "rawType": "category",
         "type": "unknown"
        },
        {
         "name": "State",
         "rawType": "category",
         "type": "unknown"
        },
        {
         "name": "PostalCode",
         "rawType": "int64",
         "type": "integer"
        },
        {
         "name": "Region",
         "rawType": "category",
         "type": "unknown"
        },
        {
         "name": "ProductID",
         "rawType": "string",
         "type": "string"
        },
        {
         "name": "Category",
         "rawType": "category",
         "type": "unknown"
        },
        {
         "name": "SubCategory",
         "rawType": "category",
         "type": "unknown"
        },
        {
         "name": "ProductName",
         "rawType": "string",
         "type": "string"
        },
        {
         "name": "Sales",
         "rawType": "float64",
         "type": "float"
        },
        {
         "name": "Quantity",
         "rawType": "int64",
         "type": "integer"
        },
        {
         "name": "Discount",
         "rawType": "float64",
         "type": "float"
        },
        {
         "name": "Profit",
         "rawType": "float64",
         "type": "float"
        }
       ],
       "ref": "9ef1313b-f39e-46f4-b08f-bf47d4547ef3",
       "rows": [
        [
         "241",
         "CA-2016-157749",
         "2016-06-04 00:00:00",
         "2016-06-09 00:00:00",
         "Second Class",
         "KL-16645",
         "Ken Lonsdale",
         "Consumer",
         "United States",
         "Chicago",
         "Illinois",
         "60610",
         "Central",
         "FUR-TA-10002607",
         "Furniture",
         "Tables",
         "KI Conference Tables",
         "177.225",
         "5",
         "0.5",
         "-120.513"
        ],
        [
         "746",
         "CA-2014-124429",
         "2014-05-27 00:00:00",
         "2014-05-27 00:00:00",
         "Same Day",
         "MH-17785",
         "Maya Herman",
         "Corporate",
         "United States",
         "San Diego",
         "California",
         "92105",
         "West",
         "FUR-TA-10002607",
         "Furniture",
         "Tables",
         "KI Conference Tables",
         "567.12",
         "10",
         "0.2",
         "-28.356"
        ],
        [
         "1580",
         "CA-2015-131338",
         "2015-08-09 00:00:00",
         "2015-08-12 00:00:00",
         "First Class",
         "NP-18325",
         "Naresj Patel",
         "Consumer",
         "United States",
         "New York City",
         "New York",
         "10024",
         "East",
         "FUR-TA-10002607",
         "Furniture",
         "Tables",
         "KI Conference Tables",
         "382.806",
         "9",
         "0.4",
         "-153.1224"
        ],
        [
         "1814",
         "CA-2015-131597",
         "2015-09-14 00:00:00",
         "2015-09-18 00:00:00",
         "Standard Class",
         "SP-20620",
         "Stefania Perrino",
         "Corporate",
         "United States",
         "Los Angeles",
         "California",
         "90045",
         "West",
         "FUR-TA-10002607",
         "Furniture",
         "Tables",
         "KI Conference Tables",
         "170.136",
         "3",
         "0.2",
         "-8.5068"
        ],
        [
         "4294",
         "CA-2017-101581",
         "2017-10-22 00:00:00",
         "2017-10-27 00:00:00",
         "Standard Class",
         "DW-13195",
         "David Wiener",
         "Corporate",
         "United States",
         "Redmond",
         "Oregon",
         "97756",
         "West",
         "FUR-TA-10002607",
         "Furniture",
         "Tables",
         "KI Conference Tables",
         "177.225",
         "5",
         "0.5",
         "-120.513"
        ],
        [
         "5373",
         "CA-2015-118738",
         "2015-10-24 00:00:00",
         "2015-10-30 00:00:00",
         "Standard Class",
         "AG-10495",
         "Andrew Gjertsen",
         "Corporate",
         "United States",
         "Houston",
         "Texas",
         "77041",
         "Central",
         "FUR-TA-10002607",
         "Furniture",
         "Tables",
         "KI Conference Tables",
         "347.361",
         "7",
         "0.3",
         "-69.4722"
        ],
        [
         "6799",
         "CA-2016-109827",
         "2016-12-25 00:00:00",
         "2017-01-01 00:00:00",
         "Standard Class",
         "LW-16825",
         "Laurel Workman",
         "Corporate",
         "United States",
         "Phoenix",
         "Arizona",
         "85023",
         "West",
         "FUR-TA-10002607",
         "Furniture",
         "Tables",
         "KI Conference Tables",
         "35.445",
         "1",
         "0.5",
         "-24.1026"
        ],
        [
         "9031",
         "CA-2017-128041",
         "2017-09-01 00:00:00",
         "2017-09-01 00:00:00",
         "Same Day",
         "RW-19540",
         "Rick Wilson",
         "Corporate",
         "United States",
         "Seattle",
         "Washington",
         "98103",
         "West",
         "FUR-TA-10002607",
         "Furniture",
         "Tables",
         "KI Conference Tables",
         "283.56",
         "4",
         "0.0",
         "45.3696"
        ]
       ],
       "shape": {
        "columns": 20,
        "rows": 8
       }
      },
      "text/html": [
       "<div>\n",
       "<style scoped>\n",
       "    .dataframe tbody tr th:only-of-type {\n",
       "        vertical-align: middle;\n",
       "    }\n",
       "\n",
       "    .dataframe tbody tr th {\n",
       "        vertical-align: top;\n",
       "    }\n",
       "\n",
       "    .dataframe thead th {\n",
       "        text-align: right;\n",
       "    }\n",
       "</style>\n",
       "<table border=\"1\" class=\"dataframe\">\n",
       "  <thead>\n",
       "    <tr style=\"text-align: right;\">\n",
       "      <th></th>\n",
       "      <th>OrderID</th>\n",
       "      <th>OrderDate</th>\n",
       "      <th>ShipDate</th>\n",
       "      <th>ShipMode</th>\n",
       "      <th>CustomerID</th>\n",
       "      <th>CustomerName</th>\n",
       "      <th>Segment</th>\n",
       "      <th>Country</th>\n",
       "      <th>City</th>\n",
       "      <th>State</th>\n",
       "      <th>PostalCode</th>\n",
       "      <th>Region</th>\n",
       "      <th>ProductID</th>\n",
       "      <th>Category</th>\n",
       "      <th>SubCategory</th>\n",
       "      <th>ProductName</th>\n",
       "      <th>Sales</th>\n",
       "      <th>Quantity</th>\n",
       "      <th>Discount</th>\n",
       "      <th>Profit</th>\n",
       "    </tr>\n",
       "  </thead>\n",
       "  <tbody>\n",
       "    <tr>\n",
       "      <th>241</th>\n",
       "      <td>CA-2016-157749</td>\n",
       "      <td>2016-06-04</td>\n",
       "      <td>2016-06-09</td>\n",
       "      <td>Second Class</td>\n",
       "      <td>KL-16645</td>\n",
       "      <td>Ken Lonsdale</td>\n",
       "      <td>Consumer</td>\n",
       "      <td>United States</td>\n",
       "      <td>Chicago</td>\n",
       "      <td>Illinois</td>\n",
       "      <td>60610</td>\n",
       "      <td>Central</td>\n",
       "      <td>FUR-TA-10002607</td>\n",
       "      <td>Furniture</td>\n",
       "      <td>Tables</td>\n",
       "      <td>KI Conference Tables</td>\n",
       "      <td>177.225</td>\n",
       "      <td>5</td>\n",
       "      <td>0.5</td>\n",
       "      <td>-120.5130</td>\n",
       "    </tr>\n",
       "    <tr>\n",
       "      <th>746</th>\n",
       "      <td>CA-2014-124429</td>\n",
       "      <td>2014-05-27</td>\n",
       "      <td>2014-05-27</td>\n",
       "      <td>Same Day</td>\n",
       "      <td>MH-17785</td>\n",
       "      <td>Maya Herman</td>\n",
       "      <td>Corporate</td>\n",
       "      <td>United States</td>\n",
       "      <td>San Diego</td>\n",
       "      <td>California</td>\n",
       "      <td>92105</td>\n",
       "      <td>West</td>\n",
       "      <td>FUR-TA-10002607</td>\n",
       "      <td>Furniture</td>\n",
       "      <td>Tables</td>\n",
       "      <td>KI Conference Tables</td>\n",
       "      <td>567.120</td>\n",
       "      <td>10</td>\n",
       "      <td>0.2</td>\n",
       "      <td>-28.3560</td>\n",
       "    </tr>\n",
       "    <tr>\n",
       "      <th>1580</th>\n",
       "      <td>CA-2015-131338</td>\n",
       "      <td>2015-08-09</td>\n",
       "      <td>2015-08-12</td>\n",
       "      <td>First Class</td>\n",
       "      <td>NP-18325</td>\n",
       "      <td>Naresj Patel</td>\n",
       "      <td>Consumer</td>\n",
       "      <td>United States</td>\n",
       "      <td>New York City</td>\n",
       "      <td>New York</td>\n",
       "      <td>10024</td>\n",
       "      <td>East</td>\n",
       "      <td>FUR-TA-10002607</td>\n",
       "      <td>Furniture</td>\n",
       "      <td>Tables</td>\n",
       "      <td>KI Conference Tables</td>\n",
       "      <td>382.806</td>\n",
       "      <td>9</td>\n",
       "      <td>0.4</td>\n",
       "      <td>-153.1224</td>\n",
       "    </tr>\n",
       "    <tr>\n",
       "      <th>1814</th>\n",
       "      <td>CA-2015-131597</td>\n",
       "      <td>2015-09-14</td>\n",
       "      <td>2015-09-18</td>\n",
       "      <td>Standard Class</td>\n",
       "      <td>SP-20620</td>\n",
       "      <td>Stefania Perrino</td>\n",
       "      <td>Corporate</td>\n",
       "      <td>United States</td>\n",
       "      <td>Los Angeles</td>\n",
       "      <td>California</td>\n",
       "      <td>90045</td>\n",
       "      <td>West</td>\n",
       "      <td>FUR-TA-10002607</td>\n",
       "      <td>Furniture</td>\n",
       "      <td>Tables</td>\n",
       "      <td>KI Conference Tables</td>\n",
       "      <td>170.136</td>\n",
       "      <td>3</td>\n",
       "      <td>0.2</td>\n",
       "      <td>-8.5068</td>\n",
       "    </tr>\n",
       "    <tr>\n",
       "      <th>4294</th>\n",
       "      <td>CA-2017-101581</td>\n",
       "      <td>2017-10-22</td>\n",
       "      <td>2017-10-27</td>\n",
       "      <td>Standard Class</td>\n",
       "      <td>DW-13195</td>\n",
       "      <td>David Wiener</td>\n",
       "      <td>Corporate</td>\n",
       "      <td>United States</td>\n",
       "      <td>Redmond</td>\n",
       "      <td>Oregon</td>\n",
       "      <td>97756</td>\n",
       "      <td>West</td>\n",
       "      <td>FUR-TA-10002607</td>\n",
       "      <td>Furniture</td>\n",
       "      <td>Tables</td>\n",
       "      <td>KI Conference Tables</td>\n",
       "      <td>177.225</td>\n",
       "      <td>5</td>\n",
       "      <td>0.5</td>\n",
       "      <td>-120.5130</td>\n",
       "    </tr>\n",
       "    <tr>\n",
       "      <th>5373</th>\n",
       "      <td>CA-2015-118738</td>\n",
       "      <td>2015-10-24</td>\n",
       "      <td>2015-10-30</td>\n",
       "      <td>Standard Class</td>\n",
       "      <td>AG-10495</td>\n",
       "      <td>Andrew Gjertsen</td>\n",
       "      <td>Corporate</td>\n",
       "      <td>United States</td>\n",
       "      <td>Houston</td>\n",
       "      <td>Texas</td>\n",
       "      <td>77041</td>\n",
       "      <td>Central</td>\n",
       "      <td>FUR-TA-10002607</td>\n",
       "      <td>Furniture</td>\n",
       "      <td>Tables</td>\n",
       "      <td>KI Conference Tables</td>\n",
       "      <td>347.361</td>\n",
       "      <td>7</td>\n",
       "      <td>0.3</td>\n",
       "      <td>-69.4722</td>\n",
       "    </tr>\n",
       "    <tr>\n",
       "      <th>6799</th>\n",
       "      <td>CA-2016-109827</td>\n",
       "      <td>2016-12-25</td>\n",
       "      <td>2017-01-01</td>\n",
       "      <td>Standard Class</td>\n",
       "      <td>LW-16825</td>\n",
       "      <td>Laurel Workman</td>\n",
       "      <td>Corporate</td>\n",
       "      <td>United States</td>\n",
       "      <td>Phoenix</td>\n",
       "      <td>Arizona</td>\n",
       "      <td>85023</td>\n",
       "      <td>West</td>\n",
       "      <td>FUR-TA-10002607</td>\n",
       "      <td>Furniture</td>\n",
       "      <td>Tables</td>\n",
       "      <td>KI Conference Tables</td>\n",
       "      <td>35.445</td>\n",
       "      <td>1</td>\n",
       "      <td>0.5</td>\n",
       "      <td>-24.1026</td>\n",
       "    </tr>\n",
       "    <tr>\n",
       "      <th>9031</th>\n",
       "      <td>CA-2017-128041</td>\n",
       "      <td>2017-09-01</td>\n",
       "      <td>2017-09-01</td>\n",
       "      <td>Same Day</td>\n",
       "      <td>RW-19540</td>\n",
       "      <td>Rick Wilson</td>\n",
       "      <td>Corporate</td>\n",
       "      <td>United States</td>\n",
       "      <td>Seattle</td>\n",
       "      <td>Washington</td>\n",
       "      <td>98103</td>\n",
       "      <td>West</td>\n",
       "      <td>FUR-TA-10002607</td>\n",
       "      <td>Furniture</td>\n",
       "      <td>Tables</td>\n",
       "      <td>KI Conference Tables</td>\n",
       "      <td>283.560</td>\n",
       "      <td>4</td>\n",
       "      <td>0.0</td>\n",
       "      <td>45.3696</td>\n",
       "    </tr>\n",
       "  </tbody>\n",
       "</table>\n",
       "</div>"
      ],
      "text/plain": [
       "             OrderID  OrderDate   ShipDate        ShipMode CustomerID  \\\n",
       "241   CA-2016-157749 2016-06-04 2016-06-09    Second Class   KL-16645   \n",
       "746   CA-2014-124429 2014-05-27 2014-05-27        Same Day   MH-17785   \n",
       "1580  CA-2015-131338 2015-08-09 2015-08-12     First Class   NP-18325   \n",
       "1814  CA-2015-131597 2015-09-14 2015-09-18  Standard Class   SP-20620   \n",
       "4294  CA-2017-101581 2017-10-22 2017-10-27  Standard Class   DW-13195   \n",
       "5373  CA-2015-118738 2015-10-24 2015-10-30  Standard Class   AG-10495   \n",
       "6799  CA-2016-109827 2016-12-25 2017-01-01  Standard Class   LW-16825   \n",
       "9031  CA-2017-128041 2017-09-01 2017-09-01        Same Day   RW-19540   \n",
       "\n",
       "          CustomerName    Segment        Country           City       State  \\\n",
       "241       Ken Lonsdale   Consumer  United States        Chicago    Illinois   \n",
       "746        Maya Herman  Corporate  United States      San Diego  California   \n",
       "1580      Naresj Patel   Consumer  United States  New York City    New York   \n",
       "1814  Stefania Perrino  Corporate  United States    Los Angeles  California   \n",
       "4294      David Wiener  Corporate  United States        Redmond      Oregon   \n",
       "5373   Andrew Gjertsen  Corporate  United States        Houston       Texas   \n",
       "6799    Laurel Workman  Corporate  United States        Phoenix     Arizona   \n",
       "9031       Rick Wilson  Corporate  United States        Seattle  Washington   \n",
       "\n",
       "      PostalCode   Region        ProductID   Category SubCategory  \\\n",
       "241        60610  Central  FUR-TA-10002607  Furniture      Tables   \n",
       "746        92105     West  FUR-TA-10002607  Furniture      Tables   \n",
       "1580       10024     East  FUR-TA-10002607  Furniture      Tables   \n",
       "1814       90045     West  FUR-TA-10002607  Furniture      Tables   \n",
       "4294       97756     West  FUR-TA-10002607  Furniture      Tables   \n",
       "5373       77041  Central  FUR-TA-10002607  Furniture      Tables   \n",
       "6799       85023     West  FUR-TA-10002607  Furniture      Tables   \n",
       "9031       98103     West  FUR-TA-10002607  Furniture      Tables   \n",
       "\n",
       "               ProductName    Sales  Quantity  Discount    Profit  \n",
       "241   KI Conference Tables  177.225         5       0.5 -120.5130  \n",
       "746   KI Conference Tables  567.120        10       0.2  -28.3560  \n",
       "1580  KI Conference Tables  382.806         9       0.4 -153.1224  \n",
       "1814  KI Conference Tables  170.136         3       0.2   -8.5068  \n",
       "4294  KI Conference Tables  177.225         5       0.5 -120.5130  \n",
       "5373  KI Conference Tables  347.361         7       0.3  -69.4722  \n",
       "6799  KI Conference Tables   35.445         1       0.5  -24.1026  \n",
       "9031  KI Conference Tables  283.560         4       0.0   45.3696  "
      ]
     },
     "execution_count": 264,
     "metadata": {},
     "output_type": "execute_result"
    }
   ],
   "source": [
    "# What is the meaning of sales? \n",
    "df[df.ProductID == 'FUR-TA-10002607']"
   ]
  },
  {
   "cell_type": "code",
   "execution_count": 265,
   "id": "fa3f4f88",
   "metadata": {},
   "outputs": [
    {
     "data": {
      "text/plain": [
       "35.445"
      ]
     },
     "execution_count": 265,
     "metadata": {},
     "output_type": "execute_result"
    }
   ],
   "source": [
    "283.56/4 * 0.5"
   ]
  },
  {
   "cell_type": "markdown",
   "id": "5f906ac0",
   "metadata": {},
   "source": [
    "* **Sales**: Total Price of order after discount = (1 - Discount) * Price * Quantity\n",
    "* **Profit**: Total Profit of order; Profit = (ProfitRate * Price - Discount * Price) * Quantity"
   ]
  },
  {
   "cell_type": "markdown",
   "id": "d2abc61f",
   "metadata": {},
   "source": [
    "# Check Data Integrity"
   ]
  },
  {
   "cell_type": "code",
   "execution_count": 266,
   "id": "f03bff4a",
   "metadata": {},
   "outputs": [
    {
     "name": "stdout",
     "output_type": "stream",
     "text": [
      "duplicates 1\n"
     ]
    }
   ],
   "source": [
    "# duplicate rows\n",
    "print('duplicates', df.duplicated().sum())"
   ]
  },
  {
   "cell_type": "code",
   "execution_count": 267,
   "id": "bcb3fd7e",
   "metadata": {},
   "outputs": [
    {
     "data": {
      "application/vnd.microsoft.datawrangler.viewer.v0+json": {
       "columns": [
        {
         "name": "index",
         "rawType": "object",
         "type": "string"
        },
        {
         "name": "0",
         "rawType": "int64",
         "type": "integer"
        }
       ],
       "ref": "5d82ca21-22fc-4390-a73c-0f1383355827",
       "rows": [
        [
         "OrderID",
         "0"
        ],
        [
         "OrderDate",
         "0"
        ],
        [
         "ShipDate",
         "0"
        ],
        [
         "ShipMode",
         "0"
        ],
        [
         "CustomerID",
         "0"
        ],
        [
         "CustomerName",
         "0"
        ],
        [
         "Segment",
         "0"
        ],
        [
         "Country",
         "0"
        ],
        [
         "City",
         "0"
        ],
        [
         "State",
         "0"
        ],
        [
         "PostalCode",
         "0"
        ],
        [
         "Region",
         "0"
        ],
        [
         "ProductID",
         "0"
        ],
        [
         "Category",
         "0"
        ],
        [
         "SubCategory",
         "0"
        ],
        [
         "ProductName",
         "0"
        ],
        [
         "Sales",
         "0"
        ],
        [
         "Quantity",
         "0"
        ],
        [
         "Discount",
         "0"
        ],
        [
         "Profit",
         "0"
        ]
       ],
       "shape": {
        "columns": 1,
        "rows": 20
       }
      },
      "text/plain": [
       "OrderID         0\n",
       "OrderDate       0\n",
       "ShipDate        0\n",
       "ShipMode        0\n",
       "CustomerID      0\n",
       "CustomerName    0\n",
       "Segment         0\n",
       "Country         0\n",
       "City            0\n",
       "State           0\n",
       "PostalCode      0\n",
       "Region          0\n",
       "ProductID       0\n",
       "Category        0\n",
       "SubCategory     0\n",
       "ProductName     0\n",
       "Sales           0\n",
       "Quantity        0\n",
       "Discount        0\n",
       "Profit          0\n",
       "dtype: int64"
      ]
     },
     "execution_count": 267,
     "metadata": {},
     "output_type": "execute_result"
    }
   ],
   "source": [
    "# missing values\n",
    "df.isna().sum()"
   ]
  },
  {
   "cell_type": "markdown",
   "id": "a9db04b8",
   "metadata": {},
   "source": [
    "no missing values"
   ]
  },
  {
   "cell_type": "markdown",
   "id": "db30d936",
   "metadata": {},
   "source": [
    "# Deal with the duplicates in order stem data\n",
    "order stem data: non-numeric data of an order"
   ]
  },
  {
   "cell_type": "code",
   "execution_count": 268,
   "id": "d96b713b",
   "metadata": {},
   "outputs": [
    {
     "name": "stdout",
     "output_type": "stream",
     "text": [
      "duplicates 16\n"
     ]
    },
    {
     "data": {
      "application/vnd.microsoft.datawrangler.viewer.v0+json": {
       "columns": [
        {
         "name": "index",
         "rawType": "int64",
         "type": "integer"
        },
        {
         "name": "OrderID",
         "rawType": "string",
         "type": "string"
        },
        {
         "name": "OrderDate",
         "rawType": "datetime64[ns]",
         "type": "datetime"
        },
        {
         "name": "ShipDate",
         "rawType": "datetime64[ns]",
         "type": "datetime"
        },
        {
         "name": "ShipMode",
         "rawType": "category",
         "type": "unknown"
        },
        {
         "name": "CustomerID",
         "rawType": "string",
         "type": "string"
        },
        {
         "name": "CustomerName",
         "rawType": "string",
         "type": "string"
        },
        {
         "name": "Segment",
         "rawType": "category",
         "type": "unknown"
        },
        {
         "name": "Country",
         "rawType": "category",
         "type": "unknown"
        },
        {
         "name": "City",
         "rawType": "category",
         "type": "unknown"
        },
        {
         "name": "State",
         "rawType": "category",
         "type": "unknown"
        },
        {
         "name": "PostalCode",
         "rawType": "int64",
         "type": "integer"
        },
        {
         "name": "Region",
         "rawType": "category",
         "type": "unknown"
        },
        {
         "name": "ProductID",
         "rawType": "string",
         "type": "string"
        },
        {
         "name": "Category",
         "rawType": "category",
         "type": "unknown"
        },
        {
         "name": "SubCategory",
         "rawType": "category",
         "type": "unknown"
        },
        {
         "name": "ProductName",
         "rawType": "string",
         "type": "string"
        },
        {
         "name": "Sales",
         "rawType": "float64",
         "type": "float"
        },
        {
         "name": "Quantity",
         "rawType": "int64",
         "type": "integer"
        },
        {
         "name": "Discount",
         "rawType": "float64",
         "type": "float"
        },
        {
         "name": "Profit",
         "rawType": "float64",
         "type": "float"
        }
       ],
       "ref": "110ff71d-747b-4911-8b83-7cdcf4a8cdae",
       "rows": [
        [
         "350",
         "CA-2016-129714",
         "2016-09-01 00:00:00",
         "2016-09-03 00:00:00",
         "First Class",
         "AB-10060",
         "Adam Bellavance",
         "Home Office",
         "United States",
         "New York City",
         "New York",
         "10009",
         "East",
         "OFF-PA-10001970",
         "Office Supplies",
         "Paper",
         "Xerox 1881",
         "24.56",
         "2",
         "0.0",
         "11.5432"
        ],
        [
         "352",
         "CA-2016-129714",
         "2016-09-01 00:00:00",
         "2016-09-03 00:00:00",
         "First Class",
         "AB-10060",
         "Adam Bellavance",
         "Home Office",
         "United States",
         "New York City",
         "New York",
         "10009",
         "East",
         "OFF-PA-10001970",
         "Office Supplies",
         "Paper",
         "Xerox 1881",
         "49.12",
         "4",
         "0.0",
         "23.0864"
        ],
        [
         "430",
         "US-2016-123750",
         "2016-04-15 00:00:00",
         "2016-04-21 00:00:00",
         "Standard Class",
         "RB-19795",
         "Ross Baird",
         "Home Office",
         "United States",
         "Gastonia",
         "North Carolina",
         "28052",
         "South",
         "TEC-AC-10004659",
         "Technology",
         "Accessories",
         "Imation Secure+ Hardware Encrypted USB 2.0 Flash Drive; 16GB",
         "408.744",
         "7",
         "0.2",
         "76.6395"
        ],
        [
         "431",
         "US-2016-123750",
         "2016-04-15 00:00:00",
         "2016-04-21 00:00:00",
         "Standard Class",
         "RB-19795",
         "Ross Baird",
         "Home Office",
         "United States",
         "Gastonia",
         "North Carolina",
         "28052",
         "South",
         "TEC-AC-10004659",
         "Technology",
         "Accessories",
         "Imation Secure+ Hardware Encrypted USB 2.0 Flash Drive; 16GB",
         "291.96",
         "5",
         "0.2",
         "54.7425"
        ],
        [
         "1300",
         "CA-2016-137043",
         "2016-12-23 00:00:00",
         "2016-12-25 00:00:00",
         "Second Class",
         "LC-17140",
         "Logan Currie",
         "Consumer",
         "United States",
         "Springfield",
         "Virginia",
         "22153",
         "South",
         "FUR-FU-10003664",
         "Furniture",
         "Furnishings",
         "Electrix Architect's Clamp-On Swing Arm Lamp, Black",
         "572.76",
         "6",
         "0.0",
         "166.1004"
        ],
        [
         "1301",
         "CA-2016-137043",
         "2016-12-23 00:00:00",
         "2016-12-25 00:00:00",
         "Second Class",
         "LC-17140",
         "Logan Currie",
         "Consumer",
         "United States",
         "Springfield",
         "Virginia",
         "22153",
         "South",
         "FUR-FU-10003664",
         "Furniture",
         "Furnishings",
         "Electrix Architect's Clamp-On Swing Arm Lamp, Black",
         "286.38",
         "3",
         "0.0",
         "83.0502"
        ],
        [
         "3183",
         "CA-2017-152912",
         "2017-11-09 00:00:00",
         "2017-11-12 00:00:00",
         "Second Class",
         "BM-11650",
         "Brian Moss",
         "Corporate",
         "United States",
         "Columbia",
         "Maryland",
         "21044",
         "East",
         "OFF-ST-10003208",
         "Office Supplies",
         "Storage",
         "Adjustable Depth Letter/Legal Cart",
         "1633.14",
         "9",
         "0.0",
         "473.6106"
        ],
        [
         "3184",
         "CA-2017-152912",
         "2017-11-09 00:00:00",
         "2017-11-12 00:00:00",
         "Second Class",
         "BM-11650",
         "Brian Moss",
         "Corporate",
         "United States",
         "Columbia",
         "Maryland",
         "21044",
         "East",
         "OFF-ST-10003208",
         "Office Supplies",
         "Storage",
         "Adjustable Depth Letter/Legal Cart",
         "544.38",
         "3",
         "0.0",
         "157.8702"
        ],
        [
         "3405",
         "US-2014-150119",
         "2014-04-23 00:00:00",
         "2014-04-27 00:00:00",
         "Standard Class",
         "LB-16795",
         "Laurel Beltran",
         "Home Office",
         "United States",
         "Columbus",
         "Ohio",
         "43229",
         "East",
         "FUR-CH-10002965",
         "Furniture",
         "Chairs",
         "Global Leather Highback Executive Chair with Pneumatic Height Adjustment, Black",
         "281.372",
         "2",
         "0.3",
         "-12.0588"
        ],
        [
         "3406",
         "US-2014-150119",
         "2014-04-23 00:00:00",
         "2014-04-27 00:00:00",
         "Standard Class",
         "LB-16795",
         "Laurel Beltran",
         "Home Office",
         "United States",
         "Columbus",
         "Ohio",
         "43229",
         "East",
         "FUR-CH-10002965",
         "Furniture",
         "Chairs",
         "Global Leather Highback Executive Chair with Pneumatic Height Adjustment, Black",
         "281.372",
         "2",
         "0.3",
         "-12.0588"
        ],
        [
         "6498",
         "CA-2015-103135",
         "2015-07-24 00:00:00",
         "2015-07-28 00:00:00",
         "Standard Class",
         "SS-20515",
         "Shirley Schmidt",
         "Home Office",
         "United States",
         "Louisville",
         "Kentucky",
         "40214",
         "South",
         "OFF-BI-10000069",
         "Office Supplies",
         "Binders",
         "GBC Prepunched Paper, 19-Hole, for Binding Systems, 24-lb",
         "135.09",
         "9",
         "0.0",
         "62.1414"
        ],
        [
         "6500",
         "CA-2015-103135",
         "2015-07-24 00:00:00",
         "2015-07-28 00:00:00",
         "Standard Class",
         "SS-20515",
         "Shirley Schmidt",
         "Home Office",
         "United States",
         "Louisville",
         "Kentucky",
         "40214",
         "South",
         "OFF-BI-10000069",
         "Office Supplies",
         "Binders",
         "GBC Prepunched Paper, 19-Hole, for Binding Systems, 24-lb",
         "90.06",
         "6",
         "0.0",
         "41.4276"
        ],
        [
         "7881",
         "CA-2017-118017",
         "2017-12-03 00:00:00",
         "2017-12-06 00:00:00",
         "Second Class",
         "LC-16870",
         "Lena Cacioppo",
         "Consumer",
         "United States",
         "Thornton",
         "Colorado",
         "80229",
         "West",
         "TEC-AC-10002006",
         "Technology",
         "Accessories",
         "Memorex Micro Travel Drive 16 GB",
         "76.752",
         "6",
         "0.2",
         "10.5534"
        ],
        [
         "7882",
         "CA-2017-118017",
         "2017-12-03 00:00:00",
         "2017-12-06 00:00:00",
         "Second Class",
         "LC-16870",
         "Lena Cacioppo",
         "Consumer",
         "United States",
         "Thornton",
         "Colorado",
         "80229",
         "West",
         "TEC-AC-10002006",
         "Technology",
         "Accessories",
         "Memorex Micro Travel Drive 16 GB",
         "102.336",
         "8",
         "0.2",
         "14.0712"
        ],
        [
         "9168",
         "CA-2016-140571",
         "2016-03-15 00:00:00",
         "2016-03-19 00:00:00",
         "Standard Class",
         "SJ-20125",
         "Sanjit Jacobs",
         "Home Office",
         "United States",
         "Jackson",
         "Mississippi",
         "39212",
         "South",
         "OFF-PA-10001954",
         "Office Supplies",
         "Paper",
         "Xerox 1964",
         "319.76",
         "14",
         "0.0",
         "147.0896"
        ],
        [
         "9169",
         "CA-2016-140571",
         "2016-03-15 00:00:00",
         "2016-03-19 00:00:00",
         "Standard Class",
         "SJ-20125",
         "Sanjit Jacobs",
         "Home Office",
         "United States",
         "Jackson",
         "Mississippi",
         "39212",
         "South",
         "OFF-PA-10001954",
         "Office Supplies",
         "Paper",
         "Xerox 1964",
         "45.68",
         "2",
         "0.0",
         "21.0128"
        ]
       ],
       "shape": {
        "columns": 20,
        "rows": 16
       }
      },
      "text/html": [
       "<div>\n",
       "<style scoped>\n",
       "    .dataframe tbody tr th:only-of-type {\n",
       "        vertical-align: middle;\n",
       "    }\n",
       "\n",
       "    .dataframe tbody tr th {\n",
       "        vertical-align: top;\n",
       "    }\n",
       "\n",
       "    .dataframe thead th {\n",
       "        text-align: right;\n",
       "    }\n",
       "</style>\n",
       "<table border=\"1\" class=\"dataframe\">\n",
       "  <thead>\n",
       "    <tr style=\"text-align: right;\">\n",
       "      <th></th>\n",
       "      <th>OrderID</th>\n",
       "      <th>OrderDate</th>\n",
       "      <th>ShipDate</th>\n",
       "      <th>ShipMode</th>\n",
       "      <th>CustomerID</th>\n",
       "      <th>CustomerName</th>\n",
       "      <th>Segment</th>\n",
       "      <th>Country</th>\n",
       "      <th>City</th>\n",
       "      <th>State</th>\n",
       "      <th>PostalCode</th>\n",
       "      <th>Region</th>\n",
       "      <th>ProductID</th>\n",
       "      <th>Category</th>\n",
       "      <th>SubCategory</th>\n",
       "      <th>ProductName</th>\n",
       "      <th>Sales</th>\n",
       "      <th>Quantity</th>\n",
       "      <th>Discount</th>\n",
       "      <th>Profit</th>\n",
       "    </tr>\n",
       "  </thead>\n",
       "  <tbody>\n",
       "    <tr>\n",
       "      <th>350</th>\n",
       "      <td>CA-2016-129714</td>\n",
       "      <td>2016-09-01</td>\n",
       "      <td>2016-09-03</td>\n",
       "      <td>First Class</td>\n",
       "      <td>AB-10060</td>\n",
       "      <td>Adam Bellavance</td>\n",
       "      <td>Home Office</td>\n",
       "      <td>United States</td>\n",
       "      <td>New York City</td>\n",
       "      <td>New York</td>\n",
       "      <td>10009</td>\n",
       "      <td>East</td>\n",
       "      <td>OFF-PA-10001970</td>\n",
       "      <td>Office Supplies</td>\n",
       "      <td>Paper</td>\n",
       "      <td>Xerox 1881</td>\n",
       "      <td>24.560</td>\n",
       "      <td>2</td>\n",
       "      <td>0.0</td>\n",
       "      <td>11.5432</td>\n",
       "    </tr>\n",
       "    <tr>\n",
       "      <th>352</th>\n",
       "      <td>CA-2016-129714</td>\n",
       "      <td>2016-09-01</td>\n",
       "      <td>2016-09-03</td>\n",
       "      <td>First Class</td>\n",
       "      <td>AB-10060</td>\n",
       "      <td>Adam Bellavance</td>\n",
       "      <td>Home Office</td>\n",
       "      <td>United States</td>\n",
       "      <td>New York City</td>\n",
       "      <td>New York</td>\n",
       "      <td>10009</td>\n",
       "      <td>East</td>\n",
       "      <td>OFF-PA-10001970</td>\n",
       "      <td>Office Supplies</td>\n",
       "      <td>Paper</td>\n",
       "      <td>Xerox 1881</td>\n",
       "      <td>49.120</td>\n",
       "      <td>4</td>\n",
       "      <td>0.0</td>\n",
       "      <td>23.0864</td>\n",
       "    </tr>\n",
       "    <tr>\n",
       "      <th>430</th>\n",
       "      <td>US-2016-123750</td>\n",
       "      <td>2016-04-15</td>\n",
       "      <td>2016-04-21</td>\n",
       "      <td>Standard Class</td>\n",
       "      <td>RB-19795</td>\n",
       "      <td>Ross Baird</td>\n",
       "      <td>Home Office</td>\n",
       "      <td>United States</td>\n",
       "      <td>Gastonia</td>\n",
       "      <td>North Carolina</td>\n",
       "      <td>28052</td>\n",
       "      <td>South</td>\n",
       "      <td>TEC-AC-10004659</td>\n",
       "      <td>Technology</td>\n",
       "      <td>Accessories</td>\n",
       "      <td>Imation Secure+ Hardware Encrypted USB 2.0 Fla...</td>\n",
       "      <td>408.744</td>\n",
       "      <td>7</td>\n",
       "      <td>0.2</td>\n",
       "      <td>76.6395</td>\n",
       "    </tr>\n",
       "    <tr>\n",
       "      <th>431</th>\n",
       "      <td>US-2016-123750</td>\n",
       "      <td>2016-04-15</td>\n",
       "      <td>2016-04-21</td>\n",
       "      <td>Standard Class</td>\n",
       "      <td>RB-19795</td>\n",
       "      <td>Ross Baird</td>\n",
       "      <td>Home Office</td>\n",
       "      <td>United States</td>\n",
       "      <td>Gastonia</td>\n",
       "      <td>North Carolina</td>\n",
       "      <td>28052</td>\n",
       "      <td>South</td>\n",
       "      <td>TEC-AC-10004659</td>\n",
       "      <td>Technology</td>\n",
       "      <td>Accessories</td>\n",
       "      <td>Imation Secure+ Hardware Encrypted USB 2.0 Fla...</td>\n",
       "      <td>291.960</td>\n",
       "      <td>5</td>\n",
       "      <td>0.2</td>\n",
       "      <td>54.7425</td>\n",
       "    </tr>\n",
       "    <tr>\n",
       "      <th>1300</th>\n",
       "      <td>CA-2016-137043</td>\n",
       "      <td>2016-12-23</td>\n",
       "      <td>2016-12-25</td>\n",
       "      <td>Second Class</td>\n",
       "      <td>LC-17140</td>\n",
       "      <td>Logan Currie</td>\n",
       "      <td>Consumer</td>\n",
       "      <td>United States</td>\n",
       "      <td>Springfield</td>\n",
       "      <td>Virginia</td>\n",
       "      <td>22153</td>\n",
       "      <td>South</td>\n",
       "      <td>FUR-FU-10003664</td>\n",
       "      <td>Furniture</td>\n",
       "      <td>Furnishings</td>\n",
       "      <td>Electrix Architect's Clamp-On Swing Arm Lamp, ...</td>\n",
       "      <td>572.760</td>\n",
       "      <td>6</td>\n",
       "      <td>0.0</td>\n",
       "      <td>166.1004</td>\n",
       "    </tr>\n",
       "    <tr>\n",
       "      <th>1301</th>\n",
       "      <td>CA-2016-137043</td>\n",
       "      <td>2016-12-23</td>\n",
       "      <td>2016-12-25</td>\n",
       "      <td>Second Class</td>\n",
       "      <td>LC-17140</td>\n",
       "      <td>Logan Currie</td>\n",
       "      <td>Consumer</td>\n",
       "      <td>United States</td>\n",
       "      <td>Springfield</td>\n",
       "      <td>Virginia</td>\n",
       "      <td>22153</td>\n",
       "      <td>South</td>\n",
       "      <td>FUR-FU-10003664</td>\n",
       "      <td>Furniture</td>\n",
       "      <td>Furnishings</td>\n",
       "      <td>Electrix Architect's Clamp-On Swing Arm Lamp, ...</td>\n",
       "      <td>286.380</td>\n",
       "      <td>3</td>\n",
       "      <td>0.0</td>\n",
       "      <td>83.0502</td>\n",
       "    </tr>\n",
       "    <tr>\n",
       "      <th>3183</th>\n",
       "      <td>CA-2017-152912</td>\n",
       "      <td>2017-11-09</td>\n",
       "      <td>2017-11-12</td>\n",
       "      <td>Second Class</td>\n",
       "      <td>BM-11650</td>\n",
       "      <td>Brian Moss</td>\n",
       "      <td>Corporate</td>\n",
       "      <td>United States</td>\n",
       "      <td>Columbia</td>\n",
       "      <td>Maryland</td>\n",
       "      <td>21044</td>\n",
       "      <td>East</td>\n",
       "      <td>OFF-ST-10003208</td>\n",
       "      <td>Office Supplies</td>\n",
       "      <td>Storage</td>\n",
       "      <td>Adjustable Depth Letter/Legal Cart</td>\n",
       "      <td>1633.140</td>\n",
       "      <td>9</td>\n",
       "      <td>0.0</td>\n",
       "      <td>473.6106</td>\n",
       "    </tr>\n",
       "    <tr>\n",
       "      <th>3184</th>\n",
       "      <td>CA-2017-152912</td>\n",
       "      <td>2017-11-09</td>\n",
       "      <td>2017-11-12</td>\n",
       "      <td>Second Class</td>\n",
       "      <td>BM-11650</td>\n",
       "      <td>Brian Moss</td>\n",
       "      <td>Corporate</td>\n",
       "      <td>United States</td>\n",
       "      <td>Columbia</td>\n",
       "      <td>Maryland</td>\n",
       "      <td>21044</td>\n",
       "      <td>East</td>\n",
       "      <td>OFF-ST-10003208</td>\n",
       "      <td>Office Supplies</td>\n",
       "      <td>Storage</td>\n",
       "      <td>Adjustable Depth Letter/Legal Cart</td>\n",
       "      <td>544.380</td>\n",
       "      <td>3</td>\n",
       "      <td>0.0</td>\n",
       "      <td>157.8702</td>\n",
       "    </tr>\n",
       "    <tr>\n",
       "      <th>3405</th>\n",
       "      <td>US-2014-150119</td>\n",
       "      <td>2014-04-23</td>\n",
       "      <td>2014-04-27</td>\n",
       "      <td>Standard Class</td>\n",
       "      <td>LB-16795</td>\n",
       "      <td>Laurel Beltran</td>\n",
       "      <td>Home Office</td>\n",
       "      <td>United States</td>\n",
       "      <td>Columbus</td>\n",
       "      <td>Ohio</td>\n",
       "      <td>43229</td>\n",
       "      <td>East</td>\n",
       "      <td>FUR-CH-10002965</td>\n",
       "      <td>Furniture</td>\n",
       "      <td>Chairs</td>\n",
       "      <td>Global Leather Highback Executive Chair with P...</td>\n",
       "      <td>281.372</td>\n",
       "      <td>2</td>\n",
       "      <td>0.3</td>\n",
       "      <td>-12.0588</td>\n",
       "    </tr>\n",
       "    <tr>\n",
       "      <th>3406</th>\n",
       "      <td>US-2014-150119</td>\n",
       "      <td>2014-04-23</td>\n",
       "      <td>2014-04-27</td>\n",
       "      <td>Standard Class</td>\n",
       "      <td>LB-16795</td>\n",
       "      <td>Laurel Beltran</td>\n",
       "      <td>Home Office</td>\n",
       "      <td>United States</td>\n",
       "      <td>Columbus</td>\n",
       "      <td>Ohio</td>\n",
       "      <td>43229</td>\n",
       "      <td>East</td>\n",
       "      <td>FUR-CH-10002965</td>\n",
       "      <td>Furniture</td>\n",
       "      <td>Chairs</td>\n",
       "      <td>Global Leather Highback Executive Chair with P...</td>\n",
       "      <td>281.372</td>\n",
       "      <td>2</td>\n",
       "      <td>0.3</td>\n",
       "      <td>-12.0588</td>\n",
       "    </tr>\n",
       "    <tr>\n",
       "      <th>6498</th>\n",
       "      <td>CA-2015-103135</td>\n",
       "      <td>2015-07-24</td>\n",
       "      <td>2015-07-28</td>\n",
       "      <td>Standard Class</td>\n",
       "      <td>SS-20515</td>\n",
       "      <td>Shirley Schmidt</td>\n",
       "      <td>Home Office</td>\n",
       "      <td>United States</td>\n",
       "      <td>Louisville</td>\n",
       "      <td>Kentucky</td>\n",
       "      <td>40214</td>\n",
       "      <td>South</td>\n",
       "      <td>OFF-BI-10000069</td>\n",
       "      <td>Office Supplies</td>\n",
       "      <td>Binders</td>\n",
       "      <td>GBC Prepunched Paper, 19-Hole, for Binding Sys...</td>\n",
       "      <td>135.090</td>\n",
       "      <td>9</td>\n",
       "      <td>0.0</td>\n",
       "      <td>62.1414</td>\n",
       "    </tr>\n",
       "    <tr>\n",
       "      <th>6500</th>\n",
       "      <td>CA-2015-103135</td>\n",
       "      <td>2015-07-24</td>\n",
       "      <td>2015-07-28</td>\n",
       "      <td>Standard Class</td>\n",
       "      <td>SS-20515</td>\n",
       "      <td>Shirley Schmidt</td>\n",
       "      <td>Home Office</td>\n",
       "      <td>United States</td>\n",
       "      <td>Louisville</td>\n",
       "      <td>Kentucky</td>\n",
       "      <td>40214</td>\n",
       "      <td>South</td>\n",
       "      <td>OFF-BI-10000069</td>\n",
       "      <td>Office Supplies</td>\n",
       "      <td>Binders</td>\n",
       "      <td>GBC Prepunched Paper, 19-Hole, for Binding Sys...</td>\n",
       "      <td>90.060</td>\n",
       "      <td>6</td>\n",
       "      <td>0.0</td>\n",
       "      <td>41.4276</td>\n",
       "    </tr>\n",
       "    <tr>\n",
       "      <th>7881</th>\n",
       "      <td>CA-2017-118017</td>\n",
       "      <td>2017-12-03</td>\n",
       "      <td>2017-12-06</td>\n",
       "      <td>Second Class</td>\n",
       "      <td>LC-16870</td>\n",
       "      <td>Lena Cacioppo</td>\n",
       "      <td>Consumer</td>\n",
       "      <td>United States</td>\n",
       "      <td>Thornton</td>\n",
       "      <td>Colorado</td>\n",
       "      <td>80229</td>\n",
       "      <td>West</td>\n",
       "      <td>TEC-AC-10002006</td>\n",
       "      <td>Technology</td>\n",
       "      <td>Accessories</td>\n",
       "      <td>Memorex Micro Travel Drive 16 GB</td>\n",
       "      <td>76.752</td>\n",
       "      <td>6</td>\n",
       "      <td>0.2</td>\n",
       "      <td>10.5534</td>\n",
       "    </tr>\n",
       "    <tr>\n",
       "      <th>7882</th>\n",
       "      <td>CA-2017-118017</td>\n",
       "      <td>2017-12-03</td>\n",
       "      <td>2017-12-06</td>\n",
       "      <td>Second Class</td>\n",
       "      <td>LC-16870</td>\n",
       "      <td>Lena Cacioppo</td>\n",
       "      <td>Consumer</td>\n",
       "      <td>United States</td>\n",
       "      <td>Thornton</td>\n",
       "      <td>Colorado</td>\n",
       "      <td>80229</td>\n",
       "      <td>West</td>\n",
       "      <td>TEC-AC-10002006</td>\n",
       "      <td>Technology</td>\n",
       "      <td>Accessories</td>\n",
       "      <td>Memorex Micro Travel Drive 16 GB</td>\n",
       "      <td>102.336</td>\n",
       "      <td>8</td>\n",
       "      <td>0.2</td>\n",
       "      <td>14.0712</td>\n",
       "    </tr>\n",
       "    <tr>\n",
       "      <th>9168</th>\n",
       "      <td>CA-2016-140571</td>\n",
       "      <td>2016-03-15</td>\n",
       "      <td>2016-03-19</td>\n",
       "      <td>Standard Class</td>\n",
       "      <td>SJ-20125</td>\n",
       "      <td>Sanjit Jacobs</td>\n",
       "      <td>Home Office</td>\n",
       "      <td>United States</td>\n",
       "      <td>Jackson</td>\n",
       "      <td>Mississippi</td>\n",
       "      <td>39212</td>\n",
       "      <td>South</td>\n",
       "      <td>OFF-PA-10001954</td>\n",
       "      <td>Office Supplies</td>\n",
       "      <td>Paper</td>\n",
       "      <td>Xerox 1964</td>\n",
       "      <td>319.760</td>\n",
       "      <td>14</td>\n",
       "      <td>0.0</td>\n",
       "      <td>147.0896</td>\n",
       "    </tr>\n",
       "    <tr>\n",
       "      <th>9169</th>\n",
       "      <td>CA-2016-140571</td>\n",
       "      <td>2016-03-15</td>\n",
       "      <td>2016-03-19</td>\n",
       "      <td>Standard Class</td>\n",
       "      <td>SJ-20125</td>\n",
       "      <td>Sanjit Jacobs</td>\n",
       "      <td>Home Office</td>\n",
       "      <td>United States</td>\n",
       "      <td>Jackson</td>\n",
       "      <td>Mississippi</td>\n",
       "      <td>39212</td>\n",
       "      <td>South</td>\n",
       "      <td>OFF-PA-10001954</td>\n",
       "      <td>Office Supplies</td>\n",
       "      <td>Paper</td>\n",
       "      <td>Xerox 1964</td>\n",
       "      <td>45.680</td>\n",
       "      <td>2</td>\n",
       "      <td>0.0</td>\n",
       "      <td>21.0128</td>\n",
       "    </tr>\n",
       "  </tbody>\n",
       "</table>\n",
       "</div>"
      ],
      "text/plain": [
       "             OrderID  OrderDate   ShipDate        ShipMode CustomerID  \\\n",
       "350   CA-2016-129714 2016-09-01 2016-09-03     First Class   AB-10060   \n",
       "352   CA-2016-129714 2016-09-01 2016-09-03     First Class   AB-10060   \n",
       "430   US-2016-123750 2016-04-15 2016-04-21  Standard Class   RB-19795   \n",
       "431   US-2016-123750 2016-04-15 2016-04-21  Standard Class   RB-19795   \n",
       "1300  CA-2016-137043 2016-12-23 2016-12-25    Second Class   LC-17140   \n",
       "1301  CA-2016-137043 2016-12-23 2016-12-25    Second Class   LC-17140   \n",
       "3183  CA-2017-152912 2017-11-09 2017-11-12    Second Class   BM-11650   \n",
       "3184  CA-2017-152912 2017-11-09 2017-11-12    Second Class   BM-11650   \n",
       "3405  US-2014-150119 2014-04-23 2014-04-27  Standard Class   LB-16795   \n",
       "3406  US-2014-150119 2014-04-23 2014-04-27  Standard Class   LB-16795   \n",
       "6498  CA-2015-103135 2015-07-24 2015-07-28  Standard Class   SS-20515   \n",
       "6500  CA-2015-103135 2015-07-24 2015-07-28  Standard Class   SS-20515   \n",
       "7881  CA-2017-118017 2017-12-03 2017-12-06    Second Class   LC-16870   \n",
       "7882  CA-2017-118017 2017-12-03 2017-12-06    Second Class   LC-16870   \n",
       "9168  CA-2016-140571 2016-03-15 2016-03-19  Standard Class   SJ-20125   \n",
       "9169  CA-2016-140571 2016-03-15 2016-03-19  Standard Class   SJ-20125   \n",
       "\n",
       "         CustomerName      Segment        Country           City  \\\n",
       "350   Adam Bellavance  Home Office  United States  New York City   \n",
       "352   Adam Bellavance  Home Office  United States  New York City   \n",
       "430        Ross Baird  Home Office  United States       Gastonia   \n",
       "431        Ross Baird  Home Office  United States       Gastonia   \n",
       "1300     Logan Currie     Consumer  United States    Springfield   \n",
       "1301     Logan Currie     Consumer  United States    Springfield   \n",
       "3183       Brian Moss    Corporate  United States       Columbia   \n",
       "3184       Brian Moss    Corporate  United States       Columbia   \n",
       "3405   Laurel Beltran  Home Office  United States       Columbus   \n",
       "3406   Laurel Beltran  Home Office  United States       Columbus   \n",
       "6498  Shirley Schmidt  Home Office  United States     Louisville   \n",
       "6500  Shirley Schmidt  Home Office  United States     Louisville   \n",
       "7881    Lena Cacioppo     Consumer  United States       Thornton   \n",
       "7882    Lena Cacioppo     Consumer  United States       Thornton   \n",
       "9168    Sanjit Jacobs  Home Office  United States        Jackson   \n",
       "9169    Sanjit Jacobs  Home Office  United States        Jackson   \n",
       "\n",
       "               State  PostalCode Region        ProductID         Category  \\\n",
       "350         New York       10009   East  OFF-PA-10001970  Office Supplies   \n",
       "352         New York       10009   East  OFF-PA-10001970  Office Supplies   \n",
       "430   North Carolina       28052  South  TEC-AC-10004659       Technology   \n",
       "431   North Carolina       28052  South  TEC-AC-10004659       Technology   \n",
       "1300        Virginia       22153  South  FUR-FU-10003664        Furniture   \n",
       "1301        Virginia       22153  South  FUR-FU-10003664        Furniture   \n",
       "3183        Maryland       21044   East  OFF-ST-10003208  Office Supplies   \n",
       "3184        Maryland       21044   East  OFF-ST-10003208  Office Supplies   \n",
       "3405            Ohio       43229   East  FUR-CH-10002965        Furniture   \n",
       "3406            Ohio       43229   East  FUR-CH-10002965        Furniture   \n",
       "6498        Kentucky       40214  South  OFF-BI-10000069  Office Supplies   \n",
       "6500        Kentucky       40214  South  OFF-BI-10000069  Office Supplies   \n",
       "7881        Colorado       80229   West  TEC-AC-10002006       Technology   \n",
       "7882        Colorado       80229   West  TEC-AC-10002006       Technology   \n",
       "9168     Mississippi       39212  South  OFF-PA-10001954  Office Supplies   \n",
       "9169     Mississippi       39212  South  OFF-PA-10001954  Office Supplies   \n",
       "\n",
       "      SubCategory                                        ProductName  \\\n",
       "350         Paper                                         Xerox 1881   \n",
       "352         Paper                                         Xerox 1881   \n",
       "430   Accessories  Imation Secure+ Hardware Encrypted USB 2.0 Fla...   \n",
       "431   Accessories  Imation Secure+ Hardware Encrypted USB 2.0 Fla...   \n",
       "1300  Furnishings  Electrix Architect's Clamp-On Swing Arm Lamp, ...   \n",
       "1301  Furnishings  Electrix Architect's Clamp-On Swing Arm Lamp, ...   \n",
       "3183      Storage                 Adjustable Depth Letter/Legal Cart   \n",
       "3184      Storage                 Adjustable Depth Letter/Legal Cart   \n",
       "3405       Chairs  Global Leather Highback Executive Chair with P...   \n",
       "3406       Chairs  Global Leather Highback Executive Chair with P...   \n",
       "6498      Binders  GBC Prepunched Paper, 19-Hole, for Binding Sys...   \n",
       "6500      Binders  GBC Prepunched Paper, 19-Hole, for Binding Sys...   \n",
       "7881  Accessories                   Memorex Micro Travel Drive 16 GB   \n",
       "7882  Accessories                   Memorex Micro Travel Drive 16 GB   \n",
       "9168        Paper                                         Xerox 1964   \n",
       "9169        Paper                                         Xerox 1964   \n",
       "\n",
       "         Sales  Quantity  Discount    Profit  \n",
       "350     24.560         2       0.0   11.5432  \n",
       "352     49.120         4       0.0   23.0864  \n",
       "430    408.744         7       0.2   76.6395  \n",
       "431    291.960         5       0.2   54.7425  \n",
       "1300   572.760         6       0.0  166.1004  \n",
       "1301   286.380         3       0.0   83.0502  \n",
       "3183  1633.140         9       0.0  473.6106  \n",
       "3184   544.380         3       0.0  157.8702  \n",
       "3405   281.372         2       0.3  -12.0588  \n",
       "3406   281.372         2       0.3  -12.0588  \n",
       "6498   135.090         9       0.0   62.1414  \n",
       "6500    90.060         6       0.0   41.4276  \n",
       "7881    76.752         6       0.2   10.5534  \n",
       "7882   102.336         8       0.2   14.0712  \n",
       "9168   319.760        14       0.0  147.0896  \n",
       "9169    45.680         2       0.0   21.0128  "
      ]
     },
     "execution_count": 268,
     "metadata": {},
     "output_type": "execute_result"
    }
   ],
   "source": [
    "# sum up rows where order details are equal, i.e. 'OrderReference', 'CustomerID', 'ProductID', 'OrderDate', 'Discount', 'ShipmentID'\n",
    "order_stem_data = [\n",
    "    'OrderID', 'OrderDate', 'ShipDate', 'ShipMode', 'CustomerID',\n",
    "    'CustomerName', 'Segment', 'Country', 'City', 'State', 'PostalCode',\n",
    "    'Region', 'ProductID', 'Category', 'SubCategory', 'ProductName', 'Discount'\n",
    "    ]\n",
    "\n",
    "mask_dups = df.duplicated(subset=order_stem_data, keep=False)\n",
    "print('duplicates', mask_dups.sum())\n",
    "df[mask_dups]"
   ]
  },
  {
   "cell_type": "markdown",
   "id": "4b58bb32",
   "metadata": {},
   "source": [
    "* Some orders are split up into two rows and can be summed up into one row.\n",
    "* Possible reason: The order has been extended afterwards on the same day."
   ]
  },
  {
   "cell_type": "code",
   "execution_count": 269,
   "id": "3a3d59c4",
   "metadata": {},
   "outputs": [],
   "source": [
    "# sum up\n",
    "df = df.groupby(by=order_stem_data, observed=True).agg({\n",
    "    'Sales':'sum', \n",
    "    'Quantity':'sum', \n",
    "    'Profit':'sum'}\n",
    "    ).reset_index()"
   ]
  },
  {
   "cell_type": "code",
   "execution_count": 270,
   "id": "378f5b85",
   "metadata": {},
   "outputs": [
    {
     "data": {
      "text/plain": [
       "0"
      ]
     },
     "execution_count": 270,
     "metadata": {},
     "output_type": "execute_result"
    }
   ],
   "source": [
    "# check again for duplicates\n",
    "df.duplicated().sum()"
   ]
  },
  {
   "cell_type": "markdown",
   "id": "a1d8afc1",
   "metadata": {},
   "source": [
    "No duplicates remain after this cleaning step."
   ]
  },
  {
   "cell_type": "markdown",
   "id": "8cd51345",
   "metadata": {},
   "source": [
    "# Build database tables\n",
    "* Build tables for the database\n",
    "* Apply cleaning steps"
   ]
  },
  {
   "cell_type": "code",
   "execution_count": 271,
   "id": "544de8d4",
   "metadata": {},
   "outputs": [],
   "source": [
    "customer_col    = ['CustomerID','CustomerName', 'Segment']\n",
    "product_col     = ['ProductID', 'Category', 'SubCategory', 'ProductName']\n",
    "address_col     = ['Country', 'Region', 'State', 'City', 'PostalCode']\n",
    "shipment_col    = ['ShipDate', 'ShipMode']\n",
    "orders_col      = ['OrderID', 'CustomerID', 'ProductID', 'OrderDate','Sales', 'Quantity', 'Discount', 'Profit']"
   ]
  },
  {
   "cell_type": "code",
   "execution_count": 272,
   "id": "4227d850",
   "metadata": {},
   "outputs": [],
   "source": [
    "# merge IDs to dataframe"
   ]
  },
  {
   "cell_type": "code",
   "execution_count": 273,
   "id": "cf7d68e8",
   "metadata": {},
   "outputs": [],
   "source": [
    "# map col names to db col names\n",
    "name_mapping={\n",
    "    'CustomerName'  : 'Name',\n",
    "    'ProductName'   : 'Name',\n",
    "    'OrderID'       : 'OrderReference'\n",
    "}"
   ]
  },
  {
   "cell_type": "markdown",
   "id": "dee75ead",
   "metadata": {},
   "source": [
    "## Customer"
   ]
  },
  {
   "cell_type": "code",
   "execution_count": 274,
   "id": "36da1104",
   "metadata": {},
   "outputs": [
    {
     "data": {
      "application/vnd.microsoft.datawrangler.viewer.v0+json": {
       "columns": [
        {
         "name": "CustomerID",
         "rawType": "string",
         "type": "string"
        },
        {
         "name": "Name",
         "rawType": "string",
         "type": "string"
        },
        {
         "name": "Segment",
         "rawType": "category",
         "type": "unknown"
        }
       ],
       "ref": "40c100be-16d2-4e05-8f45-44829d30b45b",
       "rows": [
        [
         "DK-13375",
         "Dennis Kane",
         "Consumer"
        ],
        [
         "EB-13705",
         "Ed Braxton",
         "Corporate"
        ],
        [
         "NF-18475",
         "Neil Französisch",
         "Home Office"
        ],
        [
         "JC-15340",
         "Jasper Cacioppo",
         "Consumer"
        ],
        [
         "JM-15655",
         "Jim Mitchum",
         "Corporate"
        ]
       ],
       "shape": {
        "columns": 2,
        "rows": 5
       }
      },
      "text/html": [
       "<div>\n",
       "<style scoped>\n",
       "    .dataframe tbody tr th:only-of-type {\n",
       "        vertical-align: middle;\n",
       "    }\n",
       "\n",
       "    .dataframe tbody tr th {\n",
       "        vertical-align: top;\n",
       "    }\n",
       "\n",
       "    .dataframe thead th {\n",
       "        text-align: right;\n",
       "    }\n",
       "</style>\n",
       "<table border=\"1\" class=\"dataframe\">\n",
       "  <thead>\n",
       "    <tr style=\"text-align: right;\">\n",
       "      <th></th>\n",
       "      <th>Name</th>\n",
       "      <th>Segment</th>\n",
       "    </tr>\n",
       "    <tr>\n",
       "      <th>CustomerID</th>\n",
       "      <th></th>\n",
       "      <th></th>\n",
       "    </tr>\n",
       "  </thead>\n",
       "  <tbody>\n",
       "    <tr>\n",
       "      <th>DK-13375</th>\n",
       "      <td>Dennis Kane</td>\n",
       "      <td>Consumer</td>\n",
       "    </tr>\n",
       "    <tr>\n",
       "      <th>EB-13705</th>\n",
       "      <td>Ed Braxton</td>\n",
       "      <td>Corporate</td>\n",
       "    </tr>\n",
       "    <tr>\n",
       "      <th>NF-18475</th>\n",
       "      <td>Neil Französisch</td>\n",
       "      <td>Home Office</td>\n",
       "    </tr>\n",
       "    <tr>\n",
       "      <th>JC-15340</th>\n",
       "      <td>Jasper Cacioppo</td>\n",
       "      <td>Consumer</td>\n",
       "    </tr>\n",
       "    <tr>\n",
       "      <th>JM-15655</th>\n",
       "      <td>Jim Mitchum</td>\n",
       "      <td>Corporate</td>\n",
       "    </tr>\n",
       "  </tbody>\n",
       "</table>\n",
       "</div>"
      ],
      "text/plain": [
       "                        Name      Segment\n",
       "CustomerID                               \n",
       "DK-13375         Dennis Kane     Consumer\n",
       "EB-13705          Ed Braxton    Corporate\n",
       "NF-18475    Neil Französisch  Home Office\n",
       "JC-15340     Jasper Cacioppo     Consumer\n",
       "JM-15655         Jim Mitchum    Corporate"
      ]
     },
     "execution_count": 274,
     "metadata": {},
     "output_type": "execute_result"
    }
   ],
   "source": [
    "# create dataframes\n",
    "customer = df[customer_col].drop_duplicates().set_index('CustomerID').rename(columns=name_mapping)\n",
    "customer.head()\n"
   ]
  },
  {
   "cell_type": "code",
   "execution_count": 275,
   "id": "4d105d9f",
   "metadata": {},
   "outputs": [
    {
     "name": "stdout",
     "output_type": "stream",
     "text": [
      "Customer ID duplicates 0\n",
      "Customer 0\n",
      "Customer Name duplicates 0\n"
     ]
    }
   ],
   "source": [
    "print('Customer ID duplicates',     customer.index.duplicated().sum())\n",
    "print('Customer',                   customer.duplicated().sum())\n",
    "print('Customer Name duplicates',   customer.Name.duplicated().sum())"
   ]
  },
  {
   "cell_type": "markdown",
   "id": "237c7c4c",
   "metadata": {},
   "source": [
    "## Product"
   ]
  },
  {
   "cell_type": "code",
   "execution_count": 276,
   "id": "c5237d5e",
   "metadata": {},
   "outputs": [
    {
     "data": {
      "application/vnd.microsoft.datawrangler.viewer.v0+json": {
       "columns": [
        {
         "name": "ProductID",
         "rawType": "string",
         "type": "string"
        },
        {
         "name": "Category",
         "rawType": "category",
         "type": "unknown"
        },
        {
         "name": "SubCategory",
         "rawType": "category",
         "type": "unknown"
        },
        {
         "name": "Name",
         "rawType": "string",
         "type": "string"
        }
       ],
       "ref": "3c4eae9b-9c9f-416c-b44c-79ccb8f60d98",
       "rows": [
        [
         "TEC-PH-10002075",
         "Technology",
         "Phones",
         "AT&T EL51110 DECT"
        ],
        [
         "FUR-TA-10003715",
         "Furniture",
         "Tables",
         "Hon 2111 Invitation Series Corner Table"
        ],
        [
         "OFF-BI-10001597",
         "Office Supplies",
         "Binders",
         "Wilson Jones Ledger-Size, Piano-Hinge Binder, 2\", Blue"
        ],
        [
         "OFF-PA-10000176",
         "Office Supplies",
         "Paper",
         "Xerox 1887"
        ],
        [
         "OFF-BI-10000343",
         "Office Supplies",
         "Binders",
         "Pressboard Covers with Storage Hooks, 9 1/2\" x 11\", Light Blue"
        ]
       ],
       "shape": {
        "columns": 3,
        "rows": 5
       }
      },
      "text/html": [
       "<div>\n",
       "<style scoped>\n",
       "    .dataframe tbody tr th:only-of-type {\n",
       "        vertical-align: middle;\n",
       "    }\n",
       "\n",
       "    .dataframe tbody tr th {\n",
       "        vertical-align: top;\n",
       "    }\n",
       "\n",
       "    .dataframe thead th {\n",
       "        text-align: right;\n",
       "    }\n",
       "</style>\n",
       "<table border=\"1\" class=\"dataframe\">\n",
       "  <thead>\n",
       "    <tr style=\"text-align: right;\">\n",
       "      <th></th>\n",
       "      <th>Category</th>\n",
       "      <th>SubCategory</th>\n",
       "      <th>Name</th>\n",
       "    </tr>\n",
       "    <tr>\n",
       "      <th>ProductID</th>\n",
       "      <th></th>\n",
       "      <th></th>\n",
       "      <th></th>\n",
       "    </tr>\n",
       "  </thead>\n",
       "  <tbody>\n",
       "    <tr>\n",
       "      <th>TEC-PH-10002075</th>\n",
       "      <td>Technology</td>\n",
       "      <td>Phones</td>\n",
       "      <td>AT&amp;T EL51110 DECT</td>\n",
       "    </tr>\n",
       "    <tr>\n",
       "      <th>FUR-TA-10003715</th>\n",
       "      <td>Furniture</td>\n",
       "      <td>Tables</td>\n",
       "      <td>Hon 2111 Invitation Series Corner Table</td>\n",
       "    </tr>\n",
       "    <tr>\n",
       "      <th>OFF-BI-10001597</th>\n",
       "      <td>Office Supplies</td>\n",
       "      <td>Binders</td>\n",
       "      <td>Wilson Jones Ledger-Size, Piano-Hinge Binder, ...</td>\n",
       "    </tr>\n",
       "    <tr>\n",
       "      <th>OFF-PA-10000176</th>\n",
       "      <td>Office Supplies</td>\n",
       "      <td>Paper</td>\n",
       "      <td>Xerox 1887</td>\n",
       "    </tr>\n",
       "    <tr>\n",
       "      <th>OFF-BI-10000343</th>\n",
       "      <td>Office Supplies</td>\n",
       "      <td>Binders</td>\n",
       "      <td>Pressboard Covers with Storage Hooks, 9 1/2\" x...</td>\n",
       "    </tr>\n",
       "  </tbody>\n",
       "</table>\n",
       "</div>"
      ],
      "text/plain": [
       "                        Category SubCategory  \\\n",
       "ProductID                                      \n",
       "TEC-PH-10002075       Technology      Phones   \n",
       "FUR-TA-10003715        Furniture      Tables   \n",
       "OFF-BI-10001597  Office Supplies     Binders   \n",
       "OFF-PA-10000176  Office Supplies       Paper   \n",
       "OFF-BI-10000343  Office Supplies     Binders   \n",
       "\n",
       "                                                              Name  \n",
       "ProductID                                                           \n",
       "TEC-PH-10002075                                  AT&T EL51110 DECT  \n",
       "FUR-TA-10003715            Hon 2111 Invitation Series Corner Table  \n",
       "OFF-BI-10001597  Wilson Jones Ledger-Size, Piano-Hinge Binder, ...  \n",
       "OFF-PA-10000176                                         Xerox 1887  \n",
       "OFF-BI-10000343  Pressboard Covers with Storage Hooks, 9 1/2\" x...  "
      ]
     },
     "execution_count": 276,
     "metadata": {},
     "output_type": "execute_result"
    }
   ],
   "source": [
    "product  = df[product_col].drop_duplicates().set_index('ProductID').rename(columns=name_mapping)\n",
    "product.head()"
   ]
  },
  {
   "cell_type": "markdown",
   "id": "d41cd1ed",
   "metadata": {},
   "source": [
    "### Duplicates"
   ]
  },
  {
   "cell_type": "code",
   "execution_count": 277,
   "id": "2ddace34",
   "metadata": {},
   "outputs": [
    {
     "data": {
      "application/vnd.microsoft.datawrangler.viewer.v0+json": {
       "columns": [
        {
         "name": "ProductID",
         "rawType": "string",
         "type": "string"
        },
        {
         "name": "Category",
         "rawType": "category",
         "type": "unknown"
        },
        {
         "name": "SubCategory",
         "rawType": "category",
         "type": "unknown"
        },
        {
         "name": "Name",
         "rawType": "string",
         "type": "string"
        }
       ],
       "ref": "fe38d429-ceba-41c3-87bc-306b2d782700",
       "rows": [
        [
         "FUR-BO-10002213",
         "Furniture",
         "Bookcases",
         "DMI Eclipse Executive Suite Bookcases"
        ],
        [
         "FUR-BO-10002213",
         "Furniture",
         "Bookcases",
         "Sauder Forest Hills Library, Woodland Oak Finish"
        ],
        [
         "FUR-CH-10001146",
         "Furniture",
         "Chairs",
         "Global Task Chair, Black"
        ],
        [
         "FUR-CH-10001146",
         "Furniture",
         "Chairs",
         "Global Value Mid-Back Manager's Chair, Gray"
        ],
        [
         "FUR-FU-10001473",
         "Furniture",
         "Furnishings",
         "Eldon Executive Woodline II Desk Accessories, Mahogany"
        ],
        [
         "FUR-FU-10001473",
         "Furniture",
         "Furnishings",
         "DAX Wood Document Frame"
        ],
        [
         "FUR-FU-10004017",
         "Furniture",
         "Furnishings",
         "Executive Impressions 13\" Chairman Wall Clock"
        ],
        [
         "FUR-FU-10004017",
         "Furniture",
         "Furnishings",
         "Tenex Contemporary Contur Chairmats for Low and Medium Pile Carpet, Computer, 39\" x 49\""
        ],
        [
         "FUR-FU-10004091",
         "Furniture",
         "Furnishings",
         "Howard Miller 13\" Diameter Goldtone Round Wall Clock"
        ],
        [
         "FUR-FU-10004091",
         "Furniture",
         "Furnishings",
         "Eldon 200 Class Desk Accessories, Black"
        ],
        [
         "FUR-FU-10004270",
         "Furniture",
         "Furnishings",
         "Eldon Image Series Desk Accessories, Burgundy"
        ],
        [
         "FUR-FU-10004270",
         "Furniture",
         "Furnishings",
         "Executive Impressions 13\" Clairmont Wall Clock"
        ],
        [
         "FUR-FU-10004848",
         "Furniture",
         "Furnishings",
         "Howard Miller 13-3/4\" Diameter Brushed Chrome Round Wall Clock"
        ],
        [
         "FUR-FU-10004848",
         "Furniture",
         "Furnishings",
         "DAX Solid Wood Frames"
        ],
        [
         "FUR-FU-10004864",
         "Furniture",
         "Furnishings",
         "Howard Miller 14-1/2\" Diameter Chrome Round Wall Clock"
        ],
        [
         "FUR-FU-10004864",
         "Furniture",
         "Furnishings",
         "Eldon 500 Class Desk Accessories"
        ],
        [
         "OFF-AP-10000576",
         "Office Supplies",
         "Appliances",
         "Belkin 7 Outlet SurgeMaster II"
        ],
        [
         "OFF-AP-10000576",
         "Office Supplies",
         "Appliances",
         "Belkin 325VA UPS Surge Protector, 6'"
        ],
        [
         "OFF-AR-10001149",
         "Office Supplies",
         "Art",
         "Sanford Colorific Colored Pencils, 12/Box"
        ],
        [
         "OFF-AR-10001149",
         "Office Supplies",
         "Art",
         "Avery Hi-Liter Comfort Grip Fluorescent Highlighter, Yellow Ink"
        ],
        [
         "OFF-BI-10002026",
         "Office Supplies",
         "Binders",
         "Avery Arch Ring Binders"
        ],
        [
         "OFF-BI-10002026",
         "Office Supplies",
         "Binders",
         "Ibico Recycled Linen-Style Covers"
        ],
        [
         "OFF-BI-10004632",
         "Office Supplies",
         "Binders",
         "GBC Binding covers"
        ],
        [
         "OFF-BI-10004632",
         "Office Supplies",
         "Binders",
         "Ibico Hi-Tech Manual Binding System"
        ],
        [
         "OFF-BI-10004654",
         "Office Supplies",
         "Binders",
         "VariCap6 Expandable Binder"
        ],
        [
         "OFF-BI-10004654",
         "Office Supplies",
         "Binders",
         "Avery Binding System Hidden Tab Executive Style Index Sets"
        ],
        [
         "OFF-PA-10000357",
         "Office Supplies",
         "Paper",
         "White Dual Perf Computer Printout Paper, 2700 Sheets, 1 Part, Heavyweight, 20 lbs., 14 7/8 x 11"
        ],
        [
         "OFF-PA-10000357",
         "Office Supplies",
         "Paper",
         "Xerox 1888"
        ],
        [
         "OFF-PA-10000477",
         "Office Supplies",
         "Paper",
         "Xerox 1952"
        ],
        [
         "OFF-PA-10000477",
         "Office Supplies",
         "Paper",
         "Xerox 22"
        ],
        [
         "OFF-PA-10000659",
         "Office Supplies",
         "Paper",
         "TOPS Carbonless Receipt Book, Four 2-3/4 x 7-1/4 Money Receipts per Page"
        ],
        [
         "OFF-PA-10000659",
         "Office Supplies",
         "Paper",
         "Adams Phone Message Book, Professional, 400 Message Capacity, 5 3/6” x 11”"
        ],
        [
         "OFF-PA-10001166",
         "Office Supplies",
         "Paper",
         "Xerox 2"
        ],
        [
         "OFF-PA-10001166",
         "Office Supplies",
         "Paper",
         "Xerox 1932"
        ],
        [
         "OFF-PA-10001970",
         "Office Supplies",
         "Paper",
         "Xerox 1908"
        ],
        [
         "OFF-PA-10001970",
         "Office Supplies",
         "Paper",
         "Xerox 1881"
        ],
        [
         "OFF-PA-10002195",
         "Office Supplies",
         "Paper",
         "RSVP Cards & Envelopes, Blank White, 8-1/2\" X 11\", 24 Cards/25 Envelopes/Set"
        ],
        [
         "OFF-PA-10002195",
         "Office Supplies",
         "Paper",
         "Xerox 1966"
        ],
        [
         "OFF-PA-10002377",
         "Office Supplies",
         "Paper",
         "Adams Telephone Message Book W/Dividers/Space For Phone Numbers, 5 1/4\"X8 1/2\", 200/Messages"
        ],
        [
         "OFF-PA-10002377",
         "Office Supplies",
         "Paper",
         "Xerox 1916"
        ],
        [
         "OFF-PA-10003022",
         "Office Supplies",
         "Paper",
         "Standard Line “While You Were Out” Hardbound Telephone Message Book"
        ],
        [
         "OFF-PA-10003022",
         "Office Supplies",
         "Paper",
         "Xerox 1992"
        ],
        [
         "OFF-ST-10001228",
         "Office Supplies",
         "Storage",
         "Personal File Boxes with Fold-Down Carry Handle"
        ],
        [
         "OFF-ST-10001228",
         "Office Supplies",
         "Storage",
         "Fellowes Personal Hanging Folder Files, Navy"
        ],
        [
         "OFF-ST-10004950",
         "Office Supplies",
         "Storage",
         "Acco Perma 3000 Stacking Storage Drawers"
        ],
        [
         "OFF-ST-10004950",
         "Office Supplies",
         "Storage",
         "Tenex Personal Filing Tote With Secure Closure Lid, Black/Frost"
        ],
        [
         "TEC-AC-10002049",
         "Technology",
         "Accessories",
         "Plantronics Savi W720 Multi-Device Wireless Headset System"
        ],
        [
         "TEC-AC-10002049",
         "Technology",
         "Accessories",
         "Logitech G19 Programmable Gaming Keyboard"
        ],
        [
         "TEC-AC-10002550",
         "Technology",
         "Accessories",
         "Memorex 25GB 6X Branded Blu-Ray Recordable Disc, 30/Pack"
        ],
        [
         "TEC-AC-10002550",
         "Technology",
         "Accessories",
         "Maxell 4.7GB DVD-RW 3/Pack"
        ]
       ],
       "shape": {
        "columns": 3,
        "rows": 64
       }
      },
      "text/html": [
       "<div>\n",
       "<style scoped>\n",
       "    .dataframe tbody tr th:only-of-type {\n",
       "        vertical-align: middle;\n",
       "    }\n",
       "\n",
       "    .dataframe tbody tr th {\n",
       "        vertical-align: top;\n",
       "    }\n",
       "\n",
       "    .dataframe thead th {\n",
       "        text-align: right;\n",
       "    }\n",
       "</style>\n",
       "<table border=\"1\" class=\"dataframe\">\n",
       "  <thead>\n",
       "    <tr style=\"text-align: right;\">\n",
       "      <th></th>\n",
       "      <th>Category</th>\n",
       "      <th>SubCategory</th>\n",
       "      <th>Name</th>\n",
       "    </tr>\n",
       "    <tr>\n",
       "      <th>ProductID</th>\n",
       "      <th></th>\n",
       "      <th></th>\n",
       "      <th></th>\n",
       "    </tr>\n",
       "  </thead>\n",
       "  <tbody>\n",
       "    <tr>\n",
       "      <th>FUR-BO-10002213</th>\n",
       "      <td>Furniture</td>\n",
       "      <td>Bookcases</td>\n",
       "      <td>DMI Eclipse Executive Suite Bookcases</td>\n",
       "    </tr>\n",
       "    <tr>\n",
       "      <th>FUR-BO-10002213</th>\n",
       "      <td>Furniture</td>\n",
       "      <td>Bookcases</td>\n",
       "      <td>Sauder Forest Hills Library, Woodland Oak Finish</td>\n",
       "    </tr>\n",
       "    <tr>\n",
       "      <th>FUR-CH-10001146</th>\n",
       "      <td>Furniture</td>\n",
       "      <td>Chairs</td>\n",
       "      <td>Global Task Chair, Black</td>\n",
       "    </tr>\n",
       "    <tr>\n",
       "      <th>FUR-CH-10001146</th>\n",
       "      <td>Furniture</td>\n",
       "      <td>Chairs</td>\n",
       "      <td>Global Value Mid-Back Manager's Chair, Gray</td>\n",
       "    </tr>\n",
       "    <tr>\n",
       "      <th>FUR-FU-10001473</th>\n",
       "      <td>Furniture</td>\n",
       "      <td>Furnishings</td>\n",
       "      <td>Eldon Executive Woodline II Desk Accessories, ...</td>\n",
       "    </tr>\n",
       "    <tr>\n",
       "      <th>...</th>\n",
       "      <td>...</td>\n",
       "      <td>...</td>\n",
       "      <td>...</td>\n",
       "    </tr>\n",
       "    <tr>\n",
       "      <th>TEC-PH-10002200</th>\n",
       "      <td>Technology</td>\n",
       "      <td>Phones</td>\n",
       "      <td>Aastra 6757i CT Wireless VoIP phone</td>\n",
       "    </tr>\n",
       "    <tr>\n",
       "      <th>TEC-PH-10002310</th>\n",
       "      <td>Technology</td>\n",
       "      <td>Phones</td>\n",
       "      <td>Plantronics Calisto P620-M USB Wireless Speake...</td>\n",
       "    </tr>\n",
       "    <tr>\n",
       "      <th>TEC-PH-10002310</th>\n",
       "      <td>Technology</td>\n",
       "      <td>Phones</td>\n",
       "      <td>Panasonic KX T7731-B Digital phone</td>\n",
       "    </tr>\n",
       "    <tr>\n",
       "      <th>TEC-PH-10004531</th>\n",
       "      <td>Technology</td>\n",
       "      <td>Phones</td>\n",
       "      <td>AT&amp;T CL2909</td>\n",
       "    </tr>\n",
       "    <tr>\n",
       "      <th>TEC-PH-10004531</th>\n",
       "      <td>Technology</td>\n",
       "      <td>Phones</td>\n",
       "      <td>OtterBox Commuter Series Case - iPhone 5 &amp; 5s</td>\n",
       "    </tr>\n",
       "  </tbody>\n",
       "</table>\n",
       "<p>64 rows × 3 columns</p>\n",
       "</div>"
      ],
      "text/plain": [
       "                   Category  SubCategory  \\\n",
       "ProductID                                  \n",
       "FUR-BO-10002213   Furniture    Bookcases   \n",
       "FUR-BO-10002213   Furniture    Bookcases   \n",
       "FUR-CH-10001146   Furniture       Chairs   \n",
       "FUR-CH-10001146   Furniture       Chairs   \n",
       "FUR-FU-10001473   Furniture  Furnishings   \n",
       "...                     ...          ...   \n",
       "TEC-PH-10002200  Technology       Phones   \n",
       "TEC-PH-10002310  Technology       Phones   \n",
       "TEC-PH-10002310  Technology       Phones   \n",
       "TEC-PH-10004531  Technology       Phones   \n",
       "TEC-PH-10004531  Technology       Phones   \n",
       "\n",
       "                                                              Name  \n",
       "ProductID                                                           \n",
       "FUR-BO-10002213              DMI Eclipse Executive Suite Bookcases  \n",
       "FUR-BO-10002213   Sauder Forest Hills Library, Woodland Oak Finish  \n",
       "FUR-CH-10001146                           Global Task Chair, Black  \n",
       "FUR-CH-10001146        Global Value Mid-Back Manager's Chair, Gray  \n",
       "FUR-FU-10001473  Eldon Executive Woodline II Desk Accessories, ...  \n",
       "...                                                            ...  \n",
       "TEC-PH-10002200                Aastra 6757i CT Wireless VoIP phone  \n",
       "TEC-PH-10002310  Plantronics Calisto P620-M USB Wireless Speake...  \n",
       "TEC-PH-10002310                 Panasonic KX T7731-B Digital phone  \n",
       "TEC-PH-10004531                                        AT&T CL2909  \n",
       "TEC-PH-10004531      OtterBox Commuter Series Case - iPhone 5 & 5s  \n",
       "\n",
       "[64 rows x 3 columns]"
      ]
     },
     "execution_count": 277,
     "metadata": {},
     "output_type": "execute_result"
    }
   ],
   "source": [
    "# duplicate product IDs\n",
    "product[product.index.duplicated(keep=False)].sort_index()"
   ]
  },
  {
   "cell_type": "markdown",
   "id": "aae0c156",
   "metadata": {},
   "source": [
    "There are 64 duplicate product IDs."
   ]
  },
  {
   "cell_type": "code",
   "execution_count": 278,
   "id": "ca14fbef",
   "metadata": {},
   "outputs": [
    {
     "name": "stdout",
     "output_type": "stream",
     "text": [
      "Duplicates without Name:  64\n"
     ]
    },
    {
     "data": {
      "application/vnd.microsoft.datawrangler.viewer.v0+json": {
       "columns": [
        {
         "name": "index",
         "rawType": "int64",
         "type": "integer"
        },
        {
         "name": "ProductID",
         "rawType": "string",
         "type": "string"
        },
        {
         "name": "Category",
         "rawType": "category",
         "type": "unknown"
        },
        {
         "name": "SubCategory",
         "rawType": "category",
         "type": "unknown"
        },
        {
         "name": "Name",
         "rawType": "string",
         "type": "string"
        }
       ],
       "ref": "793428a4-2244-4120-87b1-41fad28c78d2",
       "rows": [
        [
         "550",
         "FUR-BO-10002213",
         "Furniture",
         "Bookcases",
         "DMI Eclipse Executive Suite Bookcases"
        ],
        [
         "1506",
         "FUR-BO-10002213",
         "Furniture",
         "Bookcases",
         "Sauder Forest Hills Library, Woodland Oak Finish"
        ],
        [
         "1734",
         "FUR-CH-10001146",
         "Furniture",
         "Chairs",
         "Global Task Chair, Black"
        ],
        [
         "248",
         "FUR-CH-10001146",
         "Furniture",
         "Chairs",
         "Global Value Mid-Back Manager's Chair, Gray"
        ],
        [
         "1368",
         "FUR-FU-10001473",
         "Furniture",
         "Furnishings",
         "Eldon Executive Woodline II Desk Accessories, Mahogany"
        ],
        [
         "953",
         "FUR-FU-10001473",
         "Furniture",
         "Furnishings",
         "DAX Wood Document Frame"
        ],
        [
         "1115",
         "FUR-FU-10004017",
         "Furniture",
         "Furnishings",
         "Executive Impressions 13\" Chairman Wall Clock"
        ],
        [
         "1428",
         "FUR-FU-10004017",
         "Furniture",
         "Furnishings",
         "Tenex Contemporary Contur Chairmats for Low and Medium Pile Carpet, Computer, 39\" x 49\""
        ],
        [
         "282",
         "FUR-FU-10004091",
         "Furniture",
         "Furnishings",
         "Howard Miller 13\" Diameter Goldtone Round Wall Clock"
        ],
        [
         "79",
         "FUR-FU-10004091",
         "Furniture",
         "Furnishings",
         "Eldon 200 Class Desk Accessories, Black"
        ],
        [
         "313",
         "FUR-FU-10004270",
         "Furniture",
         "Furnishings",
         "Eldon Image Series Desk Accessories, Burgundy"
        ],
        [
         "647",
         "FUR-FU-10004270",
         "Furniture",
         "Furnishings",
         "Executive Impressions 13\" Clairmont Wall Clock"
        ],
        [
         "1468",
         "FUR-FU-10004848",
         "Furniture",
         "Furnishings",
         "Howard Miller 13-3/4\" Diameter Brushed Chrome Round Wall Clock"
        ],
        [
         "1649",
         "FUR-FU-10004848",
         "Furniture",
         "Furnishings",
         "DAX Solid Wood Frames"
        ],
        [
         "157",
         "FUR-FU-10004864",
         "Furniture",
         "Furnishings",
         "Howard Miller 14-1/2\" Diameter Chrome Round Wall Clock"
        ],
        [
         "1697",
         "FUR-FU-10004864",
         "Furniture",
         "Furnishings",
         "Eldon 500 Class Desk Accessories"
        ],
        [
         "508",
         "OFF-AP-10000576",
         "Office Supplies",
         "Appliances",
         "Belkin 7 Outlet SurgeMaster II"
        ],
        [
         "1284",
         "OFF-AP-10000576",
         "Office Supplies",
         "Appliances",
         "Belkin 325VA UPS Surge Protector, 6'"
        ],
        [
         "1596",
         "OFF-AR-10001149",
         "Office Supplies",
         "Art",
         "Sanford Colorific Colored Pencils, 12/Box"
        ],
        [
         "464",
         "OFF-AR-10001149",
         "Office Supplies",
         "Art",
         "Avery Hi-Liter Comfort Grip Fluorescent Highlighter, Yellow Ink"
        ],
        [
         "436",
         "OFF-BI-10002026",
         "Office Supplies",
         "Binders",
         "Avery Arch Ring Binders"
        ],
        [
         "1518",
         "OFF-BI-10002026",
         "Office Supplies",
         "Binders",
         "Ibico Recycled Linen-Style Covers"
        ],
        [
         "1310",
         "OFF-BI-10004632",
         "Office Supplies",
         "Binders",
         "GBC Binding covers"
        ],
        [
         "555",
         "OFF-BI-10004632",
         "Office Supplies",
         "Binders",
         "Ibico Hi-Tech Manual Binding System"
        ],
        [
         "1097",
         "OFF-BI-10004654",
         "Office Supplies",
         "Binders",
         "VariCap6 Expandable Binder"
        ],
        [
         "329",
         "OFF-BI-10004654",
         "Office Supplies",
         "Binders",
         "Avery Binding System Hidden Tab Executive Style Index Sets"
        ],
        [
         "1363",
         "OFF-PA-10000357",
         "Office Supplies",
         "Paper",
         "White Dual Perf Computer Printout Paper, 2700 Sheets, 1 Part, Heavyweight, 20 lbs., 14 7/8 x 11"
        ],
        [
         "27",
         "OFF-PA-10000357",
         "Office Supplies",
         "Paper",
         "Xerox 1888"
        ],
        [
         "175",
         "OFF-PA-10000477",
         "Office Supplies",
         "Paper",
         "Xerox 1952"
        ],
        [
         "1273",
         "OFF-PA-10000477",
         "Office Supplies",
         "Paper",
         "Xerox 22"
        ],
        [
         "860",
         "OFF-PA-10000659",
         "Office Supplies",
         "Paper",
         "TOPS Carbonless Receipt Book, Four 2-3/4 x 7-1/4 Money Receipts per Page"
        ],
        [
         "426",
         "OFF-PA-10000659",
         "Office Supplies",
         "Paper",
         "Adams Phone Message Book, Professional, 400 Message Capacity, 5 3/6” x 11”"
        ],
        [
         "878",
         "OFF-PA-10001166",
         "Office Supplies",
         "Paper",
         "Xerox 2"
        ],
        [
         "1167",
         "OFF-PA-10001166",
         "Office Supplies",
         "Paper",
         "Xerox 1932"
        ],
        [
         "1474",
         "OFF-PA-10001970",
         "Office Supplies",
         "Paper",
         "Xerox 1908"
        ],
        [
         "687",
         "OFF-PA-10001970",
         "Office Supplies",
         "Paper",
         "Xerox 1881"
        ],
        [
         "106",
         "OFF-PA-10002195",
         "Office Supplies",
         "Paper",
         "RSVP Cards & Envelopes, Blank White, 8-1/2\" X 11\", 24 Cards/25 Envelopes/Set"
        ],
        [
         "857",
         "OFF-PA-10002195",
         "Office Supplies",
         "Paper",
         "Xerox 1966"
        ],
        [
         "1530",
         "OFF-PA-10002377",
         "Office Supplies",
         "Paper",
         "Adams Telephone Message Book W/Dividers/Space For Phone Numbers, 5 1/4\"X8 1/2\", 200/Messages"
        ],
        [
         "406",
         "OFF-PA-10002377",
         "Office Supplies",
         "Paper",
         "Xerox 1916"
        ],
        [
         "1772",
         "OFF-PA-10003022",
         "Office Supplies",
         "Paper",
         "Standard Line “While You Were Out” Hardbound Telephone Message Book"
        ],
        [
         "924",
         "OFF-PA-10003022",
         "Office Supplies",
         "Paper",
         "Xerox 1992"
        ],
        [
         "1489",
         "OFF-ST-10001228",
         "Office Supplies",
         "Storage",
         "Personal File Boxes with Fold-Down Carry Handle"
        ],
        [
         "680",
         "OFF-ST-10001228",
         "Office Supplies",
         "Storage",
         "Fellowes Personal Hanging Folder Files, Navy"
        ],
        [
         "29",
         "OFF-ST-10004950",
         "Office Supplies",
         "Storage",
         "Acco Perma 3000 Stacking Storage Drawers"
        ],
        [
         "1509",
         "OFF-ST-10004950",
         "Office Supplies",
         "Storage",
         "Tenex Personal Filing Tote With Secure Closure Lid, Black/Frost"
        ],
        [
         "696",
         "TEC-AC-10002049",
         "Technology",
         "Accessories",
         "Plantronics Savi W720 Multi-Device Wireless Headset System"
        ],
        [
         "1280",
         "TEC-AC-10002049",
         "Technology",
         "Accessories",
         "Logitech G19 Programmable Gaming Keyboard"
        ],
        [
         "864",
         "TEC-AC-10002550",
         "Technology",
         "Accessories",
         "Memorex 25GB 6X Branded Blu-Ray Recordable Disc, 30/Pack"
        ],
        [
         "697",
         "TEC-AC-10002550",
         "Technology",
         "Accessories",
         "Maxell 4.7GB DVD-RW 3/Pack"
        ]
       ],
       "shape": {
        "columns": 4,
        "rows": 64
       }
      },
      "text/html": [
       "<div>\n",
       "<style scoped>\n",
       "    .dataframe tbody tr th:only-of-type {\n",
       "        vertical-align: middle;\n",
       "    }\n",
       "\n",
       "    .dataframe tbody tr th {\n",
       "        vertical-align: top;\n",
       "    }\n",
       "\n",
       "    .dataframe thead th {\n",
       "        text-align: right;\n",
       "    }\n",
       "</style>\n",
       "<table border=\"1\" class=\"dataframe\">\n",
       "  <thead>\n",
       "    <tr style=\"text-align: right;\">\n",
       "      <th></th>\n",
       "      <th>ProductID</th>\n",
       "      <th>Category</th>\n",
       "      <th>SubCategory</th>\n",
       "      <th>Name</th>\n",
       "    </tr>\n",
       "  </thead>\n",
       "  <tbody>\n",
       "    <tr>\n",
       "      <th>550</th>\n",
       "      <td>FUR-BO-10002213</td>\n",
       "      <td>Furniture</td>\n",
       "      <td>Bookcases</td>\n",
       "      <td>DMI Eclipse Executive Suite Bookcases</td>\n",
       "    </tr>\n",
       "    <tr>\n",
       "      <th>1506</th>\n",
       "      <td>FUR-BO-10002213</td>\n",
       "      <td>Furniture</td>\n",
       "      <td>Bookcases</td>\n",
       "      <td>Sauder Forest Hills Library, Woodland Oak Finish</td>\n",
       "    </tr>\n",
       "    <tr>\n",
       "      <th>1734</th>\n",
       "      <td>FUR-CH-10001146</td>\n",
       "      <td>Furniture</td>\n",
       "      <td>Chairs</td>\n",
       "      <td>Global Task Chair, Black</td>\n",
       "    </tr>\n",
       "    <tr>\n",
       "      <th>248</th>\n",
       "      <td>FUR-CH-10001146</td>\n",
       "      <td>Furniture</td>\n",
       "      <td>Chairs</td>\n",
       "      <td>Global Value Mid-Back Manager's Chair, Gray</td>\n",
       "    </tr>\n",
       "    <tr>\n",
       "      <th>1368</th>\n",
       "      <td>FUR-FU-10001473</td>\n",
       "      <td>Furniture</td>\n",
       "      <td>Furnishings</td>\n",
       "      <td>Eldon Executive Woodline II Desk Accessories, ...</td>\n",
       "    </tr>\n",
       "    <tr>\n",
       "      <th>...</th>\n",
       "      <td>...</td>\n",
       "      <td>...</td>\n",
       "      <td>...</td>\n",
       "      <td>...</td>\n",
       "    </tr>\n",
       "    <tr>\n",
       "      <th>1465</th>\n",
       "      <td>TEC-PH-10002200</td>\n",
       "      <td>Technology</td>\n",
       "      <td>Phones</td>\n",
       "      <td>Aastra 6757i CT Wireless VoIP phone</td>\n",
       "    </tr>\n",
       "    <tr>\n",
       "      <th>1533</th>\n",
       "      <td>TEC-PH-10002310</td>\n",
       "      <td>Technology</td>\n",
       "      <td>Phones</td>\n",
       "      <td>Plantronics Calisto P620-M USB Wireless Speake...</td>\n",
       "    </tr>\n",
       "    <tr>\n",
       "      <th>564</th>\n",
       "      <td>TEC-PH-10002310</td>\n",
       "      <td>Technology</td>\n",
       "      <td>Phones</td>\n",
       "      <td>Panasonic KX T7731-B Digital phone</td>\n",
       "    </tr>\n",
       "    <tr>\n",
       "      <th>245</th>\n",
       "      <td>TEC-PH-10004531</td>\n",
       "      <td>Technology</td>\n",
       "      <td>Phones</td>\n",
       "      <td>AT&amp;T CL2909</td>\n",
       "    </tr>\n",
       "    <tr>\n",
       "      <th>1228</th>\n",
       "      <td>TEC-PH-10004531</td>\n",
       "      <td>Technology</td>\n",
       "      <td>Phones</td>\n",
       "      <td>OtterBox Commuter Series Case - iPhone 5 &amp; 5s</td>\n",
       "    </tr>\n",
       "  </tbody>\n",
       "</table>\n",
       "<p>64 rows × 4 columns</p>\n",
       "</div>"
      ],
      "text/plain": [
       "            ProductID    Category  SubCategory  \\\n",
       "550   FUR-BO-10002213   Furniture    Bookcases   \n",
       "1506  FUR-BO-10002213   Furniture    Bookcases   \n",
       "1734  FUR-CH-10001146   Furniture       Chairs   \n",
       "248   FUR-CH-10001146   Furniture       Chairs   \n",
       "1368  FUR-FU-10001473   Furniture  Furnishings   \n",
       "...               ...         ...          ...   \n",
       "1465  TEC-PH-10002200  Technology       Phones   \n",
       "1533  TEC-PH-10002310  Technology       Phones   \n",
       "564   TEC-PH-10002310  Technology       Phones   \n",
       "245   TEC-PH-10004531  Technology       Phones   \n",
       "1228  TEC-PH-10004531  Technology       Phones   \n",
       "\n",
       "                                                   Name  \n",
       "550               DMI Eclipse Executive Suite Bookcases  \n",
       "1506   Sauder Forest Hills Library, Woodland Oak Finish  \n",
       "1734                           Global Task Chair, Black  \n",
       "248         Global Value Mid-Back Manager's Chair, Gray  \n",
       "1368  Eldon Executive Woodline II Desk Accessories, ...  \n",
       "...                                                 ...  \n",
       "1465                Aastra 6757i CT Wireless VoIP phone  \n",
       "1533  Plantronics Calisto P620-M USB Wireless Speake...  \n",
       "564                  Panasonic KX T7731-B Digital phone  \n",
       "245                                         AT&T CL2909  \n",
       "1228      OtterBox Commuter Series Case - iPhone 5 & 5s  \n",
       "\n",
       "[64 rows x 4 columns]"
      ]
     },
     "execution_count": 278,
     "metadata": {},
     "output_type": "execute_result"
    }
   ],
   "source": [
    "# What has changed? Only the names of the products?\n",
    "product_analyse_dups = product.reset_index().copy()\n",
    "mask_dup_subset = product_analyse_dups.duplicated(subset=['ProductID', 'Category', 'SubCategory'], keep=False)\n",
    "print('Duplicates without Name: ', mask_dup_subset.sum())\n",
    "\n",
    "product_analyse_dups[mask_dup_subset].sort_values('ProductID')"
   ]
  },
  {
   "cell_type": "markdown",
   "id": "9255bf62",
   "metadata": {},
   "source": [
    "* All duplicate product IDs differ only in Name.\n",
    "* We have a fecking error in the system. Where could these errors come from?\n",
    "  * The name might have changed.\n",
    "  * The product ID is not a unique identifier or it might have been set wrong.\n",
    "* Has the product simply been renamed? Scrolling the data:\n",
    "  * some names are very similar\n",
    "  * some are not\n",
    "  * The products have not been renamed; probably they have been mixed up.\n",
    "  * Possible further check: Check the dates\n",
    "* Is the product ID really an ID? Or does it refer to a class of products?\n",
    "  * From the looks it should refer to a specific product.\n",
    "  * Logically, for the order to be well defined, all information about the product must be given with the information in the above table.\n",
    "* Solution\n",
    "  1. Check the number of orders that are affected.\n",
    "  2. Check if the order IDs have been mixed up.\n",
    "  3. Calculate the Price and see if that makes a difference.\n",
    "  4. Drop the duplicates and only keep 32 products\n",
    "  5. resolve the errors "
   ]
  },
  {
   "cell_type": "code",
   "execution_count": 279,
   "id": "d081906e",
   "metadata": {},
   "outputs": [],
   "source": [
    "# TODO How many entries are affected in the full data set?"
   ]
  },
  {
   "cell_type": "code",
   "execution_count": 280,
   "id": "5d0a721b",
   "metadata": {},
   "outputs": [
    {
     "data": {
      "application/vnd.microsoft.datawrangler.viewer.v0+json": {
       "columns": [
        {
         "name": "index",
         "rawType": "int64",
         "type": "integer"
        },
        {
         "name": "ProductID",
         "rawType": "string",
         "type": "string"
        },
        {
         "name": "Category",
         "rawType": "category",
         "type": "unknown"
        },
        {
         "name": "SubCategory",
         "rawType": "category",
         "type": "unknown"
        },
        {
         "name": "Name",
         "rawType": "string",
         "type": "string"
        }
       ],
       "ref": "c1453423-c33d-4064-a919-7ebf1d9000a1",
       "rows": [
        [
         "1127",
         "OFF-EN-10000461",
         "Office Supplies",
         "Envelopes",
         "#10- 4 1/8\" x 9 1/2\" Recycled Envelopes"
        ],
        [
         "660",
         "OFF-EN-10000781",
         "Office Supplies",
         "Envelopes",
         "#10- 4 1/8\" x 9 1/2\" Recycled Envelopes"
        ],
        [
         "284",
         "OFF-BI-10000829",
         "Office Supplies",
         "Binders",
         "Avery Non-Stick Binders"
        ],
        [
         "45",
         "OFF-BI-10004140",
         "Office Supplies",
         "Binders",
         "Avery Non-Stick Binders"
        ],
        [
         "1373",
         "OFF-PA-10000249",
         "Office Supplies",
         "Paper",
         "Easy-staple paper"
        ],
        [
         "744",
         "OFF-PA-10000349",
         "Office Supplies",
         "Paper",
         "Easy-staple paper"
        ],
        [
         "293",
         "OFF-PA-10000474",
         "Office Supplies",
         "Paper",
         "Easy-staple paper"
        ],
        [
         "1679",
         "OFF-PA-10000565",
         "Office Supplies",
         "Paper",
         "Easy-staple paper"
        ],
        [
         "875",
         "OFF-PA-10001685",
         "Office Supplies",
         "Paper",
         "Easy-staple paper"
        ],
        [
         "1684",
         "OFF-PA-10002764",
         "Office Supplies",
         "Paper",
         "Easy-staple paper"
        ],
        [
         "1804",
         "OFF-PA-10003127",
         "Office Supplies",
         "Paper",
         "Easy-staple paper"
        ],
        [
         "1094",
         "OFF-PA-10004947",
         "Office Supplies",
         "Paper",
         "Easy-staple paper"
        ],
        [
         "847",
         "FUR-FU-10000023",
         "Furniture",
         "Furnishings",
         "Eldon Wave Desk Accessories"
        ],
        [
         "116",
         "FUR-FU-10003981",
         "Furniture",
         "Furnishings",
         "Eldon Wave Desk Accessories"
        ],
        [
         "126",
         "FUR-TA-10001039",
         "Furniture",
         "Tables",
         "KI Adjustable-Height Table"
        ],
        [
         "723",
         "FUR-TA-10004086",
         "Furniture",
         "Tables",
         "KI Adjustable-Height Table"
        ],
        [
         "1800",
         "TEC-MA-10001856",
         "Technology",
         "Machines",
         "Okidata C610n Printer"
        ],
        [
         "1729",
         "TEC-MA-10003230",
         "Technology",
         "Machines",
         "Okidata C610n Printer"
        ],
        [
         "779",
         "OFF-EN-10002592",
         "Office Supplies",
         "Envelopes",
         "Peel & Seel Recycled Catalog Envelopes, Brown"
        ],
        [
         "1891",
         "OFF-EN-10003448",
         "Office Supplies",
         "Envelopes",
         "Peel & Seel Recycled Catalog Envelopes, Brown"
        ],
        [
         "1782",
         "OFF-AR-10002766",
         "Office Supplies",
         "Art",
         "Prang Drawing Pencil Set"
        ],
        [
         "310",
         "OFF-AR-10003251",
         "Office Supplies",
         "Art",
         "Prang Drawing Pencil Set"
        ],
        [
         "1288",
         "OFF-EN-10001028",
         "Office Supplies",
         "Envelopes",
         "Staple envelope"
        ],
        [
         "197",
         "OFF-EN-10001099",
         "Office Supplies",
         "Envelopes",
         "Staple envelope"
        ],
        [
         "297",
         "OFF-EN-10001415",
         "Office Supplies",
         "Envelopes",
         "Staple envelope"
        ],
        [
         "749",
         "OFF-EN-10001539",
         "Office Supplies",
         "Envelopes",
         "Staple envelope"
        ],
        [
         "195",
         "OFF-EN-10001990",
         "Office Supplies",
         "Envelopes",
         "Staple envelope"
        ],
        [
         "993",
         "OFF-EN-10002621",
         "Office Supplies",
         "Envelopes",
         "Staple envelope"
        ],
        [
         "582",
         "OFF-EN-10003134",
         "Office Supplies",
         "Envelopes",
         "Staple envelope"
        ],
        [
         "328",
         "OFF-EN-10003286",
         "Office Supplies",
         "Envelopes",
         "Staple envelope"
        ],
        [
         "475",
         "OFF-EN-10004773",
         "Office Supplies",
         "Envelopes",
         "Staple envelope"
        ],
        [
         "700",
         "OFF-AP-10001366",
         "Office Supplies",
         "Appliances",
         "Staple holder"
        ],
        [
         "1523",
         "OFF-AP-10002222",
         "Office Supplies",
         "Appliances",
         "Staple holder"
        ],
        [
         "28",
         "OFF-AP-10004249",
         "Office Supplies",
         "Appliances",
         "Staple holder"
        ],
        [
         "1017",
         "OFF-ST-10002562",
         "Office Supplies",
         "Storage",
         "Staple magnet"
        ],
        [
         "349",
         "OFF-ST-10003221",
         "Office Supplies",
         "Storage",
         "Staple magnet"
        ],
        [
         "1622",
         "OFF-SU-10000946",
         "Office Supplies",
         "Supplies",
         "Staple remover"
        ],
        [
         "153",
         "OFF-SU-10001225",
         "Office Supplies",
         "Supplies",
         "Staple remover"
        ],
        [
         "1252",
         "OFF-SU-10001935",
         "Office Supplies",
         "Supplies",
         "Staple remover"
        ],
        [
         "451",
         "FUR-FU-10001940",
         "Furniture",
         "Furnishings",
         "Staple-based wall hangings"
        ],
        [
         "827",
         "FUR-FU-10004351",
         "Furniture",
         "Furnishings",
         "Staple-based wall hangings"
        ],
        [
         "211",
         "OFF-FA-10000735",
         "Office Supplies",
         "Fasteners",
         "Staples"
        ],
        [
         "1189",
         "OFF-FA-10001229",
         "Office Supplies",
         "Fasteners",
         "Staples"
        ],
        [
         "768",
         "OFF-FA-10001843",
         "Office Supplies",
         "Fasteners",
         "Staples"
        ],
        [
         "479",
         "OFF-FA-10002780",
         "Office Supplies",
         "Fasteners",
         "Staples"
        ],
        [
         "392",
         "OFF-FA-10002815",
         "Office Supplies",
         "Fasteners",
         "Staples"
        ],
        [
         "174",
         "OFF-FA-10002975",
         "Office Supplies",
         "Fasteners",
         "Staples"
        ],
        [
         "64",
         "OFF-FA-10003021",
         "Office Supplies",
         "Fasteners",
         "Staples"
        ],
        [
         "844",
         "OFF-FA-10003112",
         "Office Supplies",
         "Fasteners",
         "Staples"
        ],
        [
         "1079",
         "OFF-FA-10003485",
         "Office Supplies",
         "Fasteners",
         "Staples"
        ]
       ],
       "shape": {
        "columns": 4,
        "rows": 60
       }
      },
      "text/html": [
       "<div>\n",
       "<style scoped>\n",
       "    .dataframe tbody tr th:only-of-type {\n",
       "        vertical-align: middle;\n",
       "    }\n",
       "\n",
       "    .dataframe tbody tr th {\n",
       "        vertical-align: top;\n",
       "    }\n",
       "\n",
       "    .dataframe thead th {\n",
       "        text-align: right;\n",
       "    }\n",
       "</style>\n",
       "<table border=\"1\" class=\"dataframe\">\n",
       "  <thead>\n",
       "    <tr style=\"text-align: right;\">\n",
       "      <th></th>\n",
       "      <th>ProductID</th>\n",
       "      <th>Category</th>\n",
       "      <th>SubCategory</th>\n",
       "      <th>Name</th>\n",
       "    </tr>\n",
       "  </thead>\n",
       "  <tbody>\n",
       "    <tr>\n",
       "      <th>1127</th>\n",
       "      <td>OFF-EN-10000461</td>\n",
       "      <td>Office Supplies</td>\n",
       "      <td>Envelopes</td>\n",
       "      <td>#10- 4 1/8\" x 9 1/2\" Recycled Envelopes</td>\n",
       "    </tr>\n",
       "    <tr>\n",
       "      <th>660</th>\n",
       "      <td>OFF-EN-10000781</td>\n",
       "      <td>Office Supplies</td>\n",
       "      <td>Envelopes</td>\n",
       "      <td>#10- 4 1/8\" x 9 1/2\" Recycled Envelopes</td>\n",
       "    </tr>\n",
       "    <tr>\n",
       "      <th>284</th>\n",
       "      <td>OFF-BI-10000829</td>\n",
       "      <td>Office Supplies</td>\n",
       "      <td>Binders</td>\n",
       "      <td>Avery Non-Stick Binders</td>\n",
       "    </tr>\n",
       "    <tr>\n",
       "      <th>45</th>\n",
       "      <td>OFF-BI-10004140</td>\n",
       "      <td>Office Supplies</td>\n",
       "      <td>Binders</td>\n",
       "      <td>Avery Non-Stick Binders</td>\n",
       "    </tr>\n",
       "    <tr>\n",
       "      <th>1373</th>\n",
       "      <td>OFF-PA-10000249</td>\n",
       "      <td>Office Supplies</td>\n",
       "      <td>Paper</td>\n",
       "      <td>Easy-staple paper</td>\n",
       "    </tr>\n",
       "    <tr>\n",
       "      <th>744</th>\n",
       "      <td>OFF-PA-10000349</td>\n",
       "      <td>Office Supplies</td>\n",
       "      <td>Paper</td>\n",
       "      <td>Easy-staple paper</td>\n",
       "    </tr>\n",
       "    <tr>\n",
       "      <th>293</th>\n",
       "      <td>OFF-PA-10000474</td>\n",
       "      <td>Office Supplies</td>\n",
       "      <td>Paper</td>\n",
       "      <td>Easy-staple paper</td>\n",
       "    </tr>\n",
       "    <tr>\n",
       "      <th>1679</th>\n",
       "      <td>OFF-PA-10000565</td>\n",
       "      <td>Office Supplies</td>\n",
       "      <td>Paper</td>\n",
       "      <td>Easy-staple paper</td>\n",
       "    </tr>\n",
       "    <tr>\n",
       "      <th>875</th>\n",
       "      <td>OFF-PA-10001685</td>\n",
       "      <td>Office Supplies</td>\n",
       "      <td>Paper</td>\n",
       "      <td>Easy-staple paper</td>\n",
       "    </tr>\n",
       "    <tr>\n",
       "      <th>1684</th>\n",
       "      <td>OFF-PA-10002764</td>\n",
       "      <td>Office Supplies</td>\n",
       "      <td>Paper</td>\n",
       "      <td>Easy-staple paper</td>\n",
       "    </tr>\n",
       "    <tr>\n",
       "      <th>1804</th>\n",
       "      <td>OFF-PA-10003127</td>\n",
       "      <td>Office Supplies</td>\n",
       "      <td>Paper</td>\n",
       "      <td>Easy-staple paper</td>\n",
       "    </tr>\n",
       "    <tr>\n",
       "      <th>1094</th>\n",
       "      <td>OFF-PA-10004947</td>\n",
       "      <td>Office Supplies</td>\n",
       "      <td>Paper</td>\n",
       "      <td>Easy-staple paper</td>\n",
       "    </tr>\n",
       "    <tr>\n",
       "      <th>847</th>\n",
       "      <td>FUR-FU-10000023</td>\n",
       "      <td>Furniture</td>\n",
       "      <td>Furnishings</td>\n",
       "      <td>Eldon Wave Desk Accessories</td>\n",
       "    </tr>\n",
       "    <tr>\n",
       "      <th>116</th>\n",
       "      <td>FUR-FU-10003981</td>\n",
       "      <td>Furniture</td>\n",
       "      <td>Furnishings</td>\n",
       "      <td>Eldon Wave Desk Accessories</td>\n",
       "    </tr>\n",
       "    <tr>\n",
       "      <th>126</th>\n",
       "      <td>FUR-TA-10001039</td>\n",
       "      <td>Furniture</td>\n",
       "      <td>Tables</td>\n",
       "      <td>KI Adjustable-Height Table</td>\n",
       "    </tr>\n",
       "    <tr>\n",
       "      <th>723</th>\n",
       "      <td>FUR-TA-10004086</td>\n",
       "      <td>Furniture</td>\n",
       "      <td>Tables</td>\n",
       "      <td>KI Adjustable-Height Table</td>\n",
       "    </tr>\n",
       "    <tr>\n",
       "      <th>1800</th>\n",
       "      <td>TEC-MA-10001856</td>\n",
       "      <td>Technology</td>\n",
       "      <td>Machines</td>\n",
       "      <td>Okidata C610n Printer</td>\n",
       "    </tr>\n",
       "    <tr>\n",
       "      <th>1729</th>\n",
       "      <td>TEC-MA-10003230</td>\n",
       "      <td>Technology</td>\n",
       "      <td>Machines</td>\n",
       "      <td>Okidata C610n Printer</td>\n",
       "    </tr>\n",
       "    <tr>\n",
       "      <th>779</th>\n",
       "      <td>OFF-EN-10002592</td>\n",
       "      <td>Office Supplies</td>\n",
       "      <td>Envelopes</td>\n",
       "      <td>Peel &amp; Seel Recycled Catalog Envelopes, Brown</td>\n",
       "    </tr>\n",
       "    <tr>\n",
       "      <th>1891</th>\n",
       "      <td>OFF-EN-10003448</td>\n",
       "      <td>Office Supplies</td>\n",
       "      <td>Envelopes</td>\n",
       "      <td>Peel &amp; Seel Recycled Catalog Envelopes, Brown</td>\n",
       "    </tr>\n",
       "    <tr>\n",
       "      <th>1782</th>\n",
       "      <td>OFF-AR-10002766</td>\n",
       "      <td>Office Supplies</td>\n",
       "      <td>Art</td>\n",
       "      <td>Prang Drawing Pencil Set</td>\n",
       "    </tr>\n",
       "    <tr>\n",
       "      <th>310</th>\n",
       "      <td>OFF-AR-10003251</td>\n",
       "      <td>Office Supplies</td>\n",
       "      <td>Art</td>\n",
       "      <td>Prang Drawing Pencil Set</td>\n",
       "    </tr>\n",
       "    <tr>\n",
       "      <th>1288</th>\n",
       "      <td>OFF-EN-10001028</td>\n",
       "      <td>Office Supplies</td>\n",
       "      <td>Envelopes</td>\n",
       "      <td>Staple envelope</td>\n",
       "    </tr>\n",
       "    <tr>\n",
       "      <th>197</th>\n",
       "      <td>OFF-EN-10001099</td>\n",
       "      <td>Office Supplies</td>\n",
       "      <td>Envelopes</td>\n",
       "      <td>Staple envelope</td>\n",
       "    </tr>\n",
       "    <tr>\n",
       "      <th>297</th>\n",
       "      <td>OFF-EN-10001415</td>\n",
       "      <td>Office Supplies</td>\n",
       "      <td>Envelopes</td>\n",
       "      <td>Staple envelope</td>\n",
       "    </tr>\n",
       "    <tr>\n",
       "      <th>749</th>\n",
       "      <td>OFF-EN-10001539</td>\n",
       "      <td>Office Supplies</td>\n",
       "      <td>Envelopes</td>\n",
       "      <td>Staple envelope</td>\n",
       "    </tr>\n",
       "    <tr>\n",
       "      <th>195</th>\n",
       "      <td>OFF-EN-10001990</td>\n",
       "      <td>Office Supplies</td>\n",
       "      <td>Envelopes</td>\n",
       "      <td>Staple envelope</td>\n",
       "    </tr>\n",
       "    <tr>\n",
       "      <th>993</th>\n",
       "      <td>OFF-EN-10002621</td>\n",
       "      <td>Office Supplies</td>\n",
       "      <td>Envelopes</td>\n",
       "      <td>Staple envelope</td>\n",
       "    </tr>\n",
       "    <tr>\n",
       "      <th>582</th>\n",
       "      <td>OFF-EN-10003134</td>\n",
       "      <td>Office Supplies</td>\n",
       "      <td>Envelopes</td>\n",
       "      <td>Staple envelope</td>\n",
       "    </tr>\n",
       "    <tr>\n",
       "      <th>328</th>\n",
       "      <td>OFF-EN-10003286</td>\n",
       "      <td>Office Supplies</td>\n",
       "      <td>Envelopes</td>\n",
       "      <td>Staple envelope</td>\n",
       "    </tr>\n",
       "    <tr>\n",
       "      <th>475</th>\n",
       "      <td>OFF-EN-10004773</td>\n",
       "      <td>Office Supplies</td>\n",
       "      <td>Envelopes</td>\n",
       "      <td>Staple envelope</td>\n",
       "    </tr>\n",
       "    <tr>\n",
       "      <th>700</th>\n",
       "      <td>OFF-AP-10001366</td>\n",
       "      <td>Office Supplies</td>\n",
       "      <td>Appliances</td>\n",
       "      <td>Staple holder</td>\n",
       "    </tr>\n",
       "    <tr>\n",
       "      <th>1523</th>\n",
       "      <td>OFF-AP-10002222</td>\n",
       "      <td>Office Supplies</td>\n",
       "      <td>Appliances</td>\n",
       "      <td>Staple holder</td>\n",
       "    </tr>\n",
       "    <tr>\n",
       "      <th>28</th>\n",
       "      <td>OFF-AP-10004249</td>\n",
       "      <td>Office Supplies</td>\n",
       "      <td>Appliances</td>\n",
       "      <td>Staple holder</td>\n",
       "    </tr>\n",
       "    <tr>\n",
       "      <th>1017</th>\n",
       "      <td>OFF-ST-10002562</td>\n",
       "      <td>Office Supplies</td>\n",
       "      <td>Storage</td>\n",
       "      <td>Staple magnet</td>\n",
       "    </tr>\n",
       "    <tr>\n",
       "      <th>349</th>\n",
       "      <td>OFF-ST-10003221</td>\n",
       "      <td>Office Supplies</td>\n",
       "      <td>Storage</td>\n",
       "      <td>Staple magnet</td>\n",
       "    </tr>\n",
       "    <tr>\n",
       "      <th>1622</th>\n",
       "      <td>OFF-SU-10000946</td>\n",
       "      <td>Office Supplies</td>\n",
       "      <td>Supplies</td>\n",
       "      <td>Staple remover</td>\n",
       "    </tr>\n",
       "    <tr>\n",
       "      <th>153</th>\n",
       "      <td>OFF-SU-10001225</td>\n",
       "      <td>Office Supplies</td>\n",
       "      <td>Supplies</td>\n",
       "      <td>Staple remover</td>\n",
       "    </tr>\n",
       "    <tr>\n",
       "      <th>1252</th>\n",
       "      <td>OFF-SU-10001935</td>\n",
       "      <td>Office Supplies</td>\n",
       "      <td>Supplies</td>\n",
       "      <td>Staple remover</td>\n",
       "    </tr>\n",
       "    <tr>\n",
       "      <th>451</th>\n",
       "      <td>FUR-FU-10001940</td>\n",
       "      <td>Furniture</td>\n",
       "      <td>Furnishings</td>\n",
       "      <td>Staple-based wall hangings</td>\n",
       "    </tr>\n",
       "    <tr>\n",
       "      <th>827</th>\n",
       "      <td>FUR-FU-10004351</td>\n",
       "      <td>Furniture</td>\n",
       "      <td>Furnishings</td>\n",
       "      <td>Staple-based wall hangings</td>\n",
       "    </tr>\n",
       "    <tr>\n",
       "      <th>211</th>\n",
       "      <td>OFF-FA-10000735</td>\n",
       "      <td>Office Supplies</td>\n",
       "      <td>Fasteners</td>\n",
       "      <td>Staples</td>\n",
       "    </tr>\n",
       "    <tr>\n",
       "      <th>1189</th>\n",
       "      <td>OFF-FA-10001229</td>\n",
       "      <td>Office Supplies</td>\n",
       "      <td>Fasteners</td>\n",
       "      <td>Staples</td>\n",
       "    </tr>\n",
       "    <tr>\n",
       "      <th>768</th>\n",
       "      <td>OFF-FA-10001843</td>\n",
       "      <td>Office Supplies</td>\n",
       "      <td>Fasteners</td>\n",
       "      <td>Staples</td>\n",
       "    </tr>\n",
       "    <tr>\n",
       "      <th>479</th>\n",
       "      <td>OFF-FA-10002780</td>\n",
       "      <td>Office Supplies</td>\n",
       "      <td>Fasteners</td>\n",
       "      <td>Staples</td>\n",
       "    </tr>\n",
       "    <tr>\n",
       "      <th>392</th>\n",
       "      <td>OFF-FA-10002815</td>\n",
       "      <td>Office Supplies</td>\n",
       "      <td>Fasteners</td>\n",
       "      <td>Staples</td>\n",
       "    </tr>\n",
       "    <tr>\n",
       "      <th>174</th>\n",
       "      <td>OFF-FA-10002975</td>\n",
       "      <td>Office Supplies</td>\n",
       "      <td>Fasteners</td>\n",
       "      <td>Staples</td>\n",
       "    </tr>\n",
       "    <tr>\n",
       "      <th>64</th>\n",
       "      <td>OFF-FA-10003021</td>\n",
       "      <td>Office Supplies</td>\n",
       "      <td>Fasteners</td>\n",
       "      <td>Staples</td>\n",
       "    </tr>\n",
       "    <tr>\n",
       "      <th>844</th>\n",
       "      <td>OFF-FA-10003112</td>\n",
       "      <td>Office Supplies</td>\n",
       "      <td>Fasteners</td>\n",
       "      <td>Staples</td>\n",
       "    </tr>\n",
       "    <tr>\n",
       "      <th>1079</th>\n",
       "      <td>OFF-FA-10003485</td>\n",
       "      <td>Office Supplies</td>\n",
       "      <td>Fasteners</td>\n",
       "      <td>Staples</td>\n",
       "    </tr>\n",
       "    <tr>\n",
       "      <th>940</th>\n",
       "      <td>OFF-FA-10003495</td>\n",
       "      <td>Office Supplies</td>\n",
       "      <td>Fasteners</td>\n",
       "      <td>Staples</td>\n",
       "    </tr>\n",
       "    <tr>\n",
       "      <th>1336</th>\n",
       "      <td>OFF-AR-10001166</td>\n",
       "      <td>Office Supplies</td>\n",
       "      <td>Art</td>\n",
       "      <td>Staples in misc. colors</td>\n",
       "    </tr>\n",
       "    <tr>\n",
       "      <th>1813</th>\n",
       "      <td>OFF-AR-10002280</td>\n",
       "      <td>Office Supplies</td>\n",
       "      <td>Art</td>\n",
       "      <td>Staples in misc. colors</td>\n",
       "    </tr>\n",
       "    <tr>\n",
       "      <th>1834</th>\n",
       "      <td>OFF-AR-10003087</td>\n",
       "      <td>Office Supplies</td>\n",
       "      <td>Art</td>\n",
       "      <td>Staples in misc. colors</td>\n",
       "    </tr>\n",
       "    <tr>\n",
       "      <th>353</th>\n",
       "      <td>OFF-AR-10003631</td>\n",
       "      <td>Office Supplies</td>\n",
       "      <td>Art</td>\n",
       "      <td>Staples in misc. colors</td>\n",
       "    </tr>\n",
       "    <tr>\n",
       "      <th>1271</th>\n",
       "      <td>OFF-AR-10004062</td>\n",
       "      <td>Office Supplies</td>\n",
       "      <td>Art</td>\n",
       "      <td>Staples in misc. colors</td>\n",
       "    </tr>\n",
       "    <tr>\n",
       "      <th>1837</th>\n",
       "      <td>OFF-AR-10004707</td>\n",
       "      <td>Office Supplies</td>\n",
       "      <td>Art</td>\n",
       "      <td>Staples in misc. colors</td>\n",
       "    </tr>\n",
       "    <tr>\n",
       "      <th>1820</th>\n",
       "      <td>OFF-AR-10004790</td>\n",
       "      <td>Office Supplies</td>\n",
       "      <td>Art</td>\n",
       "      <td>Staples in misc. colors</td>\n",
       "    </tr>\n",
       "    <tr>\n",
       "      <th>1440</th>\n",
       "      <td>OFF-BI-10001922</td>\n",
       "      <td>Office Supplies</td>\n",
       "      <td>Binders</td>\n",
       "      <td>Storex Dura Pro Binders</td>\n",
       "    </tr>\n",
       "    <tr>\n",
       "      <th>292</th>\n",
       "      <td>OFF-BI-10004364</td>\n",
       "      <td>Office Supplies</td>\n",
       "      <td>Binders</td>\n",
       "      <td>Storex Dura Pro Binders</td>\n",
       "    </tr>\n",
       "  </tbody>\n",
       "</table>\n",
       "</div>"
      ],
      "text/plain": [
       "            ProductID         Category  SubCategory  \\\n",
       "1127  OFF-EN-10000461  Office Supplies    Envelopes   \n",
       "660   OFF-EN-10000781  Office Supplies    Envelopes   \n",
       "284   OFF-BI-10000829  Office Supplies      Binders   \n",
       "45    OFF-BI-10004140  Office Supplies      Binders   \n",
       "1373  OFF-PA-10000249  Office Supplies        Paper   \n",
       "744   OFF-PA-10000349  Office Supplies        Paper   \n",
       "293   OFF-PA-10000474  Office Supplies        Paper   \n",
       "1679  OFF-PA-10000565  Office Supplies        Paper   \n",
       "875   OFF-PA-10001685  Office Supplies        Paper   \n",
       "1684  OFF-PA-10002764  Office Supplies        Paper   \n",
       "1804  OFF-PA-10003127  Office Supplies        Paper   \n",
       "1094  OFF-PA-10004947  Office Supplies        Paper   \n",
       "847   FUR-FU-10000023        Furniture  Furnishings   \n",
       "116   FUR-FU-10003981        Furniture  Furnishings   \n",
       "126   FUR-TA-10001039        Furniture       Tables   \n",
       "723   FUR-TA-10004086        Furniture       Tables   \n",
       "1800  TEC-MA-10001856       Technology     Machines   \n",
       "1729  TEC-MA-10003230       Technology     Machines   \n",
       "779   OFF-EN-10002592  Office Supplies    Envelopes   \n",
       "1891  OFF-EN-10003448  Office Supplies    Envelopes   \n",
       "1782  OFF-AR-10002766  Office Supplies          Art   \n",
       "310   OFF-AR-10003251  Office Supplies          Art   \n",
       "1288  OFF-EN-10001028  Office Supplies    Envelopes   \n",
       "197   OFF-EN-10001099  Office Supplies    Envelopes   \n",
       "297   OFF-EN-10001415  Office Supplies    Envelopes   \n",
       "749   OFF-EN-10001539  Office Supplies    Envelopes   \n",
       "195   OFF-EN-10001990  Office Supplies    Envelopes   \n",
       "993   OFF-EN-10002621  Office Supplies    Envelopes   \n",
       "582   OFF-EN-10003134  Office Supplies    Envelopes   \n",
       "328   OFF-EN-10003286  Office Supplies    Envelopes   \n",
       "475   OFF-EN-10004773  Office Supplies    Envelopes   \n",
       "700   OFF-AP-10001366  Office Supplies   Appliances   \n",
       "1523  OFF-AP-10002222  Office Supplies   Appliances   \n",
       "28    OFF-AP-10004249  Office Supplies   Appliances   \n",
       "1017  OFF-ST-10002562  Office Supplies      Storage   \n",
       "349   OFF-ST-10003221  Office Supplies      Storage   \n",
       "1622  OFF-SU-10000946  Office Supplies     Supplies   \n",
       "153   OFF-SU-10001225  Office Supplies     Supplies   \n",
       "1252  OFF-SU-10001935  Office Supplies     Supplies   \n",
       "451   FUR-FU-10001940        Furniture  Furnishings   \n",
       "827   FUR-FU-10004351        Furniture  Furnishings   \n",
       "211   OFF-FA-10000735  Office Supplies    Fasteners   \n",
       "1189  OFF-FA-10001229  Office Supplies    Fasteners   \n",
       "768   OFF-FA-10001843  Office Supplies    Fasteners   \n",
       "479   OFF-FA-10002780  Office Supplies    Fasteners   \n",
       "392   OFF-FA-10002815  Office Supplies    Fasteners   \n",
       "174   OFF-FA-10002975  Office Supplies    Fasteners   \n",
       "64    OFF-FA-10003021  Office Supplies    Fasteners   \n",
       "844   OFF-FA-10003112  Office Supplies    Fasteners   \n",
       "1079  OFF-FA-10003485  Office Supplies    Fasteners   \n",
       "940   OFF-FA-10003495  Office Supplies    Fasteners   \n",
       "1336  OFF-AR-10001166  Office Supplies          Art   \n",
       "1813  OFF-AR-10002280  Office Supplies          Art   \n",
       "1834  OFF-AR-10003087  Office Supplies          Art   \n",
       "353   OFF-AR-10003631  Office Supplies          Art   \n",
       "1271  OFF-AR-10004062  Office Supplies          Art   \n",
       "1837  OFF-AR-10004707  Office Supplies          Art   \n",
       "1820  OFF-AR-10004790  Office Supplies          Art   \n",
       "1440  OFF-BI-10001922  Office Supplies      Binders   \n",
       "292   OFF-BI-10004364  Office Supplies      Binders   \n",
       "\n",
       "                                               Name  \n",
       "1127        #10- 4 1/8\" x 9 1/2\" Recycled Envelopes  \n",
       "660         #10- 4 1/8\" x 9 1/2\" Recycled Envelopes  \n",
       "284                         Avery Non-Stick Binders  \n",
       "45                          Avery Non-Stick Binders  \n",
       "1373                              Easy-staple paper  \n",
       "744                               Easy-staple paper  \n",
       "293                               Easy-staple paper  \n",
       "1679                              Easy-staple paper  \n",
       "875                               Easy-staple paper  \n",
       "1684                              Easy-staple paper  \n",
       "1804                              Easy-staple paper  \n",
       "1094                              Easy-staple paper  \n",
       "847                     Eldon Wave Desk Accessories  \n",
       "116                     Eldon Wave Desk Accessories  \n",
       "126                      KI Adjustable-Height Table  \n",
       "723                      KI Adjustable-Height Table  \n",
       "1800                          Okidata C610n Printer  \n",
       "1729                          Okidata C610n Printer  \n",
       "779   Peel & Seel Recycled Catalog Envelopes, Brown  \n",
       "1891  Peel & Seel Recycled Catalog Envelopes, Brown  \n",
       "1782                       Prang Drawing Pencil Set  \n",
       "310                        Prang Drawing Pencil Set  \n",
       "1288                                Staple envelope  \n",
       "197                                 Staple envelope  \n",
       "297                                 Staple envelope  \n",
       "749                                 Staple envelope  \n",
       "195                                 Staple envelope  \n",
       "993                                 Staple envelope  \n",
       "582                                 Staple envelope  \n",
       "328                                 Staple envelope  \n",
       "475                                 Staple envelope  \n",
       "700                                   Staple holder  \n",
       "1523                                  Staple holder  \n",
       "28                                    Staple holder  \n",
       "1017                                  Staple magnet  \n",
       "349                                   Staple magnet  \n",
       "1622                                 Staple remover  \n",
       "153                                  Staple remover  \n",
       "1252                                 Staple remover  \n",
       "451                      Staple-based wall hangings  \n",
       "827                      Staple-based wall hangings  \n",
       "211                                         Staples  \n",
       "1189                                        Staples  \n",
       "768                                         Staples  \n",
       "479                                         Staples  \n",
       "392                                         Staples  \n",
       "174                                         Staples  \n",
       "64                                          Staples  \n",
       "844                                         Staples  \n",
       "1079                                        Staples  \n",
       "940                                         Staples  \n",
       "1336                        Staples in misc. colors  \n",
       "1813                        Staples in misc. colors  \n",
       "1834                        Staples in misc. colors  \n",
       "353                         Staples in misc. colors  \n",
       "1271                        Staples in misc. colors  \n",
       "1837                        Staples in misc. colors  \n",
       "1820                        Staples in misc. colors  \n",
       "1440                        Storex Dura Pro Binders  \n",
       "292                         Storex Dura Pro Binders  "
      ]
     },
     "execution_count": 280,
     "metadata": {},
     "output_type": "execute_result"
    }
   ],
   "source": [
    "# Are just the product ID mixed up? Are there products with similar names, but different product ID?\n",
    "product_analyse_dups.loc[product_analyse_dups.duplicated(subset=['Category', 'SubCategory', 'Name'], keep=False)].sort_values(['Name', 'ProductID'])\n",
    "\n",
    "# TODO How to fix? probably not possible ...\n",
    "# merge with product_analyse_dups[mask_dup_subset]\n",
    "# replace "
   ]
  },
  {
   "cell_type": "markdown",
   "id": "7cb9295e",
   "metadata": {},
   "source": [
    "* There are 60 duplicate product names, whereas there are products with very generic names, like 'Easy-staple paper'.\n",
    "* This indicates that the products are not defined until the smallest level of detail and that the product ID refers to a class of products."
   ]
  },
  {
   "cell_type": "markdown",
   "id": "b4448a80",
   "metadata": {},
   "source": [
    "* Conclusion: \n",
    "  * Keep all Name duplicates.\n",
    "  * Keep all ProductID duplicates and create a new ProductID (just put the number to a new)\n",
    "  * Create a new product ID."
   ]
  },
  {
   "cell_type": "markdown",
   "id": "f773489f",
   "metadata": {},
   "source": [
    "### Integrity\n",
    "* Product ID: cat-subcat-number\n",
    "* integrity check: check if category and subcategory are ok\n"
   ]
  },
  {
   "cell_type": "code",
   "execution_count": 281,
   "id": "e718a131",
   "metadata": {},
   "outputs": [],
   "source": [
    "# clean up\n",
    "# product = product[~product.index.duplicated(keep='first')]"
   ]
  },
  {
   "cell_type": "markdown",
   "id": "33962f4b",
   "metadata": {},
   "source": [
    "### separate product categories"
   ]
  },
  {
   "cell_type": "code",
   "execution_count": 282,
   "id": "18896e98",
   "metadata": {},
   "outputs": [
    {
     "data": {
      "application/vnd.microsoft.datawrangler.viewer.v0+json": {
       "columns": [
        {
         "name": "ProductID",
         "rawType": "string",
         "type": "string"
        },
        {
         "name": "Category",
         "rawType": "category",
         "type": "unknown"
        },
        {
         "name": "SubCategory",
         "rawType": "category",
         "type": "unknown"
        },
        {
         "name": "Name",
         "rawType": "string",
         "type": "string"
        }
       ],
       "ref": "46a0b203-3460-49d2-ae44-02bc7eb72aed",
       "rows": [
        [
         "TEC-PH-10002075",
         "Technology",
         "Phones",
         "AT&T EL51110 DECT"
        ],
        [
         "FUR-TA-10003715",
         "Furniture",
         "Tables",
         "Hon 2111 Invitation Series Corner Table"
        ],
        [
         "OFF-BI-10001597",
         "Office Supplies",
         "Binders",
         "Wilson Jones Ledger-Size, Piano-Hinge Binder, 2\", Blue"
        ],
        [
         "OFF-PA-10000176",
         "Office Supplies",
         "Paper",
         "Xerox 1887"
        ],
        [
         "OFF-BI-10000343",
         "Office Supplies",
         "Binders",
         "Pressboard Covers with Storage Hooks, 9 1/2\" x 11\", Light Blue"
        ],
        [
         "OFF-FA-10000611",
         "Office Supplies",
         "Fasteners",
         "Binder Clips by OIC"
        ],
        [
         "OFF-PA-10004733",
         "Office Supplies",
         "Paper",
         "Things To Do Today Spiral Book"
        ],
        [
         "OFF-PA-10001471",
         "Office Supplies",
         "Paper",
         "Strathmore Photo Frame Cards"
        ],
        [
         "FUR-CH-10002602",
         "Furniture",
         "Chairs",
         "DMI Arturo Collection Mission-style Design Wood Chair"
        ],
        [
         "OFF-AR-10001868",
         "Office Supplies",
         "Art",
         "Prang Dustless Chalk Sticks"
        ],
        [
         "OFF-EN-10000056",
         "Office Supplies",
         "Envelopes",
         "Cameo Buff Policy Envelopes"
        ],
        [
         "TEC-AC-10000474",
         "Technology",
         "Accessories",
         "Kensington Expert Mouse Optical USB Trackball for PC or Mac"
        ],
        [
         "FUR-FU-10002268",
         "Furniture",
         "Furnishings",
         "Ultra Door Push Plate"
        ],
        [
         "TEC-AC-10001314",
         "Technology",
         "Accessories",
         "Case Logic 2.4GHz Wireless Keyboard"
        ],
        [
         "OFF-AR-10000380",
         "Office Supplies",
         "Art",
         "Hunt PowerHouse Electric Pencil Sharpener, Blue"
        ],
        [
         "OFF-LA-10003930",
         "Office Supplies",
         "Labels",
         "Dot Matrix Printer Tape Reel Labels, White, 5000/Box"
        ],
        [
         "OFF-PA-10001815",
         "Office Supplies",
         "Paper",
         "Xerox 1885"
        ],
        [
         "OFF-PA-10004082",
         "Office Supplies",
         "Paper",
         "Adams Telephone Message Book w/Frequently-Called Numbers Space, 400 Messages per Book"
        ],
        [
         "OFF-LA-10001982",
         "Office Supplies",
         "Labels",
         "Smead Alpha-Z Color-Coded Name Labels First Letter Starter Set"
        ],
        [
         "TEC-PH-10004922",
         "Technology",
         "Phones",
         "RCA Visys Integrated PBX 8-Line Router"
        ],
        [
         "TEC-PH-10003273",
         "Technology",
         "Phones",
         "AT&T TR1909W"
        ],
        [
         "OFF-AR-10004511",
         "Office Supplies",
         "Art",
         "Sanford Colorific Scented Colored Pencils, 12/Pack"
        ],
        [
         "OFF-ST-10001490",
         "Office Supplies",
         "Storage",
         "Hot File 7-Pocket, Floor Stand"
        ],
        [
         "TEC-PH-10001425",
         "Technology",
         "Phones",
         "Mophie Juice Pack Helium for iPhone"
        ],
        [
         "FUR-TA-10004607",
         "Furniture",
         "Tables",
         "Hon 2111 Invitation Series Straight Table"
        ],
        [
         "OFF-AR-10001022",
         "Office Supplies",
         "Art",
         "SANFORD Liquid Accent Tank-Style Highlighters"
        ],
        [
         "OFF-ST-10003479",
         "Office Supplies",
         "Storage",
         "Eldon Base for stackable storage shelf, platinum"
        ],
        [
         "OFF-PA-10000357",
         "Office Supplies",
         "Paper",
         "Xerox 1888"
        ],
        [
         "OFF-AP-10004249",
         "Office Supplies",
         "Appliances",
         "Staple holder"
        ],
        [
         "OFF-ST-10004950",
         "Office Supplies",
         "Storage",
         "Acco Perma 3000 Stacking Storage Drawers"
        ],
        [
         "OFF-PA-10002986",
         "Office Supplies",
         "Paper",
         "Xerox 1898"
        ],
        [
         "OFF-BI-10003984",
         "Office Supplies",
         "Binders",
         "Lock-Up Easel 'Spel-Binder'"
        ],
        [
         "OFF-ST-10000532",
         "Office Supplies",
         "Storage",
         "Advantus Rolling Drawer Organizers"
        ],
        [
         "OFF-AR-10002257",
         "Office Supplies",
         "Art",
         "Eldon Spacemaker Box, Quick-Snap Lid, Clear"
        ],
        [
         "FUR-FU-10000409",
         "Furniture",
         "Furnishings",
         "GE 4 Foot Flourescent Tube, 40 Watt"
        ],
        [
         "TEC-MA-10000029",
         "Technology",
         "Machines",
         "Epson WorkForce WF-2530 All-in-One Printer, Copier Scanner"
        ],
        [
         "FUR-FU-10003773",
         "Furniture",
         "Furnishings",
         "Eldon Cleatmat Plus Chair Mats for High Pile Carpets"
        ],
        [
         "OFF-AR-10004757",
         "Office Supplies",
         "Art",
         "Crayola Colored Pencils"
        ],
        [
         "OFF-BI-10000309",
         "Office Supplies",
         "Binders",
         "GBC Twin Loop Wire Binding Elements, 9/16\" Spine, Black"
        ],
        [
         "OFF-PA-10001363",
         "Office Supplies",
         "Paper",
         "Xerox 1933"
        ],
        [
         "FUR-CH-10004675",
         "Furniture",
         "Chairs",
         "Lifetime Advantage Folding Chairs, 4/Carton"
        ],
        [
         "TEC-PH-10000169",
         "Technology",
         "Phones",
         "ARKON Windshield Dashboard Air Vent Car Mount Holder"
        ],
        [
         "OFF-BI-10001097",
         "Office Supplies",
         "Binders",
         "Avery Hole Reinforcements"
        ],
        [
         "OFF-PA-10003591",
         "Office Supplies",
         "Paper",
         "Southworth 100% Cotton The Best Paper"
        ],
        [
         "FUR-BO-10001337",
         "Furniture",
         "Bookcases",
         "O'Sullivan Living Dimensions 2-Shelf Bookcases"
        ],
        [
         "OFF-BI-10004140",
         "Office Supplies",
         "Binders",
         "Avery Non-Stick Binders"
        ],
        [
         "OFF-ST-10003442",
         "Office Supplies",
         "Storage",
         "Eldon Portable Mobile Manager"
        ],
        [
         "OFF-SU-10000646",
         "Office Supplies",
         "Supplies",
         "Premier Automatic Letter Opener"
        ],
        [
         "OFF-SU-10002301",
         "Office Supplies",
         "Supplies",
         "Serrated Blade or Curved Handle Hand Letter Openers"
        ],
        [
         "OFF-PA-10004092",
         "Office Supplies",
         "Paper",
         "Tops Green Bar Computer Printout Paper"
        ]
       ],
       "shape": {
        "columns": 3,
        "rows": 1894
       }
      },
      "text/html": [
       "<div>\n",
       "<style scoped>\n",
       "    .dataframe tbody tr th:only-of-type {\n",
       "        vertical-align: middle;\n",
       "    }\n",
       "\n",
       "    .dataframe tbody tr th {\n",
       "        vertical-align: top;\n",
       "    }\n",
       "\n",
       "    .dataframe thead th {\n",
       "        text-align: right;\n",
       "    }\n",
       "</style>\n",
       "<table border=\"1\" class=\"dataframe\">\n",
       "  <thead>\n",
       "    <tr style=\"text-align: right;\">\n",
       "      <th></th>\n",
       "      <th>Category</th>\n",
       "      <th>SubCategory</th>\n",
       "      <th>Name</th>\n",
       "    </tr>\n",
       "    <tr>\n",
       "      <th>ProductID</th>\n",
       "      <th></th>\n",
       "      <th></th>\n",
       "      <th></th>\n",
       "    </tr>\n",
       "  </thead>\n",
       "  <tbody>\n",
       "    <tr>\n",
       "      <th>TEC-PH-10002075</th>\n",
       "      <td>Technology</td>\n",
       "      <td>Phones</td>\n",
       "      <td>AT&amp;T EL51110 DECT</td>\n",
       "    </tr>\n",
       "    <tr>\n",
       "      <th>FUR-TA-10003715</th>\n",
       "      <td>Furniture</td>\n",
       "      <td>Tables</td>\n",
       "      <td>Hon 2111 Invitation Series Corner Table</td>\n",
       "    </tr>\n",
       "    <tr>\n",
       "      <th>OFF-BI-10001597</th>\n",
       "      <td>Office Supplies</td>\n",
       "      <td>Binders</td>\n",
       "      <td>Wilson Jones Ledger-Size, Piano-Hinge Binder, ...</td>\n",
       "    </tr>\n",
       "    <tr>\n",
       "      <th>OFF-PA-10000176</th>\n",
       "      <td>Office Supplies</td>\n",
       "      <td>Paper</td>\n",
       "      <td>Xerox 1887</td>\n",
       "    </tr>\n",
       "    <tr>\n",
       "      <th>OFF-BI-10000343</th>\n",
       "      <td>Office Supplies</td>\n",
       "      <td>Binders</td>\n",
       "      <td>Pressboard Covers with Storage Hooks, 9 1/2\" x...</td>\n",
       "    </tr>\n",
       "    <tr>\n",
       "      <th>...</th>\n",
       "      <td>...</td>\n",
       "      <td>...</td>\n",
       "      <td>...</td>\n",
       "    </tr>\n",
       "    <tr>\n",
       "      <th>OFF-AR-10003477</th>\n",
       "      <td>Office Supplies</td>\n",
       "      <td>Art</td>\n",
       "      <td>4009 Highlighters</td>\n",
       "    </tr>\n",
       "    <tr>\n",
       "      <th>OFF-LA-10003388</th>\n",
       "      <td>Office Supplies</td>\n",
       "      <td>Labels</td>\n",
       "      <td>Avery 5</td>\n",
       "    </tr>\n",
       "    <tr>\n",
       "      <th>OFF-EN-10003448</th>\n",
       "      <td>Office Supplies</td>\n",
       "      <td>Envelopes</td>\n",
       "      <td>Peel &amp; Seel Recycled Catalog Envelopes, Brown</td>\n",
       "    </tr>\n",
       "    <tr>\n",
       "      <th>OFF-AP-10002203</th>\n",
       "      <td>Office Supplies</td>\n",
       "      <td>Appliances</td>\n",
       "      <td>Eureka Disposable Bags for Sanitaire Vibra Gro...</td>\n",
       "    </tr>\n",
       "    <tr>\n",
       "      <th>TEC-MA-10004125</th>\n",
       "      <td>Technology</td>\n",
       "      <td>Machines</td>\n",
       "      <td>Cubify CubeX 3D Printer Triple Head Print</td>\n",
       "    </tr>\n",
       "  </tbody>\n",
       "</table>\n",
       "<p>1894 rows × 3 columns</p>\n",
       "</div>"
      ],
      "text/plain": [
       "                        Category SubCategory  \\\n",
       "ProductID                                      \n",
       "TEC-PH-10002075       Technology      Phones   \n",
       "FUR-TA-10003715        Furniture      Tables   \n",
       "OFF-BI-10001597  Office Supplies     Binders   \n",
       "OFF-PA-10000176  Office Supplies       Paper   \n",
       "OFF-BI-10000343  Office Supplies     Binders   \n",
       "...                          ...         ...   \n",
       "OFF-AR-10003477  Office Supplies         Art   \n",
       "OFF-LA-10003388  Office Supplies      Labels   \n",
       "OFF-EN-10003448  Office Supplies   Envelopes   \n",
       "OFF-AP-10002203  Office Supplies  Appliances   \n",
       "TEC-MA-10004125       Technology    Machines   \n",
       "\n",
       "                                                              Name  \n",
       "ProductID                                                           \n",
       "TEC-PH-10002075                                  AT&T EL51110 DECT  \n",
       "FUR-TA-10003715            Hon 2111 Invitation Series Corner Table  \n",
       "OFF-BI-10001597  Wilson Jones Ledger-Size, Piano-Hinge Binder, ...  \n",
       "OFF-PA-10000176                                         Xerox 1887  \n",
       "OFF-BI-10000343  Pressboard Covers with Storage Hooks, 9 1/2\" x...  \n",
       "...                                                            ...  \n",
       "OFF-AR-10003477                                  4009 Highlighters  \n",
       "OFF-LA-10003388                                            Avery 5  \n",
       "OFF-EN-10003448      Peel & Seel Recycled Catalog Envelopes, Brown  \n",
       "OFF-AP-10002203  Eureka Disposable Bags for Sanitaire Vibra Gro...  \n",
       "TEC-MA-10004125          Cubify CubeX 3D Printer Triple Head Print  \n",
       "\n",
       "[1894 rows x 3 columns]"
      ]
     },
     "execution_count": 282,
     "metadata": {},
     "output_type": "execute_result"
    }
   ],
   "source": [
    "product_all = product.copy()\n",
    "product_all"
   ]
  },
  {
   "cell_type": "code",
   "execution_count": 300,
   "id": "e8878540",
   "metadata": {},
   "outputs": [
    {
     "data": {
      "application/vnd.microsoft.datawrangler.viewer.v0+json": {
       "columns": [
        {
         "name": "index",
         "rawType": "int64",
         "type": "integer"
        },
        {
         "name": "ProductReference",
         "rawType": "string",
         "type": "string"
        },
        {
         "name": "Name",
         "rawType": "string",
         "type": "string"
        },
        {
         "name": "ProductCategoryID",
         "rawType": "int64",
         "type": "integer"
        }
       ],
       "ref": "9d799521-5a60-4a1e-a0e1-ef844667a33e",
       "rows": [
        [
         "0",
         "TEC-PH-10002075",
         "AT&T EL51110 DECT",
         "0"
        ],
        [
         "1",
         "FUR-TA-10003715",
         "Hon 2111 Invitation Series Corner Table",
         "1"
        ],
        [
         "2",
         "OFF-BI-10001597",
         "Wilson Jones Ledger-Size, Piano-Hinge Binder, 2\", Blue",
         "2"
        ],
        [
         "3",
         "OFF-PA-10000176",
         "Xerox 1887",
         "3"
        ],
        [
         "4",
         "OFF-BI-10000343",
         "Pressboard Covers with Storage Hooks, 9 1/2\" x 11\", Light Blue",
         "2"
        ],
        [
         "5",
         "OFF-FA-10000611",
         "Binder Clips by OIC",
         "4"
        ],
        [
         "6",
         "OFF-PA-10004733",
         "Things To Do Today Spiral Book",
         "3"
        ],
        [
         "7",
         "OFF-PA-10001471",
         "Strathmore Photo Frame Cards",
         "3"
        ],
        [
         "8",
         "FUR-CH-10002602",
         "DMI Arturo Collection Mission-style Design Wood Chair",
         "5"
        ],
        [
         "9",
         "OFF-AR-10001868",
         "Prang Dustless Chalk Sticks",
         "6"
        ],
        [
         "10",
         "OFF-EN-10000056",
         "Cameo Buff Policy Envelopes",
         "7"
        ],
        [
         "11",
         "TEC-AC-10000474",
         "Kensington Expert Mouse Optical USB Trackball for PC or Mac",
         "8"
        ],
        [
         "12",
         "FUR-FU-10002268",
         "Ultra Door Push Plate",
         "9"
        ],
        [
         "13",
         "TEC-AC-10001314",
         "Case Logic 2.4GHz Wireless Keyboard",
         "8"
        ],
        [
         "14",
         "OFF-AR-10000380",
         "Hunt PowerHouse Electric Pencil Sharpener, Blue",
         "6"
        ],
        [
         "15",
         "OFF-LA-10003930",
         "Dot Matrix Printer Tape Reel Labels, White, 5000/Box",
         "10"
        ],
        [
         "16",
         "OFF-PA-10001815",
         "Xerox 1885",
         "3"
        ],
        [
         "17",
         "OFF-PA-10004082",
         "Adams Telephone Message Book w/Frequently-Called Numbers Space, 400 Messages per Book",
         "3"
        ],
        [
         "18",
         "OFF-LA-10001982",
         "Smead Alpha-Z Color-Coded Name Labels First Letter Starter Set",
         "10"
        ],
        [
         "19",
         "TEC-PH-10004922",
         "RCA Visys Integrated PBX 8-Line Router",
         "0"
        ],
        [
         "20",
         "TEC-PH-10003273",
         "AT&T TR1909W",
         "0"
        ],
        [
         "21",
         "OFF-AR-10004511",
         "Sanford Colorific Scented Colored Pencils, 12/Pack",
         "6"
        ],
        [
         "22",
         "OFF-ST-10001490",
         "Hot File 7-Pocket, Floor Stand",
         "11"
        ],
        [
         "23",
         "TEC-PH-10001425",
         "Mophie Juice Pack Helium for iPhone",
         "0"
        ],
        [
         "24",
         "FUR-TA-10004607",
         "Hon 2111 Invitation Series Straight Table",
         "1"
        ],
        [
         "25",
         "OFF-AR-10001022",
         "SANFORD Liquid Accent Tank-Style Highlighters",
         "6"
        ],
        [
         "26",
         "OFF-ST-10003479",
         "Eldon Base for stackable storage shelf, platinum",
         "11"
        ],
        [
         "27",
         "OFF-PA-10000357",
         "Xerox 1888",
         "3"
        ],
        [
         "28",
         "OFF-AP-10004249",
         "Staple holder",
         "12"
        ],
        [
         "29",
         "OFF-ST-10004950",
         "Acco Perma 3000 Stacking Storage Drawers",
         "11"
        ],
        [
         "30",
         "OFF-PA-10002986",
         "Xerox 1898",
         "3"
        ],
        [
         "31",
         "OFF-BI-10003984",
         "Lock-Up Easel 'Spel-Binder'",
         "2"
        ],
        [
         "32",
         "OFF-ST-10000532",
         "Advantus Rolling Drawer Organizers",
         "11"
        ],
        [
         "33",
         "OFF-AR-10002257",
         "Eldon Spacemaker Box, Quick-Snap Lid, Clear",
         "6"
        ],
        [
         "34",
         "FUR-FU-10000409",
         "GE 4 Foot Flourescent Tube, 40 Watt",
         "9"
        ],
        [
         "35",
         "TEC-MA-10000029",
         "Epson WorkForce WF-2530 All-in-One Printer, Copier Scanner",
         "13"
        ],
        [
         "36",
         "FUR-FU-10003773",
         "Eldon Cleatmat Plus Chair Mats for High Pile Carpets",
         "9"
        ],
        [
         "37",
         "OFF-AR-10004757",
         "Crayola Colored Pencils",
         "6"
        ],
        [
         "38",
         "OFF-BI-10000309",
         "GBC Twin Loop Wire Binding Elements, 9/16\" Spine, Black",
         "2"
        ],
        [
         "39",
         "OFF-PA-10001363",
         "Xerox 1933",
         "3"
        ],
        [
         "40",
         "FUR-CH-10004675",
         "Lifetime Advantage Folding Chairs, 4/Carton",
         "5"
        ],
        [
         "41",
         "TEC-PH-10000169",
         "ARKON Windshield Dashboard Air Vent Car Mount Holder",
         "0"
        ],
        [
         "42",
         "OFF-BI-10001097",
         "Avery Hole Reinforcements",
         "2"
        ],
        [
         "43",
         "OFF-PA-10003591",
         "Southworth 100% Cotton The Best Paper",
         "3"
        ],
        [
         "44",
         "FUR-BO-10001337",
         "O'Sullivan Living Dimensions 2-Shelf Bookcases",
         "14"
        ],
        [
         "45",
         "OFF-BI-10004140",
         "Avery Non-Stick Binders",
         "2"
        ],
        [
         "46",
         "OFF-ST-10003442",
         "Eldon Portable Mobile Manager",
         "11"
        ],
        [
         "47",
         "OFF-SU-10000646",
         "Premier Automatic Letter Opener",
         "15"
        ],
        [
         "48",
         "OFF-SU-10002301",
         "Serrated Blade or Curved Handle Hand Letter Openers",
         "15"
        ],
        [
         "49",
         "OFF-PA-10004092",
         "Tops Green Bar Computer Printout Paper",
         "3"
        ]
       ],
       "shape": {
        "columns": 3,
        "rows": 1894
       }
      },
      "text/html": [
       "<div>\n",
       "<style scoped>\n",
       "    .dataframe tbody tr th:only-of-type {\n",
       "        vertical-align: middle;\n",
       "    }\n",
       "\n",
       "    .dataframe tbody tr th {\n",
       "        vertical-align: top;\n",
       "    }\n",
       "\n",
       "    .dataframe thead th {\n",
       "        text-align: right;\n",
       "    }\n",
       "</style>\n",
       "<table border=\"1\" class=\"dataframe\">\n",
       "  <thead>\n",
       "    <tr style=\"text-align: right;\">\n",
       "      <th></th>\n",
       "      <th>ProductReference</th>\n",
       "      <th>Name</th>\n",
       "      <th>ProductCategoryID</th>\n",
       "    </tr>\n",
       "  </thead>\n",
       "  <tbody>\n",
       "    <tr>\n",
       "      <th>0</th>\n",
       "      <td>TEC-PH-10002075</td>\n",
       "      <td>AT&amp;T EL51110 DECT</td>\n",
       "      <td>0</td>\n",
       "    </tr>\n",
       "    <tr>\n",
       "      <th>1</th>\n",
       "      <td>FUR-TA-10003715</td>\n",
       "      <td>Hon 2111 Invitation Series Corner Table</td>\n",
       "      <td>1</td>\n",
       "    </tr>\n",
       "    <tr>\n",
       "      <th>2</th>\n",
       "      <td>OFF-BI-10001597</td>\n",
       "      <td>Wilson Jones Ledger-Size, Piano-Hinge Binder, ...</td>\n",
       "      <td>2</td>\n",
       "    </tr>\n",
       "    <tr>\n",
       "      <th>3</th>\n",
       "      <td>OFF-PA-10000176</td>\n",
       "      <td>Xerox 1887</td>\n",
       "      <td>3</td>\n",
       "    </tr>\n",
       "    <tr>\n",
       "      <th>4</th>\n",
       "      <td>OFF-BI-10000343</td>\n",
       "      <td>Pressboard Covers with Storage Hooks, 9 1/2\" x...</td>\n",
       "      <td>2</td>\n",
       "    </tr>\n",
       "    <tr>\n",
       "      <th>...</th>\n",
       "      <td>...</td>\n",
       "      <td>...</td>\n",
       "      <td>...</td>\n",
       "    </tr>\n",
       "    <tr>\n",
       "      <th>1889</th>\n",
       "      <td>OFF-AR-10003477</td>\n",
       "      <td>4009 Highlighters</td>\n",
       "      <td>6</td>\n",
       "    </tr>\n",
       "    <tr>\n",
       "      <th>1890</th>\n",
       "      <td>OFF-LA-10003388</td>\n",
       "      <td>Avery 5</td>\n",
       "      <td>10</td>\n",
       "    </tr>\n",
       "    <tr>\n",
       "      <th>1891</th>\n",
       "      <td>OFF-EN-10003448</td>\n",
       "      <td>Peel &amp; Seel Recycled Catalog Envelopes, Brown</td>\n",
       "      <td>7</td>\n",
       "    </tr>\n",
       "    <tr>\n",
       "      <th>1892</th>\n",
       "      <td>OFF-AP-10002203</td>\n",
       "      <td>Eureka Disposable Bags for Sanitaire Vibra Gro...</td>\n",
       "      <td>12</td>\n",
       "    </tr>\n",
       "    <tr>\n",
       "      <th>1893</th>\n",
       "      <td>TEC-MA-10004125</td>\n",
       "      <td>Cubify CubeX 3D Printer Triple Head Print</td>\n",
       "      <td>13</td>\n",
       "    </tr>\n",
       "  </tbody>\n",
       "</table>\n",
       "<p>1894 rows × 3 columns</p>\n",
       "</div>"
      ],
      "text/plain": [
       "     ProductReference                                               Name  \\\n",
       "0     TEC-PH-10002075                                  AT&T EL51110 DECT   \n",
       "1     FUR-TA-10003715            Hon 2111 Invitation Series Corner Table   \n",
       "2     OFF-BI-10001597  Wilson Jones Ledger-Size, Piano-Hinge Binder, ...   \n",
       "3     OFF-PA-10000176                                         Xerox 1887   \n",
       "4     OFF-BI-10000343  Pressboard Covers with Storage Hooks, 9 1/2\" x...   \n",
       "...               ...                                                ...   \n",
       "1889  OFF-AR-10003477                                  4009 Highlighters   \n",
       "1890  OFF-LA-10003388                                            Avery 5   \n",
       "1891  OFF-EN-10003448      Peel & Seel Recycled Catalog Envelopes, Brown   \n",
       "1892  OFF-AP-10002203  Eureka Disposable Bags for Sanitaire Vibra Gro...   \n",
       "1893  TEC-MA-10004125          Cubify CubeX 3D Printer Triple Head Print   \n",
       "\n",
       "      ProductCategoryID  \n",
       "0                     0  \n",
       "1                     1  \n",
       "2                     2  \n",
       "3                     3  \n",
       "4                     2  \n",
       "...                 ...  \n",
       "1889                  6  \n",
       "1890                 10  \n",
       "1891                  7  \n",
       "1892                 12  \n",
       "1893                 13  \n",
       "\n",
       "[1894 rows x 3 columns]"
      ]
     },
     "execution_count": 300,
     "metadata": {},
     "output_type": "execute_result"
    }
   ],
   "source": [
    "product_categories = product_all[['Category', 'SubCategory']].drop_duplicates().reset_index(drop=True)\n",
    "product = pd.merge(\n",
    "    product_all.reset_index(),\n",
    "    product_categories.reset_index(), \n",
    "    on=['Category', 'SubCategory'], how='left'\n",
    "    ).drop(columns=['Category', 'SubCategory']).rename(columns={'index':'ProductCategoryID', 'ProductID':'ProductReference'})\n",
    "product"
   ]
  },
  {
   "cell_type": "markdown",
   "id": "ce98ce0d",
   "metadata": {},
   "source": [
    "## Address"
   ]
  },
  {
   "cell_type": "code",
   "execution_count": 320,
   "id": "009c4d6d",
   "metadata": {},
   "outputs": [
    {
     "data": {
      "application/vnd.microsoft.datawrangler.viewer.v0+json": {
       "columns": [
        {
         "name": "index",
         "rawType": "int64",
         "type": "integer"
        },
        {
         "name": "Country",
         "rawType": "category",
         "type": "unknown"
        },
        {
         "name": "Region",
         "rawType": "category",
         "type": "unknown"
        },
        {
         "name": "State",
         "rawType": "category",
         "type": "unknown"
        },
        {
         "name": "City",
         "rawType": "category",
         "type": "unknown"
        },
        {
         "name": "PostalCode",
         "rawType": "int64",
         "type": "integer"
        }
       ],
       "ref": "ea7eccee-4826-48eb-a669-481a4d9e8bee",
       "rows": [
        [
         "0",
         "United States",
         "East",
         "New York",
         "New York City",
         "10024"
        ],
        [
         "1",
         "United States",
         "West",
         "California",
         "San Francisco",
         "94122"
        ],
        [
         "2",
         "United States",
         "South",
         "Florida",
         "Jacksonville",
         "32216"
        ],
        [
         "3",
         "United States",
         "West",
         "Arizona",
         "Glendale",
         "85301"
        ],
        [
         "4",
         "United States",
         "East",
         "New York",
         "New York City",
         "10035"
        ]
       ],
       "shape": {
        "columns": 5,
        "rows": 5
       }
      },
      "text/html": [
       "<div>\n",
       "<style scoped>\n",
       "    .dataframe tbody tr th:only-of-type {\n",
       "        vertical-align: middle;\n",
       "    }\n",
       "\n",
       "    .dataframe tbody tr th {\n",
       "        vertical-align: top;\n",
       "    }\n",
       "\n",
       "    .dataframe thead th {\n",
       "        text-align: right;\n",
       "    }\n",
       "</style>\n",
       "<table border=\"1\" class=\"dataframe\">\n",
       "  <thead>\n",
       "    <tr style=\"text-align: right;\">\n",
       "      <th></th>\n",
       "      <th>Country</th>\n",
       "      <th>Region</th>\n",
       "      <th>State</th>\n",
       "      <th>City</th>\n",
       "      <th>PostalCode</th>\n",
       "    </tr>\n",
       "  </thead>\n",
       "  <tbody>\n",
       "    <tr>\n",
       "      <th>0</th>\n",
       "      <td>United States</td>\n",
       "      <td>East</td>\n",
       "      <td>New York</td>\n",
       "      <td>New York City</td>\n",
       "      <td>10024</td>\n",
       "    </tr>\n",
       "    <tr>\n",
       "      <th>1</th>\n",
       "      <td>United States</td>\n",
       "      <td>West</td>\n",
       "      <td>California</td>\n",
       "      <td>San Francisco</td>\n",
       "      <td>94122</td>\n",
       "    </tr>\n",
       "    <tr>\n",
       "      <th>2</th>\n",
       "      <td>United States</td>\n",
       "      <td>South</td>\n",
       "      <td>Florida</td>\n",
       "      <td>Jacksonville</td>\n",
       "      <td>32216</td>\n",
       "    </tr>\n",
       "    <tr>\n",
       "      <th>3</th>\n",
       "      <td>United States</td>\n",
       "      <td>West</td>\n",
       "      <td>Arizona</td>\n",
       "      <td>Glendale</td>\n",
       "      <td>85301</td>\n",
       "    </tr>\n",
       "    <tr>\n",
       "      <th>4</th>\n",
       "      <td>United States</td>\n",
       "      <td>East</td>\n",
       "      <td>New York</td>\n",
       "      <td>New York City</td>\n",
       "      <td>10035</td>\n",
       "    </tr>\n",
       "  </tbody>\n",
       "</table>\n",
       "</div>"
      ],
      "text/plain": [
       "         Country Region       State           City  PostalCode\n",
       "0  United States   East    New York  New York City       10024\n",
       "1  United States   West  California  San Francisco       94122\n",
       "2  United States  South     Florida   Jacksonville       32216\n",
       "3  United States   West     Arizona       Glendale       85301\n",
       "4  United States   East    New York  New York City       10035"
      ]
     },
     "execution_count": 320,
     "metadata": {},
     "output_type": "execute_result"
    }
   ],
   "source": [
    "address = df[address_col].drop_duplicates().reset_index(drop=True)#.set_index('ProductID').rename(columns=name_mapping)\n",
    "address.head()"
   ]
  },
  {
   "cell_type": "markdown",
   "id": "4d6b809d",
   "metadata": {},
   "source": [
    "### check data integrity"
   ]
  },
  {
   "cell_type": "code",
   "execution_count": 321,
   "id": "e6bff7de",
   "metadata": {},
   "outputs": [
    {
     "data": {
      "application/vnd.microsoft.datawrangler.viewer.v0+json": {
       "columns": [
        {
         "name": "State",
         "rawType": "category",
         "type": "unknown"
        },
        {
         "name": "count",
         "rawType": "int64",
         "type": "integer"
        }
       ],
       "ref": "0d7ee57b-de05-4530-b2cc-f5896d7e5d32",
       "rows": [
        [
         "California",
         "90"
        ],
        [
         "Texas",
         "59"
        ],
        [
         "Florida",
         "38"
        ],
        [
         "Illinois",
         "35"
        ],
        [
         "Ohio",
         "24"
        ],
        [
         "Michigan",
         "23"
        ],
        [
         "New York",
         "21"
        ],
        [
         "Washington",
         "19"
        ],
        [
         "North Carolina",
         "19"
        ],
        [
         "New Jersey",
         "18"
        ],
        [
         "Colorado",
         "16"
        ],
        [
         "Indiana",
         "15"
        ],
        [
         "Tennessee",
         "15"
        ],
        [
         "Massachusetts",
         "14"
        ],
        [
         "Minnesota",
         "13"
        ],
        [
         "Arizona",
         "13"
        ],
        [
         "Virginia",
         "13"
        ],
        [
         "Wisconsin",
         "13"
        ],
        [
         "Pennsylvania",
         "11"
        ],
        [
         "Georgia",
         "11"
        ],
        [
         "Connecticut",
         "10"
        ],
        [
         "Utah",
         "10"
        ],
        [
         "Oregon",
         "9"
        ],
        [
         "Arkansas",
         "9"
        ],
        [
         "Missouri",
         "9"
        ],
        [
         "Alabama",
         "8"
        ],
        [
         "Kentucky",
         "8"
        ],
        [
         "Iowa",
         "8"
        ],
        [
         "Maryland",
         "7"
        ],
        [
         "New Mexico",
         "7"
        ],
        [
         "Oklahoma",
         "7"
        ],
        [
         "South Carolina",
         "6"
        ],
        [
         "Idaho",
         "6"
        ],
        [
         "Montana",
         "5"
        ],
        [
         "Nevada",
         "5"
        ],
        [
         "Louisiana",
         "5"
        ],
        [
         "Kansas",
         "5"
        ],
        [
         "Rhode Island",
         "4"
        ],
        [
         "Nebraska",
         "4"
        ],
        [
         "Mississippi",
         "4"
        ],
        [
         "New Hampshire",
         "3"
        ],
        [
         "South Dakota",
         "3"
        ],
        [
         "Delaware",
         "3"
        ],
        [
         "Maine",
         "2"
        ],
        [
         "North Dakota",
         "1"
        ],
        [
         "Vermont",
         "1"
        ],
        [
         "District of Columbia",
         "1"
        ],
        [
         "West Virginia",
         "1"
        ],
        [
         "Wyoming",
         "1"
        ]
       ],
       "shape": {
        "columns": 1,
        "rows": 49
       }
      },
      "text/plain": [
       "State\n",
       "California              90\n",
       "Texas                   59\n",
       "Florida                 38\n",
       "Illinois                35\n",
       "Ohio                    24\n",
       "Michigan                23\n",
       "New York                21\n",
       "Washington              19\n",
       "North Carolina          19\n",
       "New Jersey              18\n",
       "Colorado                16\n",
       "Indiana                 15\n",
       "Tennessee               15\n",
       "Massachusetts           14\n",
       "Minnesota               13\n",
       "Arizona                 13\n",
       "Virginia                13\n",
       "Wisconsin               13\n",
       "Pennsylvania            11\n",
       "Georgia                 11\n",
       "Connecticut             10\n",
       "Utah                    10\n",
       "Oregon                   9\n",
       "Arkansas                 9\n",
       "Missouri                 9\n",
       "Alabama                  8\n",
       "Kentucky                 8\n",
       "Iowa                     8\n",
       "Maryland                 7\n",
       "New Mexico               7\n",
       "Oklahoma                 7\n",
       "South Carolina           6\n",
       "Idaho                    6\n",
       "Montana                  5\n",
       "Nevada                   5\n",
       "Louisiana                5\n",
       "Kansas                   5\n",
       "Rhode Island             4\n",
       "Nebraska                 4\n",
       "Mississippi              4\n",
       "New Hampshire            3\n",
       "South Dakota             3\n",
       "Delaware                 3\n",
       "Maine                    2\n",
       "North Dakota             1\n",
       "Vermont                  1\n",
       "District of Columbia     1\n",
       "West Virginia            1\n",
       "Wyoming                  1\n",
       "Name: count, dtype: int64"
      ]
     },
     "execution_count": 321,
     "metadata": {},
     "output_type": "execute_result"
    }
   ],
   "source": [
    "address.Country.value_counts()\n",
    "address.Region.value_counts()\n",
    "address.State.value_counts()\n",
    "# address.City.value_counts()\n",
    "# address.PostalCode.value_counts()"
   ]
  },
  {
   "cell_type": "code",
   "execution_count": 322,
   "id": "357b8b14",
   "metadata": {},
   "outputs": [
    {
     "name": "stdout",
     "output_type": "stream",
     "text": [
      "nunique [\"City\", \"PostalCode\"]:  City          531\n",
      "PostalCode    631\n",
      "dtype: int64\n",
      "duplicates [\"City\", \"PostalCode\"]:  0\n"
     ]
    }
   ],
   "source": [
    "print('nunique [\"City\", \"PostalCode\"]: ', address[['City', 'PostalCode']].nunique())\n",
    "print('duplicates [\"City\", \"PostalCode\"]: ', address[['City', 'PostalCode']].duplicated().sum())"
   ]
  },
  {
   "cell_type": "code",
   "execution_count": 323,
   "id": "5f775c8d",
   "metadata": {},
   "outputs": [
    {
     "name": "stdout",
     "output_type": "stream",
     "text": [
      "<class 'pandas.core.frame.DataFrame'>\n",
      "RangeIndex: 632 entries, 0 to 631\n",
      "Data columns (total 5 columns):\n",
      " #   Column      Non-Null Count  Dtype   \n",
      "---  ------      --------------  -----   \n",
      " 0   Country     632 non-null    category\n",
      " 1   Region      632 non-null    category\n",
      " 2   State       632 non-null    category\n",
      " 3   City        632 non-null    category\n",
      " 4   PostalCode  632 non-null    int64   \n",
      "dtypes: category(4), int64(1)\n",
      "memory usage: 30.2 KB\n"
     ]
    }
   ],
   "source": [
    "address.info()"
   ]
  },
  {
   "cell_type": "markdown",
   "id": "81d453e9",
   "metadata": {},
   "source": [
    "### build secondary address info table"
   ]
  },
  {
   "cell_type": "code",
   "execution_count": 324,
   "id": "312246e1",
   "metadata": {},
   "outputs": [
    {
     "name": "stdout",
     "output_type": "stream",
     "text": [
      "<class 'pandas.core.frame.DataFrame'>\n",
      "Index: 49 entries, 0 to 557\n",
      "Data columns (total 3 columns):\n",
      " #   Column   Non-Null Count  Dtype   \n",
      "---  ------   --------------  -----   \n",
      " 0   Country  49 non-null     category\n",
      " 1   Region   49 non-null     category\n",
      " 2   State    49 non-null     category\n",
      "dtypes: category(3)\n",
      "memory usage: 2.3 KB\n"
     ]
    }
   ],
   "source": [
    "address_secondary = address[['Country', 'Region', 'State']].drop_duplicates()\n",
    "address_secondary.info()"
   ]
  },
  {
   "cell_type": "code",
   "execution_count": 325,
   "id": "cca729ba",
   "metadata": {},
   "outputs": [],
   "source": [
    "# separate secondary address info from address\n",
    "address_all = address\n",
    "address = pd.merge(address, address_secondary.reset_index(), on=['Country', 'Region', 'State']).drop(columns=['Country', 'Region', 'State']).rename(columns={'index':'AddressSecondaryID'})"
   ]
  },
  {
   "cell_type": "markdown",
   "id": "78605a72",
   "metadata": {},
   "source": [
    "## Shipment"
   ]
  },
  {
   "cell_type": "code",
   "execution_count": 301,
   "id": "c38f3810",
   "metadata": {},
   "outputs": [],
   "source": [
    "shipment_all = df[shipment_col+address_col].drop_duplicates().reset_index(drop=True)"
   ]
  },
  {
   "cell_type": "code",
   "execution_count": 302,
   "id": "2fb6b0ed",
   "metadata": {},
   "outputs": [],
   "source": [
    "merge_col = ['Country', 'City', 'State', 'PostalCode','Region']\n",
    "shipment = pd.merge(\n",
    "    shipment_all, address_all.reset_index(), how='inner', \n",
    "    on=merge_col\n",
    "    ).rename(columns={'index':'AddressID'}).drop(columns=merge_col)"
   ]
  },
  {
   "cell_type": "code",
   "execution_count": 303,
   "id": "e8cc9131",
   "metadata": {},
   "outputs": [
    {
     "data": {
      "application/vnd.microsoft.datawrangler.viewer.v0+json": {
       "columns": [
        {
         "name": "index",
         "rawType": "int64",
         "type": "integer"
        },
        {
         "name": "ShipDate",
         "rawType": "datetime64[ns]",
         "type": "datetime"
        },
        {
         "name": "ShipMode",
         "rawType": "category",
         "type": "unknown"
        },
        {
         "name": "AddressID",
         "rawType": "int64",
         "type": "integer"
        }
       ],
       "ref": "b525c6e0-e052-4cc2-a9b2-473617cf69d9",
       "rows": [
        [
         "0",
         "2014-09-13 00:00:00",
         "Standard Class",
         "0"
        ],
        [
         "1",
         "2014-07-12 00:00:00",
         "Standard Class",
         "1"
        ],
        [
         "2",
         "2014-03-18 00:00:00",
         "Standard Class",
         "2"
        ],
        [
         "3",
         "2014-02-03 00:00:00",
         "Standard Class",
         "0"
        ],
        [
         "4",
         "2014-04-15 00:00:00",
         "Standard Class",
         "3"
        ]
       ],
       "shape": {
        "columns": 3,
        "rows": 5
       }
      },
      "text/html": [
       "<div>\n",
       "<style scoped>\n",
       "    .dataframe tbody tr th:only-of-type {\n",
       "        vertical-align: middle;\n",
       "    }\n",
       "\n",
       "    .dataframe tbody tr th {\n",
       "        vertical-align: top;\n",
       "    }\n",
       "\n",
       "    .dataframe thead th {\n",
       "        text-align: right;\n",
       "    }\n",
       "</style>\n",
       "<table border=\"1\" class=\"dataframe\">\n",
       "  <thead>\n",
       "    <tr style=\"text-align: right;\">\n",
       "      <th></th>\n",
       "      <th>ShipDate</th>\n",
       "      <th>ShipMode</th>\n",
       "      <th>AddressID</th>\n",
       "    </tr>\n",
       "  </thead>\n",
       "  <tbody>\n",
       "    <tr>\n",
       "      <th>0</th>\n",
       "      <td>2014-09-13</td>\n",
       "      <td>Standard Class</td>\n",
       "      <td>0</td>\n",
       "    </tr>\n",
       "    <tr>\n",
       "      <th>1</th>\n",
       "      <td>2014-07-12</td>\n",
       "      <td>Standard Class</td>\n",
       "      <td>1</td>\n",
       "    </tr>\n",
       "    <tr>\n",
       "      <th>2</th>\n",
       "      <td>2014-03-18</td>\n",
       "      <td>Standard Class</td>\n",
       "      <td>2</td>\n",
       "    </tr>\n",
       "    <tr>\n",
       "      <th>3</th>\n",
       "      <td>2014-02-03</td>\n",
       "      <td>Standard Class</td>\n",
       "      <td>0</td>\n",
       "    </tr>\n",
       "    <tr>\n",
       "      <th>4</th>\n",
       "      <td>2014-04-15</td>\n",
       "      <td>Standard Class</td>\n",
       "      <td>3</td>\n",
       "    </tr>\n",
       "  </tbody>\n",
       "</table>\n",
       "</div>"
      ],
      "text/plain": [
       "    ShipDate        ShipMode  AddressID\n",
       "0 2014-09-13  Standard Class          0\n",
       "1 2014-07-12  Standard Class          1\n",
       "2 2014-03-18  Standard Class          2\n",
       "3 2014-02-03  Standard Class          0\n",
       "4 2014-04-15  Standard Class          3"
      ]
     },
     "execution_count": 303,
     "metadata": {},
     "output_type": "execute_result"
    }
   ],
   "source": [
    "shipment.head()"
   ]
  },
  {
   "cell_type": "code",
   "execution_count": 304,
   "id": "2d05368c",
   "metadata": {},
   "outputs": [
    {
     "data": {
      "text/plain": [
       "(4973, 3)"
      ]
     },
     "execution_count": 304,
     "metadata": {},
     "output_type": "execute_result"
    }
   ],
   "source": [
    "shipment.shape"
   ]
  },
  {
   "cell_type": "markdown",
   "id": "75b64ea3",
   "metadata": {},
   "source": [
    "## Orders"
   ]
  },
  {
   "cell_type": "code",
   "execution_count": 305,
   "id": "5890202a",
   "metadata": {},
   "outputs": [],
   "source": [
    "orders_all = df[orders_col+shipment_col+address_col]"
   ]
  },
  {
   "cell_type": "code",
   "execution_count": 306,
   "id": "525d0045",
   "metadata": {},
   "outputs": [
    {
     "data": {
      "application/vnd.microsoft.datawrangler.viewer.v0+json": {
       "columns": [
        {
         "name": "index",
         "rawType": "int64",
         "type": "integer"
        },
        {
         "name": "OrderID",
         "rawType": "string",
         "type": "string"
        },
        {
         "name": "CustomerID",
         "rawType": "string",
         "type": "string"
        },
        {
         "name": "ProductID",
         "rawType": "string",
         "type": "string"
        },
        {
         "name": "OrderDate",
         "rawType": "datetime64[ns]",
         "type": "datetime"
        },
        {
         "name": "Sales",
         "rawType": "float64",
         "type": "float"
        },
        {
         "name": "Quantity",
         "rawType": "int64",
         "type": "integer"
        },
        {
         "name": "Discount",
         "rawType": "float64",
         "type": "float"
        },
        {
         "name": "Profit",
         "rawType": "float64",
         "type": "float"
        },
        {
         "name": "ShipDate",
         "rawType": "datetime64[ns]",
         "type": "datetime"
        },
        {
         "name": "ShipMode",
         "rawType": "category",
         "type": "unknown"
        },
        {
         "name": "Country",
         "rawType": "category",
         "type": "unknown"
        },
        {
         "name": "Region",
         "rawType": "category",
         "type": "unknown"
        },
        {
         "name": "State",
         "rawType": "category",
         "type": "unknown"
        },
        {
         "name": "City",
         "rawType": "category",
         "type": "unknown"
        },
        {
         "name": "PostalCode",
         "rawType": "int64",
         "type": "integer"
        }
       ],
       "ref": "f6d8d2b3-9320-401a-a344-9d085029069c",
       "rows": [
        [
         "0",
         "CA-2014-100006",
         "DK-13375",
         "TEC-PH-10002075",
         "2014-09-07 00:00:00",
         "377.97",
         "3",
         "0.0",
         "109.6113",
         "2014-09-13 00:00:00",
         "Standard Class",
         "United States",
         "East",
         "New York",
         "New York City",
         "10024"
        ],
        [
         "1",
         "CA-2014-100090",
         "EB-13705",
         "FUR-TA-10003715",
         "2014-07-08 00:00:00",
         "502.488",
         "3",
         "0.2",
         "-87.9354",
         "2014-07-12 00:00:00",
         "Standard Class",
         "United States",
         "West",
         "California",
         "San Francisco",
         "94122"
        ],
        [
         "2",
         "CA-2014-100090",
         "EB-13705",
         "OFF-BI-10001597",
         "2014-07-08 00:00:00",
         "196.704",
         "6",
         "0.2",
         "68.8464",
         "2014-07-12 00:00:00",
         "Standard Class",
         "United States",
         "West",
         "California",
         "San Francisco",
         "94122"
        ],
        [
         "3",
         "CA-2014-100293",
         "NF-18475",
         "OFF-PA-10000176",
         "2014-03-14 00:00:00",
         "91.056",
         "6",
         "0.2",
         "31.8696",
         "2014-03-18 00:00:00",
         "Standard Class",
         "United States",
         "South",
         "Florida",
         "Jacksonville",
         "32216"
        ],
        [
         "4",
         "CA-2014-100328",
         "JC-15340",
         "OFF-BI-10000343",
         "2014-01-28 00:00:00",
         "3.928",
         "1",
         "0.2",
         "1.3257",
         "2014-02-03 00:00:00",
         "Standard Class",
         "United States",
         "East",
         "New York",
         "New York City",
         "10024"
        ]
       ],
       "shape": {
        "columns": 15,
        "rows": 5
       }
      },
      "text/html": [
       "<div>\n",
       "<style scoped>\n",
       "    .dataframe tbody tr th:only-of-type {\n",
       "        vertical-align: middle;\n",
       "    }\n",
       "\n",
       "    .dataframe tbody tr th {\n",
       "        vertical-align: top;\n",
       "    }\n",
       "\n",
       "    .dataframe thead th {\n",
       "        text-align: right;\n",
       "    }\n",
       "</style>\n",
       "<table border=\"1\" class=\"dataframe\">\n",
       "  <thead>\n",
       "    <tr style=\"text-align: right;\">\n",
       "      <th></th>\n",
       "      <th>OrderID</th>\n",
       "      <th>CustomerID</th>\n",
       "      <th>ProductID</th>\n",
       "      <th>OrderDate</th>\n",
       "      <th>Sales</th>\n",
       "      <th>Quantity</th>\n",
       "      <th>Discount</th>\n",
       "      <th>Profit</th>\n",
       "      <th>ShipDate</th>\n",
       "      <th>ShipMode</th>\n",
       "      <th>Country</th>\n",
       "      <th>Region</th>\n",
       "      <th>State</th>\n",
       "      <th>City</th>\n",
       "      <th>PostalCode</th>\n",
       "    </tr>\n",
       "  </thead>\n",
       "  <tbody>\n",
       "    <tr>\n",
       "      <th>0</th>\n",
       "      <td>CA-2014-100006</td>\n",
       "      <td>DK-13375</td>\n",
       "      <td>TEC-PH-10002075</td>\n",
       "      <td>2014-09-07</td>\n",
       "      <td>377.970</td>\n",
       "      <td>3</td>\n",
       "      <td>0.0</td>\n",
       "      <td>109.6113</td>\n",
       "      <td>2014-09-13</td>\n",
       "      <td>Standard Class</td>\n",
       "      <td>United States</td>\n",
       "      <td>East</td>\n",
       "      <td>New York</td>\n",
       "      <td>New York City</td>\n",
       "      <td>10024</td>\n",
       "    </tr>\n",
       "    <tr>\n",
       "      <th>1</th>\n",
       "      <td>CA-2014-100090</td>\n",
       "      <td>EB-13705</td>\n",
       "      <td>FUR-TA-10003715</td>\n",
       "      <td>2014-07-08</td>\n",
       "      <td>502.488</td>\n",
       "      <td>3</td>\n",
       "      <td>0.2</td>\n",
       "      <td>-87.9354</td>\n",
       "      <td>2014-07-12</td>\n",
       "      <td>Standard Class</td>\n",
       "      <td>United States</td>\n",
       "      <td>West</td>\n",
       "      <td>California</td>\n",
       "      <td>San Francisco</td>\n",
       "      <td>94122</td>\n",
       "    </tr>\n",
       "    <tr>\n",
       "      <th>2</th>\n",
       "      <td>CA-2014-100090</td>\n",
       "      <td>EB-13705</td>\n",
       "      <td>OFF-BI-10001597</td>\n",
       "      <td>2014-07-08</td>\n",
       "      <td>196.704</td>\n",
       "      <td>6</td>\n",
       "      <td>0.2</td>\n",
       "      <td>68.8464</td>\n",
       "      <td>2014-07-12</td>\n",
       "      <td>Standard Class</td>\n",
       "      <td>United States</td>\n",
       "      <td>West</td>\n",
       "      <td>California</td>\n",
       "      <td>San Francisco</td>\n",
       "      <td>94122</td>\n",
       "    </tr>\n",
       "    <tr>\n",
       "      <th>3</th>\n",
       "      <td>CA-2014-100293</td>\n",
       "      <td>NF-18475</td>\n",
       "      <td>OFF-PA-10000176</td>\n",
       "      <td>2014-03-14</td>\n",
       "      <td>91.056</td>\n",
       "      <td>6</td>\n",
       "      <td>0.2</td>\n",
       "      <td>31.8696</td>\n",
       "      <td>2014-03-18</td>\n",
       "      <td>Standard Class</td>\n",
       "      <td>United States</td>\n",
       "      <td>South</td>\n",
       "      <td>Florida</td>\n",
       "      <td>Jacksonville</td>\n",
       "      <td>32216</td>\n",
       "    </tr>\n",
       "    <tr>\n",
       "      <th>4</th>\n",
       "      <td>CA-2014-100328</td>\n",
       "      <td>JC-15340</td>\n",
       "      <td>OFF-BI-10000343</td>\n",
       "      <td>2014-01-28</td>\n",
       "      <td>3.928</td>\n",
       "      <td>1</td>\n",
       "      <td>0.2</td>\n",
       "      <td>1.3257</td>\n",
       "      <td>2014-02-03</td>\n",
       "      <td>Standard Class</td>\n",
       "      <td>United States</td>\n",
       "      <td>East</td>\n",
       "      <td>New York</td>\n",
       "      <td>New York City</td>\n",
       "      <td>10024</td>\n",
       "    </tr>\n",
       "  </tbody>\n",
       "</table>\n",
       "</div>"
      ],
      "text/plain": [
       "          OrderID CustomerID        ProductID  OrderDate    Sales  Quantity  \\\n",
       "0  CA-2014-100006   DK-13375  TEC-PH-10002075 2014-09-07  377.970         3   \n",
       "1  CA-2014-100090   EB-13705  FUR-TA-10003715 2014-07-08  502.488         3   \n",
       "2  CA-2014-100090   EB-13705  OFF-BI-10001597 2014-07-08  196.704         6   \n",
       "3  CA-2014-100293   NF-18475  OFF-PA-10000176 2014-03-14   91.056         6   \n",
       "4  CA-2014-100328   JC-15340  OFF-BI-10000343 2014-01-28    3.928         1   \n",
       "\n",
       "   Discount    Profit   ShipDate        ShipMode        Country Region  \\\n",
       "0       0.0  109.6113 2014-09-13  Standard Class  United States   East   \n",
       "1       0.2  -87.9354 2014-07-12  Standard Class  United States   West   \n",
       "2       0.2   68.8464 2014-07-12  Standard Class  United States   West   \n",
       "3       0.2   31.8696 2014-03-18  Standard Class  United States  South   \n",
       "4       0.2    1.3257 2014-02-03  Standard Class  United States   East   \n",
       "\n",
       "        State           City  PostalCode  \n",
       "0    New York  New York City       10024  \n",
       "1  California  San Francisco       94122  \n",
       "2  California  San Francisco       94122  \n",
       "3     Florida   Jacksonville       32216  \n",
       "4    New York  New York City       10024  "
      ]
     },
     "execution_count": 306,
     "metadata": {},
     "output_type": "execute_result"
    }
   ],
   "source": [
    "orders_all.head()"
   ]
  },
  {
   "cell_type": "code",
   "execution_count": 307,
   "id": "19ecd897",
   "metadata": {},
   "outputs": [
    {
     "data": {
      "text/plain": [
       "0"
      ]
     },
     "execution_count": 307,
     "metadata": {},
     "output_type": "execute_result"
    }
   ],
   "source": [
    "orders_all.duplicated().sum()"
   ]
  },
  {
   "cell_type": "code",
   "execution_count": 308,
   "id": "4eed47b5",
   "metadata": {},
   "outputs": [],
   "source": [
    "merge_col = shipment_col+address_col\n",
    "orders = pd.merge(orders_all, \n",
    "         shipment_all.reset_index(), \n",
    "         how='left', \n",
    "         on=merge_col).drop(columns=merge_col).rename(columns={'index':'ShipmentID'})"
   ]
  },
  {
   "cell_type": "code",
   "execution_count": 309,
   "id": "1aa143f7",
   "metadata": {},
   "outputs": [],
   "source": [
    "orders = orders.rename(columns=name_mapping)"
   ]
  },
  {
   "cell_type": "code",
   "execution_count": 310,
   "id": "c1b6068b",
   "metadata": {},
   "outputs": [
    {
     "name": "stdout",
     "output_type": "stream",
     "text": [
      "<class 'pandas.core.frame.DataFrame'>\n",
      "RangeIndex: 9986 entries, 0 to 9985\n",
      "Data columns (total 9 columns):\n",
      " #   Column          Non-Null Count  Dtype         \n",
      "---  ------          --------------  -----         \n",
      " 0   OrderReference  9986 non-null   string        \n",
      " 1   CustomerID      9986 non-null   string        \n",
      " 2   ProductID       9986 non-null   string        \n",
      " 3   OrderDate       9986 non-null   datetime64[ns]\n",
      " 4   Sales           9986 non-null   float64       \n",
      " 5   Quantity        9986 non-null   int64         \n",
      " 6   Discount        9986 non-null   float64       \n",
      " 7   Profit          9986 non-null   float64       \n",
      " 8   ShipmentID      9986 non-null   int64         \n",
      "dtypes: datetime64[ns](1), float64(3), int64(2), string(3)\n",
      "memory usage: 702.3 KB\n"
     ]
    }
   ],
   "source": [
    "orders.info()"
   ]
  },
  {
   "cell_type": "code",
   "execution_count": 311,
   "id": "78cfb276",
   "metadata": {},
   "outputs": [
    {
     "data": {
      "application/vnd.microsoft.datawrangler.viewer.v0+json": {
       "columns": [
        {
         "name": "index",
         "rawType": "int64",
         "type": "integer"
        },
        {
         "name": "OrderReference",
         "rawType": "string",
         "type": "string"
        },
        {
         "name": "CustomerID",
         "rawType": "string",
         "type": "string"
        },
        {
         "name": "ProductID",
         "rawType": "string",
         "type": "string"
        },
        {
         "name": "OrderDate",
         "rawType": "datetime64[ns]",
         "type": "datetime"
        },
        {
         "name": "Sales",
         "rawType": "float64",
         "type": "float"
        },
        {
         "name": "Quantity",
         "rawType": "int64",
         "type": "integer"
        },
        {
         "name": "Discount",
         "rawType": "float64",
         "type": "float"
        },
        {
         "name": "Profit",
         "rawType": "float64",
         "type": "float"
        },
        {
         "name": "ShipmentID",
         "rawType": "int64",
         "type": "integer"
        }
       ],
       "ref": "a359a2d8-8df3-42fd-a381-d0d7c9179f41",
       "rows": [],
       "shape": {
        "columns": 9,
        "rows": 0
       }
      },
      "text/html": [
       "<div>\n",
       "<style scoped>\n",
       "    .dataframe tbody tr th:only-of-type {\n",
       "        vertical-align: middle;\n",
       "    }\n",
       "\n",
       "    .dataframe tbody tr th {\n",
       "        vertical-align: top;\n",
       "    }\n",
       "\n",
       "    .dataframe thead th {\n",
       "        text-align: right;\n",
       "    }\n",
       "</style>\n",
       "<table border=\"1\" class=\"dataframe\">\n",
       "  <thead>\n",
       "    <tr style=\"text-align: right;\">\n",
       "      <th></th>\n",
       "      <th>OrderReference</th>\n",
       "      <th>CustomerID</th>\n",
       "      <th>ProductID</th>\n",
       "      <th>OrderDate</th>\n",
       "      <th>Sales</th>\n",
       "      <th>Quantity</th>\n",
       "      <th>Discount</th>\n",
       "      <th>Profit</th>\n",
       "      <th>ShipmentID</th>\n",
       "    </tr>\n",
       "  </thead>\n",
       "  <tbody>\n",
       "  </tbody>\n",
       "</table>\n",
       "</div>"
      ],
      "text/plain": [
       "Empty DataFrame\n",
       "Columns: [OrderReference, CustomerID, ProductID, OrderDate, Sales, Quantity, Discount, Profit, ShipmentID]\n",
       "Index: []"
      ]
     },
     "execution_count": 311,
     "metadata": {},
     "output_type": "execute_result"
    }
   ],
   "source": [
    "order_prim_key = ['ProductID', 'CustomerID', 'OrderReference', 'ShipmentID', 'OrderReference', 'OrderDate']\n",
    "orders[orders.duplicated(subset=order_prim_key, keep=False)]"
   ]
  },
  {
   "cell_type": "code",
   "execution_count": 312,
   "id": "461fefa5",
   "metadata": {},
   "outputs": [
    {
     "data": {
      "text/plain": [
       "Index(['OrderReference', 'CustomerID', 'ProductID', 'OrderDate', 'Sales',\n",
       "       'Quantity', 'Discount', 'Profit', 'ShipmentID'],\n",
       "      dtype='object')"
      ]
     },
     "execution_count": 312,
     "metadata": {},
     "output_type": "execute_result"
    }
   ],
   "source": [
    "orders.columns"
   ]
  },
  {
   "cell_type": "markdown",
   "id": "b0cdcf99",
   "metadata": {},
   "source": [
    "# Export to database"
   ]
  },
  {
   "cell_type": "code",
   "execution_count": 313,
   "id": "3ff9797a",
   "metadata": {},
   "outputs": [
    {
     "name": "stdout",
     "output_type": "stream",
     "text": [
      "Stored 'df' (DataFrame)\n"
     ]
    }
   ],
   "source": [
    "%store df"
   ]
  },
  {
   "cell_type": "code",
   "execution_count": 314,
   "id": "07dea05a",
   "metadata": {},
   "outputs": [
    {
     "data": {
      "text/plain": [
       "True"
      ]
     },
     "execution_count": 314,
     "metadata": {},
     "output_type": "execute_result"
    }
   ],
   "source": [
    "from pathlib import Path\n",
    "db_path = Path(config['processed_data']['database'])\n",
    "db_path.exists()"
   ]
  },
  {
   "cell_type": "code",
   "execution_count": 319,
   "id": "952174ec",
   "metadata": {},
   "outputs": [
    {
     "data": {
      "application/vnd.microsoft.datawrangler.viewer.v0+json": {
       "columns": [
        {
         "name": "index",
         "rawType": "int64",
         "type": "integer"
        },
        {
         "name": "index",
         "rawType": "int64",
         "type": "integer"
        },
        {
         "name": "Country",
         "rawType": "category",
         "type": "unknown"
        },
        {
         "name": "Region",
         "rawType": "category",
         "type": "unknown"
        },
        {
         "name": "State",
         "rawType": "category",
         "type": "unknown"
        }
       ],
       "ref": "e97c9641-2fa5-48c8-8bb5-8f0964db0e64",
       "rows": [
        [
         "0",
         "0",
         "United States",
         "East",
         "New York"
        ],
        [
         "1",
         "1",
         "United States",
         "West",
         "California"
        ],
        [
         "2",
         "2",
         "United States",
         "South",
         "Florida"
        ],
        [
         "3",
         "3",
         "United States",
         "West",
         "Arizona"
        ],
        [
         "4",
         "5",
         "United States",
         "Central",
         "Texas"
        ],
        [
         "5",
         "6",
         "United States",
         "South",
         "Virginia"
        ],
        [
         "6",
         "7",
         "United States",
         "Central",
         "Michigan"
        ],
        [
         "7",
         "10",
         "United States",
         "West",
         "New Mexico"
        ],
        [
         "8",
         "11",
         "United States",
         "South",
         "Georgia"
        ],
        [
         "9",
         "13",
         "United States",
         "West",
         "Utah"
        ],
        [
         "10",
         "14",
         "United States",
         "Central",
         "Illinois"
        ],
        [
         "11",
         "17",
         "United States",
         "West",
         "Washington"
        ],
        [
         "12",
         "18",
         "United States",
         "East",
         "Pennsylvania"
        ],
        [
         "13",
         "21",
         "United States",
         "South",
         "South Carolina"
        ],
        [
         "14",
         "26",
         "United States",
         "South",
         "Kentucky"
        ],
        [
         "15",
         "29",
         "United States",
         "West",
         "Nevada"
        ],
        [
         "16",
         "30",
         "United States",
         "South",
         "North Carolina"
        ],
        [
         "17",
         "32",
         "United States",
         "Central",
         "Indiana"
        ],
        [
         "18",
         "36",
         "United States",
         "East",
         "Delaware"
        ],
        [
         "19",
         "37",
         "United States",
         "East",
         "Ohio"
        ],
        [
         "20",
         "46",
         "United States",
         "South",
         "Mississippi"
        ],
        [
         "21",
         "57",
         "United States",
         "Central",
         "Wisconsin"
        ],
        [
         "22",
         "64",
         "United States",
         "West",
         "Montana"
        ],
        [
         "23",
         "65",
         "United States",
         "Central",
         "Minnesota"
        ],
        [
         "24",
         "69",
         "United States",
         "East",
         "Massachusetts"
        ],
        [
         "25",
         "72",
         "United States",
         "East",
         "New Jersey"
        ],
        [
         "26",
         "74",
         "United States",
         "Central",
         "Kansas"
        ],
        [
         "27",
         "75",
         "United States",
         "South",
         "Tennessee"
        ],
        [
         "28",
         "88",
         "United States",
         "Central",
         "Nebraska"
        ],
        [
         "29",
         "94",
         "United States",
         "South",
         "Alabama"
        ],
        [
         "30",
         "97",
         "United States",
         "Central",
         "Missouri"
        ],
        [
         "31",
         "99",
         "United States",
         "West",
         "Colorado"
        ],
        [
         "32",
         "100",
         "United States",
         "South",
         "Arkansas"
        ],
        [
         "33",
         "124",
         "United States",
         "Central",
         "South Dakota"
        ],
        [
         "34",
         "131",
         "United States",
         "Central",
         "Oklahoma"
        ],
        [
         "35",
         "135",
         "United States",
         "East",
         "Maryland"
        ],
        [
         "36",
         "153",
         "United States",
         "East",
         "Rhode Island"
        ],
        [
         "37",
         "158",
         "United States",
         "West",
         "Oregon"
        ],
        [
         "38",
         "167",
         "United States",
         "East",
         "Connecticut"
        ],
        [
         "39",
         "203",
         "United States",
         "East",
         "Maine"
        ],
        [
         "40",
         "227",
         "United States",
         "South",
         "Louisiana"
        ],
        [
         "41",
         "338",
         "United States",
         "Central",
         "Iowa"
        ],
        [
         "42",
         "341",
         "United States",
         "East",
         "Vermont"
        ],
        [
         "43",
         "357",
         "United States",
         "East",
         "District of Columbia"
        ],
        [
         "44",
         "374",
         "United States",
         "East",
         "New Hampshire"
        ],
        [
         "45",
         "388",
         "United States",
         "West",
         "Idaho"
        ],
        [
         "46",
         "506",
         "United States",
         "West",
         "Wyoming"
        ],
        [
         "47",
         "542",
         "United States",
         "Central",
         "North Dakota"
        ],
        [
         "48",
         "557",
         "United States",
         "East",
         "West Virginia"
        ]
       ],
       "shape": {
        "columns": 4,
        "rows": 49
       }
      },
      "text/html": [
       "<div>\n",
       "<style scoped>\n",
       "    .dataframe tbody tr th:only-of-type {\n",
       "        vertical-align: middle;\n",
       "    }\n",
       "\n",
       "    .dataframe tbody tr th {\n",
       "        vertical-align: top;\n",
       "    }\n",
       "\n",
       "    .dataframe thead th {\n",
       "        text-align: right;\n",
       "    }\n",
       "</style>\n",
       "<table border=\"1\" class=\"dataframe\">\n",
       "  <thead>\n",
       "    <tr style=\"text-align: right;\">\n",
       "      <th></th>\n",
       "      <th>index</th>\n",
       "      <th>Country</th>\n",
       "      <th>Region</th>\n",
       "      <th>State</th>\n",
       "    </tr>\n",
       "  </thead>\n",
       "  <tbody>\n",
       "    <tr>\n",
       "      <th>0</th>\n",
       "      <td>0</td>\n",
       "      <td>United States</td>\n",
       "      <td>East</td>\n",
       "      <td>New York</td>\n",
       "    </tr>\n",
       "    <tr>\n",
       "      <th>1</th>\n",
       "      <td>1</td>\n",
       "      <td>United States</td>\n",
       "      <td>West</td>\n",
       "      <td>California</td>\n",
       "    </tr>\n",
       "    <tr>\n",
       "      <th>2</th>\n",
       "      <td>2</td>\n",
       "      <td>United States</td>\n",
       "      <td>South</td>\n",
       "      <td>Florida</td>\n",
       "    </tr>\n",
       "    <tr>\n",
       "      <th>3</th>\n",
       "      <td>3</td>\n",
       "      <td>United States</td>\n",
       "      <td>West</td>\n",
       "      <td>Arizona</td>\n",
       "    </tr>\n",
       "    <tr>\n",
       "      <th>4</th>\n",
       "      <td>5</td>\n",
       "      <td>United States</td>\n",
       "      <td>Central</td>\n",
       "      <td>Texas</td>\n",
       "    </tr>\n",
       "    <tr>\n",
       "      <th>5</th>\n",
       "      <td>6</td>\n",
       "      <td>United States</td>\n",
       "      <td>South</td>\n",
       "      <td>Virginia</td>\n",
       "    </tr>\n",
       "    <tr>\n",
       "      <th>6</th>\n",
       "      <td>7</td>\n",
       "      <td>United States</td>\n",
       "      <td>Central</td>\n",
       "      <td>Michigan</td>\n",
       "    </tr>\n",
       "    <tr>\n",
       "      <th>7</th>\n",
       "      <td>10</td>\n",
       "      <td>United States</td>\n",
       "      <td>West</td>\n",
       "      <td>New Mexico</td>\n",
       "    </tr>\n",
       "    <tr>\n",
       "      <th>8</th>\n",
       "      <td>11</td>\n",
       "      <td>United States</td>\n",
       "      <td>South</td>\n",
       "      <td>Georgia</td>\n",
       "    </tr>\n",
       "    <tr>\n",
       "      <th>9</th>\n",
       "      <td>13</td>\n",
       "      <td>United States</td>\n",
       "      <td>West</td>\n",
       "      <td>Utah</td>\n",
       "    </tr>\n",
       "    <tr>\n",
       "      <th>10</th>\n",
       "      <td>14</td>\n",
       "      <td>United States</td>\n",
       "      <td>Central</td>\n",
       "      <td>Illinois</td>\n",
       "    </tr>\n",
       "    <tr>\n",
       "      <th>11</th>\n",
       "      <td>17</td>\n",
       "      <td>United States</td>\n",
       "      <td>West</td>\n",
       "      <td>Washington</td>\n",
       "    </tr>\n",
       "    <tr>\n",
       "      <th>12</th>\n",
       "      <td>18</td>\n",
       "      <td>United States</td>\n",
       "      <td>East</td>\n",
       "      <td>Pennsylvania</td>\n",
       "    </tr>\n",
       "    <tr>\n",
       "      <th>13</th>\n",
       "      <td>21</td>\n",
       "      <td>United States</td>\n",
       "      <td>South</td>\n",
       "      <td>South Carolina</td>\n",
       "    </tr>\n",
       "    <tr>\n",
       "      <th>14</th>\n",
       "      <td>26</td>\n",
       "      <td>United States</td>\n",
       "      <td>South</td>\n",
       "      <td>Kentucky</td>\n",
       "    </tr>\n",
       "    <tr>\n",
       "      <th>15</th>\n",
       "      <td>29</td>\n",
       "      <td>United States</td>\n",
       "      <td>West</td>\n",
       "      <td>Nevada</td>\n",
       "    </tr>\n",
       "    <tr>\n",
       "      <th>16</th>\n",
       "      <td>30</td>\n",
       "      <td>United States</td>\n",
       "      <td>South</td>\n",
       "      <td>North Carolina</td>\n",
       "    </tr>\n",
       "    <tr>\n",
       "      <th>17</th>\n",
       "      <td>32</td>\n",
       "      <td>United States</td>\n",
       "      <td>Central</td>\n",
       "      <td>Indiana</td>\n",
       "    </tr>\n",
       "    <tr>\n",
       "      <th>18</th>\n",
       "      <td>36</td>\n",
       "      <td>United States</td>\n",
       "      <td>East</td>\n",
       "      <td>Delaware</td>\n",
       "    </tr>\n",
       "    <tr>\n",
       "      <th>19</th>\n",
       "      <td>37</td>\n",
       "      <td>United States</td>\n",
       "      <td>East</td>\n",
       "      <td>Ohio</td>\n",
       "    </tr>\n",
       "    <tr>\n",
       "      <th>20</th>\n",
       "      <td>46</td>\n",
       "      <td>United States</td>\n",
       "      <td>South</td>\n",
       "      <td>Mississippi</td>\n",
       "    </tr>\n",
       "    <tr>\n",
       "      <th>21</th>\n",
       "      <td>57</td>\n",
       "      <td>United States</td>\n",
       "      <td>Central</td>\n",
       "      <td>Wisconsin</td>\n",
       "    </tr>\n",
       "    <tr>\n",
       "      <th>22</th>\n",
       "      <td>64</td>\n",
       "      <td>United States</td>\n",
       "      <td>West</td>\n",
       "      <td>Montana</td>\n",
       "    </tr>\n",
       "    <tr>\n",
       "      <th>23</th>\n",
       "      <td>65</td>\n",
       "      <td>United States</td>\n",
       "      <td>Central</td>\n",
       "      <td>Minnesota</td>\n",
       "    </tr>\n",
       "    <tr>\n",
       "      <th>24</th>\n",
       "      <td>69</td>\n",
       "      <td>United States</td>\n",
       "      <td>East</td>\n",
       "      <td>Massachusetts</td>\n",
       "    </tr>\n",
       "    <tr>\n",
       "      <th>25</th>\n",
       "      <td>72</td>\n",
       "      <td>United States</td>\n",
       "      <td>East</td>\n",
       "      <td>New Jersey</td>\n",
       "    </tr>\n",
       "    <tr>\n",
       "      <th>26</th>\n",
       "      <td>74</td>\n",
       "      <td>United States</td>\n",
       "      <td>Central</td>\n",
       "      <td>Kansas</td>\n",
       "    </tr>\n",
       "    <tr>\n",
       "      <th>27</th>\n",
       "      <td>75</td>\n",
       "      <td>United States</td>\n",
       "      <td>South</td>\n",
       "      <td>Tennessee</td>\n",
       "    </tr>\n",
       "    <tr>\n",
       "      <th>28</th>\n",
       "      <td>88</td>\n",
       "      <td>United States</td>\n",
       "      <td>Central</td>\n",
       "      <td>Nebraska</td>\n",
       "    </tr>\n",
       "    <tr>\n",
       "      <th>29</th>\n",
       "      <td>94</td>\n",
       "      <td>United States</td>\n",
       "      <td>South</td>\n",
       "      <td>Alabama</td>\n",
       "    </tr>\n",
       "    <tr>\n",
       "      <th>30</th>\n",
       "      <td>97</td>\n",
       "      <td>United States</td>\n",
       "      <td>Central</td>\n",
       "      <td>Missouri</td>\n",
       "    </tr>\n",
       "    <tr>\n",
       "      <th>31</th>\n",
       "      <td>99</td>\n",
       "      <td>United States</td>\n",
       "      <td>West</td>\n",
       "      <td>Colorado</td>\n",
       "    </tr>\n",
       "    <tr>\n",
       "      <th>32</th>\n",
       "      <td>100</td>\n",
       "      <td>United States</td>\n",
       "      <td>South</td>\n",
       "      <td>Arkansas</td>\n",
       "    </tr>\n",
       "    <tr>\n",
       "      <th>33</th>\n",
       "      <td>124</td>\n",
       "      <td>United States</td>\n",
       "      <td>Central</td>\n",
       "      <td>South Dakota</td>\n",
       "    </tr>\n",
       "    <tr>\n",
       "      <th>34</th>\n",
       "      <td>131</td>\n",
       "      <td>United States</td>\n",
       "      <td>Central</td>\n",
       "      <td>Oklahoma</td>\n",
       "    </tr>\n",
       "    <tr>\n",
       "      <th>35</th>\n",
       "      <td>135</td>\n",
       "      <td>United States</td>\n",
       "      <td>East</td>\n",
       "      <td>Maryland</td>\n",
       "    </tr>\n",
       "    <tr>\n",
       "      <th>36</th>\n",
       "      <td>153</td>\n",
       "      <td>United States</td>\n",
       "      <td>East</td>\n",
       "      <td>Rhode Island</td>\n",
       "    </tr>\n",
       "    <tr>\n",
       "      <th>37</th>\n",
       "      <td>158</td>\n",
       "      <td>United States</td>\n",
       "      <td>West</td>\n",
       "      <td>Oregon</td>\n",
       "    </tr>\n",
       "    <tr>\n",
       "      <th>38</th>\n",
       "      <td>167</td>\n",
       "      <td>United States</td>\n",
       "      <td>East</td>\n",
       "      <td>Connecticut</td>\n",
       "    </tr>\n",
       "    <tr>\n",
       "      <th>39</th>\n",
       "      <td>203</td>\n",
       "      <td>United States</td>\n",
       "      <td>East</td>\n",
       "      <td>Maine</td>\n",
       "    </tr>\n",
       "    <tr>\n",
       "      <th>40</th>\n",
       "      <td>227</td>\n",
       "      <td>United States</td>\n",
       "      <td>South</td>\n",
       "      <td>Louisiana</td>\n",
       "    </tr>\n",
       "    <tr>\n",
       "      <th>41</th>\n",
       "      <td>338</td>\n",
       "      <td>United States</td>\n",
       "      <td>Central</td>\n",
       "      <td>Iowa</td>\n",
       "    </tr>\n",
       "    <tr>\n",
       "      <th>42</th>\n",
       "      <td>341</td>\n",
       "      <td>United States</td>\n",
       "      <td>East</td>\n",
       "      <td>Vermont</td>\n",
       "    </tr>\n",
       "    <tr>\n",
       "      <th>43</th>\n",
       "      <td>357</td>\n",
       "      <td>United States</td>\n",
       "      <td>East</td>\n",
       "      <td>District of Columbia</td>\n",
       "    </tr>\n",
       "    <tr>\n",
       "      <th>44</th>\n",
       "      <td>374</td>\n",
       "      <td>United States</td>\n",
       "      <td>East</td>\n",
       "      <td>New Hampshire</td>\n",
       "    </tr>\n",
       "    <tr>\n",
       "      <th>45</th>\n",
       "      <td>388</td>\n",
       "      <td>United States</td>\n",
       "      <td>West</td>\n",
       "      <td>Idaho</td>\n",
       "    </tr>\n",
       "    <tr>\n",
       "      <th>46</th>\n",
       "      <td>506</td>\n",
       "      <td>United States</td>\n",
       "      <td>West</td>\n",
       "      <td>Wyoming</td>\n",
       "    </tr>\n",
       "    <tr>\n",
       "      <th>47</th>\n",
       "      <td>542</td>\n",
       "      <td>United States</td>\n",
       "      <td>Central</td>\n",
       "      <td>North Dakota</td>\n",
       "    </tr>\n",
       "    <tr>\n",
       "      <th>48</th>\n",
       "      <td>557</td>\n",
       "      <td>United States</td>\n",
       "      <td>East</td>\n",
       "      <td>West Virginia</td>\n",
       "    </tr>\n",
       "  </tbody>\n",
       "</table>\n",
       "</div>"
      ],
      "text/plain": [
       "    index        Country   Region                 State\n",
       "0       0  United States     East              New York\n",
       "1       1  United States     West            California\n",
       "2       2  United States    South               Florida\n",
       "3       3  United States     West               Arizona\n",
       "4       5  United States  Central                 Texas\n",
       "5       6  United States    South              Virginia\n",
       "6       7  United States  Central              Michigan\n",
       "7      10  United States     West            New Mexico\n",
       "8      11  United States    South               Georgia\n",
       "9      13  United States     West                  Utah\n",
       "10     14  United States  Central              Illinois\n",
       "11     17  United States     West            Washington\n",
       "12     18  United States     East          Pennsylvania\n",
       "13     21  United States    South        South Carolina\n",
       "14     26  United States    South              Kentucky\n",
       "15     29  United States     West                Nevada\n",
       "16     30  United States    South        North Carolina\n",
       "17     32  United States  Central               Indiana\n",
       "18     36  United States     East              Delaware\n",
       "19     37  United States     East                  Ohio\n",
       "20     46  United States    South           Mississippi\n",
       "21     57  United States  Central             Wisconsin\n",
       "22     64  United States     West               Montana\n",
       "23     65  United States  Central             Minnesota\n",
       "24     69  United States     East         Massachusetts\n",
       "25     72  United States     East            New Jersey\n",
       "26     74  United States  Central                Kansas\n",
       "27     75  United States    South             Tennessee\n",
       "28     88  United States  Central              Nebraska\n",
       "29     94  United States    South               Alabama\n",
       "30     97  United States  Central              Missouri\n",
       "31     99  United States     West              Colorado\n",
       "32    100  United States    South              Arkansas\n",
       "33    124  United States  Central          South Dakota\n",
       "34    131  United States  Central              Oklahoma\n",
       "35    135  United States     East              Maryland\n",
       "36    153  United States     East          Rhode Island\n",
       "37    158  United States     West                Oregon\n",
       "38    167  United States     East           Connecticut\n",
       "39    203  United States     East                 Maine\n",
       "40    227  United States    South             Louisiana\n",
       "41    338  United States  Central                  Iowa\n",
       "42    341  United States     East               Vermont\n",
       "43    357  United States     East  District of Columbia\n",
       "44    374  United States     East         New Hampshire\n",
       "45    388  United States     West                 Idaho\n",
       "46    506  United States     West               Wyoming\n",
       "47    542  United States  Central          North Dakota\n",
       "48    557  United States     East         West Virginia"
      ]
     },
     "execution_count": 319,
     "metadata": {},
     "output_type": "execute_result"
    }
   ],
   "source": [
    "address_secondary"
   ]
  },
  {
   "cell_type": "code",
   "execution_count": 326,
   "id": "5604db05",
   "metadata": {},
   "outputs": [],
   "source": [
    "import sqlite3\n",
    "\n",
    "with sqlite3.connect(config['processed_data']['database']) as conn:\n",
    "    conn.execute('DELETE FROM orders')\n",
    "    conn.execute('DELETE FROM customer')\n",
    "    conn.execute('DELETE FROM product')\n",
    "    conn.execute('DELETE FROM productcategories')\n",
    "    conn.execute('DELETE FROM address')\n",
    "    conn.execute('DELETE FROM addresssecondary')\n",
    "    conn.execute('DELETE FROM shipment')\n",
    "    customer.to_sql('customer', conn, if_exists='append', index_label='ID')\n",
    "    product.to_sql('product', conn, if_exists='append', index_label='ID')\n",
    "    product_categories.to_sql('productcategories', conn, if_exists='append', index_label='ID')\n",
    "    address.to_sql('address', conn, if_exists='append', index_label='ID')\n",
    "    address_secondary.to_sql('addresssecondary', conn, if_exists='append', index_label='ID')\n",
    "    shipment.to_sql('shipment', conn, if_exists='append', index_label='ID')\n",
    "    orders.to_sql('orders', conn, if_exists='append', index=False)\n",
    "    "
   ]
  },
  {
   "cell_type": "code",
   "execution_count": null,
   "id": "23cc79a0",
   "metadata": {},
   "outputs": [],
   "source": []
  }
 ],
 "metadata": {
  "kernelspec": {
   "display_name": "base_data_analysis",
   "language": "python",
   "name": "python3"
  },
  "language_info": {
   "codemirror_mode": {
    "name": "ipython",
    "version": 3
   },
   "file_extension": ".py",
   "mimetype": "text/x-python",
   "name": "python",
   "nbconvert_exporter": "python",
   "pygments_lexer": "ipython3",
   "version": "3.12.3"
  }
 },
 "nbformat": 4,
 "nbformat_minor": 5
}
